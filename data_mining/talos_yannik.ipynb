{
 "cells": [
  {
   "cell_type": "code",
   "execution_count": 1,
   "metadata": {},
   "outputs": [],
   "source": [
    "from sklearn.model_selection import train_test_split\n",
    "import pandas as pd"
   ]
  },
  {
   "cell_type": "code",
   "execution_count": 3,
   "metadata": {},
   "outputs": [],
   "source": [
    "banknote_authentication = pd.read_csv('./banknote_authentication.csv')\n",
    "\n",
    "X = banknote_authentication.iloc[:,:4].values \n",
    "y = banknote_authentication[['class']].values\n",
    "\n",
    "X_train, X_test, y_train, y_test = train_test_split(X, \n",
    "                                                    y, \n",
    "                                                    test_size=0.2, \n",
    "                                                    random_state=23)"
   ]
  },
  {
   "cell_type": "code",
   "execution_count": 4,
   "metadata": {},
   "outputs": [
    {
     "name": "stderr",
     "output_type": "stream",
     "text": [
      "Using TensorFlow backend.\n"
     ]
    }
   ],
   "source": [
    "from keras.models import Sequential\n",
    "from keras.layers import Dense\n",
    "from keras import optimizers, initializers, callbacks"
   ]
  },
  {
   "cell_type": "code",
   "execution_count": 5,
   "metadata": {},
   "outputs": [],
   "source": [
    "from keras.activations import relu"
   ]
  },
  {
   "cell_type": "code",
   "execution_count": 6,
   "metadata": {},
   "outputs": [],
   "source": [
    "p = {\n",
    "    'first_neurons': [3, 10, 30],\n",
    "    'epochs':        [50, 200, 600],\n",
    "    'random_state':  [1, 42, 1337]\n",
    "}"
   ]
  },
  {
   "cell_type": "code",
   "execution_count": 7,
   "metadata": {},
   "outputs": [],
   "source": [
    "def banknote_talos(x_train, y_train, x_val, y_val, params):\n",
    "\n",
    "    model = Sequential()\n",
    "\n",
    "    model.add(Dense(params['first_neurons'],\n",
    "                    kernel_initializer = initializers.RandomUniform(seed = params['random_state']),\n",
    "                    activation = 'sigmoid',\n",
    "                    input_dim  = 4))\n",
    "\n",
    "    model.add(Dense(1, activation = 'sigmoid'))\n",
    "\n",
    "    model.compile(optimizer = 'RMSprop',\n",
    "                  loss      = 'binary_crossentropy',\n",
    "                  metrics   = ['accuracy'])\n",
    "\n",
    "    out = model.fit(x_train, y_train, \n",
    "                    epochs          = 200,\n",
    "                    validation_data = (x_val, y_val),\n",
    "                    verbose         = 0,\n",
    "                    batch_size      = 32)\n",
    "\n",
    "    return out, model"
   ]
  },
  {
   "cell_type": "code",
   "execution_count": 8,
   "metadata": {},
   "outputs": [],
   "source": [
    "import talos as ta"
   ]
  },
  {
   "cell_type": "code",
   "execution_count": 9,
   "metadata": {},
   "outputs": [
    {
     "name": "stderr",
     "output_type": "stream",
     "text": [
      "  0%|          | 0/27 [00:00<?, ?it/s]"
     ]
    },
    {
     "name": "stdout",
     "output_type": "stream",
     "text": [
      "WARNING:tensorflow:From C:\\Users\\jfb\\Anaconda3\\lib\\site-packages\\tensorflow\\python\\framework\\op_def_library.py:263: colocate_with (from tensorflow.python.framework.ops) is deprecated and will be removed in a future version.\n",
      "Instructions for updating:\n",
      "Colocations handled automatically by placer.\n",
      "WARNING:tensorflow:From C:\\Users\\jfb\\Anaconda3\\lib\\site-packages\\tensorflow\\python\\ops\\math_ops.py:3066: to_int32 (from tensorflow.python.ops.math_ops) is deprecated and will be removed in a future version.\n",
      "Instructions for updating:\n",
      "Use tf.cast instead.\n"
     ]
    },
    {
     "name": "stderr",
     "output_type": "stream",
     "text": [
      "100%|██████████| 27/27 [02:43<00:00,  6.01s/it]\n"
     ]
    }
   ],
   "source": [
    "t = ta.Scan(X, y, p, banknote_talos)"
   ]
  },
  {
   "cell_type": "code",
   "execution_count": 10,
   "metadata": {},
   "outputs": [
    {
     "data": {
      "text/plain": [
       "<talos.scan.Scan.Scan at 0x236c92d27f0>"
      ]
     },
     "execution_count": 10,
     "metadata": {},
     "output_type": "execute_result"
    }
   ],
   "source": [
    "t"
   ]
  },
  {
   "cell_type": "code",
   "execution_count": 17,
   "metadata": {},
   "outputs": [
    {
     "data": {
      "text/plain": [
       "<talos.commands.reporting.Reporting at 0x236cc99e7f0>"
      ]
     },
     "execution_count": 17,
     "metadata": {},
     "output_type": "execute_result"
    }
   ],
   "source": [
    "ta.Reporting(t)"
   ]
  },
  {
   "cell_type": "code",
   "execution_count": 18,
   "metadata": {},
   "outputs": [],
   "source": [
    "from keras.activations import relu, elu, sigmoid"
   ]
  },
  {
   "cell_type": "code",
   "execution_count": 20,
   "metadata": {},
   "outputs": [
    {
     "data": {
      "text/plain": [
       "<function keras.activations.sigmoid(x)>"
      ]
     },
     "execution_count": 20,
     "metadata": {},
     "output_type": "execute_result"
    }
   ],
   "source": [
    "sigmoid"
   ]
  },
  {
   "cell_type": "code",
   "execution_count": 21,
   "metadata": {},
   "outputs": [
    {
     "data": {
      "text/plain": [
       "<talos.scan.Scan.Scan at 0x236c92d27f0>"
      ]
     },
     "execution_count": 21,
     "metadata": {},
     "output_type": "execute_result"
    }
   ],
   "source": [
    "t"
   ]
  },
  {
   "cell_type": "code",
   "execution_count": 23,
   "metadata": {},
   "outputs": [
    {
     "ename": "NameError",
     "evalue": "name 'method' is not defined",
     "output_type": "error",
     "traceback": [
      "\u001b[1;31m---------------------------------------------------------------------------\u001b[0m",
      "\u001b[1;31mNameError\u001b[0m                                 Traceback (most recent call last)",
      "\u001b[1;32m<ipython-input-23-0198a5dc3db4>\u001b[0m in \u001b[0;36m<module>\u001b[1;34m\u001b[0m\n\u001b[1;32m----> 1\u001b[1;33m \u001b[0mmethod\u001b[0m\u001b[1;33m(\u001b[0m\u001b[0mt\u001b[0m\u001b[1;33m)\u001b[0m\u001b[1;33m\u001b[0m\u001b[1;33m\u001b[0m\u001b[0m\n\u001b[0m",
      "\u001b[1;31mNameError\u001b[0m: name 'method' is not defined"
     ]
    }
   ],
   "source": [
    "method(t)"
   ]
  },
  {
   "cell_type": "code",
   "execution_count": 24,
   "metadata": {},
   "outputs": [],
   "source": [
    "from pprint import pprint"
   ]
  },
  {
   "cell_type": "code",
   "execution_count": 25,
   "metadata": {},
   "outputs": [
    {
     "name": "stdout",
     "output_type": "stream",
     "text": [
      "<talos.scan.Scan.Scan object at 0x00000236C92D27F0>\n"
     ]
    }
   ],
   "source": [
    "pprint(t)"
   ]
  },
  {
   "cell_type": "code",
   "execution_count": 29,
   "metadata": {},
   "outputs": [
    {
     "data": {
      "text/html": [
       "<div>\n",
       "<style scoped>\n",
       "    .dataframe tbody tr th:only-of-type {\n",
       "        vertical-align: middle;\n",
       "    }\n",
       "\n",
       "    .dataframe tbody tr th {\n",
       "        vertical-align: top;\n",
       "    }\n",
       "\n",
       "    .dataframe thead th {\n",
       "        text-align: right;\n",
       "    }\n",
       "</style>\n",
       "<table border=\"1\" class=\"dataframe\">\n",
       "  <thead>\n",
       "    <tr style=\"text-align: right;\">\n",
       "      <th></th>\n",
       "      <th>round_epochs</th>\n",
       "      <th>val_loss</th>\n",
       "      <th>val_acc</th>\n",
       "      <th>loss</th>\n",
       "      <th>acc</th>\n",
       "      <th>first_neurons</th>\n",
       "      <th>epochs</th>\n",
       "      <th>random_state</th>\n",
       "    </tr>\n",
       "  </thead>\n",
       "  <tbody>\n",
       "    <tr>\n",
       "      <th>0</th>\n",
       "      <td>200</td>\n",
       "      <td>0.003935</td>\n",
       "      <td>0.997573</td>\n",
       "      <td>0.005051</td>\n",
       "      <td>1.000000</td>\n",
       "      <td>30</td>\n",
       "      <td>600</td>\n",
       "      <td>1337</td>\n",
       "    </tr>\n",
       "    <tr>\n",
       "      <th>1</th>\n",
       "      <td>200</td>\n",
       "      <td>0.022852</td>\n",
       "      <td>0.995146</td>\n",
       "      <td>0.030537</td>\n",
       "      <td>0.989583</td>\n",
       "      <td>3</td>\n",
       "      <td>200</td>\n",
       "      <td>1</td>\n",
       "    </tr>\n",
       "    <tr>\n",
       "      <th>2</th>\n",
       "      <td>200</td>\n",
       "      <td>0.010885</td>\n",
       "      <td>0.997573</td>\n",
       "      <td>0.015408</td>\n",
       "      <td>0.997917</td>\n",
       "      <td>10</td>\n",
       "      <td>600</td>\n",
       "      <td>42</td>\n",
       "    </tr>\n",
       "    <tr>\n",
       "      <th>3</th>\n",
       "      <td>200</td>\n",
       "      <td>0.015585</td>\n",
       "      <td>0.995146</td>\n",
       "      <td>0.023236</td>\n",
       "      <td>0.989583</td>\n",
       "      <td>10</td>\n",
       "      <td>50</td>\n",
       "      <td>42</td>\n",
       "    </tr>\n",
       "    <tr>\n",
       "      <th>4</th>\n",
       "      <td>200</td>\n",
       "      <td>0.003680</td>\n",
       "      <td>0.997573</td>\n",
       "      <td>0.004319</td>\n",
       "      <td>1.000000</td>\n",
       "      <td>30</td>\n",
       "      <td>50</td>\n",
       "      <td>42</td>\n",
       "    </tr>\n",
       "    <tr>\n",
       "      <th>5</th>\n",
       "      <td>200</td>\n",
       "      <td>0.024180</td>\n",
       "      <td>0.997573</td>\n",
       "      <td>0.032770</td>\n",
       "      <td>0.987500</td>\n",
       "      <td>3</td>\n",
       "      <td>200</td>\n",
       "      <td>42</td>\n",
       "    </tr>\n",
       "    <tr>\n",
       "      <th>6</th>\n",
       "      <td>200</td>\n",
       "      <td>0.018651</td>\n",
       "      <td>0.995146</td>\n",
       "      <td>0.026676</td>\n",
       "      <td>0.989583</td>\n",
       "      <td>3</td>\n",
       "      <td>600</td>\n",
       "      <td>1337</td>\n",
       "    </tr>\n",
       "    <tr>\n",
       "      <th>7</th>\n",
       "      <td>200</td>\n",
       "      <td>0.018501</td>\n",
       "      <td>0.995146</td>\n",
       "      <td>0.026595</td>\n",
       "      <td>0.989583</td>\n",
       "      <td>3</td>\n",
       "      <td>200</td>\n",
       "      <td>1337</td>\n",
       "    </tr>\n",
       "    <tr>\n",
       "      <th>8</th>\n",
       "      <td>200</td>\n",
       "      <td>0.012272</td>\n",
       "      <td>0.997573</td>\n",
       "      <td>0.017818</td>\n",
       "      <td>0.992708</td>\n",
       "      <td>10</td>\n",
       "      <td>200</td>\n",
       "      <td>1337</td>\n",
       "    </tr>\n",
       "    <tr>\n",
       "      <th>9</th>\n",
       "      <td>200</td>\n",
       "      <td>0.018641</td>\n",
       "      <td>0.995146</td>\n",
       "      <td>0.026526</td>\n",
       "      <td>0.989583</td>\n",
       "      <td>3</td>\n",
       "      <td>600</td>\n",
       "      <td>1</td>\n",
       "    </tr>\n",
       "    <tr>\n",
       "      <th>10</th>\n",
       "      <td>200</td>\n",
       "      <td>0.005307</td>\n",
       "      <td>0.997573</td>\n",
       "      <td>0.006655</td>\n",
       "      <td>1.000000</td>\n",
       "      <td>30</td>\n",
       "      <td>600</td>\n",
       "      <td>1</td>\n",
       "    </tr>\n",
       "    <tr>\n",
       "      <th>11</th>\n",
       "      <td>200</td>\n",
       "      <td>0.018572</td>\n",
       "      <td>0.995146</td>\n",
       "      <td>0.026374</td>\n",
       "      <td>0.989583</td>\n",
       "      <td>3</td>\n",
       "      <td>50</td>\n",
       "      <td>1</td>\n",
       "    </tr>\n",
       "    <tr>\n",
       "      <th>12</th>\n",
       "      <td>200</td>\n",
       "      <td>0.004228</td>\n",
       "      <td>0.997573</td>\n",
       "      <td>0.005208</td>\n",
       "      <td>1.000000</td>\n",
       "      <td>30</td>\n",
       "      <td>200</td>\n",
       "      <td>42</td>\n",
       "    </tr>\n",
       "    <tr>\n",
       "      <th>13</th>\n",
       "      <td>200</td>\n",
       "      <td>0.015274</td>\n",
       "      <td>0.995146</td>\n",
       "      <td>0.023268</td>\n",
       "      <td>0.989583</td>\n",
       "      <td>10</td>\n",
       "      <td>200</td>\n",
       "      <td>42</td>\n",
       "    </tr>\n",
       "    <tr>\n",
       "      <th>14</th>\n",
       "      <td>200</td>\n",
       "      <td>0.005645</td>\n",
       "      <td>0.997573</td>\n",
       "      <td>0.006648</td>\n",
       "      <td>1.000000</td>\n",
       "      <td>30</td>\n",
       "      <td>200</td>\n",
       "      <td>1337</td>\n",
       "    </tr>\n",
       "    <tr>\n",
       "      <th>15</th>\n",
       "      <td>200</td>\n",
       "      <td>0.003765</td>\n",
       "      <td>0.997573</td>\n",
       "      <td>0.004572</td>\n",
       "      <td>1.000000</td>\n",
       "      <td>30</td>\n",
       "      <td>200</td>\n",
       "      <td>1</td>\n",
       "    </tr>\n",
       "    <tr>\n",
       "      <th>16</th>\n",
       "      <td>200</td>\n",
       "      <td>0.016148</td>\n",
       "      <td>0.995146</td>\n",
       "      <td>0.024022</td>\n",
       "      <td>0.989583</td>\n",
       "      <td>10</td>\n",
       "      <td>50</td>\n",
       "      <td>1337</td>\n",
       "    </tr>\n",
       "    <tr>\n",
       "      <th>17</th>\n",
       "      <td>200</td>\n",
       "      <td>0.018609</td>\n",
       "      <td>0.995146</td>\n",
       "      <td>0.026529</td>\n",
       "      <td>0.989583</td>\n",
       "      <td>3</td>\n",
       "      <td>50</td>\n",
       "      <td>42</td>\n",
       "    </tr>\n",
       "    <tr>\n",
       "      <th>18</th>\n",
       "      <td>200</td>\n",
       "      <td>0.018764</td>\n",
       "      <td>0.995146</td>\n",
       "      <td>0.026512</td>\n",
       "      <td>0.989583</td>\n",
       "      <td>3</td>\n",
       "      <td>50</td>\n",
       "      <td>1337</td>\n",
       "    </tr>\n",
       "    <tr>\n",
       "      <th>19</th>\n",
       "      <td>200</td>\n",
       "      <td>0.015417</td>\n",
       "      <td>0.995146</td>\n",
       "      <td>0.023001</td>\n",
       "      <td>0.989583</td>\n",
       "      <td>10</td>\n",
       "      <td>50</td>\n",
       "      <td>1</td>\n",
       "    </tr>\n",
       "    <tr>\n",
       "      <th>20</th>\n",
       "      <td>200</td>\n",
       "      <td>0.008998</td>\n",
       "      <td>0.997573</td>\n",
       "      <td>0.013176</td>\n",
       "      <td>0.996875</td>\n",
       "      <td>30</td>\n",
       "      <td>600</td>\n",
       "      <td>42</td>\n",
       "    </tr>\n",
       "    <tr>\n",
       "      <th>21</th>\n",
       "      <td>200</td>\n",
       "      <td>0.004067</td>\n",
       "      <td>0.997573</td>\n",
       "      <td>0.004840</td>\n",
       "      <td>1.000000</td>\n",
       "      <td>30</td>\n",
       "      <td>50</td>\n",
       "      <td>1</td>\n",
       "    </tr>\n",
       "    <tr>\n",
       "      <th>22</th>\n",
       "      <td>200</td>\n",
       "      <td>0.015278</td>\n",
       "      <td>0.995146</td>\n",
       "      <td>0.023077</td>\n",
       "      <td>0.989583</td>\n",
       "      <td>10</td>\n",
       "      <td>200</td>\n",
       "      <td>1</td>\n",
       "    </tr>\n",
       "    <tr>\n",
       "      <th>23</th>\n",
       "      <td>200</td>\n",
       "      <td>0.000969</td>\n",
       "      <td>1.000000</td>\n",
       "      <td>0.001265</td>\n",
       "      <td>1.000000</td>\n",
       "      <td>30</td>\n",
       "      <td>50</td>\n",
       "      <td>1337</td>\n",
       "    </tr>\n",
       "    <tr>\n",
       "      <th>24</th>\n",
       "      <td>200</td>\n",
       "      <td>0.015658</td>\n",
       "      <td>0.995146</td>\n",
       "      <td>0.023035</td>\n",
       "      <td>0.989583</td>\n",
       "      <td>10</td>\n",
       "      <td>600</td>\n",
       "      <td>1337</td>\n",
       "    </tr>\n",
       "    <tr>\n",
       "      <th>25</th>\n",
       "      <td>200</td>\n",
       "      <td>0.003308</td>\n",
       "      <td>1.000000</td>\n",
       "      <td>0.004535</td>\n",
       "      <td>1.000000</td>\n",
       "      <td>10</td>\n",
       "      <td>600</td>\n",
       "      <td>1</td>\n",
       "    </tr>\n",
       "    <tr>\n",
       "      <th>26</th>\n",
       "      <td>200</td>\n",
       "      <td>0.018503</td>\n",
       "      <td>0.995146</td>\n",
       "      <td>0.026588</td>\n",
       "      <td>0.989583</td>\n",
       "      <td>3</td>\n",
       "      <td>600</td>\n",
       "      <td>42</td>\n",
       "    </tr>\n",
       "  </tbody>\n",
       "</table>\n",
       "</div>"
      ],
      "text/plain": [
       "    round_epochs  val_loss   val_acc      loss       acc  first_neurons  \\\n",
       "0            200  0.003935  0.997573  0.005051  1.000000             30   \n",
       "1            200  0.022852  0.995146  0.030537  0.989583              3   \n",
       "2            200  0.010885  0.997573  0.015408  0.997917             10   \n",
       "3            200  0.015585  0.995146  0.023236  0.989583             10   \n",
       "4            200  0.003680  0.997573  0.004319  1.000000             30   \n",
       "5            200  0.024180  0.997573  0.032770  0.987500              3   \n",
       "6            200  0.018651  0.995146  0.026676  0.989583              3   \n",
       "7            200  0.018501  0.995146  0.026595  0.989583              3   \n",
       "8            200  0.012272  0.997573  0.017818  0.992708             10   \n",
       "9            200  0.018641  0.995146  0.026526  0.989583              3   \n",
       "10           200  0.005307  0.997573  0.006655  1.000000             30   \n",
       "11           200  0.018572  0.995146  0.026374  0.989583              3   \n",
       "12           200  0.004228  0.997573  0.005208  1.000000             30   \n",
       "13           200  0.015274  0.995146  0.023268  0.989583             10   \n",
       "14           200  0.005645  0.997573  0.006648  1.000000             30   \n",
       "15           200  0.003765  0.997573  0.004572  1.000000             30   \n",
       "16           200  0.016148  0.995146  0.024022  0.989583             10   \n",
       "17           200  0.018609  0.995146  0.026529  0.989583              3   \n",
       "18           200  0.018764  0.995146  0.026512  0.989583              3   \n",
       "19           200  0.015417  0.995146  0.023001  0.989583             10   \n",
       "20           200  0.008998  0.997573  0.013176  0.996875             30   \n",
       "21           200  0.004067  0.997573  0.004840  1.000000             30   \n",
       "22           200  0.015278  0.995146  0.023077  0.989583             10   \n",
       "23           200  0.000969  1.000000  0.001265  1.000000             30   \n",
       "24           200  0.015658  0.995146  0.023035  0.989583             10   \n",
       "25           200  0.003308  1.000000  0.004535  1.000000             10   \n",
       "26           200  0.018503  0.995146  0.026588  0.989583              3   \n",
       "\n",
       "    epochs  random_state  \n",
       "0      600          1337  \n",
       "1      200             1  \n",
       "2      600            42  \n",
       "3       50            42  \n",
       "4       50            42  \n",
       "5      200            42  \n",
       "6      600          1337  \n",
       "7      200          1337  \n",
       "8      200          1337  \n",
       "9      600             1  \n",
       "10     600             1  \n",
       "11      50             1  \n",
       "12     200            42  \n",
       "13     200            42  \n",
       "14     200          1337  \n",
       "15     200             1  \n",
       "16      50          1337  \n",
       "17      50            42  \n",
       "18      50          1337  \n",
       "19      50             1  \n",
       "20     600            42  \n",
       "21      50             1  \n",
       "22     200             1  \n",
       "23      50          1337  \n",
       "24     600          1337  \n",
       "25     600             1  \n",
       "26     600            42  "
      ]
     },
     "metadata": {},
     "output_type": "display_data"
    }
   ],
   "source": [
    "display(t.data)"
   ]
  },
  {
   "cell_type": "code",
   "execution_count": null,
   "metadata": {},
   "outputs": [],
   "source": []
  }
 ],
 "metadata": {
  "kernelspec": {
   "display_name": "Python 3",
   "language": "python",
   "name": "python3"
  },
  "language_info": {
   "codemirror_mode": {
    "name": "ipython",
    "version": 3
   },
   "file_extension": ".py",
   "mimetype": "text/x-python",
   "name": "python",
   "nbconvert_exporter": "python",
   "pygments_lexer": "ipython3",
   "version": "3.7.3"
  }
 },
 "nbformat": 4,
 "nbformat_minor": 2
}
