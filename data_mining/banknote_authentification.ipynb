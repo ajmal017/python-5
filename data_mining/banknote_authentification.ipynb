{
 "cells": [
  {
   "cell_type": "markdown",
   "metadata": {},
   "source": [
    "# Deep Learning mit Keras\n",
    "\n",
    "Dieses Notebook trainiert mehrere Modell zu den zwei Datensätzen `banknote_authentication.csv` und `spambase.csv`.\n",
    "\n",
    "Zuerst wird der Datensatz `banknote_authentication.csv` betrachtet.\n",
    "\n",
    "##  Spam erkennen"
   ]
  },
  {
   "cell_type": "markdown",
   "metadata": {},
   "source": [
    "**Bibliotheken einbinden und Daten formatieren**"
   ]
  },
  {
   "cell_type": "code",
   "execution_count": 1,
   "metadata": {},
   "outputs": [
    {
     "name": "stderr",
     "output_type": "stream",
     "text": [
      "Using TensorFlow backend.\n"
     ]
    }
   ],
   "source": [
    "import pandas as pd\n",
    "import numpy as np\n",
    "from sklearn.preprocessing import MinMaxScaler\n",
    "\n",
    "from IPython.display import display, HTML\n",
    "\n",
    "import keras\n",
    "from keras import backend as K\n",
    "from keras.models import Sequential\n",
    "from keras.layers import Activation\n",
    "from keras.activations import relu, elu, sigmoid\n",
    "from keras.layers.core import Dense\n",
    "from keras.optimizers import Adam, SGD\n",
    "from keras.metrics import categorical_crossentropy\n",
    "\n",
    "from keras.models import Sequential\n",
    "from keras.layers import Dense\n",
    "from keras import optimizers, initializers, callbacks\n",
    "import talos as ta\n",
    "from pprint import pprint"
   ]
  },
  {
   "cell_type": "markdown",
   "metadata": {},
   "source": [
    "## Banknoten Authentifizierung"
   ]
  },
  {
   "cell_type": "code",
   "execution_count": 2,
   "metadata": {},
   "outputs": [
    {
     "name": "stdout",
     "output_type": "stream",
     "text": [
      "(1372, 5)\n"
     ]
    },
    {
     "data": {
      "text/html": [
       "<div>\n",
       "<style scoped>\n",
       "    .dataframe tbody tr th:only-of-type {\n",
       "        vertical-align: middle;\n",
       "    }\n",
       "\n",
       "    .dataframe tbody tr th {\n",
       "        vertical-align: top;\n",
       "    }\n",
       "\n",
       "    .dataframe thead th {\n",
       "        text-align: right;\n",
       "    }\n",
       "</style>\n",
       "<table border=\"1\" class=\"dataframe\">\n",
       "  <thead>\n",
       "    <tr style=\"text-align: right;\">\n",
       "      <th></th>\n",
       "      <th>variance</th>\n",
       "      <th>skewness</th>\n",
       "      <th>curtosis</th>\n",
       "      <th>entropy</th>\n",
       "      <th>class</th>\n",
       "    </tr>\n",
       "  </thead>\n",
       "  <tbody>\n",
       "    <tr>\n",
       "      <th>0</th>\n",
       "      <td>3.62160</td>\n",
       "      <td>8.6661</td>\n",
       "      <td>-2.8073</td>\n",
       "      <td>-0.44699</td>\n",
       "      <td>0</td>\n",
       "    </tr>\n",
       "    <tr>\n",
       "      <th>1</th>\n",
       "      <td>4.54590</td>\n",
       "      <td>8.1674</td>\n",
       "      <td>-2.4586</td>\n",
       "      <td>-1.46210</td>\n",
       "      <td>0</td>\n",
       "    </tr>\n",
       "    <tr>\n",
       "      <th>2</th>\n",
       "      <td>3.86600</td>\n",
       "      <td>-2.6383</td>\n",
       "      <td>1.9242</td>\n",
       "      <td>0.10645</td>\n",
       "      <td>0</td>\n",
       "    </tr>\n",
       "    <tr>\n",
       "      <th>3</th>\n",
       "      <td>3.45660</td>\n",
       "      <td>9.5228</td>\n",
       "      <td>-4.0112</td>\n",
       "      <td>-3.59440</td>\n",
       "      <td>0</td>\n",
       "    </tr>\n",
       "    <tr>\n",
       "      <th>4</th>\n",
       "      <td>0.32924</td>\n",
       "      <td>-4.4552</td>\n",
       "      <td>4.5718</td>\n",
       "      <td>-0.98880</td>\n",
       "      <td>0</td>\n",
       "    </tr>\n",
       "  </tbody>\n",
       "</table>\n",
       "</div>"
      ],
      "text/plain": [
       "   variance  skewness  curtosis  entropy  class\n",
       "0   3.62160    8.6661   -2.8073 -0.44699      0\n",
       "1   4.54590    8.1674   -2.4586 -1.46210      0\n",
       "2   3.86600   -2.6383    1.9242  0.10645      0\n",
       "3   3.45660    9.5228   -4.0112 -3.59440      0\n",
       "4   0.32924   -4.4552    4.5718 -0.98880      0"
      ]
     },
     "metadata": {},
     "output_type": "display_data"
    },
    {
     "name": "stdout",
     "output_type": "stream",
     "text": [
      "variance    1372\n",
      "skewness    1372\n",
      "curtosis    1372\n",
      "entropy     1372\n",
      "class       1372\n",
      "dtype: int64\n"
     ]
    }
   ],
   "source": [
    "dat = pd.read_csv(\"./banknote_authentication.csv\")\n",
    "print(dat.shape)\n",
    "\n",
    "display(dat.head())\n",
    "print(dat.count())"
   ]
  },
  {
   "cell_type": "code",
   "execution_count": 3,
   "metadata": {},
   "outputs": [],
   "source": [
    "train_labels = dat[['class']].values\n",
    "X = dat.drop(['class'], axis=1).values\n",
    "train_samples = np.array(X)"
   ]
  },
  {
   "cell_type": "markdown",
   "metadata": {},
   "source": [
    "Nachdem die Daten importiert wurden müssen nun alle Features skaliert werden."
   ]
  },
  {
   "cell_type": "code",
   "execution_count": 4,
   "metadata": {},
   "outputs": [],
   "source": [
    "scaler = MinMaxScaler(feature_range=(0, 1))\n",
    "scaled_train_samples = scaler.fit_transform(train_samples)"
   ]
  },
  {
   "cell_type": "code",
   "execution_count": 5,
   "metadata": {},
   "outputs": [],
   "source": [
    "p_bank = {'activation':['sigmoid', 'softmax', 'relu'], #'relu', 'elu', 'softmax', \n",
    "        'optimizer': ['RMSprop'], #'Nadam', 'Adam', 'sgd', \n",
    "        'losses': ['binary_crossentropy'],\n",
    "        'hidden_layers':[1, 2],\n",
    "        'first_neurons': [2, 40], # 3, \n",
    "        'batch_size': [30, 50],\n",
    "        'epochs': [600], # 20, 100, \n",
    "        'random_state':  [1337]}"
   ]
  },
  {
   "cell_type": "code",
   "execution_count": 6,
   "metadata": {},
   "outputs": [],
   "source": [
    "def banknote(x_train, y_train, x_val, y_val, params):\n",
    "\n",
    "        model = Sequential()\n",
    "        model.add(Dense(params['first_neurons'], input_dim=4, activation=params['activation'],\n",
    "                       kernel_initializer = initializers.RandomUniform(seed = params['random_state'])))\n",
    "        \n",
    "        model.add(Dense(1, activation='sigmoid'))\n",
    "        \n",
    "        model.compile(optimizer=params['optimizer'], loss=params['losses'], metrics = ['accuracy'])\n",
    "\n",
    "        out = model.fit(x_train, y_train,\n",
    "                         batch_size=params['batch_size'],\n",
    "                         epochs=params['epochs'],\n",
    "                         validation_data=[x_val, y_val],\n",
    "                         verbose=0)\n",
    "\n",
    "        return out, model"
   ]
  },
  {
   "cell_type": "code",
   "execution_count": 7,
   "metadata": {},
   "outputs": [
    {
     "name": "stderr",
     "output_type": "stream",
     "text": [
      "\r",
      "  0%|          | 0/24 [00:00<?, ?it/s]"
     ]
    },
    {
     "name": "stdout",
     "output_type": "stream",
     "text": [
      "WARNING:tensorflow:From /anaconda3/lib/python3.7/site-packages/tensorflow/python/framework/op_def_library.py:263: colocate_with (from tensorflow.python.framework.ops) is deprecated and will be removed in a future version.\n",
      "Instructions for updating:\n",
      "Colocations handled automatically by placer.\n",
      "WARNING:tensorflow:From /anaconda3/lib/python3.7/site-packages/tensorflow/python/ops/math_ops.py:3066: to_int32 (from tensorflow.python.ops.math_ops) is deprecated and will be removed in a future version.\n",
      "Instructions for updating:\n",
      "Use tf.cast instead.\n"
     ]
    },
    {
     "name": "stderr",
     "output_type": "stream",
     "text": [
      "100%|██████████| 24/24 [04:17<00:00,  9.26s/it]\n"
     ]
    }
   ],
   "source": [
    "scan = ta.Scan(scaled_train_samples, train_labels, model=banknote, params=p_bank)"
   ]
  },
  {
   "cell_type": "code",
   "execution_count": 8,
   "metadata": {},
   "outputs": [
    {
     "data": {
      "text/html": [
       "<div>\n",
       "<style scoped>\n",
       "    .dataframe tbody tr th:only-of-type {\n",
       "        vertical-align: middle;\n",
       "    }\n",
       "\n",
       "    .dataframe tbody tr th {\n",
       "        vertical-align: top;\n",
       "    }\n",
       "\n",
       "    .dataframe thead th {\n",
       "        text-align: right;\n",
       "    }\n",
       "</style>\n",
       "<table border=\"1\" class=\"dataframe\">\n",
       "  <thead>\n",
       "    <tr style=\"text-align: right;\">\n",
       "      <th></th>\n",
       "      <th>round_epochs</th>\n",
       "      <th>val_loss</th>\n",
       "      <th>val_acc</th>\n",
       "      <th>loss</th>\n",
       "      <th>acc</th>\n",
       "      <th>activation</th>\n",
       "      <th>optimizer</th>\n",
       "      <th>losses</th>\n",
       "      <th>hidden_layers</th>\n",
       "      <th>first_neurons</th>\n",
       "      <th>batch_size</th>\n",
       "      <th>epochs</th>\n",
       "      <th>random_state</th>\n",
       "    </tr>\n",
       "  </thead>\n",
       "  <tbody>\n",
       "    <tr>\n",
       "      <th>21</th>\n",
       "      <td>600</td>\n",
       "      <td>0.043172</td>\n",
       "      <td>0.987864</td>\n",
       "      <td>0.024912</td>\n",
       "      <td>0.997917</td>\n",
       "      <td>softmax</td>\n",
       "      <td>RMSprop</td>\n",
       "      <td>binary_crossentropy</td>\n",
       "      <td>2</td>\n",
       "      <td>40</td>\n",
       "      <td>50</td>\n",
       "      <td>600</td>\n",
       "      <td>1337</td>\n",
       "    </tr>\n",
       "    <tr>\n",
       "      <th>15</th>\n",
       "      <td>600</td>\n",
       "      <td>0.041605</td>\n",
       "      <td>0.987864</td>\n",
       "      <td>0.024062</td>\n",
       "      <td>0.997917</td>\n",
       "      <td>softmax</td>\n",
       "      <td>RMSprop</td>\n",
       "      <td>binary_crossentropy</td>\n",
       "      <td>1</td>\n",
       "      <td>40</td>\n",
       "      <td>50</td>\n",
       "      <td>600</td>\n",
       "      <td>1337</td>\n",
       "    </tr>\n",
       "    <tr>\n",
       "      <th>12</th>\n",
       "      <td>600</td>\n",
       "      <td>0.029280</td>\n",
       "      <td>0.987864</td>\n",
       "      <td>0.012670</td>\n",
       "      <td>0.997917</td>\n",
       "      <td>softmax</td>\n",
       "      <td>RMSprop</td>\n",
       "      <td>binary_crossentropy</td>\n",
       "      <td>1</td>\n",
       "      <td>40</td>\n",
       "      <td>30</td>\n",
       "      <td>600</td>\n",
       "      <td>1337</td>\n",
       "    </tr>\n",
       "    <tr>\n",
       "      <th>10</th>\n",
       "      <td>600</td>\n",
       "      <td>0.029219</td>\n",
       "      <td>0.987864</td>\n",
       "      <td>0.012914</td>\n",
       "      <td>0.997917</td>\n",
       "      <td>softmax</td>\n",
       "      <td>RMSprop</td>\n",
       "      <td>binary_crossentropy</td>\n",
       "      <td>2</td>\n",
       "      <td>40</td>\n",
       "      <td>30</td>\n",
       "      <td>600</td>\n",
       "      <td>1337</td>\n",
       "    </tr>\n",
       "    <tr>\n",
       "      <th>14</th>\n",
       "      <td>600</td>\n",
       "      <td>0.022321</td>\n",
       "      <td>0.992718</td>\n",
       "      <td>0.019363</td>\n",
       "      <td>0.994792</td>\n",
       "      <td>relu</td>\n",
       "      <td>RMSprop</td>\n",
       "      <td>binary_crossentropy</td>\n",
       "      <td>1</td>\n",
       "      <td>40</td>\n",
       "      <td>30</td>\n",
       "      <td>600</td>\n",
       "      <td>1337</td>\n",
       "    </tr>\n",
       "  </tbody>\n",
       "</table>\n",
       "</div>"
      ],
      "text/plain": [
       "    round_epochs  val_loss   val_acc      loss       acc activation optimizer  \\\n",
       "21           600  0.043172  0.987864  0.024912  0.997917    softmax   RMSprop   \n",
       "15           600  0.041605  0.987864  0.024062  0.997917    softmax   RMSprop   \n",
       "12           600  0.029280  0.987864  0.012670  0.997917    softmax   RMSprop   \n",
       "10           600  0.029219  0.987864  0.012914  0.997917    softmax   RMSprop   \n",
       "14           600  0.022321  0.992718  0.019363  0.994792       relu   RMSprop   \n",
       "\n",
       "                 losses  hidden_layers  first_neurons  batch_size  epochs  \\\n",
       "21  binary_crossentropy              2             40          50     600   \n",
       "15  binary_crossentropy              1             40          50     600   \n",
       "12  binary_crossentropy              1             40          30     600   \n",
       "10  binary_crossentropy              2             40          30     600   \n",
       "14  binary_crossentropy              1             40          30     600   \n",
       "\n",
       "    random_state  \n",
       "21          1337  \n",
       "15          1337  \n",
       "12          1337  \n",
       "10          1337  \n",
       "14          1337  "
      ]
     },
     "execution_count": 8,
     "metadata": {},
     "output_type": "execute_result"
    }
   ],
   "source": [
    "result = pd.DataFrame(scan.data)\n",
    "result.head()\n",
    "result.sort_values(by='acc', ascending=False).head()"
   ]
  },
  {
   "cell_type": "code",
   "execution_count": null,
   "metadata": {},
   "outputs": [],
   "source": []
  }
 ],
 "metadata": {
  "kernelspec": {
   "display_name": "Python 3",
   "language": "python",
   "name": "python3"
  },
  "language_info": {
   "codemirror_mode": {
    "name": "ipython",
    "version": 3
   },
   "file_extension": ".py",
   "mimetype": "text/x-python",
   "name": "python",
   "nbconvert_exporter": "python",
   "pygments_lexer": "ipython3",
   "version": "3.7.3"
  }
 },
 "nbformat": 4,
 "nbformat_minor": 2
}
