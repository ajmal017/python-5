{
 "cells": [
  {
   "cell_type": "code",
   "execution_count": 1,
   "metadata": {},
   "outputs": [],
   "source": [
    "import pandas as pd\n",
    "import plotly.express as px"
   ]
  },
  {
   "cell_type": "code",
   "execution_count": 2,
   "metadata": {},
   "outputs": [],
   "source": [
    "fantasy_2019 = pd.read_csv('2019_player_fantasy.csv', delimiter=';', index_col=[0], header=[0, 1])"
   ]
  },
  {
   "cell_type": "code",
   "execution_count": 3,
   "metadata": {},
   "outputs": [],
   "source": [
    "fantasy_2019['Unnamed: 1_level_0', 'Player'] = fantasy_2019['Unnamed: 1_level_0', 'Player'].apply(lambda x: x.split('\\\\')[0].split('*')[0].split('+')[0])"
   ]
  },
  {
   "cell_type": "code",
   "execution_count": 4,
   "metadata": {},
   "outputs": [
    {
     "data": {
      "text/plain": [
       "1      Christian McCaffrey\n",
       "2            Lamar Jackson\n",
       "3            Derrick Henry\n",
       "4              Aaron Jones\n",
       "5          Ezekiel Elliott\n",
       "              ...         \n",
       "616        Ray-Ray McCloud\n",
       "617       Darrius Shepherd\n",
       "618        Jarrett Stidham\n",
       "619         Michael Walker\n",
       "620          Corey Clement\n",
       "Name: Player, Length: 620, dtype: object"
      ]
     },
     "execution_count": 4,
     "metadata": {},
     "output_type": "execute_result"
    }
   ],
   "source": [
    "fantasy_2019 = fantasy_2019.droplevel(0, axis=1)\n",
    "fantasy_2019['Player']"
   ]
  },
  {
   "cell_type": "code",
   "execution_count": 5,
   "metadata": {},
   "outputs": [],
   "source": [
    "fantasy_2018 = pd.read_csv('2018_player_fantasy.csv', delimiter=';', index_col=[0], header=[0, 1])\n",
    "fantasy_2018['Unnamed: 1_level_0', 'Player'] = fantasy_2018['Unnamed: 1_level_0', 'Player'].apply(lambda x: x.split('\\\\')[0].split('*')[0].split('+')[0])"
   ]
  },
  {
   "cell_type": "code",
   "execution_count": 6,
   "metadata": {},
   "outputs": [
    {
     "data": {
      "text/plain": [
       "1              Todd Gurley\n",
       "2           Saquon Barkley\n",
       "3      Christian McCaffrey\n",
       "4             Alvin Kamara\n",
       "5          Patrick Mahomes\n",
       "              ...         \n",
       "618            Kaelin Clay\n",
       "619               JJ Jones\n",
       "620          Kyle Lauletta\n",
       "621         Riley McCarron\n",
       "622            Jojo Natson\n",
       "Name: Player, Length: 622, dtype: object"
      ]
     },
     "execution_count": 6,
     "metadata": {},
     "output_type": "execute_result"
    }
   ],
   "source": [
    "fantasy_2018 = fantasy_2018.droplevel(0, axis=1)\n",
    "fantasy_2018['Player']"
   ]
  },
  {
   "cell_type": "markdown",
   "metadata": {},
   "source": [
    "# Change column names"
   ]
  },
  {
   "cell_type": "code",
   "execution_count": 7,
   "metadata": {},
   "outputs": [
    {
     "data": {
      "text/html": [
       "<div>\n",
       "<style scoped>\n",
       "    .dataframe tbody tr th:only-of-type {\n",
       "        vertical-align: middle;\n",
       "    }\n",
       "\n",
       "    .dataframe tbody tr th {\n",
       "        vertical-align: top;\n",
       "    }\n",
       "\n",
       "    .dataframe thead th {\n",
       "        text-align: right;\n",
       "    }\n",
       "</style>\n",
       "<table border=\"1\" class=\"dataframe\">\n",
       "  <thead>\n",
       "    <tr style=\"text-align: right;\">\n",
       "      <th>Rk</th>\n",
       "      <th>Player</th>\n",
       "      <th>Tm</th>\n",
       "      <th>FantPos</th>\n",
       "      <th>Age</th>\n",
       "      <th>G</th>\n",
       "      <th>GS</th>\n",
       "      <th>Cmp</th>\n",
       "      <th>Att</th>\n",
       "      <th>Yds</th>\n",
       "      <th>TD</th>\n",
       "      <th>Int</th>\n",
       "      <th>Att</th>\n",
       "      <th>Yds</th>\n",
       "      <th>Y/A</th>\n",
       "      <th>TD</th>\n",
       "      <th>...</th>\n",
       "      <th>Yds</th>\n",
       "      <th>Y/R</th>\n",
       "      <th>TD</th>\n",
       "      <th>Fmb</th>\n",
       "      <th>FL</th>\n",
       "      <th>TD</th>\n",
       "      <th>2PM</th>\n",
       "      <th>2PP</th>\n",
       "      <th>FantPt</th>\n",
       "      <th>PPR</th>\n",
       "      <th>DKPt</th>\n",
       "      <th>FDPt</th>\n",
       "      <th>VBD</th>\n",
       "      <th>PosRank</th>\n",
       "      <th>OvRank</th>\n",
       "    </tr>\n",
       "  </thead>\n",
       "  <tbody>\n",
       "    <tr>\n",
       "      <th>1</th>\n",
       "      <td>Christian McCaffrey</td>\n",
       "      <td>CAR</td>\n",
       "      <td>RB</td>\n",
       "      <td>23</td>\n",
       "      <td>16</td>\n",
       "      <td>16</td>\n",
       "      <td>0</td>\n",
       "      <td>2</td>\n",
       "      <td>0</td>\n",
       "      <td>0</td>\n",
       "      <td>0</td>\n",
       "      <td>287</td>\n",
       "      <td>1387</td>\n",
       "      <td>4.83</td>\n",
       "      <td>15</td>\n",
       "      <td>...</td>\n",
       "      <td>1005</td>\n",
       "      <td>8.66</td>\n",
       "      <td>4</td>\n",
       "      <td>1</td>\n",
       "      <td>0</td>\n",
       "      <td>19</td>\n",
       "      <td>1.0</td>\n",
       "      <td>NaN</td>\n",
       "      <td>355.0</td>\n",
       "      <td>471.2</td>\n",
       "      <td>477.2</td>\n",
       "      <td>413.2</td>\n",
       "      <td>215.0</td>\n",
       "      <td>1</td>\n",
       "      <td>1.0</td>\n",
       "    </tr>\n",
       "    <tr>\n",
       "      <th>2</th>\n",
       "      <td>Lamar Jackson</td>\n",
       "      <td>BAL</td>\n",
       "      <td>QB</td>\n",
       "      <td>22</td>\n",
       "      <td>15</td>\n",
       "      <td>15</td>\n",
       "      <td>265</td>\n",
       "      <td>401</td>\n",
       "      <td>3127</td>\n",
       "      <td>36</td>\n",
       "      <td>6</td>\n",
       "      <td>176</td>\n",
       "      <td>1206</td>\n",
       "      <td>6.85</td>\n",
       "      <td>7</td>\n",
       "      <td>...</td>\n",
       "      <td>0</td>\n",
       "      <td>NaN</td>\n",
       "      <td>0</td>\n",
       "      <td>9</td>\n",
       "      <td>2</td>\n",
       "      <td>7</td>\n",
       "      <td>NaN</td>\n",
       "      <td>NaN</td>\n",
       "      <td>416.0</td>\n",
       "      <td>415.7</td>\n",
       "      <td>429.7</td>\n",
       "      <td>421.7</td>\n",
       "      <td>152.0</td>\n",
       "      <td>1</td>\n",
       "      <td>2.0</td>\n",
       "    </tr>\n",
       "  </tbody>\n",
       "</table>\n",
       "<p>2 rows × 32 columns</p>\n",
       "</div>"
      ],
      "text/plain": [
       "Rk               Player   Tm FantPos  Age   G  GS  Cmp  Att   Yds  TD  Int  \\\n",
       "1   Christian McCaffrey  CAR      RB   23  16  16    0    2     0   0    0   \n",
       "2         Lamar Jackson  BAL      QB   22  15  15  265  401  3127  36    6   \n",
       "\n",
       "Rk  Att   Yds   Y/A  TD  ...   Yds   Y/R  TD  Fmb  FL  TD  2PM  2PP  FantPt  \\\n",
       "1   287  1387  4.83  15  ...  1005  8.66   4    1   0  19  1.0  NaN   355.0   \n",
       "2   176  1206  6.85   7  ...     0   NaN   0    9   2   7  NaN  NaN   416.0   \n",
       "\n",
       "Rk    PPR   DKPt   FDPt    VBD  PosRank  OvRank  \n",
       "1   471.2  477.2  413.2  215.0        1     1.0  \n",
       "2   415.7  429.7  421.7  152.0        1     2.0  \n",
       "\n",
       "[2 rows x 32 columns]"
      ]
     },
     "execution_count": 7,
     "metadata": {},
     "output_type": "execute_result"
    }
   ],
   "source": [
    "fantasy_2019.head(2)"
   ]
  },
  {
   "cell_type": "code",
   "execution_count": 8,
   "metadata": {},
   "outputs": [
    {
     "data": {
      "text/plain": [
       "Index(['Player', 'Tm', 'FantPos', 'Age', 'G', 'GS', 'Cmp', 'Att', 'Yds', 'TD',\n",
       "       'Int', 'Att', 'Yds', 'Y/A', 'TD', 'Tgt', 'Rec', 'Yds', 'Y/R', 'TD',\n",
       "       'Fmb', 'FL', 'TD', '2PM', '2PP', 'FantPt', 'PPR', 'DKPt', 'FDPt', 'VBD',\n",
       "       'PosRank', 'OvRank'],\n",
       "      dtype='object', name='Rk')"
      ]
     },
     "execution_count": 8,
     "metadata": {},
     "output_type": "execute_result"
    }
   ],
   "source": [
    "fantasy_2019.columns"
   ]
  },
  {
   "cell_type": "code",
   "execution_count": 9,
   "metadata": {},
   "outputs": [],
   "source": [
    "fantasy_2019.columns=['Player', 'Tm', 'FantPos', 'Age', 'G', 'GS', 'Cmp_p', 'Att_p', 'Yds_p', 'TD_p',\n",
    "       'Int_p', 'Att_r', 'Yds_r', 'Y/A_r', 'TD_r', 'Tgt_c', 'Rec_c', 'Yds_c', 'Y/R_c', 'TD_c',\n",
    "       'Fmb_f', 'FL_f', 'TD_f', '2PM', '2PP', 'FantPt', 'PPR', 'DKPt', 'FDPt', 'VBD',\n",
    "       'PosRank', 'OvRank']"
   ]
  },
  {
   "cell_type": "code",
   "execution_count": 10,
   "metadata": {},
   "outputs": [],
   "source": [
    "fantasy_2018.columns = ['Player', 'Tm', 'FantPos', 'Age', 'G', 'GS', 'Cmp_p', 'Att_p', 'Yds_p', 'TD_p',\n",
    "       'Int_p', 'Att_r', 'Yds_r', 'Y/A_r', 'TD_r', 'Tgt_c', 'Rec_c', 'Yds_c', 'Y/R_c', 'TD_c',\n",
    "       'Fmb_f', 'FL_f', 'TD_f', '2PM', '2PP', 'FantPt', 'PPR', 'DKPt', 'FDPt', 'VBD',\n",
    "       'PosRank', 'OvRank']"
   ]
  },
  {
   "cell_type": "code",
   "execution_count": 11,
   "metadata": {},
   "outputs": [],
   "source": [
    "fantasy = pd.merge(fantasy_2019, fantasy_2018, on=('Player'))"
   ]
  },
  {
   "cell_type": "markdown",
   "metadata": {},
   "source": [
    "# Sum stats"
   ]
  },
  {
   "cell_type": "code",
   "execution_count": 12,
   "metadata": {},
   "outputs": [
    {
     "data": {
      "text/html": [
       "<div>\n",
       "<style scoped>\n",
       "    .dataframe tbody tr th:only-of-type {\n",
       "        vertical-align: middle;\n",
       "    }\n",
       "\n",
       "    .dataframe tbody tr th {\n",
       "        vertical-align: top;\n",
       "    }\n",
       "\n",
       "    .dataframe thead th {\n",
       "        text-align: right;\n",
       "    }\n",
       "</style>\n",
       "<table border=\"1\" class=\"dataframe\">\n",
       "  <thead>\n",
       "    <tr style=\"text-align: right;\">\n",
       "      <th></th>\n",
       "      <th>Player</th>\n",
       "      <th>Tm_x</th>\n",
       "      <th>FantPos_x</th>\n",
       "      <th>Age_x</th>\n",
       "      <th>G_x</th>\n",
       "      <th>GS_x</th>\n",
       "      <th>Cmp_p_x</th>\n",
       "      <th>Att_p_x</th>\n",
       "      <th>Yds_p_x</th>\n",
       "      <th>TD_p_x</th>\n",
       "      <th>Int_p_x</th>\n",
       "      <th>Att_r_x</th>\n",
       "      <th>Yds_r_x</th>\n",
       "      <th>Y/A_r_x</th>\n",
       "      <th>TD_r_x</th>\n",
       "      <th>...</th>\n",
       "      <th>Yds_c_y</th>\n",
       "      <th>Y/R_c_y</th>\n",
       "      <th>TD_c_y</th>\n",
       "      <th>Fmb_f_y</th>\n",
       "      <th>FL_f_y</th>\n",
       "      <th>TD_f_y</th>\n",
       "      <th>2PM_y</th>\n",
       "      <th>2PP_y</th>\n",
       "      <th>FantPt_y</th>\n",
       "      <th>PPR_y</th>\n",
       "      <th>DKPt_y</th>\n",
       "      <th>FDPt_y</th>\n",
       "      <th>VBD_y</th>\n",
       "      <th>PosRank_y</th>\n",
       "      <th>OvRank_y</th>\n",
       "    </tr>\n",
       "  </thead>\n",
       "  <tbody>\n",
       "    <tr>\n",
       "      <th>0</th>\n",
       "      <td>Christian McCaffrey</td>\n",
       "      <td>CAR</td>\n",
       "      <td>RB</td>\n",
       "      <td>23</td>\n",
       "      <td>16</td>\n",
       "      <td>16</td>\n",
       "      <td>0</td>\n",
       "      <td>2</td>\n",
       "      <td>0</td>\n",
       "      <td>0</td>\n",
       "      <td>0</td>\n",
       "      <td>287</td>\n",
       "      <td>1387</td>\n",
       "      <td>4.83</td>\n",
       "      <td>15</td>\n",
       "      <td>...</td>\n",
       "      <td>867</td>\n",
       "      <td>8.1</td>\n",
       "      <td>6</td>\n",
       "      <td>4</td>\n",
       "      <td>1</td>\n",
       "      <td>13</td>\n",
       "      <td>NaN</td>\n",
       "      <td>NaN</td>\n",
       "      <td>279.0</td>\n",
       "      <td>385.5</td>\n",
       "      <td>392.5</td>\n",
       "      <td>332.0</td>\n",
       "      <td>143.0</td>\n",
       "      <td>3</td>\n",
       "      <td>3.0</td>\n",
       "    </tr>\n",
       "    <tr>\n",
       "      <th>1</th>\n",
       "      <td>Lamar Jackson</td>\n",
       "      <td>BAL</td>\n",
       "      <td>QB</td>\n",
       "      <td>22</td>\n",
       "      <td>15</td>\n",
       "      <td>15</td>\n",
       "      <td>265</td>\n",
       "      <td>401</td>\n",
       "      <td>3127</td>\n",
       "      <td>36</td>\n",
       "      <td>6</td>\n",
       "      <td>176</td>\n",
       "      <td>1206</td>\n",
       "      <td>6.85</td>\n",
       "      <td>7</td>\n",
       "      <td>...</td>\n",
       "      <td>0</td>\n",
       "      <td>NaN</td>\n",
       "      <td>0</td>\n",
       "      <td>12</td>\n",
       "      <td>4</td>\n",
       "      <td>5</td>\n",
       "      <td>NaN</td>\n",
       "      <td>NaN</td>\n",
       "      <td>158.0</td>\n",
       "      <td>157.5</td>\n",
       "      <td>170.5</td>\n",
       "      <td>160.5</td>\n",
       "      <td>NaN</td>\n",
       "      <td>29</td>\n",
       "      <td>NaN</td>\n",
       "    </tr>\n",
       "  </tbody>\n",
       "</table>\n",
       "<p>2 rows × 63 columns</p>\n",
       "</div>"
      ],
      "text/plain": [
       "                Player Tm_x FantPos_x  Age_x  G_x  GS_x  Cmp_p_x  Att_p_x  \\\n",
       "0  Christian McCaffrey  CAR        RB     23   16    16        0        2   \n",
       "1        Lamar Jackson  BAL        QB     22   15    15      265      401   \n",
       "\n",
       "   Yds_p_x  TD_p_x  Int_p_x  Att_r_x  Yds_r_x  Y/A_r_x  TD_r_x  ...  Yds_c_y  \\\n",
       "0        0       0        0      287     1387     4.83      15  ...      867   \n",
       "1     3127      36        6      176     1206     6.85       7  ...        0   \n",
       "\n",
       "   Y/R_c_y  TD_c_y  Fmb_f_y  FL_f_y  TD_f_y  2PM_y  2PP_y  FantPt_y  PPR_y  \\\n",
       "0      8.1       6        4       1      13    NaN    NaN     279.0  385.5   \n",
       "1      NaN       0       12       4       5    NaN    NaN     158.0  157.5   \n",
       "\n",
       "   DKPt_y  FDPt_y  VBD_y  PosRank_y  OvRank_y  \n",
       "0   392.5   332.0  143.0          3       3.0  \n",
       "1   170.5   160.5    NaN         29       NaN  \n",
       "\n",
       "[2 rows x 63 columns]"
      ]
     },
     "execution_count": 12,
     "metadata": {},
     "output_type": "execute_result"
    }
   ],
   "source": [
    "fantasy.head(2)"
   ]
  },
  {
   "cell_type": "code",
   "execution_count": 13,
   "metadata": {},
   "outputs": [
    {
     "data": {
      "text/plain": [
       "Index(['Player', 'Tm_x', 'FantPos_x', 'Age_x', 'G_x', 'GS_x', 'Cmp_p_x',\n",
       "       'Att_p_x', 'Yds_p_x', 'TD_p_x', 'Int_p_x', 'Att_r_x', 'Yds_r_x',\n",
       "       'Y/A_r_x', 'TD_r_x', 'Tgt_c_x', 'Rec_c_x', 'Yds_c_x', 'Y/R_c_x',\n",
       "       'TD_c_x', 'Fmb_f_x', 'FL_f_x', 'TD_f_x', '2PM_x', '2PP_x', 'FantPt_x',\n",
       "       'PPR_x', 'DKPt_x', 'FDPt_x', 'VBD_x', 'PosRank_x', 'OvRank_x', 'Tm_y',\n",
       "       'FantPos_y', 'Age_y', 'G_y', 'GS_y', 'Cmp_p_y', 'Att_p_y', 'Yds_p_y',\n",
       "       'TD_p_y', 'Int_p_y', 'Att_r_y', 'Yds_r_y', 'Y/A_r_y', 'TD_r_y',\n",
       "       'Tgt_c_y', 'Rec_c_y', 'Yds_c_y', 'Y/R_c_y', 'TD_c_y', 'Fmb_f_y',\n",
       "       'FL_f_y', 'TD_f_y', '2PM_y', '2PP_y', 'FantPt_y', 'PPR_y', 'DKPt_y',\n",
       "       'FDPt_y', 'VBD_y', 'PosRank_y', 'OvRank_y'],\n",
       "      dtype='object')"
      ]
     },
     "execution_count": 13,
     "metadata": {},
     "output_type": "execute_result"
    }
   ],
   "source": [
    "fantasy.columns"
   ]
  },
  {
   "cell_type": "code",
   "execution_count": 14,
   "metadata": {},
   "outputs": [
    {
     "data": {
      "text/plain": [
       "Index(['G', 'GS', 'Cmp_p', 'Att_p', 'Yds_p', 'TD_p', 'Int_p', 'Att_r', 'Yds_r',\n",
       "       'Y/A_r', 'TD_r', 'Tgt_c', 'Rec_c', 'Yds_c', 'Y/R_c', 'TD_c', 'Fmb_f',\n",
       "       'FL_f', 'TD_f', '2PM', '2PP', 'FantPt', 'PPR', 'DKPt', 'FDPt', 'VBD',\n",
       "       'PosRank', 'OvRank'],\n",
       "      dtype='object')"
      ]
     },
     "execution_count": 14,
     "metadata": {},
     "output_type": "execute_result"
    }
   ],
   "source": [
    "cols = fantasy_2018.columns\n",
    "cols = cols[4:]\n",
    "cols"
   ]
  },
  {
   "cell_type": "code",
   "execution_count": 15,
   "metadata": {},
   "outputs": [
    {
     "data": {
      "text/plain": [
       "0        2\n",
       "1      401\n",
       "2        0\n",
       "3        0\n",
       "4        0\n",
       "      ... \n",
       "441      2\n",
       "442     21\n",
       "443      0\n",
       "444      0\n",
       "445      0\n",
       "Name: Att_p_x, Length: 446, dtype: int64"
      ]
     },
     "execution_count": 15,
     "metadata": {},
     "output_type": "execute_result"
    }
   ],
   "source": [
    "fantasy['Att_p_x']"
   ]
  },
  {
   "cell_type": "code",
   "execution_count": 34,
   "metadata": {},
   "outputs": [],
   "source": [
    "output = {}\n",
    "for index, row in fantasy.iterrows():\n",
    "    \n",
    "    name = row['Player']\n",
    "    team = row['Tm_x']\n",
    "    pos = row['FantPos_x']\n",
    "    age = row['Age_x']\n",
    "    \n",
    "    values = []\n",
    "\n",
    "    for col in cols:\n",
    "        values.append(row[col + '_x'] + row[col + '_y'])\n",
    "    \n",
    "    output[name] = {'team':team, 'position':pos, 'age':age, 'attributes':values}"
   ]
  },
  {
   "cell_type": "code",
   "execution_count": 35,
   "metadata": {},
   "outputs": [],
   "source": [
    "players = pd.DataFrame(output).T"
   ]
  },
  {
   "cell_type": "code",
   "execution_count": 45,
   "metadata": {},
   "outputs": [
    {
     "data": {
      "text/html": [
       "<div>\n",
       "<style scoped>\n",
       "    .dataframe tbody tr th:only-of-type {\n",
       "        vertical-align: middle;\n",
       "    }\n",
       "\n",
       "    .dataframe tbody tr th {\n",
       "        vertical-align: top;\n",
       "    }\n",
       "\n",
       "    .dataframe thead th {\n",
       "        text-align: right;\n",
       "    }\n",
       "</style>\n",
       "<table border=\"1\" class=\"dataframe\">\n",
       "  <thead>\n",
       "    <tr style=\"text-align: right;\">\n",
       "      <th></th>\n",
       "      <th>team</th>\n",
       "      <th>position</th>\n",
       "      <th>age</th>\n",
       "      <th>attributes</th>\n",
       "    </tr>\n",
       "  </thead>\n",
       "  <tbody>\n",
       "    <tr>\n",
       "      <th>Christian McCaffrey</th>\n",
       "      <td>CAR</td>\n",
       "      <td>RB</td>\n",
       "      <td>23</td>\n",
       "      <td>[32, 32, 1, 3, 50, 1, 0, 506, 2485, 9.84, 22, ...</td>\n",
       "    </tr>\n",
       "    <tr>\n",
       "      <th>Lamar Jackson</th>\n",
       "      <td>BAL</td>\n",
       "      <td>QB</td>\n",
       "      <td>22</td>\n",
       "      <td>[31, 22, 364, 571, 4328, 42, 9, 323, 1901, 11....</td>\n",
       "    </tr>\n",
       "  </tbody>\n",
       "</table>\n",
       "</div>"
      ],
      "text/plain": [
       "                    team position age  \\\n",
       "Christian McCaffrey  CAR       RB  23   \n",
       "Lamar Jackson        BAL       QB  22   \n",
       "\n",
       "                                                            attributes  \n",
       "Christian McCaffrey  [32, 32, 1, 3, 50, 1, 0, 506, 2485, 9.84, 22, ...  \n",
       "Lamar Jackson        [31, 22, 364, 571, 4328, 42, 9, 323, 1901, 11....  "
      ]
     },
     "execution_count": 45,
     "metadata": {},
     "output_type": "execute_result"
    }
   ],
   "source": [
    "players.head(2)"
   ]
  },
  {
   "cell_type": "code",
   "execution_count": 50,
   "metadata": {},
   "outputs": [
    {
     "data": {
      "text/plain": [
       "'Christian McCaffrey'"
      ]
     },
     "execution_count": 50,
     "metadata": {},
     "output_type": "execute_result"
    }
   ],
   "source": [
    "players.iloc[0].name"
   ]
  },
  {
   "cell_type": "code",
   "execution_count": 42,
   "metadata": {},
   "outputs": [],
   "source": [
    "cols = fantasy_2018.columns"
   ]
  },
  {
   "cell_type": "code",
   "execution_count": 86,
   "metadata": {},
   "outputs": [],
   "source": [
    "player = {}\n",
    "\n",
    "for index, row in players.iterrows():\n",
    "    \n",
    "    values = []\n",
    "\n",
    "    values.append(row['team'])\n",
    "    values.append(row['position'])\n",
    "    values.append(row['age'])\n",
    "    \n",
    "    for i in row['attributes']:\n",
    "        values.append(i)\n",
    "        \n",
    "    player[row.name] = values"
   ]
  },
  {
   "cell_type": "code",
   "execution_count": 90,
   "metadata": {},
   "outputs": [],
   "source": [
    "final = pd.DataFrame(player).T\n",
    "final.columns = cols[1:]"
   ]
  },
  {
   "cell_type": "code",
   "execution_count": 92,
   "metadata": {},
   "outputs": [],
   "source": [
    "final.to_csv('players_two_seasons.csv')"
   ]
  }
 ],
 "metadata": {
  "kernelspec": {
   "display_name": "Python 3",
   "language": "python",
   "name": "python3"
  },
  "language_info": {
   "codemirror_mode": {
    "name": "ipython",
    "version": 3
   },
   "file_extension": ".py",
   "mimetype": "text/x-python",
   "name": "python",
   "nbconvert_exporter": "python",
   "pygments_lexer": "ipython3",
   "version": "3.7.7"
  }
 },
 "nbformat": 4,
 "nbformat_minor": 4
}
