{
 "cells": [
  {
   "cell_type": "markdown",
   "metadata": {
    "_cell_guid": "ce53be83-4475-8d60-f4a5-b7baa884bd11"
   },
   "source": [
    "Here I m going to run **Support Vector machine** with different **kernels(linear,gaussian,polynomial)** and also tune the various parameters such as **C** ,**gamma** and **degree** to find out the best performing model ."
   ]
  },
  {
   "cell_type": "code",
   "execution_count": 4,
   "metadata": {
    "_cell_guid": "a627464e-bd59-249c-ff6e-1483fcfcf5c8"
   },
   "outputs": [
    {
     "name": "stdout",
     "output_type": "stream",
     "text": [
      "voice.csv\n",
      "\n"
     ]
    }
   ],
   "source": [
    "# This Python 3 environment comes with many helpful analytics libraries installed\n",
    "# It is defined by the kaggle/python docker image: https://github.com/kaggle/docker-python\n",
    "# For example, here's several helpful packages to load in \n",
    "\n",
    "\n",
    "# Input data files are available in the \"../input/\" directory.\n",
    "# For example, running this (by clicking run or pressing Shift+Enter) will list the files in the input directory\n",
    "\n",
    "from subprocess import check_output\n",
    "print(check_output([\"ls\", \"./input\"]).decode(\"utf8\"))\n",
    "\n",
    "# Any results you write to the current directory are saved as output."
   ]
  },
  {
   "cell_type": "markdown",
   "metadata": {
    "_cell_guid": "cd01fe18-db57-3da4-2916-f99e096988ac"
   },
   "source": [
    "# Importing all the necessary libraries"
   ]
  },
  {
   "cell_type": "code",
   "execution_count": 10,
   "metadata": {
    "_cell_guid": "0247ac12-6357-659f-0182-36d245e9b551"
   },
   "outputs": [],
   "source": [
    "import pandas as pd\n",
    "import numpy as np\n",
    "import seaborn as sns\n",
    "\n",
    "import matplotlib.pyplot as plt\n",
    "from helper import plot_classifier\n",
    "\n",
    "%matplotlib inline"
   ]
  },
  {
   "cell_type": "markdown",
   "metadata": {
    "_cell_guid": "0200d0e4-320f-2822-88a9-f6c0225658e6"
   },
   "source": [
    "# Reading the comma separated values file into the dataframe"
   ]
  },
  {
   "cell_type": "code",
   "execution_count": 7,
   "metadata": {
    "_cell_guid": "2e847afc-36c5-b7bb-78c6-4288f847868e"
   },
   "outputs": [
    {
     "data": {
      "text/html": [
       "<div>\n",
       "<style scoped>\n",
       "    .dataframe tbody tr th:only-of-type {\n",
       "        vertical-align: middle;\n",
       "    }\n",
       "\n",
       "    .dataframe tbody tr th {\n",
       "        vertical-align: top;\n",
       "    }\n",
       "\n",
       "    .dataframe thead th {\n",
       "        text-align: right;\n",
       "    }\n",
       "</style>\n",
       "<table border=\"1\" class=\"dataframe\">\n",
       "  <thead>\n",
       "    <tr style=\"text-align: right;\">\n",
       "      <th></th>\n",
       "      <th>meanfreq</th>\n",
       "      <th>sd</th>\n",
       "      <th>median</th>\n",
       "      <th>Q25</th>\n",
       "      <th>Q75</th>\n",
       "      <th>IQR</th>\n",
       "      <th>skew</th>\n",
       "      <th>kurt</th>\n",
       "      <th>sp.ent</th>\n",
       "      <th>sfm</th>\n",
       "      <th>...</th>\n",
       "      <th>centroid</th>\n",
       "      <th>meanfun</th>\n",
       "      <th>minfun</th>\n",
       "      <th>maxfun</th>\n",
       "      <th>meandom</th>\n",
       "      <th>mindom</th>\n",
       "      <th>maxdom</th>\n",
       "      <th>dfrange</th>\n",
       "      <th>modindx</th>\n",
       "      <th>label</th>\n",
       "    </tr>\n",
       "  </thead>\n",
       "  <tbody>\n",
       "    <tr>\n",
       "      <th>0</th>\n",
       "      <td>0.059781</td>\n",
       "      <td>0.064241</td>\n",
       "      <td>0.032027</td>\n",
       "      <td>0.015071</td>\n",
       "      <td>0.090193</td>\n",
       "      <td>0.075122</td>\n",
       "      <td>12.863462</td>\n",
       "      <td>274.402906</td>\n",
       "      <td>0.893369</td>\n",
       "      <td>0.491918</td>\n",
       "      <td>...</td>\n",
       "      <td>0.059781</td>\n",
       "      <td>0.084279</td>\n",
       "      <td>0.015702</td>\n",
       "      <td>0.275862</td>\n",
       "      <td>0.007812</td>\n",
       "      <td>0.007812</td>\n",
       "      <td>0.007812</td>\n",
       "      <td>0.000000</td>\n",
       "      <td>0.000000</td>\n",
       "      <td>male</td>\n",
       "    </tr>\n",
       "    <tr>\n",
       "      <th>1</th>\n",
       "      <td>0.066009</td>\n",
       "      <td>0.067310</td>\n",
       "      <td>0.040229</td>\n",
       "      <td>0.019414</td>\n",
       "      <td>0.092666</td>\n",
       "      <td>0.073252</td>\n",
       "      <td>22.423285</td>\n",
       "      <td>634.613855</td>\n",
       "      <td>0.892193</td>\n",
       "      <td>0.513724</td>\n",
       "      <td>...</td>\n",
       "      <td>0.066009</td>\n",
       "      <td>0.107937</td>\n",
       "      <td>0.015826</td>\n",
       "      <td>0.250000</td>\n",
       "      <td>0.009014</td>\n",
       "      <td>0.007812</td>\n",
       "      <td>0.054688</td>\n",
       "      <td>0.046875</td>\n",
       "      <td>0.052632</td>\n",
       "      <td>male</td>\n",
       "    </tr>\n",
       "    <tr>\n",
       "      <th>2</th>\n",
       "      <td>0.077316</td>\n",
       "      <td>0.083829</td>\n",
       "      <td>0.036718</td>\n",
       "      <td>0.008701</td>\n",
       "      <td>0.131908</td>\n",
       "      <td>0.123207</td>\n",
       "      <td>30.757155</td>\n",
       "      <td>1024.927705</td>\n",
       "      <td>0.846389</td>\n",
       "      <td>0.478905</td>\n",
       "      <td>...</td>\n",
       "      <td>0.077316</td>\n",
       "      <td>0.098706</td>\n",
       "      <td>0.015656</td>\n",
       "      <td>0.271186</td>\n",
       "      <td>0.007990</td>\n",
       "      <td>0.007812</td>\n",
       "      <td>0.015625</td>\n",
       "      <td>0.007812</td>\n",
       "      <td>0.046512</td>\n",
       "      <td>male</td>\n",
       "    </tr>\n",
       "    <tr>\n",
       "      <th>3</th>\n",
       "      <td>0.151228</td>\n",
       "      <td>0.072111</td>\n",
       "      <td>0.158011</td>\n",
       "      <td>0.096582</td>\n",
       "      <td>0.207955</td>\n",
       "      <td>0.111374</td>\n",
       "      <td>1.232831</td>\n",
       "      <td>4.177296</td>\n",
       "      <td>0.963322</td>\n",
       "      <td>0.727232</td>\n",
       "      <td>...</td>\n",
       "      <td>0.151228</td>\n",
       "      <td>0.088965</td>\n",
       "      <td>0.017798</td>\n",
       "      <td>0.250000</td>\n",
       "      <td>0.201497</td>\n",
       "      <td>0.007812</td>\n",
       "      <td>0.562500</td>\n",
       "      <td>0.554688</td>\n",
       "      <td>0.247119</td>\n",
       "      <td>male</td>\n",
       "    </tr>\n",
       "    <tr>\n",
       "      <th>4</th>\n",
       "      <td>0.135120</td>\n",
       "      <td>0.079146</td>\n",
       "      <td>0.124656</td>\n",
       "      <td>0.078720</td>\n",
       "      <td>0.206045</td>\n",
       "      <td>0.127325</td>\n",
       "      <td>1.101174</td>\n",
       "      <td>4.333713</td>\n",
       "      <td>0.971955</td>\n",
       "      <td>0.783568</td>\n",
       "      <td>...</td>\n",
       "      <td>0.135120</td>\n",
       "      <td>0.106398</td>\n",
       "      <td>0.016931</td>\n",
       "      <td>0.266667</td>\n",
       "      <td>0.712812</td>\n",
       "      <td>0.007812</td>\n",
       "      <td>5.484375</td>\n",
       "      <td>5.476562</td>\n",
       "      <td>0.208274</td>\n",
       "      <td>male</td>\n",
       "    </tr>\n",
       "  </tbody>\n",
       "</table>\n",
       "<p>5 rows × 21 columns</p>\n",
       "</div>"
      ],
      "text/plain": [
       "   meanfreq        sd    median       Q25       Q75       IQR       skew  \\\n",
       "0  0.059781  0.064241  0.032027  0.015071  0.090193  0.075122  12.863462   \n",
       "1  0.066009  0.067310  0.040229  0.019414  0.092666  0.073252  22.423285   \n",
       "2  0.077316  0.083829  0.036718  0.008701  0.131908  0.123207  30.757155   \n",
       "3  0.151228  0.072111  0.158011  0.096582  0.207955  0.111374   1.232831   \n",
       "4  0.135120  0.079146  0.124656  0.078720  0.206045  0.127325   1.101174   \n",
       "\n",
       "          kurt    sp.ent       sfm  ...  centroid   meanfun    minfun  \\\n",
       "0   274.402906  0.893369  0.491918  ...  0.059781  0.084279  0.015702   \n",
       "1   634.613855  0.892193  0.513724  ...  0.066009  0.107937  0.015826   \n",
       "2  1024.927705  0.846389  0.478905  ...  0.077316  0.098706  0.015656   \n",
       "3     4.177296  0.963322  0.727232  ...  0.151228  0.088965  0.017798   \n",
       "4     4.333713  0.971955  0.783568  ...  0.135120  0.106398  0.016931   \n",
       "\n",
       "     maxfun   meandom    mindom    maxdom   dfrange   modindx  label  \n",
       "0  0.275862  0.007812  0.007812  0.007812  0.000000  0.000000   male  \n",
       "1  0.250000  0.009014  0.007812  0.054688  0.046875  0.052632   male  \n",
       "2  0.271186  0.007990  0.007812  0.015625  0.007812  0.046512   male  \n",
       "3  0.250000  0.201497  0.007812  0.562500  0.554688  0.247119   male  \n",
       "4  0.266667  0.712812  0.007812  5.484375  5.476562  0.208274   male  \n",
       "\n",
       "[5 rows x 21 columns]"
      ]
     },
     "execution_count": 7,
     "metadata": {},
     "output_type": "execute_result"
    }
   ],
   "source": [
    "df = pd.read_csv('./input/voice.csv')\n",
    "df.head()"
   ]
  },
  {
   "cell_type": "markdown",
   "metadata": {
    "_cell_guid": "2d654f09-1018-5498-e4ea-428752a19d4b"
   },
   "source": [
    "# Checking the correlation between each feature"
   ]
  },
  {
   "cell_type": "code",
   "execution_count": 16,
   "metadata": {},
   "outputs": [
    {
     "data": {
      "text/html": [
       "<style  type=\"text/css\" >\n",
       "    #T_184289c6_9859_11e9_99ba_acde48001122row0_col0 {\n",
       "            background-color:  #b40426;\n",
       "            color:  #f1f1f1;\n",
       "        }    #T_184289c6_9859_11e9_99ba_acde48001122row0_col1 {\n",
       "            background-color:  #4b64d5;\n",
       "            color:  #f1f1f1;\n",
       "        }    #T_184289c6_9859_11e9_99ba_acde48001122row0_col2 {\n",
       "            background-color:  #c43032;\n",
       "            color:  #f1f1f1;\n",
       "        }    #T_184289c6_9859_11e9_99ba_acde48001122row0_col3 {\n",
       "            background-color:  #c53334;\n",
       "            color:  #f1f1f1;\n",
       "        }    #T_184289c6_9859_11e9_99ba_acde48001122row0_col4 {\n",
       "            background-color:  #ec7f63;\n",
       "            color:  #000000;\n",
       "        }    #T_184289c6_9859_11e9_99ba_acde48001122row0_col5 {\n",
       "            background-color:  #6384eb;\n",
       "            color:  #000000;\n",
       "        }    #T_184289c6_9859_11e9_99ba_acde48001122row0_col6 {\n",
       "            background-color:  #536edd;\n",
       "            color:  #000000;\n",
       "        }    #T_184289c6_9859_11e9_99ba_acde48001122row0_col7 {\n",
       "            background-color:  #4e68d8;\n",
       "            color:  #000000;\n",
       "        }    #T_184289c6_9859_11e9_99ba_acde48001122row0_col8 {\n",
       "            background-color:  #4358cb;\n",
       "            color:  #f1f1f1;\n",
       "        }    #T_184289c6_9859_11e9_99ba_acde48001122row0_col9 {\n",
       "            background-color:  #3b4cc0;\n",
       "            color:  #f1f1f1;\n",
       "        }    #T_184289c6_9859_11e9_99ba_acde48001122row0_col10 {\n",
       "            background-color:  #ee8669;\n",
       "            color:  #000000;\n",
       "        }    #T_184289c6_9859_11e9_99ba_acde48001122row0_col11 {\n",
       "            background-color:  #b40426;\n",
       "            color:  #f1f1f1;\n",
       "        }    #T_184289c6_9859_11e9_99ba_acde48001122row0_col12 {\n",
       "            background-color:  #f6bda2;\n",
       "            color:  #000000;\n",
       "        }    #T_184289c6_9859_11e9_99ba_acde48001122row0_col13 {\n",
       "            background-color:  #e9d5cb;\n",
       "            color:  #000000;\n",
       "        }    #T_184289c6_9859_11e9_99ba_acde48001122row0_col14 {\n",
       "            background-color:  #d4dbe6;\n",
       "            color:  #000000;\n",
       "        }    #T_184289c6_9859_11e9_99ba_acde48001122row0_col15 {\n",
       "            background-color:  #f7b093;\n",
       "            color:  #000000;\n",
       "        }    #T_184289c6_9859_11e9_99ba_acde48001122row0_col16 {\n",
       "            background-color:  #cad8ef;\n",
       "            color:  #000000;\n",
       "        }    #T_184289c6_9859_11e9_99ba_acde48001122row0_col17 {\n",
       "            background-color:  #f7b497;\n",
       "            color:  #000000;\n",
       "        }    #T_184289c6_9859_11e9_99ba_acde48001122row0_col18 {\n",
       "            background-color:  #f7b79b;\n",
       "            color:  #000000;\n",
       "        }    #T_184289c6_9859_11e9_99ba_acde48001122row0_col19 {\n",
       "            background-color:  #6a8bef;\n",
       "            color:  #000000;\n",
       "        }    #T_184289c6_9859_11e9_99ba_acde48001122row1_col0 {\n",
       "            background-color:  #4257c9;\n",
       "            color:  #f1f1f1;\n",
       "        }    #T_184289c6_9859_11e9_99ba_acde48001122row1_col1 {\n",
       "            background-color:  #b40426;\n",
       "            color:  #f1f1f1;\n",
       "        }    #T_184289c6_9859_11e9_99ba_acde48001122row1_col2 {\n",
       "            background-color:  #4c66d6;\n",
       "            color:  #000000;\n",
       "        }    #T_184289c6_9859_11e9_99ba_acde48001122row1_col3 {\n",
       "            background-color:  #3e51c5;\n",
       "            color:  #f1f1f1;\n",
       "        }    #T_184289c6_9859_11e9_99ba_acde48001122row1_col4 {\n",
       "            background-color:  #6c8ff1;\n",
       "            color:  #000000;\n",
       "        }    #T_184289c6_9859_11e9_99ba_acde48001122row1_col5 {\n",
       "            background-color:  #cc403a;\n",
       "            color:  #f1f1f1;\n",
       "        }    #T_184289c6_9859_11e9_99ba_acde48001122row1_col6 {\n",
       "            background-color:  #e2dad5;\n",
       "            color:  #000000;\n",
       "        }    #T_184289c6_9859_11e9_99ba_acde48001122row1_col7 {\n",
       "            background-color:  #e6d7cf;\n",
       "            color:  #000000;\n",
       "        }    #T_184289c6_9859_11e9_99ba_acde48001122row1_col8 {\n",
       "            background-color:  #e9785d;\n",
       "            color:  #000000;\n",
       "        }    #T_184289c6_9859_11e9_99ba_acde48001122row1_col9 {\n",
       "            background-color:  #d44e41;\n",
       "            color:  #000000;\n",
       "        }    #T_184289c6_9859_11e9_99ba_acde48001122row1_col10 {\n",
       "            background-color:  #3b4cc0;\n",
       "            color:  #f1f1f1;\n",
       "        }    #T_184289c6_9859_11e9_99ba_acde48001122row1_col11 {\n",
       "            background-color:  #4257c9;\n",
       "            color:  #f1f1f1;\n",
       "        }    #T_184289c6_9859_11e9_99ba_acde48001122row1_col12 {\n",
       "            background-color:  #485fd1;\n",
       "            color:  #f1f1f1;\n",
       "        }    #T_184289c6_9859_11e9_99ba_acde48001122row1_col13 {\n",
       "            background-color:  #3e51c5;\n",
       "            color:  #f1f1f1;\n",
       "        }    #T_184289c6_9859_11e9_99ba_acde48001122row1_col14 {\n",
       "            background-color:  #7093f3;\n",
       "            color:  #000000;\n",
       "        }    #T_184289c6_9859_11e9_99ba_acde48001122row1_col15 {\n",
       "            background-color:  #3b4cc0;\n",
       "            color:  #f1f1f1;\n",
       "        }    #T_184289c6_9859_11e9_99ba_acde48001122row1_col16 {\n",
       "            background-color:  #3b4cc0;\n",
       "            color:  #f1f1f1;\n",
       "        }    #T_184289c6_9859_11e9_99ba_acde48001122row1_col17 {\n",
       "            background-color:  #3b4cc0;\n",
       "            color:  #f1f1f1;\n",
       "        }    #T_184289c6_9859_11e9_99ba_acde48001122row1_col18 {\n",
       "            background-color:  #3b4cc0;\n",
       "            color:  #f1f1f1;\n",
       "        }    #T_184289c6_9859_11e9_99ba_acde48001122row1_col19 {\n",
       "            background-color:  #bbd1f8;\n",
       "            color:  #000000;\n",
       "        }    #T_184289c6_9859_11e9_99ba_acde48001122row2_col0 {\n",
       "            background-color:  #c32e31;\n",
       "            color:  #f1f1f1;\n",
       "        }    #T_184289c6_9859_11e9_99ba_acde48001122row2_col1 {\n",
       "            background-color:  #6b8df0;\n",
       "            color:  #000000;\n",
       "        }    #T_184289c6_9859_11e9_99ba_acde48001122row2_col2 {\n",
       "            background-color:  #b40426;\n",
       "            color:  #f1f1f1;\n",
       "        }    #T_184289c6_9859_11e9_99ba_acde48001122row2_col3 {\n",
       "            background-color:  #dc5d4a;\n",
       "            color:  #000000;\n",
       "        }    #T_184289c6_9859_11e9_99ba_acde48001122row2_col4 {\n",
       "            background-color:  #ec8165;\n",
       "            color:  #000000;\n",
       "        }    #T_184289c6_9859_11e9_99ba_acde48001122row2_col5 {\n",
       "            background-color:  #80a3fa;\n",
       "            color:  #000000;\n",
       "        }    #T_184289c6_9859_11e9_99ba_acde48001122row2_col6 {\n",
       "            background-color:  #6180e9;\n",
       "            color:  #000000;\n",
       "        }    #T_184289c6_9859_11e9_99ba_acde48001122row2_col7 {\n",
       "            background-color:  #5e7de7;\n",
       "            color:  #000000;\n",
       "        }    #T_184289c6_9859_11e9_99ba_acde48001122row2_col8 {\n",
       "            background-color:  #5572df;\n",
       "            color:  #000000;\n",
       "        }    #T_184289c6_9859_11e9_99ba_acde48001122row2_col9 {\n",
       "            background-color:  #4f69d9;\n",
       "            color:  #000000;\n",
       "        }    #T_184289c6_9859_11e9_99ba_acde48001122row2_col10 {\n",
       "            background-color:  #f08a6c;\n",
       "            color:  #000000;\n",
       "        }    #T_184289c6_9859_11e9_99ba_acde48001122row2_col11 {\n",
       "            background-color:  #c32e31;\n",
       "            color:  #f1f1f1;\n",
       "        }    #T_184289c6_9859_11e9_99ba_acde48001122row2_col12 {\n",
       "            background-color:  #f4c6af;\n",
       "            color:  #000000;\n",
       "        }    #T_184289c6_9859_11e9_99ba_acde48001122row2_col13 {\n",
       "            background-color:  #e0dbd8;\n",
       "            color:  #000000;\n",
       "        }    #T_184289c6_9859_11e9_99ba_acde48001122row2_col14 {\n",
       "            background-color:  #cfdaea;\n",
       "            color:  #000000;\n",
       "        }    #T_184289c6_9859_11e9_99ba_acde48001122row2_col15 {\n",
       "            background-color:  #f5c1a9;\n",
       "            color:  #000000;\n",
       "        }    #T_184289c6_9859_11e9_99ba_acde48001122row2_col16 {\n",
       "            background-color:  #c1d4f4;\n",
       "            color:  #000000;\n",
       "        }    #T_184289c6_9859_11e9_99ba_acde48001122row2_col17 {\n",
       "            background-color:  #f4c5ad;\n",
       "            color:  #000000;\n",
       "        }    #T_184289c6_9859_11e9_99ba_acde48001122row2_col18 {\n",
       "            background-color:  #f4c6af;\n",
       "            color:  #000000;\n",
       "        }    #T_184289c6_9859_11e9_99ba_acde48001122row2_col19 {\n",
       "            background-color:  #6a8bef;\n",
       "            color:  #000000;\n",
       "        }    #T_184289c6_9859_11e9_99ba_acde48001122row3_col0 {\n",
       "            background-color:  #c53334;\n",
       "            color:  #f1f1f1;\n",
       "        }    #T_184289c6_9859_11e9_99ba_acde48001122row3_col1 {\n",
       "            background-color:  #3b4cc0;\n",
       "            color:  #f1f1f1;\n",
       "        }    #T_184289c6_9859_11e9_99ba_acde48001122row3_col2 {\n",
       "            background-color:  #e0654f;\n",
       "            color:  #000000;\n",
       "        }    #T_184289c6_9859_11e9_99ba_acde48001122row3_col3 {\n",
       "            background-color:  #b40426;\n",
       "            color:  #f1f1f1;\n",
       "        }    #T_184289c6_9859_11e9_99ba_acde48001122row3_col4 {\n",
       "            background-color:  #f4c6af;\n",
       "            color:  #000000;\n",
       "        }    #T_184289c6_9859_11e9_99ba_acde48001122row3_col5 {\n",
       "            background-color:  #3b4cc0;\n",
       "            color:  #f1f1f1;\n",
       "        }    #T_184289c6_9859_11e9_99ba_acde48001122row3_col6 {\n",
       "            background-color:  #536edd;\n",
       "            color:  #000000;\n",
       "        }    #T_184289c6_9859_11e9_99ba_acde48001122row3_col7 {\n",
       "            background-color:  #465ecf;\n",
       "            color:  #f1f1f1;\n",
       "        }    #T_184289c6_9859_11e9_99ba_acde48001122row3_col8 {\n",
       "            background-color:  #3b4cc0;\n",
       "            color:  #f1f1f1;\n",
       "        }    #T_184289c6_9859_11e9_99ba_acde48001122row3_col9 {\n",
       "            background-color:  #3d50c3;\n",
       "            color:  #f1f1f1;\n",
       "        }    #T_184289c6_9859_11e9_99ba_acde48001122row3_col10 {\n",
       "            background-color:  #f5a081;\n",
       "            color:  #000000;\n",
       "        }    #T_184289c6_9859_11e9_99ba_acde48001122row3_col11 {\n",
       "            background-color:  #c53334;\n",
       "            color:  #f1f1f1;\n",
       "        }    #T_184289c6_9859_11e9_99ba_acde48001122row3_col12 {\n",
       "            background-color:  #f7aa8c;\n",
       "            color:  #000000;\n",
       "        }    #T_184289c6_9859_11e9_99ba_acde48001122row3_col13 {\n",
       "            background-color:  #dddcdc;\n",
       "            color:  #000000;\n",
       "        }    #T_184289c6_9859_11e9_99ba_acde48001122row3_col14 {\n",
       "            background-color:  #c4d5f3;\n",
       "            color:  #000000;\n",
       "        }    #T_184289c6_9859_11e9_99ba_acde48001122row3_col15 {\n",
       "            background-color:  #f6bfa6;\n",
       "            color:  #000000;\n",
       "        }    #T_184289c6_9859_11e9_99ba_acde48001122row3_col16 {\n",
       "            background-color:  #d9dce1;\n",
       "            color:  #000000;\n",
       "        }    #T_184289c6_9859_11e9_99ba_acde48001122row3_col17 {\n",
       "            background-color:  #f5c1a9;\n",
       "            color:  #000000;\n",
       "        }    #T_184289c6_9859_11e9_99ba_acde48001122row3_col18 {\n",
       "            background-color:  #f5c2aa;\n",
       "            color:  #000000;\n",
       "        }    #T_184289c6_9859_11e9_99ba_acde48001122row3_col19 {\n",
       "            background-color:  #7b9ff9;\n",
       "            color:  #000000;\n",
       "        }    #T_184289c6_9859_11e9_99ba_acde48001122row4_col0 {\n",
       "            background-color:  #e36b54;\n",
       "            color:  #000000;\n",
       "        }    #T_184289c6_9859_11e9_99ba_acde48001122row4_col1 {\n",
       "            background-color:  #b7cff9;\n",
       "            color:  #000000;\n",
       "        }    #T_184289c6_9859_11e9_99ba_acde48001122row4_col2 {\n",
       "            background-color:  #e67259;\n",
       "            color:  #000000;\n",
       "        }    #T_184289c6_9859_11e9_99ba_acde48001122row4_col3 {\n",
       "            background-color:  #f6a586;\n",
       "            color:  #000000;\n",
       "        }    #T_184289c6_9859_11e9_99ba_acde48001122row4_col4 {\n",
       "            background-color:  #b40426;\n",
       "            color:  #f1f1f1;\n",
       "        }    #T_184289c6_9859_11e9_99ba_acde48001122row4_col5 {\n",
       "            background-color:  #d5dbe5;\n",
       "            color:  #000000;\n",
       "        }    #T_184289c6_9859_11e9_99ba_acde48001122row4_col6 {\n",
       "            background-color:  #6c8ff1;\n",
       "            color:  #000000;\n",
       "        }    #T_184289c6_9859_11e9_99ba_acde48001122row4_col7 {\n",
       "            background-color:  #7597f6;\n",
       "            color:  #000000;\n",
       "        }    #T_184289c6_9859_11e9_99ba_acde48001122row4_col8 {\n",
       "            background-color:  #9abbff;\n",
       "            color:  #000000;\n",
       "        }    #T_184289c6_9859_11e9_99ba_acde48001122row4_col9 {\n",
       "            background-color:  #85a8fc;\n",
       "            color:  #000000;\n",
       "        }    #T_184289c6_9859_11e9_99ba_acde48001122row4_col10 {\n",
       "            background-color:  #f7b89c;\n",
       "            color:  #000000;\n",
       "        }    #T_184289c6_9859_11e9_99ba_acde48001122row4_col11 {\n",
       "            background-color:  #e36b54;\n",
       "            color:  #000000;\n",
       "        }    #T_184289c6_9859_11e9_99ba_acde48001122row4_col12 {\n",
       "            background-color:  #cfdaea;\n",
       "            color:  #000000;\n",
       "        }    #T_184289c6_9859_11e9_99ba_acde48001122row4_col13 {\n",
       "            background-color:  #d1dae9;\n",
       "            color:  #000000;\n",
       "        }    #T_184289c6_9859_11e9_99ba_acde48001122row4_col14 {\n",
       "            background-color:  #d6dce4;\n",
       "            color:  #000000;\n",
       "        }    #T_184289c6_9859_11e9_99ba_acde48001122row4_col15 {\n",
       "            background-color:  #edd2c3;\n",
       "            color:  #000000;\n",
       "        }    #T_184289c6_9859_11e9_99ba_acde48001122row4_col16 {\n",
       "            background-color:  #8badfd;\n",
       "            color:  #000000;\n",
       "        }    #T_184289c6_9859_11e9_99ba_acde48001122row4_col17 {\n",
       "            background-color:  #ead5c9;\n",
       "            color:  #000000;\n",
       "        }    #T_184289c6_9859_11e9_99ba_acde48001122row4_col18 {\n",
       "            background-color:  #e9d5cb;\n",
       "            color:  #000000;\n",
       "        }    #T_184289c6_9859_11e9_99ba_acde48001122row4_col19 {\n",
       "            background-color:  #6a8bef;\n",
       "            color:  #000000;\n",
       "        }    #T_184289c6_9859_11e9_99ba_acde48001122row5_col0 {\n",
       "            background-color:  #5572df;\n",
       "            color:  #000000;\n",
       "        }    #T_184289c6_9859_11e9_99ba_acde48001122row5_col1 {\n",
       "            background-color:  #cc403a;\n",
       "            color:  #f1f1f1;\n",
       "        }    #T_184289c6_9859_11e9_99ba_acde48001122row5_col2 {\n",
       "            background-color:  #5d7ce6;\n",
       "            color:  #000000;\n",
       "        }    #T_184289c6_9859_11e9_99ba_acde48001122row5_col3 {\n",
       "            background-color:  #3b4cc0;\n",
       "            color:  #f1f1f1;\n",
       "        }    #T_184289c6_9859_11e9_99ba_acde48001122row5_col4 {\n",
       "            background-color:  #98b9ff;\n",
       "            color:  #000000;\n",
       "        }    #T_184289c6_9859_11e9_99ba_acde48001122row5_col5 {\n",
       "            background-color:  #b40426;\n",
       "            color:  #f1f1f1;\n",
       "        }    #T_184289c6_9859_11e9_99ba_acde48001122row5_col6 {\n",
       "            background-color:  #d7dce3;\n",
       "            color:  #000000;\n",
       "        }    #T_184289c6_9859_11e9_99ba_acde48001122row5_col7 {\n",
       "            background-color:  #e0dbd8;\n",
       "            color:  #000000;\n",
       "        }    #T_184289c6_9859_11e9_99ba_acde48001122row5_col8 {\n",
       "            background-color:  #f08b6e;\n",
       "            color:  #000000;\n",
       "        }    #T_184289c6_9859_11e9_99ba_acde48001122row5_col9 {\n",
       "            background-color:  #ec7f63;\n",
       "            color:  #000000;\n",
       "        }    #T_184289c6_9859_11e9_99ba_acde48001122row5_col10 {\n",
       "            background-color:  #536edd;\n",
       "            color:  #000000;\n",
       "        }    #T_184289c6_9859_11e9_99ba_acde48001122row5_col11 {\n",
       "            background-color:  #5572df;\n",
       "            color:  #000000;\n",
       "        }    #T_184289c6_9859_11e9_99ba_acde48001122row5_col12 {\n",
       "            background-color:  #3b4cc0;\n",
       "            color:  #f1f1f1;\n",
       "        }    #T_184289c6_9859_11e9_99ba_acde48001122row5_col13 {\n",
       "            background-color:  #5a78e4;\n",
       "            color:  #000000;\n",
       "        }    #T_184289c6_9859_11e9_99ba_acde48001122row5_col14 {\n",
       "            background-color:  #81a4fb;\n",
       "            color:  #000000;\n",
       "        }    #T_184289c6_9859_11e9_99ba_acde48001122row5_col15 {\n",
       "            background-color:  #5977e3;\n",
       "            color:  #000000;\n",
       "        }    #T_184289c6_9859_11e9_99ba_acde48001122row5_col16 {\n",
       "            background-color:  #3b4cc0;\n",
       "            color:  #f1f1f1;\n",
       "        }    #T_184289c6_9859_11e9_99ba_acde48001122row5_col17 {\n",
       "            background-color:  #5875e1;\n",
       "            color:  #000000;\n",
       "        }    #T_184289c6_9859_11e9_99ba_acde48001122row5_col18 {\n",
       "            background-color:  #5977e3;\n",
       "            color:  #000000;\n",
       "        }    #T_184289c6_9859_11e9_99ba_acde48001122row5_col19 {\n",
       "            background-color:  #a9c6fd;\n",
       "            color:  #000000;\n",
       "        }    #T_184289c6_9859_11e9_99ba_acde48001122row6_col0 {\n",
       "            background-color:  #90b2fe;\n",
       "            color:  #000000;\n",
       "        }    #T_184289c6_9859_11e9_99ba_acde48001122row6_col1 {\n",
       "            background-color:  #f5c4ac;\n",
       "            color:  #000000;\n",
       "        }    #T_184289c6_9859_11e9_99ba_acde48001122row6_col2 {\n",
       "            background-color:  #8badfd;\n",
       "            color:  #000000;\n",
       "        }    #T_184289c6_9859_11e9_99ba_acde48001122row6_col3 {\n",
       "            background-color:  #9dbdff;\n",
       "            color:  #000000;\n",
       "        }    #T_184289c6_9859_11e9_99ba_acde48001122row6_col4 {\n",
       "            background-color:  #6180e9;\n",
       "            color:  #000000;\n",
       "        }    #T_184289c6_9859_11e9_99ba_acde48001122row6_col5 {\n",
       "            background-color:  #f2cbb7;\n",
       "            color:  #000000;\n",
       "        }    #T_184289c6_9859_11e9_99ba_acde48001122row6_col6 {\n",
       "            background-color:  #b40426;\n",
       "            color:  #f1f1f1;\n",
       "        }    #T_184289c6_9859_11e9_99ba_acde48001122row6_col7 {\n",
       "            background-color:  #ba162b;\n",
       "            color:  #f1f1f1;\n",
       "        }    #T_184289c6_9859_11e9_99ba_acde48001122row6_col8 {\n",
       "            background-color:  #96b7ff;\n",
       "            color:  #000000;\n",
       "        }    #T_184289c6_9859_11e9_99ba_acde48001122row6_col9 {\n",
       "            background-color:  #d8dce2;\n",
       "            color:  #000000;\n",
       "        }    #T_184289c6_9859_11e9_99ba_acde48001122row6_col10 {\n",
       "            background-color:  #4c66d6;\n",
       "            color:  #000000;\n",
       "        }    #T_184289c6_9859_11e9_99ba_acde48001122row6_col11 {\n",
       "            background-color:  #90b2fe;\n",
       "            color:  #000000;\n",
       "        }    #T_184289c6_9859_11e9_99ba_acde48001122row6_col12 {\n",
       "            background-color:  #89acfd;\n",
       "            color:  #000000;\n",
       "        }    #T_184289c6_9859_11e9_99ba_acde48001122row6_col13 {\n",
       "            background-color:  #5b7ae5;\n",
       "            color:  #000000;\n",
       "        }    #T_184289c6_9859_11e9_99ba_acde48001122row6_col14 {\n",
       "            background-color:  #7da0f9;\n",
       "            color:  #000000;\n",
       "        }    #T_184289c6_9859_11e9_99ba_acde48001122row6_col15 {\n",
       "            background-color:  #5977e3;\n",
       "            color:  #000000;\n",
       "        }    #T_184289c6_9859_11e9_99ba_acde48001122row6_col16 {\n",
       "            background-color:  #81a4fb;\n",
       "            color:  #000000;\n",
       "        }    #T_184289c6_9859_11e9_99ba_acde48001122row6_col17 {\n",
       "            background-color:  #5f7fe8;\n",
       "            color:  #000000;\n",
       "        }    #T_184289c6_9859_11e9_99ba_acde48001122row6_col18 {\n",
       "            background-color:  #5e7de7;\n",
       "            color:  #000000;\n",
       "        }    #T_184289c6_9859_11e9_99ba_acde48001122row6_col19 {\n",
       "            background-color:  #7597f6;\n",
       "            color:  #000000;\n",
       "        }    #T_184289c6_9859_11e9_99ba_acde48001122row7_col0 {\n",
       "            background-color:  #92b4fe;\n",
       "            color:  #000000;\n",
       "        }    #T_184289c6_9859_11e9_99ba_acde48001122row7_col1 {\n",
       "            background-color:  #f6bea4;\n",
       "            color:  #000000;\n",
       "        }    #T_184289c6_9859_11e9_99ba_acde48001122row7_col2 {\n",
       "            background-color:  #8db0fe;\n",
       "            color:  #000000;\n",
       "        }    #T_184289c6_9859_11e9_99ba_acde48001122row7_col3 {\n",
       "            background-color:  #97b8ff;\n",
       "            color:  #000000;\n",
       "        }    #T_184289c6_9859_11e9_99ba_acde48001122row7_col4 {\n",
       "            background-color:  #6f92f3;\n",
       "            color:  #000000;\n",
       "        }    #T_184289c6_9859_11e9_99ba_acde48001122row7_col5 {\n",
       "            background-color:  #f5c1a9;\n",
       "            color:  #000000;\n",
       "        }    #T_184289c6_9859_11e9_99ba_acde48001122row7_col6 {\n",
       "            background-color:  #ba162b;\n",
       "            color:  #f1f1f1;\n",
       "        }    #T_184289c6_9859_11e9_99ba_acde48001122row7_col7 {\n",
       "            background-color:  #b40426;\n",
       "            color:  #f1f1f1;\n",
       "        }    #T_184289c6_9859_11e9_99ba_acde48001122row7_col8 {\n",
       "            background-color:  #a3c2fe;\n",
       "            color:  #000000;\n",
       "        }    #T_184289c6_9859_11e9_99ba_acde48001122row7_col9 {\n",
       "            background-color:  #dddcdc;\n",
       "            color:  #000000;\n",
       "        }    #T_184289c6_9859_11e9_99ba_acde48001122row7_col10 {\n",
       "            background-color:  #536edd;\n",
       "            color:  #000000;\n",
       "        }    #T_184289c6_9859_11e9_99ba_acde48001122row7_col11 {\n",
       "            background-color:  #92b4fe;\n",
       "            color:  #000000;\n",
       "        }    #T_184289c6_9859_11e9_99ba_acde48001122row7_col12 {\n",
       "            background-color:  #82a6fb;\n",
       "            color:  #000000;\n",
       "        }    #T_184289c6_9859_11e9_99ba_acde48001122row7_col13 {\n",
       "            background-color:  #5e7de7;\n",
       "            color:  #000000;\n",
       "        }    #T_184289c6_9859_11e9_99ba_acde48001122row7_col14 {\n",
       "            background-color:  #86a9fc;\n",
       "            color:  #000000;\n",
       "        }    #T_184289c6_9859_11e9_99ba_acde48001122row7_col15 {\n",
       "            background-color:  #5f7fe8;\n",
       "            color:  #000000;\n",
       "        }    #T_184289c6_9859_11e9_99ba_acde48001122row7_col16 {\n",
       "            background-color:  #7699f6;\n",
       "            color:  #000000;\n",
       "        }    #T_184289c6_9859_11e9_99ba_acde48001122row7_col17 {\n",
       "            background-color:  #6687ed;\n",
       "            color:  #000000;\n",
       "        }    #T_184289c6_9859_11e9_99ba_acde48001122row7_col18 {\n",
       "            background-color:  #6687ed;\n",
       "            color:  #000000;\n",
       "        }    #T_184289c6_9859_11e9_99ba_acde48001122row7_col19 {\n",
       "            background-color:  #6c8ff1;\n",
       "            color:  #000000;\n",
       "        }    #T_184289c6_9859_11e9_99ba_acde48001122row8_col0 {\n",
       "            background-color:  #5a78e4;\n",
       "            color:  #000000;\n",
       "        }    #T_184289c6_9859_11e9_99ba_acde48001122row8_col1 {\n",
       "            background-color:  #e46e56;\n",
       "            color:  #000000;\n",
       "        }    #T_184289c6_9859_11e9_99ba_acde48001122row8_col2 {\n",
       "            background-color:  #5875e1;\n",
       "            color:  #000000;\n",
       "        }    #T_184289c6_9859_11e9_99ba_acde48001122row8_col3 {\n",
       "            background-color:  #5f7fe8;\n",
       "            color:  #000000;\n",
       "        }    #T_184289c6_9859_11e9_99ba_acde48001122row8_col4 {\n",
       "            background-color:  #688aef;\n",
       "            color:  #000000;\n",
       "        }    #T_184289c6_9859_11e9_99ba_acde48001122row8_col5 {\n",
       "            background-color:  #ec8165;\n",
       "            color:  #000000;\n",
       "        }    #T_184289c6_9859_11e9_99ba_acde48001122row8_col6 {\n",
       "            background-color:  #6f92f3;\n",
       "            color:  #000000;\n",
       "        }    #T_184289c6_9859_11e9_99ba_acde48001122row8_col7 {\n",
       "            background-color:  #7a9df8;\n",
       "            color:  #000000;\n",
       "        }    #T_184289c6_9859_11e9_99ba_acde48001122row8_col8 {\n",
       "            background-color:  #b40426;\n",
       "            color:  #f1f1f1;\n",
       "        }    #T_184289c6_9859_11e9_99ba_acde48001122row8_col9 {\n",
       "            background-color:  #cf453c;\n",
       "            color:  #f1f1f1;\n",
       "        }    #T_184289c6_9859_11e9_99ba_acde48001122row8_col10 {\n",
       "            background-color:  #6485ec;\n",
       "            color:  #000000;\n",
       "        }    #T_184289c6_9859_11e9_99ba_acde48001122row8_col11 {\n",
       "            background-color:  #5a78e4;\n",
       "            color:  #000000;\n",
       "        }    #T_184289c6_9859_11e9_99ba_acde48001122row8_col12 {\n",
       "            background-color:  #3e51c5;\n",
       "            color:  #f1f1f1;\n",
       "        }    #T_184289c6_9859_11e9_99ba_acde48001122row8_col13 {\n",
       "            background-color:  #465ecf;\n",
       "            color:  #f1f1f1;\n",
       "        }    #T_184289c6_9859_11e9_99ba_acde48001122row8_col14 {\n",
       "            background-color:  #7396f5;\n",
       "            color:  #000000;\n",
       "        }    #T_184289c6_9859_11e9_99ba_acde48001122row8_col15 {\n",
       "            background-color:  #6282ea;\n",
       "            color:  #000000;\n",
       "        }    #T_184289c6_9859_11e9_99ba_acde48001122row8_col16 {\n",
       "            background-color:  #485fd1;\n",
       "            color:  #f1f1f1;\n",
       "        }    #T_184289c6_9859_11e9_99ba_acde48001122row8_col17 {\n",
       "            background-color:  #5b7ae5;\n",
       "            color:  #000000;\n",
       "        }    #T_184289c6_9859_11e9_99ba_acde48001122row8_col18 {\n",
       "            background-color:  #5b7ae5;\n",
       "            color:  #000000;\n",
       "        }    #T_184289c6_9859_11e9_99ba_acde48001122row8_col19 {\n",
       "            background-color:  #ccd9ed;\n",
       "            color:  #000000;\n",
       "        }    #T_184289c6_9859_11e9_99ba_acde48001122row9_col0 {\n",
       "            background-color:  #3b4cc0;\n",
       "            color:  #f1f1f1;\n",
       "        }    #T_184289c6_9859_11e9_99ba_acde48001122row9_col1 {\n",
       "            background-color:  #d24b40;\n",
       "            color:  #f1f1f1;\n",
       "        }    #T_184289c6_9859_11e9_99ba_acde48001122row9_col2 {\n",
       "            background-color:  #3b4cc0;\n",
       "            color:  #f1f1f1;\n",
       "        }    #T_184289c6_9859_11e9_99ba_acde48001122row9_col3 {\n",
       "            background-color:  #4b64d5;\n",
       "            color:  #f1f1f1;\n",
       "        }    #T_184289c6_9859_11e9_99ba_acde48001122row9_col4 {\n",
       "            background-color:  #3b4cc0;\n",
       "            color:  #f1f1f1;\n",
       "        }    #T_184289c6_9859_11e9_99ba_acde48001122row9_col5 {\n",
       "            background-color:  #e97a5f;\n",
       "            color:  #000000;\n",
       "        }    #T_184289c6_9859_11e9_99ba_acde48001122row9_col6 {\n",
       "            background-color:  #b2ccfb;\n",
       "            color:  #000000;\n",
       "        }    #T_184289c6_9859_11e9_99ba_acde48001122row9_col7 {\n",
       "            background-color:  #b6cefa;\n",
       "            color:  #000000;\n",
       "        }    #T_184289c6_9859_11e9_99ba_acde48001122row9_col8 {\n",
       "            background-color:  #d0473d;\n",
       "            color:  #f1f1f1;\n",
       "        }    #T_184289c6_9859_11e9_99ba_acde48001122row9_col9 {\n",
       "            background-color:  #b40426;\n",
       "            color:  #f1f1f1;\n",
       "        }    #T_184289c6_9859_11e9_99ba_acde48001122row9_col10 {\n",
       "            background-color:  #4358cb;\n",
       "            color:  #f1f1f1;\n",
       "        }    #T_184289c6_9859_11e9_99ba_acde48001122row9_col11 {\n",
       "            background-color:  #3b4cc0;\n",
       "            color:  #f1f1f1;\n",
       "        }    #T_184289c6_9859_11e9_99ba_acde48001122row9_col12 {\n",
       "            background-color:  #506bda;\n",
       "            color:  #000000;\n",
       "        }    #T_184289c6_9859_11e9_99ba_acde48001122row9_col13 {\n",
       "            background-color:  #3b4cc0;\n",
       "            color:  #f1f1f1;\n",
       "        }    #T_184289c6_9859_11e9_99ba_acde48001122row9_col14 {\n",
       "            background-color:  #6282ea;\n",
       "            color:  #000000;\n",
       "        }    #T_184289c6_9859_11e9_99ba_acde48001122row9_col15 {\n",
       "            background-color:  #455cce;\n",
       "            color:  #f1f1f1;\n",
       "        }    #T_184289c6_9859_11e9_99ba_acde48001122row9_col16 {\n",
       "            background-color:  #4961d2;\n",
       "            color:  #f1f1f1;\n",
       "        }    #T_184289c6_9859_11e9_99ba_acde48001122row9_col17 {\n",
       "            background-color:  #4358cb;\n",
       "            color:  #f1f1f1;\n",
       "        }    #T_184289c6_9859_11e9_99ba_acde48001122row9_col18 {\n",
       "            background-color:  #4358cb;\n",
       "            color:  #f1f1f1;\n",
       "        }    #T_184289c6_9859_11e9_99ba_acde48001122row9_col19 {\n",
       "            background-color:  #cedaeb;\n",
       "            color:  #000000;\n",
       "        }    #T_184289c6_9859_11e9_99ba_acde48001122row10_col0 {\n",
       "            background-color:  #e9785d;\n",
       "            color:  #000000;\n",
       "        }    #T_184289c6_9859_11e9_99ba_acde48001122row10_col1 {\n",
       "            background-color:  #7295f4;\n",
       "            color:  #000000;\n",
       "        }    #T_184289c6_9859_11e9_99ba_acde48001122row10_col2 {\n",
       "            background-color:  #ec8165;\n",
       "            color:  #000000;\n",
       "        }    #T_184289c6_9859_11e9_99ba_acde48001122row10_col3 {\n",
       "            background-color:  #f08b6e;\n",
       "            color:  #000000;\n",
       "        }    #T_184289c6_9859_11e9_99ba_acde48001122row10_col4 {\n",
       "            background-color:  #f5c4ac;\n",
       "            color:  #000000;\n",
       "        }    #T_184289c6_9859_11e9_99ba_acde48001122row10_col5 {\n",
       "            background-color:  #8db0fe;\n",
       "            color:  #000000;\n",
       "        }    #T_184289c6_9859_11e9_99ba_acde48001122row10_col6 {\n",
       "            background-color:  #3b4cc0;\n",
       "            color:  #f1f1f1;\n",
       "        }    #T_184289c6_9859_11e9_99ba_acde48001122row10_col7 {\n",
       "            background-color:  #3b4cc0;\n",
       "            color:  #f1f1f1;\n",
       "        }    #T_184289c6_9859_11e9_99ba_acde48001122row10_col8 {\n",
       "            background-color:  #7a9df8;\n",
       "            color:  #000000;\n",
       "        }    #T_184289c6_9859_11e9_99ba_acde48001122row10_col9 {\n",
       "            background-color:  #6f92f3;\n",
       "            color:  #000000;\n",
       "        }    #T_184289c6_9859_11e9_99ba_acde48001122row10_col10 {\n",
       "            background-color:  #b40426;\n",
       "            color:  #f1f1f1;\n",
       "        }    #T_184289c6_9859_11e9_99ba_acde48001122row10_col11 {\n",
       "            background-color:  #e9785d;\n",
       "            color:  #000000;\n",
       "        }    #T_184289c6_9859_11e9_99ba_acde48001122row10_col12 {\n",
       "            background-color:  #ebd3c6;\n",
       "            color:  #000000;\n",
       "        }    #T_184289c6_9859_11e9_99ba_acde48001122row10_col13 {\n",
       "            background-color:  #e9d5cb;\n",
       "            color:  #000000;\n",
       "        }    #T_184289c6_9859_11e9_99ba_acde48001122row10_col14 {\n",
       "            background-color:  #bed2f6;\n",
       "            color:  #000000;\n",
       "        }    #T_184289c6_9859_11e9_99ba_acde48001122row10_col15 {\n",
       "            background-color:  #f7ba9f;\n",
       "            color:  #000000;\n",
       "        }    #T_184289c6_9859_11e9_99ba_acde48001122row10_col16 {\n",
       "            background-color:  #c3d5f4;\n",
       "            color:  #000000;\n",
       "        }    #T_184289c6_9859_11e9_99ba_acde48001122row10_col17 {\n",
       "            background-color:  #f6bea4;\n",
       "            color:  #000000;\n",
       "        }    #T_184289c6_9859_11e9_99ba_acde48001122row10_col18 {\n",
       "            background-color:  #f6bfa6;\n",
       "            color:  #000000;\n",
       "        }    #T_184289c6_9859_11e9_99ba_acde48001122row10_col19 {\n",
       "            background-color:  #7295f4;\n",
       "            color:  #000000;\n",
       "        }    #T_184289c6_9859_11e9_99ba_acde48001122row11_col0 {\n",
       "            background-color:  #b40426;\n",
       "            color:  #f1f1f1;\n",
       "        }    #T_184289c6_9859_11e9_99ba_acde48001122row11_col1 {\n",
       "            background-color:  #4b64d5;\n",
       "            color:  #f1f1f1;\n",
       "        }    #T_184289c6_9859_11e9_99ba_acde48001122row11_col2 {\n",
       "            background-color:  #c43032;\n",
       "            color:  #f1f1f1;\n",
       "        }    #T_184289c6_9859_11e9_99ba_acde48001122row11_col3 {\n",
       "            background-color:  #c53334;\n",
       "            color:  #f1f1f1;\n",
       "        }    #T_184289c6_9859_11e9_99ba_acde48001122row11_col4 {\n",
       "            background-color:  #ec7f63;\n",
       "            color:  #000000;\n",
       "        }    #T_184289c6_9859_11e9_99ba_acde48001122row11_col5 {\n",
       "            background-color:  #6384eb;\n",
       "            color:  #000000;\n",
       "        }    #T_184289c6_9859_11e9_99ba_acde48001122row11_col6 {\n",
       "            background-color:  #536edd;\n",
       "            color:  #000000;\n",
       "        }    #T_184289c6_9859_11e9_99ba_acde48001122row11_col7 {\n",
       "            background-color:  #4e68d8;\n",
       "            color:  #000000;\n",
       "        }    #T_184289c6_9859_11e9_99ba_acde48001122row11_col8 {\n",
       "            background-color:  #4358cb;\n",
       "            color:  #f1f1f1;\n",
       "        }    #T_184289c6_9859_11e9_99ba_acde48001122row11_col9 {\n",
       "            background-color:  #3b4cc0;\n",
       "            color:  #f1f1f1;\n",
       "        }    #T_184289c6_9859_11e9_99ba_acde48001122row11_col10 {\n",
       "            background-color:  #ee8669;\n",
       "            color:  #000000;\n",
       "        }    #T_184289c6_9859_11e9_99ba_acde48001122row11_col11 {\n",
       "            background-color:  #b40426;\n",
       "            color:  #f1f1f1;\n",
       "        }    #T_184289c6_9859_11e9_99ba_acde48001122row11_col12 {\n",
       "            background-color:  #f6bda2;\n",
       "            color:  #000000;\n",
       "        }    #T_184289c6_9859_11e9_99ba_acde48001122row11_col13 {\n",
       "            background-color:  #e9d5cb;\n",
       "            color:  #000000;\n",
       "        }    #T_184289c6_9859_11e9_99ba_acde48001122row11_col14 {\n",
       "            background-color:  #d4dbe6;\n",
       "            color:  #000000;\n",
       "        }    #T_184289c6_9859_11e9_99ba_acde48001122row11_col15 {\n",
       "            background-color:  #f7b093;\n",
       "            color:  #000000;\n",
       "        }    #T_184289c6_9859_11e9_99ba_acde48001122row11_col16 {\n",
       "            background-color:  #cad8ef;\n",
       "            color:  #000000;\n",
       "        }    #T_184289c6_9859_11e9_99ba_acde48001122row11_col17 {\n",
       "            background-color:  #f7b497;\n",
       "            color:  #000000;\n",
       "        }    #T_184289c6_9859_11e9_99ba_acde48001122row11_col18 {\n",
       "            background-color:  #f7b79b;\n",
       "            color:  #000000;\n",
       "        }    #T_184289c6_9859_11e9_99ba_acde48001122row11_col19 {\n",
       "            background-color:  #6a8bef;\n",
       "            color:  #000000;\n",
       "        }    #T_184289c6_9859_11e9_99ba_acde48001122row12_col0 {\n",
       "            background-color:  #f7ad90;\n",
       "            color:  #000000;\n",
       "        }    #T_184289c6_9859_11e9_99ba_acde48001122row12_col1 {\n",
       "            background-color:  #7da0f9;\n",
       "            color:  #000000;\n",
       "        }    #T_184289c6_9859_11e9_99ba_acde48001122row12_col2 {\n",
       "            background-color:  #f6bea4;\n",
       "            color:  #000000;\n",
       "        }    #T_184289c6_9859_11e9_99ba_acde48001122row12_col3 {\n",
       "            background-color:  #f39778;\n",
       "            color:  #000000;\n",
       "        }    #T_184289c6_9859_11e9_99ba_acde48001122row12_col4 {\n",
       "            background-color:  #bcd2f7;\n",
       "            color:  #000000;\n",
       "        }    #T_184289c6_9859_11e9_99ba_acde48001122row12_col5 {\n",
       "            background-color:  #7597f6;\n",
       "            color:  #000000;\n",
       "        }    #T_184289c6_9859_11e9_99ba_acde48001122row12_col6 {\n",
       "            background-color:  #7699f6;\n",
       "            color:  #000000;\n",
       "        }    #T_184289c6_9859_11e9_99ba_acde48001122row12_col7 {\n",
       "            background-color:  #6a8bef;\n",
       "            color:  #000000;\n",
       "        }    #T_184289c6_9859_11e9_99ba_acde48001122row12_col8 {\n",
       "            background-color:  #536edd;\n",
       "            color:  #000000;\n",
       "        }    #T_184289c6_9859_11e9_99ba_acde48001122row12_col9 {\n",
       "            background-color:  #7da0f9;\n",
       "            color:  #000000;\n",
       "        }    #T_184289c6_9859_11e9_99ba_acde48001122row12_col10 {\n",
       "            background-color:  #ead4c8;\n",
       "            color:  #000000;\n",
       "        }    #T_184289c6_9859_11e9_99ba_acde48001122row12_col11 {\n",
       "            background-color:  #f7ad90;\n",
       "            color:  #000000;\n",
       "        }    #T_184289c6_9859_11e9_99ba_acde48001122row12_col12 {\n",
       "            background-color:  #b40426;\n",
       "            color:  #f1f1f1;\n",
       "        }    #T_184289c6_9859_11e9_99ba_acde48001122row12_col13 {\n",
       "            background-color:  #e0dbd8;\n",
       "            color:  #000000;\n",
       "        }    #T_184289c6_9859_11e9_99ba_acde48001122row12_col14 {\n",
       "            background-color:  #dbdcde;\n",
       "            color:  #000000;\n",
       "        }    #T_184289c6_9859_11e9_99ba_acde48001122row12_col15 {\n",
       "            background-color:  #dfdbd9;\n",
       "            color:  #000000;\n",
       "        }    #T_184289c6_9859_11e9_99ba_acde48001122row12_col16 {\n",
       "            background-color:  #bbd1f8;\n",
       "            color:  #000000;\n",
       "        }    #T_184289c6_9859_11e9_99ba_acde48001122row12_col17 {\n",
       "            background-color:  #e0dbd8;\n",
       "            color:  #000000;\n",
       "        }    #T_184289c6_9859_11e9_99ba_acde48001122row12_col18 {\n",
       "            background-color:  #dfdbd9;\n",
       "            color:  #000000;\n",
       "        }    #T_184289c6_9859_11e9_99ba_acde48001122row12_col19 {\n",
       "            background-color:  #92b4fe;\n",
       "            color:  #000000;\n",
       "        }    #T_184289c6_9859_11e9_99ba_acde48001122row13_col0 {\n",
       "            background-color:  #f7bca1;\n",
       "            color:  #000000;\n",
       "        }    #T_184289c6_9859_11e9_99ba_acde48001122row13_col1 {\n",
       "            background-color:  #94b6ff;\n",
       "            color:  #000000;\n",
       "        }    #T_184289c6_9859_11e9_99ba_acde48001122row13_col2 {\n",
       "            background-color:  #f2cbb7;\n",
       "            color:  #000000;\n",
       "        }    #T_184289c6_9859_11e9_99ba_acde48001122row13_col3 {\n",
       "            background-color:  #f5c0a7;\n",
       "            color:  #000000;\n",
       "        }    #T_184289c6_9859_11e9_99ba_acde48001122row13_col4 {\n",
       "            background-color:  #d3dbe7;\n",
       "            color:  #000000;\n",
       "        }    #T_184289c6_9859_11e9_99ba_acde48001122row13_col5 {\n",
       "            background-color:  #aec9fc;\n",
       "            color:  #000000;\n",
       "        }    #T_184289c6_9859_11e9_99ba_acde48001122row13_col6 {\n",
       "            background-color:  #6a8bef;\n",
       "            color:  #000000;\n",
       "        }    #T_184289c6_9859_11e9_99ba_acde48001122row13_col7 {\n",
       "            background-color:  #688aef;\n",
       "            color:  #000000;\n",
       "        }    #T_184289c6_9859_11e9_99ba_acde48001122row13_col8 {\n",
       "            background-color:  #7ea1fa;\n",
       "            color:  #000000;\n",
       "        }    #T_184289c6_9859_11e9_99ba_acde48001122row13_col9 {\n",
       "            background-color:  #88abfd;\n",
       "            color:  #000000;\n",
       "        }    #T_184289c6_9859_11e9_99ba_acde48001122row13_col10 {\n",
       "            background-color:  #f2cbb7;\n",
       "            color:  #000000;\n",
       "        }    #T_184289c6_9859_11e9_99ba_acde48001122row13_col11 {\n",
       "            background-color:  #f7bca1;\n",
       "            color:  #000000;\n",
       "        }    #T_184289c6_9859_11e9_99ba_acde48001122row13_col12 {\n",
       "            background-color:  #edd2c3;\n",
       "            color:  #000000;\n",
       "        }    #T_184289c6_9859_11e9_99ba_acde48001122row13_col13 {\n",
       "            background-color:  #b40426;\n",
       "            color:  #f1f1f1;\n",
       "        }    #T_184289c6_9859_11e9_99ba_acde48001122row13_col14 {\n",
       "            background-color:  #c7d7f0;\n",
       "            color:  #000000;\n",
       "        }    #T_184289c6_9859_11e9_99ba_acde48001122row13_col15 {\n",
       "            background-color:  #efcfbf;\n",
       "            color:  #000000;\n",
       "        }    #T_184289c6_9859_11e9_99ba_acde48001122row13_col16 {\n",
       "            background-color:  #a6c4fe;\n",
       "            color:  #000000;\n",
       "        }    #T_184289c6_9859_11e9_99ba_acde48001122row13_col17 {\n",
       "            background-color:  #e7d7ce;\n",
       "            color:  #000000;\n",
       "        }    #T_184289c6_9859_11e9_99ba_acde48001122row13_col18 {\n",
       "            background-color:  #e6d7cf;\n",
       "            color:  #000000;\n",
       "        }    #T_184289c6_9859_11e9_99ba_acde48001122row13_col19 {\n",
       "            background-color:  #9fbfff;\n",
       "            color:  #000000;\n",
       "        }    #T_184289c6_9859_11e9_99ba_acde48001122row14_col0 {\n",
       "            background-color:  #f1cdba;\n",
       "            color:  #000000;\n",
       "        }    #T_184289c6_9859_11e9_99ba_acde48001122row14_col1 {\n",
       "            background-color:  #bcd2f7;\n",
       "            color:  #000000;\n",
       "        }    #T_184289c6_9859_11e9_99ba_acde48001122row14_col2 {\n",
       "            background-color:  #e9d5cb;\n",
       "            color:  #000000;\n",
       "        }    #T_184289c6_9859_11e9_99ba_acde48001122row14_col3 {\n",
       "            background-color:  #edd1c2;\n",
       "            color:  #000000;\n",
       "        }    #T_184289c6_9859_11e9_99ba_acde48001122row14_col4 {\n",
       "            background-color:  #d8dce2;\n",
       "            color:  #000000;\n",
       "        }    #T_184289c6_9859_11e9_99ba_acde48001122row14_col5 {\n",
       "            background-color:  #c9d7f0;\n",
       "            color:  #000000;\n",
       "        }    #T_184289c6_9859_11e9_99ba_acde48001122row14_col6 {\n",
       "            background-color:  #8caffe;\n",
       "            color:  #000000;\n",
       "        }    #T_184289c6_9859_11e9_99ba_acde48001122row14_col7 {\n",
       "            background-color:  #8fb1fe;\n",
       "            color:  #000000;\n",
       "        }    #T_184289c6_9859_11e9_99ba_acde48001122row14_col8 {\n",
       "            background-color:  #a5c3fe;\n",
       "            color:  #000000;\n",
       "        }    #T_184289c6_9859_11e9_99ba_acde48001122row14_col9 {\n",
       "            background-color:  #a9c6fd;\n",
       "            color:  #000000;\n",
       "        }    #T_184289c6_9859_11e9_99ba_acde48001122row14_col10 {\n",
       "            background-color:  #d2dbe8;\n",
       "            color:  #000000;\n",
       "        }    #T_184289c6_9859_11e9_99ba_acde48001122row14_col11 {\n",
       "            background-color:  #f1cdba;\n",
       "            color:  #000000;\n",
       "        }    #T_184289c6_9859_11e9_99ba_acde48001122row14_col12 {\n",
       "            background-color:  #ead5c9;\n",
       "            color:  #000000;\n",
       "        }    #T_184289c6_9859_11e9_99ba_acde48001122row14_col13 {\n",
       "            background-color:  #c7d7f0;\n",
       "            color:  #000000;\n",
       "        }    #T_184289c6_9859_11e9_99ba_acde48001122row14_col14 {\n",
       "            background-color:  #b40426;\n",
       "            color:  #f1f1f1;\n",
       "        }    #T_184289c6_9859_11e9_99ba_acde48001122row14_col15 {\n",
       "            background-color:  #ead5c9;\n",
       "            color:  #000000;\n",
       "        }    #T_184289c6_9859_11e9_99ba_acde48001122row14_col16 {\n",
       "            background-color:  #5470de;\n",
       "            color:  #000000;\n",
       "        }    #T_184289c6_9859_11e9_99ba_acde48001122row14_col17 {\n",
       "            background-color:  #ecd3c5;\n",
       "            color:  #000000;\n",
       "        }    #T_184289c6_9859_11e9_99ba_acde48001122row14_col18 {\n",
       "            background-color:  #ecd3c5;\n",
       "            color:  #000000;\n",
       "        }    #T_184289c6_9859_11e9_99ba_acde48001122row14_col19 {\n",
       "            background-color:  #485fd1;\n",
       "            color:  #f1f1f1;\n",
       "        }    #T_184289c6_9859_11e9_99ba_acde48001122row15_col0 {\n",
       "            background-color:  #f59d7e;\n",
       "            color:  #000000;\n",
       "        }    #T_184289c6_9859_11e9_99ba_acde48001122row15_col1 {\n",
       "            background-color:  #7a9df8;\n",
       "            color:  #000000;\n",
       "        }    #T_184289c6_9859_11e9_99ba_acde48001122row15_col2 {\n",
       "            background-color:  #f7b599;\n",
       "            color:  #000000;\n",
       "        }    #T_184289c6_9859_11e9_99ba_acde48001122row15_col3 {\n",
       "            background-color:  #f7a688;\n",
       "            color:  #000000;\n",
       "        }    #T_184289c6_9859_11e9_99ba_acde48001122row15_col4 {\n",
       "            background-color:  #e5d8d1;\n",
       "            color:  #000000;\n",
       "        }    #T_184289c6_9859_11e9_99ba_acde48001122row15_col5 {\n",
       "            background-color:  #9abbff;\n",
       "            color:  #000000;\n",
       "        }    #T_184289c6_9859_11e9_99ba_acde48001122row15_col6 {\n",
       "            background-color:  #4f69d9;\n",
       "            color:  #000000;\n",
       "        }    #T_184289c6_9859_11e9_99ba_acde48001122row15_col7 {\n",
       "            background-color:  #506bda;\n",
       "            color:  #000000;\n",
       "        }    #T_184289c6_9859_11e9_99ba_acde48001122row15_col8 {\n",
       "            background-color:  #81a4fb;\n",
       "            color:  #000000;\n",
       "        }    #T_184289c6_9859_11e9_99ba_acde48001122row15_col9 {\n",
       "            background-color:  #7b9ff9;\n",
       "            color:  #000000;\n",
       "        }    #T_184289c6_9859_11e9_99ba_acde48001122row15_col10 {\n",
       "            background-color:  #f7b89c;\n",
       "            color:  #000000;\n",
       "        }    #T_184289c6_9859_11e9_99ba_acde48001122row15_col11 {\n",
       "            background-color:  #f59d7e;\n",
       "            color:  #000000;\n",
       "        }    #T_184289c6_9859_11e9_99ba_acde48001122row15_col12 {\n",
       "            background-color:  #e3d9d3;\n",
       "            color:  #000000;\n",
       "        }    #T_184289c6_9859_11e9_99ba_acde48001122row15_col13 {\n",
       "            background-color:  #e7d7ce;\n",
       "            color:  #000000;\n",
       "        }    #T_184289c6_9859_11e9_99ba_acde48001122row15_col14 {\n",
       "            background-color:  #e0dbd8;\n",
       "            color:  #000000;\n",
       "        }    #T_184289c6_9859_11e9_99ba_acde48001122row15_col15 {\n",
       "            background-color:  #b40426;\n",
       "            color:  #f1f1f1;\n",
       "        }    #T_184289c6_9859_11e9_99ba_acde48001122row15_col16 {\n",
       "            background-color:  #abc8fd;\n",
       "            color:  #000000;\n",
       "        }    #T_184289c6_9859_11e9_99ba_acde48001122row15_col17 {\n",
       "            background-color:  #de614d;\n",
       "            color:  #000000;\n",
       "        }    #T_184289c6_9859_11e9_99ba_acde48001122row15_col18 {\n",
       "            background-color:  #de614d;\n",
       "            color:  #000000;\n",
       "        }    #T_184289c6_9859_11e9_99ba_acde48001122row15_col19 {\n",
       "            background-color:  #7295f4;\n",
       "            color:  #000000;\n",
       "        }    #T_184289c6_9859_11e9_99ba_acde48001122row16_col0 {\n",
       "            background-color:  #edd2c3;\n",
       "            color:  #000000;\n",
       "        }    #T_184289c6_9859_11e9_99ba_acde48001122row16_col1 {\n",
       "            background-color:  #92b4fe;\n",
       "            color:  #000000;\n",
       "        }    #T_184289c6_9859_11e9_99ba_acde48001122row16_col2 {\n",
       "            background-color:  #e0dbd8;\n",
       "            color:  #000000;\n",
       "        }    #T_184289c6_9859_11e9_99ba_acde48001122row16_col3 {\n",
       "            background-color:  #f5c4ac;\n",
       "            color:  #000000;\n",
       "        }    #T_184289c6_9859_11e9_99ba_acde48001122row16_col4 {\n",
       "            background-color:  #8fb1fe;\n",
       "            color:  #000000;\n",
       "        }    #T_184289c6_9859_11e9_99ba_acde48001122row16_col5 {\n",
       "            background-color:  #96b7ff;\n",
       "            color:  #000000;\n",
       "        }    #T_184289c6_9859_11e9_99ba_acde48001122row16_col6 {\n",
       "            background-color:  #90b2fe;\n",
       "            color:  #000000;\n",
       "        }    #T_184289c6_9859_11e9_99ba_acde48001122row16_col7 {\n",
       "            background-color:  #81a4fb;\n",
       "            color:  #000000;\n",
       "        }    #T_184289c6_9859_11e9_99ba_acde48001122row16_col8 {\n",
       "            background-color:  #80a3fa;\n",
       "            color:  #000000;\n",
       "        }    #T_184289c6_9859_11e9_99ba_acde48001122row16_col9 {\n",
       "            background-color:  #96b7ff;\n",
       "            color:  #000000;\n",
       "        }    #T_184289c6_9859_11e9_99ba_acde48001122row16_col10 {\n",
       "            background-color:  #d6dce4;\n",
       "            color:  #000000;\n",
       "        }    #T_184289c6_9859_11e9_99ba_acde48001122row16_col11 {\n",
       "            background-color:  #edd2c3;\n",
       "            color:  #000000;\n",
       "        }    #T_184289c6_9859_11e9_99ba_acde48001122row16_col12 {\n",
       "            background-color:  #d1dae9;\n",
       "            color:  #000000;\n",
       "        }    #T_184289c6_9859_11e9_99ba_acde48001122row16_col13 {\n",
       "            background-color:  #a7c5fe;\n",
       "            color:  #000000;\n",
       "        }    #T_184289c6_9859_11e9_99ba_acde48001122row16_col14 {\n",
       "            background-color:  #5572df;\n",
       "            color:  #000000;\n",
       "        }    #T_184289c6_9859_11e9_99ba_acde48001122row16_col15 {\n",
       "            background-color:  #bed2f6;\n",
       "            color:  #000000;\n",
       "        }    #T_184289c6_9859_11e9_99ba_acde48001122row16_col16 {\n",
       "            background-color:  #b40426;\n",
       "            color:  #f1f1f1;\n",
       "        }    #T_184289c6_9859_11e9_99ba_acde48001122row16_col17 {\n",
       "            background-color:  #adc9fd;\n",
       "            color:  #000000;\n",
       "        }    #T_184289c6_9859_11e9_99ba_acde48001122row16_col18 {\n",
       "            background-color:  #a9c6fd;\n",
       "            color:  #000000;\n",
       "        }    #T_184289c6_9859_11e9_99ba_acde48001122row16_col19 {\n",
       "            background-color:  #ccd9ed;\n",
       "            color:  #000000;\n",
       "        }    #T_184289c6_9859_11e9_99ba_acde48001122row17_col0 {\n",
       "            background-color:  #f5a081;\n",
       "            color:  #000000;\n",
       "        }    #T_184289c6_9859_11e9_99ba_acde48001122row17_col1 {\n",
       "            background-color:  #7a9df8;\n",
       "            color:  #000000;\n",
       "        }    #T_184289c6_9859_11e9_99ba_acde48001122row17_col2 {\n",
       "            background-color:  #f7b99e;\n",
       "            color:  #000000;\n",
       "        }    #T_184289c6_9859_11e9_99ba_acde48001122row17_col3 {\n",
       "            background-color:  #f7a889;\n",
       "            color:  #000000;\n",
       "        }    #T_184289c6_9859_11e9_99ba_acde48001122row17_col4 {\n",
       "            background-color:  #e1dad6;\n",
       "            color:  #000000;\n",
       "        }    #T_184289c6_9859_11e9_99ba_acde48001122row17_col5 {\n",
       "            background-color:  #9abbff;\n",
       "            color:  #000000;\n",
       "        }    #T_184289c6_9859_11e9_99ba_acde48001122row17_col6 {\n",
       "            background-color:  #5673e0;\n",
       "            color:  #000000;\n",
       "        }    #T_184289c6_9859_11e9_99ba_acde48001122row17_col7 {\n",
       "            background-color:  #5875e1;\n",
       "            color:  #000000;\n",
       "        }    #T_184289c6_9859_11e9_99ba_acde48001122row17_col8 {\n",
       "            background-color:  #7a9df8;\n",
       "            color:  #000000;\n",
       "        }    #T_184289c6_9859_11e9_99ba_acde48001122row17_col9 {\n",
       "            background-color:  #799cf8;\n",
       "            color:  #000000;\n",
       "        }    #T_184289c6_9859_11e9_99ba_acde48001122row17_col10 {\n",
       "            background-color:  #f7ba9f;\n",
       "            color:  #000000;\n",
       "        }    #T_184289c6_9859_11e9_99ba_acde48001122row17_col11 {\n",
       "            background-color:  #f5a081;\n",
       "            color:  #000000;\n",
       "        }    #T_184289c6_9859_11e9_99ba_acde48001122row17_col12 {\n",
       "            background-color:  #e4d9d2;\n",
       "            color:  #000000;\n",
       "        }    #T_184289c6_9859_11e9_99ba_acde48001122row17_col13 {\n",
       "            background-color:  #dcdddd;\n",
       "            color:  #000000;\n",
       "        }    #T_184289c6_9859_11e9_99ba_acde48001122row17_col14 {\n",
       "            background-color:  #e3d9d3;\n",
       "            color:  #000000;\n",
       "        }    #T_184289c6_9859_11e9_99ba_acde48001122row17_col15 {\n",
       "            background-color:  #de614d;\n",
       "            color:  #000000;\n",
       "        }    #T_184289c6_9859_11e9_99ba_acde48001122row17_col16 {\n",
       "            background-color:  #98b9ff;\n",
       "            color:  #000000;\n",
       "        }    #T_184289c6_9859_11e9_99ba_acde48001122row17_col17 {\n",
       "            background-color:  #b40426;\n",
       "            color:  #f1f1f1;\n",
       "        }    #T_184289c6_9859_11e9_99ba_acde48001122row17_col18 {\n",
       "            background-color:  #b40426;\n",
       "            color:  #f1f1f1;\n",
       "        }    #T_184289c6_9859_11e9_99ba_acde48001122row17_col19 {\n",
       "            background-color:  #3b4cc0;\n",
       "            color:  #f1f1f1;\n",
       "        }    #T_184289c6_9859_11e9_99ba_acde48001122row18_col0 {\n",
       "            background-color:  #f6a283;\n",
       "            color:  #000000;\n",
       "        }    #T_184289c6_9859_11e9_99ba_acde48001122row18_col1 {\n",
       "            background-color:  #7b9ff9;\n",
       "            color:  #000000;\n",
       "        }    #T_184289c6_9859_11e9_99ba_acde48001122row18_col2 {\n",
       "            background-color:  #f7b99e;\n",
       "            color:  #000000;\n",
       "        }    #T_184289c6_9859_11e9_99ba_acde48001122row18_col3 {\n",
       "            background-color:  #f7a98b;\n",
       "            color:  #000000;\n",
       "        }    #T_184289c6_9859_11e9_99ba_acde48001122row18_col4 {\n",
       "            background-color:  #e1dad6;\n",
       "            color:  #000000;\n",
       "        }    #T_184289c6_9859_11e9_99ba_acde48001122row18_col5 {\n",
       "            background-color:  #9bbcff;\n",
       "            color:  #000000;\n",
       "        }    #T_184289c6_9859_11e9_99ba_acde48001122row18_col6 {\n",
       "            background-color:  #5673e0;\n",
       "            color:  #000000;\n",
       "        }    #T_184289c6_9859_11e9_99ba_acde48001122row18_col7 {\n",
       "            background-color:  #5875e1;\n",
       "            color:  #000000;\n",
       "        }    #T_184289c6_9859_11e9_99ba_acde48001122row18_col8 {\n",
       "            background-color:  #7b9ff9;\n",
       "            color:  #000000;\n",
       "        }    #T_184289c6_9859_11e9_99ba_acde48001122row18_col9 {\n",
       "            background-color:  #7a9df8;\n",
       "            color:  #000000;\n",
       "        }    #T_184289c6_9859_11e9_99ba_acde48001122row18_col10 {\n",
       "            background-color:  #f7bca1;\n",
       "            color:  #000000;\n",
       "        }    #T_184289c6_9859_11e9_99ba_acde48001122row18_col11 {\n",
       "            background-color:  #f6a283;\n",
       "            color:  #000000;\n",
       "        }    #T_184289c6_9859_11e9_99ba_acde48001122row18_col12 {\n",
       "            background-color:  #e4d9d2;\n",
       "            color:  #000000;\n",
       "        }    #T_184289c6_9859_11e9_99ba_acde48001122row18_col13 {\n",
       "            background-color:  #dcdddd;\n",
       "            color:  #000000;\n",
       "        }    #T_184289c6_9859_11e9_99ba_acde48001122row18_col14 {\n",
       "            background-color:  #e4d9d2;\n",
       "            color:  #000000;\n",
       "        }    #T_184289c6_9859_11e9_99ba_acde48001122row18_col15 {\n",
       "            background-color:  #de614d;\n",
       "            color:  #000000;\n",
       "        }    #T_184289c6_9859_11e9_99ba_acde48001122row18_col16 {\n",
       "            background-color:  #94b6ff;\n",
       "            color:  #000000;\n",
       "        }    #T_184289c6_9859_11e9_99ba_acde48001122row18_col17 {\n",
       "            background-color:  #b40426;\n",
       "            color:  #f1f1f1;\n",
       "        }    #T_184289c6_9859_11e9_99ba_acde48001122row18_col18 {\n",
       "            background-color:  #b40426;\n",
       "            color:  #f1f1f1;\n",
       "        }    #T_184289c6_9859_11e9_99ba_acde48001122row18_col19 {\n",
       "            background-color:  #3b4cc0;\n",
       "            color:  #f1f1f1;\n",
       "        }    #T_184289c6_9859_11e9_99ba_acde48001122row19_col0 {\n",
       "            background-color:  #a5c3fe;\n",
       "            color:  #000000;\n",
       "        }    #T_184289c6_9859_11e9_99ba_acde48001122row19_col1 {\n",
       "            background-color:  #e3d9d3;\n",
       "            color:  #000000;\n",
       "        }    #T_184289c6_9859_11e9_99ba_acde48001122row19_col2 {\n",
       "            background-color:  #94b6ff;\n",
       "            color:  #000000;\n",
       "        }    #T_184289c6_9859_11e9_99ba_acde48001122row19_col3 {\n",
       "            background-color:  #bed2f6;\n",
       "            color:  #000000;\n",
       "        }    #T_184289c6_9859_11e9_99ba_acde48001122row19_col4 {\n",
       "            background-color:  #5f7fe8;\n",
       "            color:  #000000;\n",
       "        }    #T_184289c6_9859_11e9_99ba_acde48001122row19_col5 {\n",
       "            background-color:  #dadce0;\n",
       "            color:  #000000;\n",
       "        }    #T_184289c6_9859_11e9_99ba_acde48001122row19_col6 {\n",
       "            background-color:  #7699f6;\n",
       "            color:  #000000;\n",
       "        }    #T_184289c6_9859_11e9_99ba_acde48001122row19_col7 {\n",
       "            background-color:  #6788ee;\n",
       "            color:  #000000;\n",
       "        }    #T_184289c6_9859_11e9_99ba_acde48001122row19_col8 {\n",
       "            background-color:  #e0dbd8;\n",
       "            color:  #000000;\n",
       "        }    #T_184289c6_9859_11e9_99ba_acde48001122row19_col9 {\n",
       "            background-color:  #ead4c8;\n",
       "            color:  #000000;\n",
       "        }    #T_184289c6_9859_11e9_99ba_acde48001122row19_col10 {\n",
       "            background-color:  #85a8fc;\n",
       "            color:  #000000;\n",
       "        }    #T_184289c6_9859_11e9_99ba_acde48001122row19_col11 {\n",
       "            background-color:  #a5c3fe;\n",
       "            color:  #000000;\n",
       "        }    #T_184289c6_9859_11e9_99ba_acde48001122row19_col12 {\n",
       "            background-color:  #a3c2fe;\n",
       "            color:  #000000;\n",
       "        }    #T_184289c6_9859_11e9_99ba_acde48001122row19_col13 {\n",
       "            background-color:  #93b5fe;\n",
       "            color:  #000000;\n",
       "        }    #T_184289c6_9859_11e9_99ba_acde48001122row19_col14 {\n",
       "            background-color:  #3b4cc0;\n",
       "            color:  #f1f1f1;\n",
       "        }    #T_184289c6_9859_11e9_99ba_acde48001122row19_col15 {\n",
       "            background-color:  #7da0f9;\n",
       "            color:  #000000;\n",
       "        }    #T_184289c6_9859_11e9_99ba_acde48001122row19_col16 {\n",
       "            background-color:  #c4d5f3;\n",
       "            color:  #000000;\n",
       "        }    #T_184289c6_9859_11e9_99ba_acde48001122row19_col17 {\n",
       "            background-color:  #455cce;\n",
       "            color:  #f1f1f1;\n",
       "        }    #T_184289c6_9859_11e9_99ba_acde48001122row19_col18 {\n",
       "            background-color:  #445acc;\n",
       "            color:  #f1f1f1;\n",
       "        }    #T_184289c6_9859_11e9_99ba_acde48001122row19_col19 {\n",
       "            background-color:  #b40426;\n",
       "            color:  #f1f1f1;\n",
       "        }</style><table id=\"T_184289c6_9859_11e9_99ba_acde48001122\" ><thead>    <tr>        <th class=\"blank level0\" ></th>        <th class=\"col_heading level0 col0\" >meanfreq</th>        <th class=\"col_heading level0 col1\" >sd</th>        <th class=\"col_heading level0 col2\" >median</th>        <th class=\"col_heading level0 col3\" >Q25</th>        <th class=\"col_heading level0 col4\" >Q75</th>        <th class=\"col_heading level0 col5\" >IQR</th>        <th class=\"col_heading level0 col6\" >skew</th>        <th class=\"col_heading level0 col7\" >kurt</th>        <th class=\"col_heading level0 col8\" >sp.ent</th>        <th class=\"col_heading level0 col9\" >sfm</th>        <th class=\"col_heading level0 col10\" >mode</th>        <th class=\"col_heading level0 col11\" >centroid</th>        <th class=\"col_heading level0 col12\" >meanfun</th>        <th class=\"col_heading level0 col13\" >minfun</th>        <th class=\"col_heading level0 col14\" >maxfun</th>        <th class=\"col_heading level0 col15\" >meandom</th>        <th class=\"col_heading level0 col16\" >mindom</th>        <th class=\"col_heading level0 col17\" >maxdom</th>        <th class=\"col_heading level0 col18\" >dfrange</th>        <th class=\"col_heading level0 col19\" >modindx</th>    </tr></thead><tbody>\n",
       "                <tr>\n",
       "                        <th id=\"T_184289c6_9859_11e9_99ba_acde48001122level0_row0\" class=\"row_heading level0 row0\" >meanfreq</th>\n",
       "                        <td id=\"T_184289c6_9859_11e9_99ba_acde48001122row0_col0\" class=\"data row0 col0\" >1</td>\n",
       "                        <td id=\"T_184289c6_9859_11e9_99ba_acde48001122row0_col1\" class=\"data row0 col1\" >-0.739039</td>\n",
       "                        <td id=\"T_184289c6_9859_11e9_99ba_acde48001122row0_col2\" class=\"data row0 col2\" >0.925445</td>\n",
       "                        <td id=\"T_184289c6_9859_11e9_99ba_acde48001122row0_col3\" class=\"data row0 col3\" >0.911416</td>\n",
       "                        <td id=\"T_184289c6_9859_11e9_99ba_acde48001122row0_col4\" class=\"data row0 col4\" >0.740997</td>\n",
       "                        <td id=\"T_184289c6_9859_11e9_99ba_acde48001122row0_col5\" class=\"data row0 col5\" >-0.627605</td>\n",
       "                        <td id=\"T_184289c6_9859_11e9_99ba_acde48001122row0_col6\" class=\"data row0 col6\" >-0.322327</td>\n",
       "                        <td id=\"T_184289c6_9859_11e9_99ba_acde48001122row0_col7\" class=\"data row0 col7\" >-0.316036</td>\n",
       "                        <td id=\"T_184289c6_9859_11e9_99ba_acde48001122row0_col8\" class=\"data row0 col8\" >-0.601203</td>\n",
       "                        <td id=\"T_184289c6_9859_11e9_99ba_acde48001122row0_col9\" class=\"data row0 col9\" >-0.784332</td>\n",
       "                        <td id=\"T_184289c6_9859_11e9_99ba_acde48001122row0_col10\" class=\"data row0 col10\" >0.687715</td>\n",
       "                        <td id=\"T_184289c6_9859_11e9_99ba_acde48001122row0_col11\" class=\"data row0 col11\" >1</td>\n",
       "                        <td id=\"T_184289c6_9859_11e9_99ba_acde48001122row0_col12\" class=\"data row0 col12\" >0.460844</td>\n",
       "                        <td id=\"T_184289c6_9859_11e9_99ba_acde48001122row0_col13\" class=\"data row0 col13\" >0.383937</td>\n",
       "                        <td id=\"T_184289c6_9859_11e9_99ba_acde48001122row0_col14\" class=\"data row0 col14\" >0.274004</td>\n",
       "                        <td id=\"T_184289c6_9859_11e9_99ba_acde48001122row0_col15\" class=\"data row0 col15\" >0.536666</td>\n",
       "                        <td id=\"T_184289c6_9859_11e9_99ba_acde48001122row0_col16\" class=\"data row0 col16\" >0.229261</td>\n",
       "                        <td id=\"T_184289c6_9859_11e9_99ba_acde48001122row0_col17\" class=\"data row0 col17\" >0.519528</td>\n",
       "                        <td id=\"T_184289c6_9859_11e9_99ba_acde48001122row0_col18\" class=\"data row0 col18\" >0.51557</td>\n",
       "                        <td id=\"T_184289c6_9859_11e9_99ba_acde48001122row0_col19\" class=\"data row0 col19\" >-0.216979</td>\n",
       "            </tr>\n",
       "            <tr>\n",
       "                        <th id=\"T_184289c6_9859_11e9_99ba_acde48001122level0_row1\" class=\"row_heading level0 row1\" >sd</th>\n",
       "                        <td id=\"T_184289c6_9859_11e9_99ba_acde48001122row1_col0\" class=\"data row1 col0\" >-0.739039</td>\n",
       "                        <td id=\"T_184289c6_9859_11e9_99ba_acde48001122row1_col1\" class=\"data row1 col1\" >1</td>\n",
       "                        <td id=\"T_184289c6_9859_11e9_99ba_acde48001122row1_col2\" class=\"data row1 col2\" >-0.562603</td>\n",
       "                        <td id=\"T_184289c6_9859_11e9_99ba_acde48001122row1_col3\" class=\"data row1 col3\" >-0.846931</td>\n",
       "                        <td id=\"T_184289c6_9859_11e9_99ba_acde48001122row1_col4\" class=\"data row1 col4\" >-0.161076</td>\n",
       "                        <td id=\"T_184289c6_9859_11e9_99ba_acde48001122row1_col5\" class=\"data row1 col5\" >0.87466</td>\n",
       "                        <td id=\"T_184289c6_9859_11e9_99ba_acde48001122row1_col6\" class=\"data row1 col6\" >0.314597</td>\n",
       "                        <td id=\"T_184289c6_9859_11e9_99ba_acde48001122row1_col7\" class=\"data row1 col7\" >0.346241</td>\n",
       "                        <td id=\"T_184289c6_9859_11e9_99ba_acde48001122row1_col8\" class=\"data row1 col8\" >0.71662</td>\n",
       "                        <td id=\"T_184289c6_9859_11e9_99ba_acde48001122row1_col9\" class=\"data row1 col9\" >0.838086</td>\n",
       "                        <td id=\"T_184289c6_9859_11e9_99ba_acde48001122row1_col10\" class=\"data row1 col10\" >-0.52915</td>\n",
       "                        <td id=\"T_184289c6_9859_11e9_99ba_acde48001122row1_col11\" class=\"data row1 col11\" >-0.739039</td>\n",
       "                        <td id=\"T_184289c6_9859_11e9_99ba_acde48001122row1_col12\" class=\"data row1 col12\" >-0.466281</td>\n",
       "                        <td id=\"T_184289c6_9859_11e9_99ba_acde48001122row1_col13\" class=\"data row1 col13\" >-0.345609</td>\n",
       "                        <td id=\"T_184289c6_9859_11e9_99ba_acde48001122row1_col14\" class=\"data row1 col14\" >-0.129662</td>\n",
       "                        <td id=\"T_184289c6_9859_11e9_99ba_acde48001122row1_col15\" class=\"data row1 col15\" >-0.482726</td>\n",
       "                        <td id=\"T_184289c6_9859_11e9_99ba_acde48001122row1_col16\" class=\"data row1 col16\" >-0.357667</td>\n",
       "                        <td id=\"T_184289c6_9859_11e9_99ba_acde48001122row1_col17\" class=\"data row1 col17\" >-0.482278</td>\n",
       "                        <td id=\"T_184289c6_9859_11e9_99ba_acde48001122row1_col18\" class=\"data row1 col18\" >-0.475999</td>\n",
       "                        <td id=\"T_184289c6_9859_11e9_99ba_acde48001122row1_col19\" class=\"data row1 col19\" >0.12266</td>\n",
       "            </tr>\n",
       "            <tr>\n",
       "                        <th id=\"T_184289c6_9859_11e9_99ba_acde48001122level0_row2\" class=\"row_heading level0 row2\" >median</th>\n",
       "                        <td id=\"T_184289c6_9859_11e9_99ba_acde48001122row2_col0\" class=\"data row2 col0\" >0.925445</td>\n",
       "                        <td id=\"T_184289c6_9859_11e9_99ba_acde48001122row2_col1\" class=\"data row2 col1\" >-0.562603</td>\n",
       "                        <td id=\"T_184289c6_9859_11e9_99ba_acde48001122row2_col2\" class=\"data row2 col2\" >1</td>\n",
       "                        <td id=\"T_184289c6_9859_11e9_99ba_acde48001122row2_col3\" class=\"data row2 col3\" >0.774922</td>\n",
       "                        <td id=\"T_184289c6_9859_11e9_99ba_acde48001122row2_col4\" class=\"data row2 col4\" >0.731849</td>\n",
       "                        <td id=\"T_184289c6_9859_11e9_99ba_acde48001122row2_col5\" class=\"data row2 col5\" >-0.477352</td>\n",
       "                        <td id=\"T_184289c6_9859_11e9_99ba_acde48001122row2_col6\" class=\"data row2 col6\" >-0.257407</td>\n",
       "                        <td id=\"T_184289c6_9859_11e9_99ba_acde48001122row2_col7\" class=\"data row2 col7\" >-0.243382</td>\n",
       "                        <td id=\"T_184289c6_9859_11e9_99ba_acde48001122row2_col8\" class=\"data row2 col8\" >-0.502005</td>\n",
       "                        <td id=\"T_184289c6_9859_11e9_99ba_acde48001122row2_col9\" class=\"data row2 col9\" >-0.66169</td>\n",
       "                        <td id=\"T_184289c6_9859_11e9_99ba_acde48001122row2_col10\" class=\"data row2 col10\" >0.677433</td>\n",
       "                        <td id=\"T_184289c6_9859_11e9_99ba_acde48001122row2_col11\" class=\"data row2 col11\" >0.925445</td>\n",
       "                        <td id=\"T_184289c6_9859_11e9_99ba_acde48001122row2_col12\" class=\"data row2 col12\" >0.414909</td>\n",
       "                        <td id=\"T_184289c6_9859_11e9_99ba_acde48001122row2_col13\" class=\"data row2 col13\" >0.337602</td>\n",
       "                        <td id=\"T_184289c6_9859_11e9_99ba_acde48001122row2_col14\" class=\"data row2 col14\" >0.251328</td>\n",
       "                        <td id=\"T_184289c6_9859_11e9_99ba_acde48001122row2_col15\" class=\"data row2 col15\" >0.455943</td>\n",
       "                        <td id=\"T_184289c6_9859_11e9_99ba_acde48001122row2_col16\" class=\"data row2 col16\" >0.191169</td>\n",
       "                        <td id=\"T_184289c6_9859_11e9_99ba_acde48001122row2_col17\" class=\"data row2 col17\" >0.438919</td>\n",
       "                        <td id=\"T_184289c6_9859_11e9_99ba_acde48001122row2_col18\" class=\"data row2 col18\" >0.435621</td>\n",
       "                        <td id=\"T_184289c6_9859_11e9_99ba_acde48001122row2_col19\" class=\"data row2 col19\" >-0.213298</td>\n",
       "            </tr>\n",
       "            <tr>\n",
       "                        <th id=\"T_184289c6_9859_11e9_99ba_acde48001122level0_row3\" class=\"row_heading level0 row3\" >Q25</th>\n",
       "                        <td id=\"T_184289c6_9859_11e9_99ba_acde48001122row3_col0\" class=\"data row3 col0\" >0.911416</td>\n",
       "                        <td id=\"T_184289c6_9859_11e9_99ba_acde48001122row3_col1\" class=\"data row3 col1\" >-0.846931</td>\n",
       "                        <td id=\"T_184289c6_9859_11e9_99ba_acde48001122row3_col2\" class=\"data row3 col2\" >0.774922</td>\n",
       "                        <td id=\"T_184289c6_9859_11e9_99ba_acde48001122row3_col3\" class=\"data row3 col3\" >1</td>\n",
       "                        <td id=\"T_184289c6_9859_11e9_99ba_acde48001122row3_col4\" class=\"data row3 col4\" >0.47714</td>\n",
       "                        <td id=\"T_184289c6_9859_11e9_99ba_acde48001122row3_col5\" class=\"data row3 col5\" >-0.874189</td>\n",
       "                        <td id=\"T_184289c6_9859_11e9_99ba_acde48001122row3_col6\" class=\"data row3 col6\" >-0.319475</td>\n",
       "                        <td id=\"T_184289c6_9859_11e9_99ba_acde48001122row3_col7\" class=\"data row3 col7\" >-0.350182</td>\n",
       "                        <td id=\"T_184289c6_9859_11e9_99ba_acde48001122row3_col8\" class=\"data row3 col8\" >-0.648126</td>\n",
       "                        <td id=\"T_184289c6_9859_11e9_99ba_acde48001122row3_col9\" class=\"data row3 col9\" >-0.766875</td>\n",
       "                        <td id=\"T_184289c6_9859_11e9_99ba_acde48001122row3_col10\" class=\"data row3 col10\" >0.591277</td>\n",
       "                        <td id=\"T_184289c6_9859_11e9_99ba_acde48001122row3_col11\" class=\"data row3 col11\" >0.911416</td>\n",
       "                        <td id=\"T_184289c6_9859_11e9_99ba_acde48001122row3_col12\" class=\"data row3 col12\" >0.545035</td>\n",
       "                        <td id=\"T_184289c6_9859_11e9_99ba_acde48001122row3_col13\" class=\"data row3 col13\" >0.320994</td>\n",
       "                        <td id=\"T_184289c6_9859_11e9_99ba_acde48001122row3_col14\" class=\"data row3 col14\" >0.199841</td>\n",
       "                        <td id=\"T_184289c6_9859_11e9_99ba_acde48001122row3_col15\" class=\"data row3 col15\" >0.467403</td>\n",
       "                        <td id=\"T_184289c6_9859_11e9_99ba_acde48001122row3_col16\" class=\"data row3 col16\" >0.302255</td>\n",
       "                        <td id=\"T_184289c6_9859_11e9_99ba_acde48001122row3_col17\" class=\"data row3 col17\" >0.459683</td>\n",
       "                        <td id=\"T_184289c6_9859_11e9_99ba_acde48001122row3_col18\" class=\"data row3 col18\" >0.454394</td>\n",
       "                        <td id=\"T_184289c6_9859_11e9_99ba_acde48001122row3_col19\" class=\"data row3 col19\" >-0.141377</td>\n",
       "            </tr>\n",
       "            <tr>\n",
       "                        <th id=\"T_184289c6_9859_11e9_99ba_acde48001122level0_row4\" class=\"row_heading level0 row4\" >Q75</th>\n",
       "                        <td id=\"T_184289c6_9859_11e9_99ba_acde48001122row4_col0\" class=\"data row4 col0\" >0.740997</td>\n",
       "                        <td id=\"T_184289c6_9859_11e9_99ba_acde48001122row4_col1\" class=\"data row4 col1\" >-0.161076</td>\n",
       "                        <td id=\"T_184289c6_9859_11e9_99ba_acde48001122row4_col2\" class=\"data row4 col2\" >0.731849</td>\n",
       "                        <td id=\"T_184289c6_9859_11e9_99ba_acde48001122row4_col3\" class=\"data row4 col3\" >0.47714</td>\n",
       "                        <td id=\"T_184289c6_9859_11e9_99ba_acde48001122row4_col4\" class=\"data row4 col4\" >1</td>\n",
       "                        <td id=\"T_184289c6_9859_11e9_99ba_acde48001122row4_col5\" class=\"data row4 col5\" >0.00963577</td>\n",
       "                        <td id=\"T_184289c6_9859_11e9_99ba_acde48001122row4_col6\" class=\"data row4 col6\" >-0.206339</td>\n",
       "                        <td id=\"T_184289c6_9859_11e9_99ba_acde48001122row4_col7\" class=\"data row4 col7\" >-0.148881</td>\n",
       "                        <td id=\"T_184289c6_9859_11e9_99ba_acde48001122row4_col8\" class=\"data row4 col8\" >-0.174905</td>\n",
       "                        <td id=\"T_184289c6_9859_11e9_99ba_acde48001122row4_col9\" class=\"data row4 col9\" >-0.378198</td>\n",
       "                        <td id=\"T_184289c6_9859_11e9_99ba_acde48001122row4_col10\" class=\"data row4 col10\" >0.486857</td>\n",
       "                        <td id=\"T_184289c6_9859_11e9_99ba_acde48001122row4_col11\" class=\"data row4 col11\" >0.740997</td>\n",
       "                        <td id=\"T_184289c6_9859_11e9_99ba_acde48001122row4_col12\" class=\"data row4 col12\" >0.155091</td>\n",
       "                        <td id=\"T_184289c6_9859_11e9_99ba_acde48001122row4_col13\" class=\"data row4 col13\" >0.258002</td>\n",
       "                        <td id=\"T_184289c6_9859_11e9_99ba_acde48001122row4_col14\" class=\"data row4 col14\" >0.285584</td>\n",
       "                        <td id=\"T_184289c6_9859_11e9_99ba_acde48001122row4_col15\" class=\"data row4 col15\" >0.359181</td>\n",
       "                        <td id=\"T_184289c6_9859_11e9_99ba_acde48001122row4_col16\" class=\"data row4 col16\" >-0.0237501</td>\n",
       "                        <td id=\"T_184289c6_9859_11e9_99ba_acde48001122row4_col17\" class=\"data row4 col17\" >0.335114</td>\n",
       "                        <td id=\"T_184289c6_9859_11e9_99ba_acde48001122row4_col18\" class=\"data row4 col18\" >0.335648</td>\n",
       "                        <td id=\"T_184289c6_9859_11e9_99ba_acde48001122row4_col19\" class=\"data row4 col19\" >-0.216475</td>\n",
       "            </tr>\n",
       "            <tr>\n",
       "                        <th id=\"T_184289c6_9859_11e9_99ba_acde48001122level0_row5\" class=\"row_heading level0 row5\" >IQR</th>\n",
       "                        <td id=\"T_184289c6_9859_11e9_99ba_acde48001122row5_col0\" class=\"data row5 col0\" >-0.627605</td>\n",
       "                        <td id=\"T_184289c6_9859_11e9_99ba_acde48001122row5_col1\" class=\"data row5 col1\" >0.87466</td>\n",
       "                        <td id=\"T_184289c6_9859_11e9_99ba_acde48001122row5_col2\" class=\"data row5 col2\" >-0.477352</td>\n",
       "                        <td id=\"T_184289c6_9859_11e9_99ba_acde48001122row5_col3\" class=\"data row5 col3\" >-0.874189</td>\n",
       "                        <td id=\"T_184289c6_9859_11e9_99ba_acde48001122row5_col4\" class=\"data row5 col4\" >0.00963577</td>\n",
       "                        <td id=\"T_184289c6_9859_11e9_99ba_acde48001122row5_col5\" class=\"data row5 col5\" >1</td>\n",
       "                        <td id=\"T_184289c6_9859_11e9_99ba_acde48001122row5_col6\" class=\"data row5 col6\" >0.249497</td>\n",
       "                        <td id=\"T_184289c6_9859_11e9_99ba_acde48001122row5_col7\" class=\"data row5 col7\" >0.316185</td>\n",
       "                        <td id=\"T_184289c6_9859_11e9_99ba_acde48001122row5_col8\" class=\"data row5 col8\" >0.640813</td>\n",
       "                        <td id=\"T_184289c6_9859_11e9_99ba_acde48001122row5_col9\" class=\"data row5 col9\" >0.663601</td>\n",
       "                        <td id=\"T_184289c6_9859_11e9_99ba_acde48001122row5_col10\" class=\"data row5 col10\" >-0.403764</td>\n",
       "                        <td id=\"T_184289c6_9859_11e9_99ba_acde48001122row5_col11\" class=\"data row5 col11\" >-0.627605</td>\n",
       "                        <td id=\"T_184289c6_9859_11e9_99ba_acde48001122row5_col12\" class=\"data row5 col12\" >-0.534462</td>\n",
       "                        <td id=\"T_184289c6_9859_11e9_99ba_acde48001122row5_col13\" class=\"data row5 col13\" >-0.22268</td>\n",
       "                        <td id=\"T_184289c6_9859_11e9_99ba_acde48001122row5_col14\" class=\"data row5 col14\" >-0.0695883</td>\n",
       "                        <td id=\"T_184289c6_9859_11e9_99ba_acde48001122row5_col15\" class=\"data row5 col15\" >-0.333362</td>\n",
       "                        <td id=\"T_184289c6_9859_11e9_99ba_acde48001122row5_col16\" class=\"data row5 col16\" >-0.357037</td>\n",
       "                        <td id=\"T_184289c6_9859_11e9_99ba_acde48001122row5_col17\" class=\"data row5 col17\" >-0.337877</td>\n",
       "                        <td id=\"T_184289c6_9859_11e9_99ba_acde48001122row5_col18\" class=\"data row5 col18\" >-0.331563</td>\n",
       "                        <td id=\"T_184289c6_9859_11e9_99ba_acde48001122row5_col19\" class=\"data row5 col19\" >0.0412524</td>\n",
       "            </tr>\n",
       "            <tr>\n",
       "                        <th id=\"T_184289c6_9859_11e9_99ba_acde48001122level0_row6\" class=\"row_heading level0 row6\" >skew</th>\n",
       "                        <td id=\"T_184289c6_9859_11e9_99ba_acde48001122row6_col0\" class=\"data row6 col0\" >-0.322327</td>\n",
       "                        <td id=\"T_184289c6_9859_11e9_99ba_acde48001122row6_col1\" class=\"data row6 col1\" >0.314597</td>\n",
       "                        <td id=\"T_184289c6_9859_11e9_99ba_acde48001122row6_col2\" class=\"data row6 col2\" >-0.257407</td>\n",
       "                        <td id=\"T_184289c6_9859_11e9_99ba_acde48001122row6_col3\" class=\"data row6 col3\" >-0.319475</td>\n",
       "                        <td id=\"T_184289c6_9859_11e9_99ba_acde48001122row6_col4\" class=\"data row6 col4\" >-0.206339</td>\n",
       "                        <td id=\"T_184289c6_9859_11e9_99ba_acde48001122row6_col5\" class=\"data row6 col5\" >0.249497</td>\n",
       "                        <td id=\"T_184289c6_9859_11e9_99ba_acde48001122row6_col6\" class=\"data row6 col6\" >1</td>\n",
       "                        <td id=\"T_184289c6_9859_11e9_99ba_acde48001122row6_col7\" class=\"data row6 col7\" >0.97702</td>\n",
       "                        <td id=\"T_184289c6_9859_11e9_99ba_acde48001122row6_col8\" class=\"data row6 col8\" >-0.195459</td>\n",
       "                        <td id=\"T_184289c6_9859_11e9_99ba_acde48001122row6_col9\" class=\"data row6 col9\" >0.0796941</td>\n",
       "                        <td id=\"T_184289c6_9859_11e9_99ba_acde48001122row6_col10\" class=\"data row6 col10\" >-0.434859</td>\n",
       "                        <td id=\"T_184289c6_9859_11e9_99ba_acde48001122row6_col11\" class=\"data row6 col11\" >-0.322327</td>\n",
       "                        <td id=\"T_184289c6_9859_11e9_99ba_acde48001122row6_col12\" class=\"data row6 col12\" >-0.167668</td>\n",
       "                        <td id=\"T_184289c6_9859_11e9_99ba_acde48001122row6_col13\" class=\"data row6 col13\" >-0.216954</td>\n",
       "                        <td id=\"T_184289c6_9859_11e9_99ba_acde48001122row6_col14\" class=\"data row6 col14\" >-0.0808611</td>\n",
       "                        <td id=\"T_184289c6_9859_11e9_99ba_acde48001122row6_col15\" class=\"data row6 col15\" >-0.336848</td>\n",
       "                        <td id=\"T_184289c6_9859_11e9_99ba_acde48001122row6_col16\" class=\"data row6 col16\" >-0.0616077</td>\n",
       "                        <td id=\"T_184289c6_9859_11e9_99ba_acde48001122row6_col17\" class=\"data row6 col17\" >-0.305651</td>\n",
       "                        <td id=\"T_184289c6_9859_11e9_99ba_acde48001122row6_col18\" class=\"data row6 col18\" >-0.30464</td>\n",
       "                        <td id=\"T_184289c6_9859_11e9_99ba_acde48001122row6_col19\" class=\"data row6 col19\" >-0.169325</td>\n",
       "            </tr>\n",
       "            <tr>\n",
       "                        <th id=\"T_184289c6_9859_11e9_99ba_acde48001122level0_row7\" class=\"row_heading level0 row7\" >kurt</th>\n",
       "                        <td id=\"T_184289c6_9859_11e9_99ba_acde48001122row7_col0\" class=\"data row7 col0\" >-0.316036</td>\n",
       "                        <td id=\"T_184289c6_9859_11e9_99ba_acde48001122row7_col1\" class=\"data row7 col1\" >0.346241</td>\n",
       "                        <td id=\"T_184289c6_9859_11e9_99ba_acde48001122row7_col2\" class=\"data row7 col2\" >-0.243382</td>\n",
       "                        <td id=\"T_184289c6_9859_11e9_99ba_acde48001122row7_col3\" class=\"data row7 col3\" >-0.350182</td>\n",
       "                        <td id=\"T_184289c6_9859_11e9_99ba_acde48001122row7_col4\" class=\"data row7 col4\" >-0.148881</td>\n",
       "                        <td id=\"T_184289c6_9859_11e9_99ba_acde48001122row7_col5\" class=\"data row7 col5\" >0.316185</td>\n",
       "                        <td id=\"T_184289c6_9859_11e9_99ba_acde48001122row7_col6\" class=\"data row7 col6\" >0.97702</td>\n",
       "                        <td id=\"T_184289c6_9859_11e9_99ba_acde48001122row7_col7\" class=\"data row7 col7\" >1</td>\n",
       "                        <td id=\"T_184289c6_9859_11e9_99ba_acde48001122row7_col8\" class=\"data row7 col8\" >-0.127644</td>\n",
       "                        <td id=\"T_184289c6_9859_11e9_99ba_acde48001122row7_col9\" class=\"data row7 col9\" >0.109884</td>\n",
       "                        <td id=\"T_184289c6_9859_11e9_99ba_acde48001122row7_col10\" class=\"data row7 col10\" >-0.406722</td>\n",
       "                        <td id=\"T_184289c6_9859_11e9_99ba_acde48001122row7_col11\" class=\"data row7 col11\" >-0.316036</td>\n",
       "                        <td id=\"T_184289c6_9859_11e9_99ba_acde48001122row7_col12\" class=\"data row7 col12\" >-0.19456</td>\n",
       "                        <td id=\"T_184289c6_9859_11e9_99ba_acde48001122row7_col13\" class=\"data row7 col13\" >-0.203201</td>\n",
       "                        <td id=\"T_184289c6_9859_11e9_99ba_acde48001122row7_col14\" class=\"data row7 col14\" >-0.0456672</td>\n",
       "                        <td id=\"T_184289c6_9859_11e9_99ba_acde48001122row7_col15\" class=\"data row7 col15\" >-0.303234</td>\n",
       "                        <td id=\"T_184289c6_9859_11e9_99ba_acde48001122row7_col16\" class=\"data row7 col16\" >-0.103313</td>\n",
       "                        <td id=\"T_184289c6_9859_11e9_99ba_acde48001122row7_col17\" class=\"data row7 col17\" >-0.2745</td>\n",
       "                        <td id=\"T_184289c6_9859_11e9_99ba_acde48001122row7_col18\" class=\"data row7 col18\" >-0.272729</td>\n",
       "                        <td id=\"T_184289c6_9859_11e9_99ba_acde48001122row7_col19\" class=\"data row7 col19\" >-0.205539</td>\n",
       "            </tr>\n",
       "            <tr>\n",
       "                        <th id=\"T_184289c6_9859_11e9_99ba_acde48001122level0_row8\" class=\"row_heading level0 row8\" >sp.ent</th>\n",
       "                        <td id=\"T_184289c6_9859_11e9_99ba_acde48001122row8_col0\" class=\"data row8 col0\" >-0.601203</td>\n",
       "                        <td id=\"T_184289c6_9859_11e9_99ba_acde48001122row8_col1\" class=\"data row8 col1\" >0.71662</td>\n",
       "                        <td id=\"T_184289c6_9859_11e9_99ba_acde48001122row8_col2\" class=\"data row8 col2\" >-0.502005</td>\n",
       "                        <td id=\"T_184289c6_9859_11e9_99ba_acde48001122row8_col3\" class=\"data row8 col3\" >-0.648126</td>\n",
       "                        <td id=\"T_184289c6_9859_11e9_99ba_acde48001122row8_col4\" class=\"data row8 col4\" >-0.174905</td>\n",
       "                        <td id=\"T_184289c6_9859_11e9_99ba_acde48001122row8_col5\" class=\"data row8 col5\" >0.640813</td>\n",
       "                        <td id=\"T_184289c6_9859_11e9_99ba_acde48001122row8_col6\" class=\"data row8 col6\" >-0.195459</td>\n",
       "                        <td id=\"T_184289c6_9859_11e9_99ba_acde48001122row8_col7\" class=\"data row8 col7\" >-0.127644</td>\n",
       "                        <td id=\"T_184289c6_9859_11e9_99ba_acde48001122row8_col8\" class=\"data row8 col8\" >1</td>\n",
       "                        <td id=\"T_184289c6_9859_11e9_99ba_acde48001122row8_col9\" class=\"data row8 col9\" >0.866411</td>\n",
       "                        <td id=\"T_184289c6_9859_11e9_99ba_acde48001122row8_col10\" class=\"data row8 col10\" >-0.325298</td>\n",
       "                        <td id=\"T_184289c6_9859_11e9_99ba_acde48001122row8_col11\" class=\"data row8 col11\" >-0.601203</td>\n",
       "                        <td id=\"T_184289c6_9859_11e9_99ba_acde48001122row8_col12\" class=\"data row8 col12\" >-0.513194</td>\n",
       "                        <td id=\"T_184289c6_9859_11e9_99ba_acde48001122row8_col13\" class=\"data row8 col13\" >-0.305826</td>\n",
       "                        <td id=\"T_184289c6_9859_11e9_99ba_acde48001122row8_col14\" class=\"data row8 col14\" >-0.120738</td>\n",
       "                        <td id=\"T_184289c6_9859_11e9_99ba_acde48001122row8_col15\" class=\"data row8 col15\" >-0.293562</td>\n",
       "                        <td id=\"T_184289c6_9859_11e9_99ba_acde48001122row8_col16\" class=\"data row8 col16\" >-0.294869</td>\n",
       "                        <td id=\"T_184289c6_9859_11e9_99ba_acde48001122row8_col17\" class=\"data row8 col17\" >-0.324253</td>\n",
       "                        <td id=\"T_184289c6_9859_11e9_99ba_acde48001122row8_col18\" class=\"data row8 col18\" >-0.319054</td>\n",
       "                        <td id=\"T_184289c6_9859_11e9_99ba_acde48001122row8_col19\" class=\"data row8 col19\" >0.198074</td>\n",
       "            </tr>\n",
       "            <tr>\n",
       "                        <th id=\"T_184289c6_9859_11e9_99ba_acde48001122level0_row9\" class=\"row_heading level0 row9\" >sfm</th>\n",
       "                        <td id=\"T_184289c6_9859_11e9_99ba_acde48001122row9_col0\" class=\"data row9 col0\" >-0.784332</td>\n",
       "                        <td id=\"T_184289c6_9859_11e9_99ba_acde48001122row9_col1\" class=\"data row9 col1\" >0.838086</td>\n",
       "                        <td id=\"T_184289c6_9859_11e9_99ba_acde48001122row9_col2\" class=\"data row9 col2\" >-0.66169</td>\n",
       "                        <td id=\"T_184289c6_9859_11e9_99ba_acde48001122row9_col3\" class=\"data row9 col3\" >-0.766875</td>\n",
       "                        <td id=\"T_184289c6_9859_11e9_99ba_acde48001122row9_col4\" class=\"data row9 col4\" >-0.378198</td>\n",
       "                        <td id=\"T_184289c6_9859_11e9_99ba_acde48001122row9_col5\" class=\"data row9 col5\" >0.663601</td>\n",
       "                        <td id=\"T_184289c6_9859_11e9_99ba_acde48001122row9_col6\" class=\"data row9 col6\" >0.0796941</td>\n",
       "                        <td id=\"T_184289c6_9859_11e9_99ba_acde48001122row9_col7\" class=\"data row9 col7\" >0.109884</td>\n",
       "                        <td id=\"T_184289c6_9859_11e9_99ba_acde48001122row9_col8\" class=\"data row9 col8\" >0.866411</td>\n",
       "                        <td id=\"T_184289c6_9859_11e9_99ba_acde48001122row9_col9\" class=\"data row9 col9\" >1</td>\n",
       "                        <td id=\"T_184289c6_9859_11e9_99ba_acde48001122row9_col10\" class=\"data row9 col10\" >-0.485913</td>\n",
       "                        <td id=\"T_184289c6_9859_11e9_99ba_acde48001122row9_col11\" class=\"data row9 col11\" >-0.784332</td>\n",
       "                        <td id=\"T_184289c6_9859_11e9_99ba_acde48001122row9_col12\" class=\"data row9 col12\" >-0.421066</td>\n",
       "                        <td id=\"T_184289c6_9859_11e9_99ba_acde48001122row9_col13\" class=\"data row9 col13\" >-0.3621</td>\n",
       "                        <td id=\"T_184289c6_9859_11e9_99ba_acde48001122row9_col14\" class=\"data row9 col14\" >-0.192369</td>\n",
       "                        <td id=\"T_184289c6_9859_11e9_99ba_acde48001122row9_col15\" class=\"data row9 col15\" >-0.428442</td>\n",
       "                        <td id=\"T_184289c6_9859_11e9_99ba_acde48001122row9_col16\" class=\"data row9 col16\" >-0.289593</td>\n",
       "                        <td id=\"T_184289c6_9859_11e9_99ba_acde48001122row9_col17\" class=\"data row9 col17\" >-0.436649</td>\n",
       "                        <td id=\"T_184289c6_9859_11e9_99ba_acde48001122row9_col18\" class=\"data row9 col18\" >-0.43158</td>\n",
       "                        <td id=\"T_184289c6_9859_11e9_99ba_acde48001122row9_col19\" class=\"data row9 col19\" >0.211477</td>\n",
       "            </tr>\n",
       "            <tr>\n",
       "                        <th id=\"T_184289c6_9859_11e9_99ba_acde48001122level0_row10\" class=\"row_heading level0 row10\" >mode</th>\n",
       "                        <td id=\"T_184289c6_9859_11e9_99ba_acde48001122row10_col0\" class=\"data row10 col0\" >0.687715</td>\n",
       "                        <td id=\"T_184289c6_9859_11e9_99ba_acde48001122row10_col1\" class=\"data row10 col1\" >-0.52915</td>\n",
       "                        <td id=\"T_184289c6_9859_11e9_99ba_acde48001122row10_col2\" class=\"data row10 col2\" >0.677433</td>\n",
       "                        <td id=\"T_184289c6_9859_11e9_99ba_acde48001122row10_col3\" class=\"data row10 col3\" >0.591277</td>\n",
       "                        <td id=\"T_184289c6_9859_11e9_99ba_acde48001122row10_col4\" class=\"data row10 col4\" >0.486857</td>\n",
       "                        <td id=\"T_184289c6_9859_11e9_99ba_acde48001122row10_col5\" class=\"data row10 col5\" >-0.403764</td>\n",
       "                        <td id=\"T_184289c6_9859_11e9_99ba_acde48001122row10_col6\" class=\"data row10 col6\" >-0.434859</td>\n",
       "                        <td id=\"T_184289c6_9859_11e9_99ba_acde48001122row10_col7\" class=\"data row10 col7\" >-0.406722</td>\n",
       "                        <td id=\"T_184289c6_9859_11e9_99ba_acde48001122row10_col8\" class=\"data row10 col8\" >-0.325298</td>\n",
       "                        <td id=\"T_184289c6_9859_11e9_99ba_acde48001122row10_col9\" class=\"data row10 col9\" >-0.485913</td>\n",
       "                        <td id=\"T_184289c6_9859_11e9_99ba_acde48001122row10_col10\" class=\"data row10 col10\" >1</td>\n",
       "                        <td id=\"T_184289c6_9859_11e9_99ba_acde48001122row10_col11\" class=\"data row10 col11\" >0.687715</td>\n",
       "                        <td id=\"T_184289c6_9859_11e9_99ba_acde48001122row10_col12\" class=\"data row10 col12\" >0.324771</td>\n",
       "                        <td id=\"T_184289c6_9859_11e9_99ba_acde48001122row10_col13\" class=\"data row10 col13\" >0.385467</td>\n",
       "                        <td id=\"T_184289c6_9859_11e9_99ba_acde48001122row10_col14\" class=\"data row10 col14\" >0.172329</td>\n",
       "                        <td id=\"T_184289c6_9859_11e9_99ba_acde48001122row10_col15\" class=\"data row10 col15\" >0.491479</td>\n",
       "                        <td id=\"T_184289c6_9859_11e9_99ba_acde48001122row10_col16\" class=\"data row10 col16\" >0.19815</td>\n",
       "                        <td id=\"T_184289c6_9859_11e9_99ba_acde48001122row10_col17\" class=\"data row10 col17\" >0.477187</td>\n",
       "                        <td id=\"T_184289c6_9859_11e9_99ba_acde48001122row10_col18\" class=\"data row10 col18\" >0.473775</td>\n",
       "                        <td id=\"T_184289c6_9859_11e9_99ba_acde48001122row10_col19\" class=\"data row10 col19\" >-0.182344</td>\n",
       "            </tr>\n",
       "            <tr>\n",
       "                        <th id=\"T_184289c6_9859_11e9_99ba_acde48001122level0_row11\" class=\"row_heading level0 row11\" >centroid</th>\n",
       "                        <td id=\"T_184289c6_9859_11e9_99ba_acde48001122row11_col0\" class=\"data row11 col0\" >1</td>\n",
       "                        <td id=\"T_184289c6_9859_11e9_99ba_acde48001122row11_col1\" class=\"data row11 col1\" >-0.739039</td>\n",
       "                        <td id=\"T_184289c6_9859_11e9_99ba_acde48001122row11_col2\" class=\"data row11 col2\" >0.925445</td>\n",
       "                        <td id=\"T_184289c6_9859_11e9_99ba_acde48001122row11_col3\" class=\"data row11 col3\" >0.911416</td>\n",
       "                        <td id=\"T_184289c6_9859_11e9_99ba_acde48001122row11_col4\" class=\"data row11 col4\" >0.740997</td>\n",
       "                        <td id=\"T_184289c6_9859_11e9_99ba_acde48001122row11_col5\" class=\"data row11 col5\" >-0.627605</td>\n",
       "                        <td id=\"T_184289c6_9859_11e9_99ba_acde48001122row11_col6\" class=\"data row11 col6\" >-0.322327</td>\n",
       "                        <td id=\"T_184289c6_9859_11e9_99ba_acde48001122row11_col7\" class=\"data row11 col7\" >-0.316036</td>\n",
       "                        <td id=\"T_184289c6_9859_11e9_99ba_acde48001122row11_col8\" class=\"data row11 col8\" >-0.601203</td>\n",
       "                        <td id=\"T_184289c6_9859_11e9_99ba_acde48001122row11_col9\" class=\"data row11 col9\" >-0.784332</td>\n",
       "                        <td id=\"T_184289c6_9859_11e9_99ba_acde48001122row11_col10\" class=\"data row11 col10\" >0.687715</td>\n",
       "                        <td id=\"T_184289c6_9859_11e9_99ba_acde48001122row11_col11\" class=\"data row11 col11\" >1</td>\n",
       "                        <td id=\"T_184289c6_9859_11e9_99ba_acde48001122row11_col12\" class=\"data row11 col12\" >0.460844</td>\n",
       "                        <td id=\"T_184289c6_9859_11e9_99ba_acde48001122row11_col13\" class=\"data row11 col13\" >0.383937</td>\n",
       "                        <td id=\"T_184289c6_9859_11e9_99ba_acde48001122row11_col14\" class=\"data row11 col14\" >0.274004</td>\n",
       "                        <td id=\"T_184289c6_9859_11e9_99ba_acde48001122row11_col15\" class=\"data row11 col15\" >0.536666</td>\n",
       "                        <td id=\"T_184289c6_9859_11e9_99ba_acde48001122row11_col16\" class=\"data row11 col16\" >0.229261</td>\n",
       "                        <td id=\"T_184289c6_9859_11e9_99ba_acde48001122row11_col17\" class=\"data row11 col17\" >0.519528</td>\n",
       "                        <td id=\"T_184289c6_9859_11e9_99ba_acde48001122row11_col18\" class=\"data row11 col18\" >0.51557</td>\n",
       "                        <td id=\"T_184289c6_9859_11e9_99ba_acde48001122row11_col19\" class=\"data row11 col19\" >-0.216979</td>\n",
       "            </tr>\n",
       "            <tr>\n",
       "                        <th id=\"T_184289c6_9859_11e9_99ba_acde48001122level0_row12\" class=\"row_heading level0 row12\" >meanfun</th>\n",
       "                        <td id=\"T_184289c6_9859_11e9_99ba_acde48001122row12_col0\" class=\"data row12 col0\" >0.460844</td>\n",
       "                        <td id=\"T_184289c6_9859_11e9_99ba_acde48001122row12_col1\" class=\"data row12 col1\" >-0.466281</td>\n",
       "                        <td id=\"T_184289c6_9859_11e9_99ba_acde48001122row12_col2\" class=\"data row12 col2\" >0.414909</td>\n",
       "                        <td id=\"T_184289c6_9859_11e9_99ba_acde48001122row12_col3\" class=\"data row12 col3\" >0.545035</td>\n",
       "                        <td id=\"T_184289c6_9859_11e9_99ba_acde48001122row12_col4\" class=\"data row12 col4\" >0.155091</td>\n",
       "                        <td id=\"T_184289c6_9859_11e9_99ba_acde48001122row12_col5\" class=\"data row12 col5\" >-0.534462</td>\n",
       "                        <td id=\"T_184289c6_9859_11e9_99ba_acde48001122row12_col6\" class=\"data row12 col6\" >-0.167668</td>\n",
       "                        <td id=\"T_184289c6_9859_11e9_99ba_acde48001122row12_col7\" class=\"data row12 col7\" >-0.19456</td>\n",
       "                        <td id=\"T_184289c6_9859_11e9_99ba_acde48001122row12_col8\" class=\"data row12 col8\" >-0.513194</td>\n",
       "                        <td id=\"T_184289c6_9859_11e9_99ba_acde48001122row12_col9\" class=\"data row12 col9\" >-0.421066</td>\n",
       "                        <td id=\"T_184289c6_9859_11e9_99ba_acde48001122row12_col10\" class=\"data row12 col10\" >0.324771</td>\n",
       "                        <td id=\"T_184289c6_9859_11e9_99ba_acde48001122row12_col11\" class=\"data row12 col11\" >0.460844</td>\n",
       "                        <td id=\"T_184289c6_9859_11e9_99ba_acde48001122row12_col12\" class=\"data row12 col12\" >1</td>\n",
       "                        <td id=\"T_184289c6_9859_11e9_99ba_acde48001122row12_col13\" class=\"data row12 col13\" >0.339387</td>\n",
       "                        <td id=\"T_184289c6_9859_11e9_99ba_acde48001122row12_col14\" class=\"data row12 col14\" >0.31195</td>\n",
       "                        <td id=\"T_184289c6_9859_11e9_99ba_acde48001122row12_col15\" class=\"data row12 col15\" >0.27084</td>\n",
       "                        <td id=\"T_184289c6_9859_11e9_99ba_acde48001122row12_col16\" class=\"data row12 col16\" >0.162163</td>\n",
       "                        <td id=\"T_184289c6_9859_11e9_99ba_acde48001122row12_col17\" class=\"data row12 col17\" >0.277982</td>\n",
       "                        <td id=\"T_184289c6_9859_11e9_99ba_acde48001122row12_col18\" class=\"data row12 col18\" >0.275154</td>\n",
       "                        <td id=\"T_184289c6_9859_11e9_99ba_acde48001122row12_col19\" class=\"data row12 col19\" >-0.0548579</td>\n",
       "            </tr>\n",
       "            <tr>\n",
       "                        <th id=\"T_184289c6_9859_11e9_99ba_acde48001122level0_row13\" class=\"row_heading level0 row13\" >minfun</th>\n",
       "                        <td id=\"T_184289c6_9859_11e9_99ba_acde48001122row13_col0\" class=\"data row13 col0\" >0.383937</td>\n",
       "                        <td id=\"T_184289c6_9859_11e9_99ba_acde48001122row13_col1\" class=\"data row13 col1\" >-0.345609</td>\n",
       "                        <td id=\"T_184289c6_9859_11e9_99ba_acde48001122row13_col2\" class=\"data row13 col2\" >0.337602</td>\n",
       "                        <td id=\"T_184289c6_9859_11e9_99ba_acde48001122row13_col3\" class=\"data row13 col3\" >0.320994</td>\n",
       "                        <td id=\"T_184289c6_9859_11e9_99ba_acde48001122row13_col4\" class=\"data row13 col4\" >0.258002</td>\n",
       "                        <td id=\"T_184289c6_9859_11e9_99ba_acde48001122row13_col5\" class=\"data row13 col5\" >-0.22268</td>\n",
       "                        <td id=\"T_184289c6_9859_11e9_99ba_acde48001122row13_col6\" class=\"data row13 col6\" >-0.216954</td>\n",
       "                        <td id=\"T_184289c6_9859_11e9_99ba_acde48001122row13_col7\" class=\"data row13 col7\" >-0.203201</td>\n",
       "                        <td id=\"T_184289c6_9859_11e9_99ba_acde48001122row13_col8\" class=\"data row13 col8\" >-0.305826</td>\n",
       "                        <td id=\"T_184289c6_9859_11e9_99ba_acde48001122row13_col9\" class=\"data row13 col9\" >-0.3621</td>\n",
       "                        <td id=\"T_184289c6_9859_11e9_99ba_acde48001122row13_col10\" class=\"data row13 col10\" >0.385467</td>\n",
       "                        <td id=\"T_184289c6_9859_11e9_99ba_acde48001122row13_col11\" class=\"data row13 col11\" >0.383937</td>\n",
       "                        <td id=\"T_184289c6_9859_11e9_99ba_acde48001122row13_col12\" class=\"data row13 col12\" >0.339387</td>\n",
       "                        <td id=\"T_184289c6_9859_11e9_99ba_acde48001122row13_col13\" class=\"data row13 col13\" >1</td>\n",
       "                        <td id=\"T_184289c6_9859_11e9_99ba_acde48001122row13_col14\" class=\"data row13 col14\" >0.213987</td>\n",
       "                        <td id=\"T_184289c6_9859_11e9_99ba_acde48001122row13_col15\" class=\"data row13 col15\" >0.375979</td>\n",
       "                        <td id=\"T_184289c6_9859_11e9_99ba_acde48001122row13_col16\" class=\"data row13 col16\" >0.0820153</td>\n",
       "                        <td id=\"T_184289c6_9859_11e9_99ba_acde48001122row13_col17\" class=\"data row13 col17\" >0.31786</td>\n",
       "                        <td id=\"T_184289c6_9859_11e9_99ba_acde48001122row13_col18\" class=\"data row13 col18\" >0.316486</td>\n",
       "                        <td id=\"T_184289c6_9859_11e9_99ba_acde48001122row13_col19\" class=\"data row13 col19\" >0.00204197</td>\n",
       "            </tr>\n",
       "            <tr>\n",
       "                        <th id=\"T_184289c6_9859_11e9_99ba_acde48001122level0_row14\" class=\"row_heading level0 row14\" >maxfun</th>\n",
       "                        <td id=\"T_184289c6_9859_11e9_99ba_acde48001122row14_col0\" class=\"data row14 col0\" >0.274004</td>\n",
       "                        <td id=\"T_184289c6_9859_11e9_99ba_acde48001122row14_col1\" class=\"data row14 col1\" >-0.129662</td>\n",
       "                        <td id=\"T_184289c6_9859_11e9_99ba_acde48001122row14_col2\" class=\"data row14 col2\" >0.251328</td>\n",
       "                        <td id=\"T_184289c6_9859_11e9_99ba_acde48001122row14_col3\" class=\"data row14 col3\" >0.199841</td>\n",
       "                        <td id=\"T_184289c6_9859_11e9_99ba_acde48001122row14_col4\" class=\"data row14 col4\" >0.285584</td>\n",
       "                        <td id=\"T_184289c6_9859_11e9_99ba_acde48001122row14_col5\" class=\"data row14 col5\" >-0.0695883</td>\n",
       "                        <td id=\"T_184289c6_9859_11e9_99ba_acde48001122row14_col6\" class=\"data row14 col6\" >-0.0808611</td>\n",
       "                        <td id=\"T_184289c6_9859_11e9_99ba_acde48001122row14_col7\" class=\"data row14 col7\" >-0.0456672</td>\n",
       "                        <td id=\"T_184289c6_9859_11e9_99ba_acde48001122row14_col8\" class=\"data row14 col8\" >-0.120738</td>\n",
       "                        <td id=\"T_184289c6_9859_11e9_99ba_acde48001122row14_col9\" class=\"data row14 col9\" >-0.192369</td>\n",
       "                        <td id=\"T_184289c6_9859_11e9_99ba_acde48001122row14_col10\" class=\"data row14 col10\" >0.172329</td>\n",
       "                        <td id=\"T_184289c6_9859_11e9_99ba_acde48001122row14_col11\" class=\"data row14 col11\" >0.274004</td>\n",
       "                        <td id=\"T_184289c6_9859_11e9_99ba_acde48001122row14_col12\" class=\"data row14 col12\" >0.31195</td>\n",
       "                        <td id=\"T_184289c6_9859_11e9_99ba_acde48001122row14_col13\" class=\"data row14 col13\" >0.213987</td>\n",
       "                        <td id=\"T_184289c6_9859_11e9_99ba_acde48001122row14_col14\" class=\"data row14 col14\" >1</td>\n",
       "                        <td id=\"T_184289c6_9859_11e9_99ba_acde48001122row14_col15\" class=\"data row14 col15\" >0.337553</td>\n",
       "                        <td id=\"T_184289c6_9859_11e9_99ba_acde48001122row14_col16\" class=\"data row14 col16\" >-0.243426</td>\n",
       "                        <td id=\"T_184289c6_9859_11e9_99ba_acde48001122row14_col17\" class=\"data row14 col17\" >0.35539</td>\n",
       "                        <td id=\"T_184289c6_9859_11e9_99ba_acde48001122row14_col18\" class=\"data row14 col18\" >0.35988</td>\n",
       "                        <td id=\"T_184289c6_9859_11e9_99ba_acde48001122row14_col19\" class=\"data row14 col19\" >-0.363029</td>\n",
       "            </tr>\n",
       "            <tr>\n",
       "                        <th id=\"T_184289c6_9859_11e9_99ba_acde48001122level0_row15\" class=\"row_heading level0 row15\" >meandom</th>\n",
       "                        <td id=\"T_184289c6_9859_11e9_99ba_acde48001122row15_col0\" class=\"data row15 col0\" >0.536666</td>\n",
       "                        <td id=\"T_184289c6_9859_11e9_99ba_acde48001122row15_col1\" class=\"data row15 col1\" >-0.482726</td>\n",
       "                        <td id=\"T_184289c6_9859_11e9_99ba_acde48001122row15_col2\" class=\"data row15 col2\" >0.455943</td>\n",
       "                        <td id=\"T_184289c6_9859_11e9_99ba_acde48001122row15_col3\" class=\"data row15 col3\" >0.467403</td>\n",
       "                        <td id=\"T_184289c6_9859_11e9_99ba_acde48001122row15_col4\" class=\"data row15 col4\" >0.359181</td>\n",
       "                        <td id=\"T_184289c6_9859_11e9_99ba_acde48001122row15_col5\" class=\"data row15 col5\" >-0.333362</td>\n",
       "                        <td id=\"T_184289c6_9859_11e9_99ba_acde48001122row15_col6\" class=\"data row15 col6\" >-0.336848</td>\n",
       "                        <td id=\"T_184289c6_9859_11e9_99ba_acde48001122row15_col7\" class=\"data row15 col7\" >-0.303234</td>\n",
       "                        <td id=\"T_184289c6_9859_11e9_99ba_acde48001122row15_col8\" class=\"data row15 col8\" >-0.293562</td>\n",
       "                        <td id=\"T_184289c6_9859_11e9_99ba_acde48001122row15_col9\" class=\"data row15 col9\" >-0.428442</td>\n",
       "                        <td id=\"T_184289c6_9859_11e9_99ba_acde48001122row15_col10\" class=\"data row15 col10\" >0.491479</td>\n",
       "                        <td id=\"T_184289c6_9859_11e9_99ba_acde48001122row15_col11\" class=\"data row15 col11\" >0.536666</td>\n",
       "                        <td id=\"T_184289c6_9859_11e9_99ba_acde48001122row15_col12\" class=\"data row15 col12\" >0.27084</td>\n",
       "                        <td id=\"T_184289c6_9859_11e9_99ba_acde48001122row15_col13\" class=\"data row15 col13\" >0.375979</td>\n",
       "                        <td id=\"T_184289c6_9859_11e9_99ba_acde48001122row15_col14\" class=\"data row15 col14\" >0.337553</td>\n",
       "                        <td id=\"T_184289c6_9859_11e9_99ba_acde48001122row15_col15\" class=\"data row15 col15\" >1</td>\n",
       "                        <td id=\"T_184289c6_9859_11e9_99ba_acde48001122row15_col16\" class=\"data row15 col16\" >0.099656</td>\n",
       "                        <td id=\"T_184289c6_9859_11e9_99ba_acde48001122row15_col17\" class=\"data row15 col17\" >0.812838</td>\n",
       "                        <td id=\"T_184289c6_9859_11e9_99ba_acde48001122row15_col18\" class=\"data row15 col18\" >0.811304</td>\n",
       "                        <td id=\"T_184289c6_9859_11e9_99ba_acde48001122row15_col19\" class=\"data row15 col19\" >-0.180954</td>\n",
       "            </tr>\n",
       "            <tr>\n",
       "                        <th id=\"T_184289c6_9859_11e9_99ba_acde48001122level0_row16\" class=\"row_heading level0 row16\" >mindom</th>\n",
       "                        <td id=\"T_184289c6_9859_11e9_99ba_acde48001122row16_col0\" class=\"data row16 col0\" >0.229261</td>\n",
       "                        <td id=\"T_184289c6_9859_11e9_99ba_acde48001122row16_col1\" class=\"data row16 col1\" >-0.357667</td>\n",
       "                        <td id=\"T_184289c6_9859_11e9_99ba_acde48001122row16_col2\" class=\"data row16 col2\" >0.191169</td>\n",
       "                        <td id=\"T_184289c6_9859_11e9_99ba_acde48001122row16_col3\" class=\"data row16 col3\" >0.302255</td>\n",
       "                        <td id=\"T_184289c6_9859_11e9_99ba_acde48001122row16_col4\" class=\"data row16 col4\" >-0.0237501</td>\n",
       "                        <td id=\"T_184289c6_9859_11e9_99ba_acde48001122row16_col5\" class=\"data row16 col5\" >-0.357037</td>\n",
       "                        <td id=\"T_184289c6_9859_11e9_99ba_acde48001122row16_col6\" class=\"data row16 col6\" >-0.0616077</td>\n",
       "                        <td id=\"T_184289c6_9859_11e9_99ba_acde48001122row16_col7\" class=\"data row16 col7\" >-0.103313</td>\n",
       "                        <td id=\"T_184289c6_9859_11e9_99ba_acde48001122row16_col8\" class=\"data row16 col8\" >-0.294869</td>\n",
       "                        <td id=\"T_184289c6_9859_11e9_99ba_acde48001122row16_col9\" class=\"data row16 col9\" >-0.289593</td>\n",
       "                        <td id=\"T_184289c6_9859_11e9_99ba_acde48001122row16_col10\" class=\"data row16 col10\" >0.19815</td>\n",
       "                        <td id=\"T_184289c6_9859_11e9_99ba_acde48001122row16_col11\" class=\"data row16 col11\" >0.229261</td>\n",
       "                        <td id=\"T_184289c6_9859_11e9_99ba_acde48001122row16_col12\" class=\"data row16 col12\" >0.162163</td>\n",
       "                        <td id=\"T_184289c6_9859_11e9_99ba_acde48001122row16_col13\" class=\"data row16 col13\" >0.0820153</td>\n",
       "                        <td id=\"T_184289c6_9859_11e9_99ba_acde48001122row16_col14\" class=\"data row16 col14\" >-0.243426</td>\n",
       "                        <td id=\"T_184289c6_9859_11e9_99ba_acde48001122row16_col15\" class=\"data row16 col15\" >0.099656</td>\n",
       "                        <td id=\"T_184289c6_9859_11e9_99ba_acde48001122row16_col16\" class=\"data row16 col16\" >1</td>\n",
       "                        <td id=\"T_184289c6_9859_11e9_99ba_acde48001122row16_col17\" class=\"data row16 col17\" >0.0266397</td>\n",
       "                        <td id=\"T_184289c6_9859_11e9_99ba_acde48001122row16_col18\" class=\"data row16 col18\" >0.00866554</td>\n",
       "                        <td id=\"T_184289c6_9859_11e9_99ba_acde48001122row16_col19\" class=\"data row16 col19\" >0.200212</td>\n",
       "            </tr>\n",
       "            <tr>\n",
       "                        <th id=\"T_184289c6_9859_11e9_99ba_acde48001122level0_row17\" class=\"row_heading level0 row17\" >maxdom</th>\n",
       "                        <td id=\"T_184289c6_9859_11e9_99ba_acde48001122row17_col0\" class=\"data row17 col0\" >0.519528</td>\n",
       "                        <td id=\"T_184289c6_9859_11e9_99ba_acde48001122row17_col1\" class=\"data row17 col1\" >-0.482278</td>\n",
       "                        <td id=\"T_184289c6_9859_11e9_99ba_acde48001122row17_col2\" class=\"data row17 col2\" >0.438919</td>\n",
       "                        <td id=\"T_184289c6_9859_11e9_99ba_acde48001122row17_col3\" class=\"data row17 col3\" >0.459683</td>\n",
       "                        <td id=\"T_184289c6_9859_11e9_99ba_acde48001122row17_col4\" class=\"data row17 col4\" >0.335114</td>\n",
       "                        <td id=\"T_184289c6_9859_11e9_99ba_acde48001122row17_col5\" class=\"data row17 col5\" >-0.337877</td>\n",
       "                        <td id=\"T_184289c6_9859_11e9_99ba_acde48001122row17_col6\" class=\"data row17 col6\" >-0.305651</td>\n",
       "                        <td id=\"T_184289c6_9859_11e9_99ba_acde48001122row17_col7\" class=\"data row17 col7\" >-0.2745</td>\n",
       "                        <td id=\"T_184289c6_9859_11e9_99ba_acde48001122row17_col8\" class=\"data row17 col8\" >-0.324253</td>\n",
       "                        <td id=\"T_184289c6_9859_11e9_99ba_acde48001122row17_col9\" class=\"data row17 col9\" >-0.436649</td>\n",
       "                        <td id=\"T_184289c6_9859_11e9_99ba_acde48001122row17_col10\" class=\"data row17 col10\" >0.477187</td>\n",
       "                        <td id=\"T_184289c6_9859_11e9_99ba_acde48001122row17_col11\" class=\"data row17 col11\" >0.519528</td>\n",
       "                        <td id=\"T_184289c6_9859_11e9_99ba_acde48001122row17_col12\" class=\"data row17 col12\" >0.277982</td>\n",
       "                        <td id=\"T_184289c6_9859_11e9_99ba_acde48001122row17_col13\" class=\"data row17 col13\" >0.31786</td>\n",
       "                        <td id=\"T_184289c6_9859_11e9_99ba_acde48001122row17_col14\" class=\"data row17 col14\" >0.35539</td>\n",
       "                        <td id=\"T_184289c6_9859_11e9_99ba_acde48001122row17_col15\" class=\"data row17 col15\" >0.812838</td>\n",
       "                        <td id=\"T_184289c6_9859_11e9_99ba_acde48001122row17_col16\" class=\"data row17 col16\" >0.0266397</td>\n",
       "                        <td id=\"T_184289c6_9859_11e9_99ba_acde48001122row17_col17\" class=\"data row17 col17\" >1</td>\n",
       "                        <td id=\"T_184289c6_9859_11e9_99ba_acde48001122row17_col18\" class=\"data row17 col18\" >0.999838</td>\n",
       "                        <td id=\"T_184289c6_9859_11e9_99ba_acde48001122row17_col19\" class=\"data row17 col19\" >-0.425531</td>\n",
       "            </tr>\n",
       "            <tr>\n",
       "                        <th id=\"T_184289c6_9859_11e9_99ba_acde48001122level0_row18\" class=\"row_heading level0 row18\" >dfrange</th>\n",
       "                        <td id=\"T_184289c6_9859_11e9_99ba_acde48001122row18_col0\" class=\"data row18 col0\" >0.51557</td>\n",
       "                        <td id=\"T_184289c6_9859_11e9_99ba_acde48001122row18_col1\" class=\"data row18 col1\" >-0.475999</td>\n",
       "                        <td id=\"T_184289c6_9859_11e9_99ba_acde48001122row18_col2\" class=\"data row18 col2\" >0.435621</td>\n",
       "                        <td id=\"T_184289c6_9859_11e9_99ba_acde48001122row18_col3\" class=\"data row18 col3\" >0.454394</td>\n",
       "                        <td id=\"T_184289c6_9859_11e9_99ba_acde48001122row18_col4\" class=\"data row18 col4\" >0.335648</td>\n",
       "                        <td id=\"T_184289c6_9859_11e9_99ba_acde48001122row18_col5\" class=\"data row18 col5\" >-0.331563</td>\n",
       "                        <td id=\"T_184289c6_9859_11e9_99ba_acde48001122row18_col6\" class=\"data row18 col6\" >-0.30464</td>\n",
       "                        <td id=\"T_184289c6_9859_11e9_99ba_acde48001122row18_col7\" class=\"data row18 col7\" >-0.272729</td>\n",
       "                        <td id=\"T_184289c6_9859_11e9_99ba_acde48001122row18_col8\" class=\"data row18 col8\" >-0.319054</td>\n",
       "                        <td id=\"T_184289c6_9859_11e9_99ba_acde48001122row18_col9\" class=\"data row18 col9\" >-0.43158</td>\n",
       "                        <td id=\"T_184289c6_9859_11e9_99ba_acde48001122row18_col10\" class=\"data row18 col10\" >0.473775</td>\n",
       "                        <td id=\"T_184289c6_9859_11e9_99ba_acde48001122row18_col11\" class=\"data row18 col11\" >0.51557</td>\n",
       "                        <td id=\"T_184289c6_9859_11e9_99ba_acde48001122row18_col12\" class=\"data row18 col12\" >0.275154</td>\n",
       "                        <td id=\"T_184289c6_9859_11e9_99ba_acde48001122row18_col13\" class=\"data row18 col13\" >0.316486</td>\n",
       "                        <td id=\"T_184289c6_9859_11e9_99ba_acde48001122row18_col14\" class=\"data row18 col14\" >0.35988</td>\n",
       "                        <td id=\"T_184289c6_9859_11e9_99ba_acde48001122row18_col15\" class=\"data row18 col15\" >0.811304</td>\n",
       "                        <td id=\"T_184289c6_9859_11e9_99ba_acde48001122row18_col16\" class=\"data row18 col16\" >0.00866554</td>\n",
       "                        <td id=\"T_184289c6_9859_11e9_99ba_acde48001122row18_col17\" class=\"data row18 col17\" >0.999838</td>\n",
       "                        <td id=\"T_184289c6_9859_11e9_99ba_acde48001122row18_col18\" class=\"data row18 col18\" >1</td>\n",
       "                        <td id=\"T_184289c6_9859_11e9_99ba_acde48001122row18_col19\" class=\"data row18 col19\" >-0.429266</td>\n",
       "            </tr>\n",
       "            <tr>\n",
       "                        <th id=\"T_184289c6_9859_11e9_99ba_acde48001122level0_row19\" class=\"row_heading level0 row19\" >modindx</th>\n",
       "                        <td id=\"T_184289c6_9859_11e9_99ba_acde48001122row19_col0\" class=\"data row19 col0\" >-0.216979</td>\n",
       "                        <td id=\"T_184289c6_9859_11e9_99ba_acde48001122row19_col1\" class=\"data row19 col1\" >0.12266</td>\n",
       "                        <td id=\"T_184289c6_9859_11e9_99ba_acde48001122row19_col2\" class=\"data row19 col2\" >-0.213298</td>\n",
       "                        <td id=\"T_184289c6_9859_11e9_99ba_acde48001122row19_col3\" class=\"data row19 col3\" >-0.141377</td>\n",
       "                        <td id=\"T_184289c6_9859_11e9_99ba_acde48001122row19_col4\" class=\"data row19 col4\" >-0.216475</td>\n",
       "                        <td id=\"T_184289c6_9859_11e9_99ba_acde48001122row19_col5\" class=\"data row19 col5\" >0.0412524</td>\n",
       "                        <td id=\"T_184289c6_9859_11e9_99ba_acde48001122row19_col6\" class=\"data row19 col6\" >-0.169325</td>\n",
       "                        <td id=\"T_184289c6_9859_11e9_99ba_acde48001122row19_col7\" class=\"data row19 col7\" >-0.205539</td>\n",
       "                        <td id=\"T_184289c6_9859_11e9_99ba_acde48001122row19_col8\" class=\"data row19 col8\" >0.198074</td>\n",
       "                        <td id=\"T_184289c6_9859_11e9_99ba_acde48001122row19_col9\" class=\"data row19 col9\" >0.211477</td>\n",
       "                        <td id=\"T_184289c6_9859_11e9_99ba_acde48001122row19_col10\" class=\"data row19 col10\" >-0.182344</td>\n",
       "                        <td id=\"T_184289c6_9859_11e9_99ba_acde48001122row19_col11\" class=\"data row19 col11\" >-0.216979</td>\n",
       "                        <td id=\"T_184289c6_9859_11e9_99ba_acde48001122row19_col12\" class=\"data row19 col12\" >-0.0548579</td>\n",
       "                        <td id=\"T_184289c6_9859_11e9_99ba_acde48001122row19_col13\" class=\"data row19 col13\" >0.00204197</td>\n",
       "                        <td id=\"T_184289c6_9859_11e9_99ba_acde48001122row19_col14\" class=\"data row19 col14\" >-0.363029</td>\n",
       "                        <td id=\"T_184289c6_9859_11e9_99ba_acde48001122row19_col15\" class=\"data row19 col15\" >-0.180954</td>\n",
       "                        <td id=\"T_184289c6_9859_11e9_99ba_acde48001122row19_col16\" class=\"data row19 col16\" >0.200212</td>\n",
       "                        <td id=\"T_184289c6_9859_11e9_99ba_acde48001122row19_col17\" class=\"data row19 col17\" >-0.425531</td>\n",
       "                        <td id=\"T_184289c6_9859_11e9_99ba_acde48001122row19_col18\" class=\"data row19 col18\" >-0.429266</td>\n",
       "                        <td id=\"T_184289c6_9859_11e9_99ba_acde48001122row19_col19\" class=\"data row19 col19\" >1</td>\n",
       "            </tr>\n",
       "    </tbody></table>"
      ],
      "text/plain": [
       "<pandas.io.formats.style.Styler at 0x1a18e34320>"
      ]
     },
     "execution_count": 16,
     "metadata": {},
     "output_type": "execute_result"
    }
   ],
   "source": [
    "corr = df.corr()\n",
    "corr.style.background_gradient(cmap='coolwarm')"
   ]
  },
  {
   "cell_type": "code",
   "execution_count": 15,
   "metadata": {
    "_cell_guid": "8c9f6f78-3e24-bb65-8270-f9a795441d5e"
   },
   "outputs": [
    {
     "data": {
      "image/png": "[encoded data removed]",
      "text/plain": [
       "<Figure size 288x288 with 1 Axes>"
      ]
     },
     "metadata": {
      "image/png": {
       "height": 255,
       "width": 259
      },
      "needs_background": "light"
     },
     "output_type": "display_data"
    }
   ],
   "source": [
    "plt.matshow(df.corr())\n",
    "plt.show()"
   ]
  },
  {
   "cell_type": "markdown",
   "metadata": {
    "_cell_guid": "51c112a4-8b80-2a6a-5688-825581b9c1dd"
   },
   "source": [
    "# Checking whether there is any null values "
   ]
  },
  {
   "cell_type": "code",
   "execution_count": 17,
   "metadata": {
    "_cell_guid": "af637554-1c8d-cdf4-c76e-6429511dbcf7"
   },
   "outputs": [
    {
     "data": {
      "text/plain": [
       "meanfreq    0\n",
       "sd          0\n",
       "median      0\n",
       "Q25         0\n",
       "Q75         0\n",
       "IQR         0\n",
       "skew        0\n",
       "kurt        0\n",
       "sp.ent      0\n",
       "sfm         0\n",
       "mode        0\n",
       "centroid    0\n",
       "meanfun     0\n",
       "minfun      0\n",
       "maxfun      0\n",
       "meandom     0\n",
       "mindom      0\n",
       "maxdom      0\n",
       "dfrange     0\n",
       "modindx     0\n",
       "label       0\n",
       "dtype: int64"
      ]
     },
     "execution_count": 17,
     "metadata": {},
     "output_type": "execute_result"
    }
   ],
   "source": [
    "df.isnull().sum()"
   ]
  },
  {
   "cell_type": "code",
   "execution_count": 18,
   "metadata": {
    "_cell_guid": "da3a570c-0527-1f21-a980-edebea590239"
   },
   "outputs": [
    {
     "data": {
      "text/plain": [
       "(3168, 21)"
      ]
     },
     "execution_count": 18,
     "metadata": {},
     "output_type": "execute_result"
    }
   ],
   "source": [
    "df.shape"
   ]
  },
  {
   "cell_type": "code",
   "execution_count": 19,
   "metadata": {
    "_cell_guid": "fe354f60-1504-a06e-9675-c80c755bf66f"
   },
   "outputs": [
    {
     "name": "stdout",
     "output_type": "stream",
     "text": [
      "Total number of labels: 3168\n",
      "Number of male: 1584\n",
      "Number of female: 1584\n"
     ]
    }
   ],
   "source": [
    "print(\"Total number of labels: {}\".format(df.shape[0]))\n",
    "print(\"Number of male: {}\".format(df[df.label == 'male'].shape[0]))\n",
    "print(\"Number of female: {}\".format(df[df.label == 'female'].shape[0]))"
   ]
  },
  {
   "cell_type": "markdown",
   "metadata": {
    "_cell_guid": "af99e2cb-9132-7c97-3dce-6a81c6b85bb9"
   },
   "source": [
    "Thus we can see there are equal number of male and female labels"
   ]
  },
  {
   "cell_type": "code",
   "execution_count": 20,
   "metadata": {
    "_cell_guid": "78f518d5-a32d-376f-d132-1250bd0b7544"
   },
   "outputs": [
    {
     "data": {
      "text/plain": [
       "(3168, 21)"
      ]
     },
     "execution_count": 20,
     "metadata": {},
     "output_type": "execute_result"
    }
   ],
   "source": [
    "df.shape"
   ]
  },
  {
   "cell_type": "markdown",
   "metadata": {
    "_cell_guid": "85fbbf85-f199-9528-8147-7583154c4c6e"
   },
   "source": [
    "There are 21 features and 3168 instances."
   ]
  },
  {
   "cell_type": "markdown",
   "metadata": {
    "_cell_guid": "35926698-93b2-6af7-7647-20e876461359"
   },
   "source": [
    "# Separating features and labels"
   ]
  },
  {
   "cell_type": "code",
   "execution_count": 21,
   "metadata": {
    "_cell_guid": "36d5feea-f653-99c9-aa5d-a60c9f0d20f8"
   },
   "outputs": [
    {
     "data": {
      "text/html": [
       "<div>\n",
       "<style scoped>\n",
       "    .dataframe tbody tr th:only-of-type {\n",
       "        vertical-align: middle;\n",
       "    }\n",
       "\n",
       "    .dataframe tbody tr th {\n",
       "        vertical-align: top;\n",
       "    }\n",
       "\n",
       "    .dataframe thead th {\n",
       "        text-align: right;\n",
       "    }\n",
       "</style>\n",
       "<table border=\"1\" class=\"dataframe\">\n",
       "  <thead>\n",
       "    <tr style=\"text-align: right;\">\n",
       "      <th></th>\n",
       "      <th>meanfreq</th>\n",
       "      <th>sd</th>\n",
       "      <th>median</th>\n",
       "      <th>Q25</th>\n",
       "      <th>Q75</th>\n",
       "      <th>IQR</th>\n",
       "      <th>skew</th>\n",
       "      <th>kurt</th>\n",
       "      <th>sp.ent</th>\n",
       "      <th>sfm</th>\n",
       "      <th>mode</th>\n",
       "      <th>centroid</th>\n",
       "      <th>meanfun</th>\n",
       "      <th>minfun</th>\n",
       "      <th>maxfun</th>\n",
       "      <th>meandom</th>\n",
       "      <th>mindom</th>\n",
       "      <th>maxdom</th>\n",
       "      <th>dfrange</th>\n",
       "      <th>modindx</th>\n",
       "    </tr>\n",
       "  </thead>\n",
       "  <tbody>\n",
       "    <tr>\n",
       "      <th>0</th>\n",
       "      <td>0.059781</td>\n",
       "      <td>0.064241</td>\n",
       "      <td>0.032027</td>\n",
       "      <td>0.015071</td>\n",
       "      <td>0.090193</td>\n",
       "      <td>0.075122</td>\n",
       "      <td>12.863462</td>\n",
       "      <td>274.402906</td>\n",
       "      <td>0.893369</td>\n",
       "      <td>0.491918</td>\n",
       "      <td>0.000000</td>\n",
       "      <td>0.059781</td>\n",
       "      <td>0.084279</td>\n",
       "      <td>0.015702</td>\n",
       "      <td>0.275862</td>\n",
       "      <td>0.007812</td>\n",
       "      <td>0.007812</td>\n",
       "      <td>0.007812</td>\n",
       "      <td>0.000000</td>\n",
       "      <td>0.000000</td>\n",
       "    </tr>\n",
       "    <tr>\n",
       "      <th>1</th>\n",
       "      <td>0.066009</td>\n",
       "      <td>0.067310</td>\n",
       "      <td>0.040229</td>\n",
       "      <td>0.019414</td>\n",
       "      <td>0.092666</td>\n",
       "      <td>0.073252</td>\n",
       "      <td>22.423285</td>\n",
       "      <td>634.613855</td>\n",
       "      <td>0.892193</td>\n",
       "      <td>0.513724</td>\n",
       "      <td>0.000000</td>\n",
       "      <td>0.066009</td>\n",
       "      <td>0.107937</td>\n",
       "      <td>0.015826</td>\n",
       "      <td>0.250000</td>\n",
       "      <td>0.009014</td>\n",
       "      <td>0.007812</td>\n",
       "      <td>0.054688</td>\n",
       "      <td>0.046875</td>\n",
       "      <td>0.052632</td>\n",
       "    </tr>\n",
       "    <tr>\n",
       "      <th>2</th>\n",
       "      <td>0.077316</td>\n",
       "      <td>0.083829</td>\n",
       "      <td>0.036718</td>\n",
       "      <td>0.008701</td>\n",
       "      <td>0.131908</td>\n",
       "      <td>0.123207</td>\n",
       "      <td>30.757155</td>\n",
       "      <td>1024.927705</td>\n",
       "      <td>0.846389</td>\n",
       "      <td>0.478905</td>\n",
       "      <td>0.000000</td>\n",
       "      <td>0.077316</td>\n",
       "      <td>0.098706</td>\n",
       "      <td>0.015656</td>\n",
       "      <td>0.271186</td>\n",
       "      <td>0.007990</td>\n",
       "      <td>0.007812</td>\n",
       "      <td>0.015625</td>\n",
       "      <td>0.007812</td>\n",
       "      <td>0.046512</td>\n",
       "    </tr>\n",
       "    <tr>\n",
       "      <th>3</th>\n",
       "      <td>0.151228</td>\n",
       "      <td>0.072111</td>\n",
       "      <td>0.158011</td>\n",
       "      <td>0.096582</td>\n",
       "      <td>0.207955</td>\n",
       "      <td>0.111374</td>\n",
       "      <td>1.232831</td>\n",
       "      <td>4.177296</td>\n",
       "      <td>0.963322</td>\n",
       "      <td>0.727232</td>\n",
       "      <td>0.083878</td>\n",
       "      <td>0.151228</td>\n",
       "      <td>0.088965</td>\n",
       "      <td>0.017798</td>\n",
       "      <td>0.250000</td>\n",
       "      <td>0.201497</td>\n",
       "      <td>0.007812</td>\n",
       "      <td>0.562500</td>\n",
       "      <td>0.554688</td>\n",
       "      <td>0.247119</td>\n",
       "    </tr>\n",
       "    <tr>\n",
       "      <th>4</th>\n",
       "      <td>0.135120</td>\n",
       "      <td>0.079146</td>\n",
       "      <td>0.124656</td>\n",
       "      <td>0.078720</td>\n",
       "      <td>0.206045</td>\n",
       "      <td>0.127325</td>\n",
       "      <td>1.101174</td>\n",
       "      <td>4.333713</td>\n",
       "      <td>0.971955</td>\n",
       "      <td>0.783568</td>\n",
       "      <td>0.104261</td>\n",
       "      <td>0.135120</td>\n",
       "      <td>0.106398</td>\n",
       "      <td>0.016931</td>\n",
       "      <td>0.266667</td>\n",
       "      <td>0.712812</td>\n",
       "      <td>0.007812</td>\n",
       "      <td>5.484375</td>\n",
       "      <td>5.476562</td>\n",
       "      <td>0.208274</td>\n",
       "    </tr>\n",
       "  </tbody>\n",
       "</table>\n",
       "</div>"
      ],
      "text/plain": [
       "   meanfreq        sd    median       Q25       Q75       IQR       skew  \\\n",
       "0  0.059781  0.064241  0.032027  0.015071  0.090193  0.075122  12.863462   \n",
       "1  0.066009  0.067310  0.040229  0.019414  0.092666  0.073252  22.423285   \n",
       "2  0.077316  0.083829  0.036718  0.008701  0.131908  0.123207  30.757155   \n",
       "3  0.151228  0.072111  0.158011  0.096582  0.207955  0.111374   1.232831   \n",
       "4  0.135120  0.079146  0.124656  0.078720  0.206045  0.127325   1.101174   \n",
       "\n",
       "          kurt    sp.ent       sfm      mode  centroid   meanfun    minfun  \\\n",
       "0   274.402906  0.893369  0.491918  0.000000  0.059781  0.084279  0.015702   \n",
       "1   634.613855  0.892193  0.513724  0.000000  0.066009  0.107937  0.015826   \n",
       "2  1024.927705  0.846389  0.478905  0.000000  0.077316  0.098706  0.015656   \n",
       "3     4.177296  0.963322  0.727232  0.083878  0.151228  0.088965  0.017798   \n",
       "4     4.333713  0.971955  0.783568  0.104261  0.135120  0.106398  0.016931   \n",
       "\n",
       "     maxfun   meandom    mindom    maxdom   dfrange   modindx  \n",
       "0  0.275862  0.007812  0.007812  0.007812  0.000000  0.000000  \n",
       "1  0.250000  0.009014  0.007812  0.054688  0.046875  0.052632  \n",
       "2  0.271186  0.007990  0.007812  0.015625  0.007812  0.046512  \n",
       "3  0.250000  0.201497  0.007812  0.562500  0.554688  0.247119  \n",
       "4  0.266667  0.712812  0.007812  5.484375  5.476562  0.208274  "
      ]
     },
     "execution_count": 21,
     "metadata": {},
     "output_type": "execute_result"
    }
   ],
   "source": [
    "X=df.iloc[:, :-1]\n",
    "X.head()"
   ]
  },
  {
   "cell_type": "markdown",
   "metadata": {
    "_cell_guid": "eabb15db-3594-8ad5-2a5b-10527ac27b88"
   },
   "source": [
    "# Converting string value to int type for labels\n",
    "\n",
    "Formt die Daten in 1 und 0 um."
   ]
  },
  {
   "cell_type": "code",
   "execution_count": 22,
   "metadata": {
    "_cell_guid": "d4681c81-0d46-deac-48a8-8238f7fe330c"
   },
   "outputs": [
    {
     "data": {
      "text/plain": [
       "array([1, 1, 1, ..., 0, 0, 0])"
      ]
     },
     "execution_count": 22,
     "metadata": {},
     "output_type": "execute_result"
    }
   ],
   "source": [
    "from sklearn.preprocessing import LabelEncoder\n",
    "y=df.iloc[:,-1]\n",
    "\n",
    "# Encode label category\n",
    "# male -> 1\n",
    "# female -> 0\n",
    "\n",
    "gender_encoder = LabelEncoder()\n",
    "y = gender_encoder.fit_transform(y)\n",
    "y"
   ]
  },
  {
   "cell_type": "markdown",
   "metadata": {
    "_cell_guid": "c4badc10-5597-845a-85e2-c8cbf4c3e0d4"
   },
   "source": [
    "# Data Standardisation\n",
    "Standardization refers to shifting the distribution of each attribute to have a mean of zero and a standard deviation of one (unit variance). It is useful to standardize attributes for a model. Standardization of datasets is a common requirement for many machine learning estimators implemented in scikit-learn; they might behave badly if the individual features do not more or less look like standard normally distributed data."
   ]
  },
  {
   "cell_type": "code",
   "execution_count": 24,
   "metadata": {
    "_cell_guid": "3c999a7a-cded-223a-3b4f-55ee8fbbdb7e"
   },
   "outputs": [],
   "source": [
    "# Scale the data to be between -1 and 1\n",
    "from sklearn.preprocessing import StandardScaler\n",
    "scaler = StandardScaler()\n",
    "scaler.fit(X)\n",
    "X = scaler.transform(X)"
   ]
  },
  {
   "cell_type": "markdown",
   "metadata": {
    "_cell_guid": "31ce4128-0a4a-ae10-3a25-1c362398295c"
   },
   "source": [
    "# Splitting dataset into training set and testing set for better generalisation"
   ]
  },
  {
   "cell_type": "code",
   "execution_count": 25,
   "metadata": {
    "_cell_guid": "ea416e41-d033-34de-6e28-5725be182435"
   },
   "outputs": [],
   "source": [
    "from sklearn.model_selection import train_test_split\n",
    "X_train, X_test, y_train, y_test = train_test_split(X, y, test_size=0.2, random_state=1)"
   ]
  },
  {
   "cell_type": "markdown",
   "metadata": {
    "_cell_guid": "416eb826-73fc-bbd2-0676-2a803ae9327b"
   },
   "source": [
    "# Running SVM with default hyperparameter."
   ]
  },
  {
   "cell_type": "code",
   "execution_count": 26,
   "metadata": {
    "_cell_guid": "05ccf988-5612-03ac-5d2f-122baa32ab19"
   },
   "outputs": [
    {
     "name": "stdout",
     "output_type": "stream",
     "text": [
      "Accuracy Score:\n",
      "0.9763406940063092\n"
     ]
    },
    {
     "name": "stderr",
     "output_type": "stream",
     "text": [
      "/anaconda3/lib/python3.7/site-packages/sklearn/svm/base.py:196: FutureWarning: The default value of gamma will change from 'auto' to 'scale' in version 0.22 to account better for unscaled features. Set gamma explicitly to 'auto' or 'scale' to avoid this warning.\n",
      "  \"avoid this warning.\", FutureWarning)\n"
     ]
    }
   ],
   "source": [
    "from sklearn.svm import SVC\n",
    "from sklearn import metrics\n",
    "svc=SVC() #Default hyperparameters\n",
    "svc.fit(X_train,y_train)\n",
    "y_pred=svc.predict(X_test)\n",
    "print('Accuracy Score:')\n",
    "print(metrics.accuracy_score(y_test,y_pred))"
   ]
  },
  {
   "cell_type": "markdown",
   "metadata": {
    "_cell_guid": "e5548edc-79be-2f23-a994-ddb73e82ee22"
   },
   "source": [
    "# Default Linear kernel"
   ]
  },
  {
   "cell_type": "code",
   "execution_count": 27,
   "metadata": {
    "_cell_guid": "fd19993f-2f0d-c9da-e944-3206e6a292c0"
   },
   "outputs": [
    {
     "name": "stdout",
     "output_type": "stream",
     "text": [
      "Accuracy Score:\n",
      "0.9779179810725552\n"
     ]
    }
   ],
   "source": [
    "svc=SVC(kernel='linear')\n",
    "svc.fit(X_train,y_train)\n",
    "y_pred=svc.predict(X_test)\n",
    "print('Accuracy Score:')\n",
    "print(metrics.accuracy_score(y_test,y_pred))"
   ]
  },
  {
   "cell_type": "markdown",
   "metadata": {
    "_cell_guid": "12039039-6d6e-915c-d213-50c102eb3c09"
   },
   "source": [
    "# Default RBF kernel"
   ]
  },
  {
   "cell_type": "code",
   "execution_count": 28,
   "metadata": {
    "_cell_guid": "61a30229-7028-815d-631f-1b24343da1b3"
   },
   "outputs": [
    {
     "name": "stdout",
     "output_type": "stream",
     "text": [
      "Accuracy Score:\n",
      "0.9763406940063092\n"
     ]
    },
    {
     "name": "stderr",
     "output_type": "stream",
     "text": [
      "/anaconda3/lib/python3.7/site-packages/sklearn/svm/base.py:196: FutureWarning: The default value of gamma will change from 'auto' to 'scale' in version 0.22 to account better for unscaled features. Set gamma explicitly to 'auto' or 'scale' to avoid this warning.\n",
      "  \"avoid this warning.\", FutureWarning)\n"
     ]
    }
   ],
   "source": [
    "svc=SVC(kernel='rbf')\n",
    "svc.fit(X_train,y_train)\n",
    "y_pred=svc.predict(X_test)\n",
    "print('Accuracy Score:')\n",
    "print(metrics.accuracy_score(y_test,y_pred))"
   ]
  },
  {
   "cell_type": "markdown",
   "metadata": {
    "_cell_guid": "200005e4-4577-0fc3-e833-a438cbf5ceff"
   },
   "source": [
    "We can conclude from above that svm by default uses **rbf** kernel as a parameter for kernel"
   ]
  },
  {
   "cell_type": "markdown",
   "metadata": {
    "_cell_guid": "3392a4d6-6ed0-49d0-7868-038f2489e8c8"
   },
   "source": [
    "# Default Polynomial kernel"
   ]
  },
  {
   "cell_type": "code",
   "execution_count": 29,
   "metadata": {
    "_cell_guid": "8a705a2e-0d6f-6d2a-45fd-358513529f75"
   },
   "outputs": [
    {
     "name": "stdout",
     "output_type": "stream",
     "text": [
      "Accuracy Score:\n",
      "0.9589905362776026\n"
     ]
    },
    {
     "name": "stderr",
     "output_type": "stream",
     "text": [
      "/anaconda3/lib/python3.7/site-packages/sklearn/svm/base.py:196: FutureWarning: The default value of gamma will change from 'auto' to 'scale' in version 0.22 to account better for unscaled features. Set gamma explicitly to 'auto' or 'scale' to avoid this warning.\n",
      "  \"avoid this warning.\", FutureWarning)\n"
     ]
    }
   ],
   "source": [
    "svc=SVC(kernel='poly')\n",
    "svc.fit(X_train,y_train)\n",
    "y_pred=svc.predict(X_test)\n",
    "print('Accuracy Score:')\n",
    "print(metrics.accuracy_score(y_test,y_pred))"
   ]
  },
  {
   "cell_type": "markdown",
   "metadata": {
    "_cell_guid": "fc3a244d-4ef3-34f4-eb3a-3286772145b2"
   },
   "source": [
    "Polynomial kernel is performing poorly.The reason behind this maybe it is overfitting the training dataset"
   ]
  },
  {
   "cell_type": "markdown",
   "metadata": {
    "_cell_guid": "a54fb78f-de14-da2f-fe18-605b3f5180d5"
   },
   "source": [
    "# Performing K-fold cross validation with different kernels"
   ]
  },
  {
   "cell_type": "markdown",
   "metadata": {
    "_cell_guid": "ad1fe233-c013-d253-9596-f23e1a11c347"
   },
   "source": [
    "# CV on Linear kernel"
   ]
  },
  {
   "cell_type": "code",
   "execution_count": 31,
   "metadata": {
    "_cell_guid": "25f97e10-5a1c-103a-4be1-f9d766ade49d"
   },
   "outputs": [
    {
     "name": "stdout",
     "output_type": "stream",
     "text": [
      "[0.91194969 0.97169811 0.97169811 0.97169811 0.96202532 0.98734177\n",
      " 0.99050633 0.98101266 0.95253165 0.99367089]\n"
     ]
    }
   ],
   "source": [
    "from sklearn.model_selection import cross_val_score\n",
    "svc=SVC(kernel='linear')\n",
    "scores = cross_val_score(svc, X, y, cv=10, scoring='accuracy') #cv is cross validation\n",
    "print(scores)"
   ]
  },
  {
   "cell_type": "markdown",
   "metadata": {
    "_cell_guid": "f1e11e9e-0d61-70cb-8d80-3c31fcce6cef"
   },
   "source": [
    "We can see above how the accuracy score is different everytime.This shows that accuracy score depends upon how the datasets got split."
   ]
  },
  {
   "cell_type": "code",
   "execution_count": 32,
   "metadata": {
    "_cell_guid": "a2e7ab72-5fa9-3e54-d59c-b2b4c24ed7dc"
   },
   "outputs": [
    {
     "name": "stdout",
     "output_type": "stream",
     "text": [
      "0.9694132632752168\n"
     ]
    }
   ],
   "source": [
    "print(scores.mean())"
   ]
  },
  {
   "cell_type": "markdown",
   "metadata": {
    "_cell_guid": "6d61c1df-0285-0a0e-64ad-c2bef642e15d"
   },
   "source": [
    "In K-fold cross validation we generally take the mean of all the scores."
   ]
  },
  {
   "cell_type": "markdown",
   "metadata": {
    "_cell_guid": "5236f0a2-7d83-d6cb-fb88-2aacf70fea4c"
   },
   "source": [
    "# CV on rbf kernel"
   ]
  },
  {
   "cell_type": "code",
   "execution_count": 36,
   "metadata": {
    "_cell_guid": "e7015bbc-ea05-d4e9-c50b-ee48149fd2bf"
   },
   "outputs": [
    {
     "name": "stderr",
     "output_type": "stream",
     "text": [
      "/anaconda3/lib/python3.7/site-packages/sklearn/svm/base.py:196: FutureWarning: The default value of gamma will change from 'auto' to 'scale' in version 0.22 to account better for unscaled features. Set gamma explicitly to 'auto' or 'scale' to avoid this warning.\n",
      "  \"avoid this warning.\", FutureWarning)\n",
      "/anaconda3/lib/python3.7/site-packages/sklearn/svm/base.py:196: FutureWarning: The default value of gamma will change from 'auto' to 'scale' in version 0.22 to account better for unscaled features. Set gamma explicitly to 'auto' or 'scale' to avoid this warning.\n",
      "  \"avoid this warning.\", FutureWarning)\n",
      "/anaconda3/lib/python3.7/site-packages/sklearn/svm/base.py:196: FutureWarning: The default value of gamma will change from 'auto' to 'scale' in version 0.22 to account better for unscaled features. Set gamma explicitly to 'auto' or 'scale' to avoid this warning.\n",
      "  \"avoid this warning.\", FutureWarning)\n",
      "/anaconda3/lib/python3.7/site-packages/sklearn/svm/base.py:196: FutureWarning: The default value of gamma will change from 'auto' to 'scale' in version 0.22 to account better for unscaled features. Set gamma explicitly to 'auto' or 'scale' to avoid this warning.\n",
      "  \"avoid this warning.\", FutureWarning)\n",
      "/anaconda3/lib/python3.7/site-packages/sklearn/svm/base.py:196: FutureWarning: The default value of gamma will change from 'auto' to 'scale' in version 0.22 to account better for unscaled features. Set gamma explicitly to 'auto' or 'scale' to avoid this warning.\n",
      "  \"avoid this warning.\", FutureWarning)\n",
      "/anaconda3/lib/python3.7/site-packages/sklearn/svm/base.py:196: FutureWarning: The default value of gamma will change from 'auto' to 'scale' in version 0.22 to account better for unscaled features. Set gamma explicitly to 'auto' or 'scale' to avoid this warning.\n",
      "  \"avoid this warning.\", FutureWarning)\n",
      "/anaconda3/lib/python3.7/site-packages/sklearn/svm/base.py:196: FutureWarning: The default value of gamma will change from 'auto' to 'scale' in version 0.22 to account better for unscaled features. Set gamma explicitly to 'auto' or 'scale' to avoid this warning.\n",
      "  \"avoid this warning.\", FutureWarning)\n",
      "/anaconda3/lib/python3.7/site-packages/sklearn/svm/base.py:196: FutureWarning: The default value of gamma will change from 'auto' to 'scale' in version 0.22 to account better for unscaled features. Set gamma explicitly to 'auto' or 'scale' to avoid this warning.\n",
      "  \"avoid this warning.\", FutureWarning)\n",
      "/anaconda3/lib/python3.7/site-packages/sklearn/svm/base.py:196: FutureWarning: The default value of gamma will change from 'auto' to 'scale' in version 0.22 to account better for unscaled features. Set gamma explicitly to 'auto' or 'scale' to avoid this warning.\n",
      "  \"avoid this warning.\", FutureWarning)\n",
      "/anaconda3/lib/python3.7/site-packages/sklearn/svm/base.py:196: FutureWarning: The default value of gamma will change from 'auto' to 'scale' in version 0.22 to account better for unscaled features. Set gamma explicitly to 'auto' or 'scale' to avoid this warning.\n",
      "  \"avoid this warning.\", FutureWarning)\n"
     ]
    },
    {
     "name": "stdout",
     "output_type": "stream",
     "text": [
      "[0.93396226 0.95597484 0.96855346 0.9591195  0.96835443 0.99683544\n",
      " 0.98734177 0.98101266 0.91455696 0.99367089]\n"
     ]
    }
   ],
   "source": [
    "svc=SVC(kernel='rbf')\n",
    "scores = cross_val_score(svc, X, y, cv=10, scoring='accuracy') #cv is cross validation\n",
    "print(scores)"
   ]
  },
  {
   "cell_type": "code",
   "execution_count": 37,
   "metadata": {
    "_cell_guid": "fb9609a2-6e5c-4a8f-e273-12916ea7215f"
   },
   "outputs": [
    {
     "name": "stdout",
     "output_type": "stream",
     "text": [
      "0.9659382214791815\n"
     ]
    }
   ],
   "source": [
    "print(scores.mean())"
   ]
  },
  {
   "cell_type": "markdown",
   "metadata": {
    "_cell_guid": "9e261f77-d75e-f6f5-833b-a30a9feee04d"
   },
   "source": [
    "# CV on Polynomial kernel"
   ]
  },
  {
   "cell_type": "code",
   "execution_count": 38,
   "metadata": {
    "_cell_guid": "fd133fd6-c088-6803-8d59-5e5739674689"
   },
   "outputs": [
    {
     "name": "stderr",
     "output_type": "stream",
     "text": [
      "/anaconda3/lib/python3.7/site-packages/sklearn/svm/base.py:196: FutureWarning: The default value of gamma will change from 'auto' to 'scale' in version 0.22 to account better for unscaled features. Set gamma explicitly to 'auto' or 'scale' to avoid this warning.\n",
      "  \"avoid this warning.\", FutureWarning)\n",
      "/anaconda3/lib/python3.7/site-packages/sklearn/svm/base.py:196: FutureWarning: The default value of gamma will change from 'auto' to 'scale' in version 0.22 to account better for unscaled features. Set gamma explicitly to 'auto' or 'scale' to avoid this warning.\n",
      "  \"avoid this warning.\", FutureWarning)\n",
      "/anaconda3/lib/python3.7/site-packages/sklearn/svm/base.py:196: FutureWarning: The default value of gamma will change from 'auto' to 'scale' in version 0.22 to account better for unscaled features. Set gamma explicitly to 'auto' or 'scale' to avoid this warning.\n",
      "  \"avoid this warning.\", FutureWarning)\n",
      "/anaconda3/lib/python3.7/site-packages/sklearn/svm/base.py:196: FutureWarning: The default value of gamma will change from 'auto' to 'scale' in version 0.22 to account better for unscaled features. Set gamma explicitly to 'auto' or 'scale' to avoid this warning.\n",
      "  \"avoid this warning.\", FutureWarning)\n",
      "/anaconda3/lib/python3.7/site-packages/sklearn/svm/base.py:196: FutureWarning: The default value of gamma will change from 'auto' to 'scale' in version 0.22 to account better for unscaled features. Set gamma explicitly to 'auto' or 'scale' to avoid this warning.\n",
      "  \"avoid this warning.\", FutureWarning)\n",
      "/anaconda3/lib/python3.7/site-packages/sklearn/svm/base.py:196: FutureWarning: The default value of gamma will change from 'auto' to 'scale' in version 0.22 to account better for unscaled features. Set gamma explicitly to 'auto' or 'scale' to avoid this warning.\n",
      "  \"avoid this warning.\", FutureWarning)\n",
      "/anaconda3/lib/python3.7/site-packages/sklearn/svm/base.py:196: FutureWarning: The default value of gamma will change from 'auto' to 'scale' in version 0.22 to account better for unscaled features. Set gamma explicitly to 'auto' or 'scale' to avoid this warning.\n",
      "  \"avoid this warning.\", FutureWarning)\n",
      "/anaconda3/lib/python3.7/site-packages/sklearn/svm/base.py:196: FutureWarning: The default value of gamma will change from 'auto' to 'scale' in version 0.22 to account better for unscaled features. Set gamma explicitly to 'auto' or 'scale' to avoid this warning.\n",
      "  \"avoid this warning.\", FutureWarning)\n"
     ]
    },
    {
     "name": "stdout",
     "output_type": "stream",
     "text": [
      "[0.89937107 0.94654088 0.93081761 0.91509434 0.95886076 1.\n",
      " 0.98101266 0.96835443 0.87974684 0.9778481 ]\n"
     ]
    },
    {
     "name": "stderr",
     "output_type": "stream",
     "text": [
      "/anaconda3/lib/python3.7/site-packages/sklearn/svm/base.py:196: FutureWarning: The default value of gamma will change from 'auto' to 'scale' in version 0.22 to account better for unscaled features. Set gamma explicitly to 'auto' or 'scale' to avoid this warning.\n",
      "  \"avoid this warning.\", FutureWarning)\n",
      "/anaconda3/lib/python3.7/site-packages/sklearn/svm/base.py:196: FutureWarning: The default value of gamma will change from 'auto' to 'scale' in version 0.22 to account better for unscaled features. Set gamma explicitly to 'auto' or 'scale' to avoid this warning.\n",
      "  \"avoid this warning.\", FutureWarning)\n"
     ]
    }
   ],
   "source": [
    "svc=SVC(kernel='poly')\n",
    "scores = cross_val_score(svc, X, y, cv=10, scoring='accuracy') #cv is cross validation\n",
    "print(scores)"
   ]
  },
  {
   "cell_type": "code",
   "execution_count": 39,
   "metadata": {
    "_cell_guid": "e07031f3-a32c-46e3-7cce-ba873870f3fe"
   },
   "outputs": [
    {
     "name": "stdout",
     "output_type": "stream",
     "text": [
      "0.9457646684181196\n"
     ]
    }
   ],
   "source": [
    "print(scores.mean())"
   ]
  },
  {
   "cell_type": "markdown",
   "metadata": {
    "_cell_guid": "7a264296-51e3-904b-ab6b-4f86d0358f53"
   },
   "source": [
    "**When K-fold cross validation is done we can see different score in each iteration.This happens because when we use train_test_split method,the dataset get split in random manner into testing and training dataset.Thus it depends on how the dataset got split and which samples are training set and which samples are in testing set.**\n",
    "\n",
    "**With K-fold cross validation we can see that the dataset got split into 10 equal parts thus covering all the data into training as well into testing set.This is the reason we got 10 different accuracy score.**"
   ]
  },
  {
   "cell_type": "markdown",
   "metadata": {
    "_cell_guid": "0912611e-a132-cd7e-edcf-8f63603a7f38"
   },
   "source": [
    "### Taking all the values of C and checking out the accuracy score with kernel as linear."
   ]
  },
  {
   "cell_type": "markdown",
   "metadata": {
    "_cell_guid": "cad5cfc0-be06-ff7f-bb83-0d8e168d0cbf"
   },
   "source": [
    "**The C parameter tells the SVM optimization how much you want to avoid misclassifying each training example. For large values of C, the optimization will choose a smaller-margin hyperplane if that hyperplane does a better job of getting all the training points classified correctly. Conversely, a very small value of C will cause the optimizer to look for a larger-margin separating hyperplane, even if that hyperplane misclassifies more points.**\n",
    "\n",
    "**Thus for a very large values we can cause overfitting of the model and for a very small value of C we can cause underfitting.Thus the value of C must be chosen in such a manner that it generalised the unseen data well**"
   ]
  },
  {
   "cell_type": "code",
   "execution_count": 41,
   "metadata": {
    "_cell_guid": "75bfb3a4-06d5-c828-23bb-a03ffea9b6c7"
   },
   "outputs": [
    {
     "name": "stdout",
     "output_type": "stream",
     "text": [
      "[0.9694132632752168, 0.9687843324576069, 0.9687843324576069, 0.9687843324576069, 0.9690987978664118, 0.9694132632752168, 0.9690987978664118, 0.9687843324576069, 0.9684698670488018, 0.9684698670488018, 0.9684698670488018, 0.9684698670488018, 0.9681534113525991, 0.9681534113525991, 0.9681534113525991, 0.9681534113525991, 0.9678369556563966, 0.9678369556563966, 0.9678369556563966, 0.9678369556563966, 0.9681534113525991, 0.9684678767614043, 0.9684678767614043, 0.9681514210652018, 0.9681514210652018]\n"
     ]
    }
   ],
   "source": [
    "C_range=list(range(1,26))\n",
    "acc_score=[]\n",
    "for c in C_range:\n",
    "    svc = SVC(kernel='linear', C=c)\n",
    "    scores = cross_val_score(svc, X, y, cv=10, scoring='accuracy')\n",
    "    acc_score.append(scores.mean())\n",
    "print(acc_score)    \n",
    "    "
   ]
  },
  {
   "cell_type": "code",
   "execution_count": 42,
   "metadata": {
    "_cell_guid": "d7d004c8-458f-ae86-d777-ab92b253df34"
   },
   "outputs": [
    {
     "data": {
      "text/plain": [
       "Text(0, 0.5, 'Cross-Validated Accuracy')"
      ]
     },
     "execution_count": 42,
     "metadata": {},
     "output_type": "execute_result"
    },
    {
     "data": {
      "image/png": "[encoded data removed]",
      "text/plain": [
       "<Figure size 432x288 with 1 Axes>"
      ]
     },
     "metadata": {
      "image/png": {
       "height": 263,
       "width": 408
      },
      "needs_background": "light"
     },
     "output_type": "display_data"
    }
   ],
   "source": [
    "import matplotlib.pyplot as plt\n",
    "%matplotlib inline\n",
    "\n",
    "\n",
    "C_values=list(range(1,26))\n",
    "# plot the value of C for SVM (x-axis) versus the cross-validated accuracy (y-axis)\n",
    "plt.plot(C_values,acc_score)\n",
    "plt.xticks(np.arange(0,27,2))\n",
    "plt.xlabel('Value of C for SVC')\n",
    "plt.ylabel('Cross-Validated Accuracy')"
   ]
  },
  {
   "cell_type": "markdown",
   "metadata": {
    "_cell_guid": "d9c892c1-0923-a8e3-53bf-40886621828c"
   },
   "source": [
    "**From the above plot we can see that accuracy has been close to 97% for C=1 and C=6 and then it drops around 96.8% and remains constant.**"
   ]
  },
  {
   "cell_type": "markdown",
   "metadata": {
    "_cell_guid": "37666b87-8625-668f-6984-61be1852635b"
   },
   "source": [
    "### Let us look into more detail of what is the exact value of C which is giving us a good accuracy score"
   ]
  },
  {
   "cell_type": "code",
   "execution_count": 43,
   "metadata": {
    "_cell_guid": "49795d4a-e816-45e5-7404-881df395f894"
   },
   "outputs": [
    {
     "name": "stdout",
     "output_type": "stream",
     "text": [
      "[0.9700481649550194, 0.9691007881538095, 0.9690987978664118, 0.9690987978664118, 0.9694132632752168, 0.9694132632752168, 0.9697277286840219, 0.9694112729878194, 0.9690968075790144, 0.9694132632752168, 0.9694132632752168, 0.9694132632752168, 0.9694132632752168, 0.9687823421702095, 0.9690987978664118, 0.9690987978664118, 0.9690987978664118, 0.9690987978664118, 0.9687843324576069, 0.9687843324576069, 0.9690987978664118, 0.9690987978664118, 0.9687843324576069, 0.9687843324576069, 0.9687843324576069, 0.9687843324576069, 0.9687843324576069, 0.9687843324576069, 0.9687843324576069, 0.9687843324576069, 0.9687843324576069, 0.9687843324576069, 0.9687843324576069, 0.9687843324576069, 0.9687843324576069, 0.9687843324576069, 0.9687843324576069, 0.9687843324576069, 0.9687843324576069, 0.9687843324576069, 0.9687843324576069, 0.9687843324576069, 0.9687843324576069, 0.9687843324576069, 0.9687843324576069, 0.9687843324576069, 0.9690987978664118, 0.9690987978664118, 0.9690987978664118, 0.9690987978664118, 0.9690987978664118, 0.9690987978664118, 0.9690987978664118, 0.9690987978664118, 0.9690987978664118, 0.9694132632752168, 0.9694132632752168, 0.9694132632752168, 0.9694132632752168]\n"
     ]
    }
   ],
   "source": [
    "C_range=list(np.arange(0.1,6,0.1))\n",
    "acc_score=[]\n",
    "for c in C_range:\n",
    "    svc = SVC(kernel='linear', C=c)\n",
    "    scores = cross_val_score(svc, X, y, cv=10, scoring='accuracy')\n",
    "    acc_score.append(scores.mean())\n",
    "print(acc_score)    \n",
    "    "
   ]
  },
  {
   "cell_type": "code",
   "execution_count": 44,
   "metadata": {
    "_cell_guid": "ab18923a-5802-45e4-6290-37b6ea89eb86"
   },
   "outputs": [
    {
     "data": {
      "text/plain": [
       "Text(0, 0.5, 'Cross-Validated Accuracy')"
      ]
     },
     "execution_count": 44,
     "metadata": {},
     "output_type": "execute_result"
    },
    {
     "data": {
      "image/png": "[encoded data removed]",
      "text/plain": [
       "<Figure size 432x288 with 1 Axes>"
      ]
     },
     "metadata": {
      "image/png": {
       "height": 263,
       "width": 406
      },
      "needs_background": "light"
     },
     "output_type": "display_data"
    }
   ],
   "source": [
    "import matplotlib.pyplot as plt\n",
    "%matplotlib inline\n",
    "\n",
    "C_values=list(np.arange(0.1,6,0.1))\n",
    "# plot the value of C for SVM (x-axis) versus the cross-validated accuracy (y-axis)\n",
    "plt.plot(C_values,acc_score)\n",
    "plt.xticks(np.arange(0.0,6,0.3))\n",
    "plt.xlabel('Value of C for SVC ')\n",
    "plt.ylabel('Cross-Validated Accuracy')"
   ]
  },
  {
   "cell_type": "markdown",
   "metadata": {
    "_cell_guid": "d604755b-9603-9f61-d8d7-c533ba9851a9"
   },
   "source": [
    "### Accuracy score is highest for C=0.1."
   ]
  },
  {
   "cell_type": "markdown",
   "metadata": {
    "_cell_guid": "a8d63c32-a177-b287-08c4-f85f144c6324"
   },
   "source": [
    "### Taking kernel as **rbf** and taking different values gamma"
   ]
  },
  {
   "cell_type": "markdown",
   "metadata": {
    "_cell_guid": "dea9c10d-0351-e3fd-0e11-50a7dd18c310"
   },
   "source": [
    "**Technically, the gamma parameter is the inverse of the standard deviation of the RBF kernel (Gaussian function), which is used as similarity measure between two points. Intuitively, a small gamma value define a Gaussian function with a large variance. In this case, two points can be considered similar even if are far from each other. In the other hand, a large gamma value means define a Gaussian function with a small variance and in this case, two points are considered similar just if they are close to each other**"
   ]
  },
  {
   "cell_type": "code",
   "execution_count": 45,
   "metadata": {
    "_cell_guid": "282b0fe3-0b34-d692-7412-8acab5711326"
   },
   "outputs": [
    {
     "name": "stdout",
     "output_type": "stream",
     "text": [
      "[0.8878114799777087, 0.9552463975798107, 0.9681514210652018, 0.9630960910755512, 0.9072366849773108, 0.5955377756548046, 0.5]\n"
     ]
    }
   ],
   "source": [
    "gamma_range=[0.0001,0.001,0.01,0.1,1,10,100]\n",
    "acc_score=[]\n",
    "for g in gamma_range:\n",
    "    svc = SVC(kernel='rbf', gamma=g)\n",
    "    scores = cross_val_score(svc, X, y, cv=10, scoring='accuracy')\n",
    "    acc_score.append(scores.mean())\n",
    "print(acc_score)    \n",
    "    "
   ]
  },
  {
   "cell_type": "code",
   "execution_count": 46,
   "metadata": {
    "_cell_guid": "22bc0e0e-fdfc-6c6d-c9c5-8863f818254f"
   },
   "outputs": [
    {
     "data": {
      "text/plain": [
       "Text(0, 0.5, 'Cross-Validated Accuracy')"
      ]
     },
     "execution_count": 46,
     "metadata": {},
     "output_type": "execute_result"
    },
    {
     "data": {
      "image/png": "[encoded data removed]",
      "text/plain": [
       "<Figure size 432x288 with 1 Axes>"
      ]
     },
     "metadata": {
      "image/png": {
       "height": 263,
       "width": 387
      },
      "needs_background": "light"
     },
     "output_type": "display_data"
    }
   ],
   "source": [
    "import matplotlib.pyplot as plt\n",
    "%matplotlib inline\n",
    "\n",
    "gamma_range=[0.0001,0.001,0.01,0.1,1,10,100]\n",
    "\n",
    "# plot the value of C for SVM (x-axis) versus the cross-validated accuracy (y-axis)\n",
    "plt.plot(gamma_range,acc_score)\n",
    "plt.xlabel('Value of gamma for SVC ')\n",
    "plt.xticks(np.arange(0.0001,100,5))\n",
    "plt.ylabel('Cross-Validated Accuracy')"
   ]
  },
  {
   "cell_type": "markdown",
   "metadata": {
    "_cell_guid": "15e21695-add0-983e-6a87-c25b98fff692"
   },
   "source": [
    "**We can see that for gamma=10 and 100 the kernel is performing poorly.We can also see a slight dip in accuracy score when gamma is 1.Let us look into more details for the range 0.0001 to 0.1.**"
   ]
  },
  {
   "cell_type": "code",
   "execution_count": 47,
   "metadata": {
    "_cell_guid": "4b65f0c1-8753-bc48-efda-03589d3631d5"
   },
   "outputs": [
    {
     "name": "stdout",
     "output_type": "stream",
     "text": [
      "[0.8878114799777087, 0.9552463975798107, 0.9681514210652018, 0.9630960910755512]\n"
     ]
    }
   ],
   "source": [
    "gamma_range=[0.0001,0.001,0.01,0.1]\n",
    "acc_score=[]\n",
    "for g in gamma_range:\n",
    "    svc = SVC(kernel='rbf', gamma=g)\n",
    "    scores = cross_val_score(svc, X, y, cv=10, scoring='accuracy')\n",
    "    acc_score.append(scores.mean())\n",
    "print(acc_score)    \n",
    "    "
   ]
  },
  {
   "cell_type": "code",
   "execution_count": 48,
   "metadata": {
    "_cell_guid": "0b8d11a5-d9d2-6272-a94b-e85e747667a1"
   },
   "outputs": [
    {
     "data": {
      "text/plain": [
       "Text(0, 0.5, 'Cross-Validated Accuracy')"
      ]
     },
     "execution_count": 48,
     "metadata": {},
     "output_type": "execute_result"
    },
    {
     "data": {
      "image/png": "[encoded data removed]",
      "text/plain": [
       "<Figure size 432x288 with 1 Axes>"
      ]
     },
     "metadata": {
      "image/png": {
       "height": 263,
       "width": 393
      },
      "needs_background": "light"
     },
     "output_type": "display_data"
    }
   ],
   "source": [
    "import matplotlib.pyplot as plt\n",
    "%matplotlib inline\n",
    "\n",
    "gamma_range=[0.0001,0.001,0.01,0.1]\n",
    "\n",
    "# plot the value of C for SVM (x-axis) versus the cross-validated accuracy (y-axis)\n",
    "plt.plot(gamma_range,acc_score)\n",
    "plt.xlabel('Value of gamma for SVC ')\n",
    "plt.ylabel('Cross-Validated Accuracy')"
   ]
  },
  {
   "cell_type": "markdown",
   "metadata": {
    "_cell_guid": "0708b835-3e46-82dc-c74b-0f6d34d9b51f"
   },
   "source": [
    "The score increases steadily and raches its peak at 0.01 and then decreases till gamma=1.Thus Gamma should be around 0.01."
   ]
  },
  {
   "cell_type": "markdown",
   "metadata": {
    "_cell_guid": "90f76105-a03f-0326-9676-46053a98db93"
   },
   "source": [
    "Let us look into more detail for gamma values"
   ]
  },
  {
   "cell_type": "code",
   "execution_count": 49,
   "metadata": {
    "_cell_guid": "279aa6b5-1201-e181-1d60-5d48ce6f9abf"
   },
   "outputs": [
    {
     "name": "stdout",
     "output_type": "stream",
     "text": [
      "[0.9681514210652018, 0.9678389459437945, 0.9678349653689992, 0.9668895788551864, 0.9659382214791815]\n"
     ]
    }
   ],
   "source": [
    "gamma_range=[0.01,0.02,0.03,0.04,0.05]\n",
    "acc_score=[]\n",
    "for g in gamma_range:\n",
    "    svc = SVC(kernel='rbf', gamma=g)\n",
    "    scores = cross_val_score(svc, X, y, cv=10, scoring='accuracy')\n",
    "    acc_score.append(scores.mean())\n",
    "print(acc_score)    \n",
    "    "
   ]
  },
  {
   "cell_type": "code",
   "execution_count": 50,
   "metadata": {
    "_cell_guid": "ad8df21f-7c1d-823d-5696-9ed04ed662d1"
   },
   "outputs": [
    {
     "data": {
      "text/plain": [
       "Text(0, 0.5, 'Cross-Validated Accuracy')"
      ]
     },
     "execution_count": 50,
     "metadata": {},
     "output_type": "execute_result"
    },
    {
     "data": {
      "image/png": "[encoded data removed]",
      "text/plain": [
       "<Figure size 432x288 with 1 Axes>"
      ]
     },
     "metadata": {
      "image/png": {
       "height": 263,
       "width": 406
      },
      "needs_background": "light"
     },
     "output_type": "display_data"
    }
   ],
   "source": [
    "import matplotlib.pyplot as plt\n",
    "%matplotlib inline\n",
    "\n",
    "gamma_range=[0.01,0.02,0.03,0.04,0.05]\n",
    "\n",
    "# plot the value of C for SVM (x-axis) versus the cross-validated accuracy (y-axis)\n",
    "plt.plot(gamma_range,acc_score)\n",
    "plt.xlabel('Value of gamma for SVC ')\n",
    "plt.ylabel('Cross-Validated Accuracy')"
   ]
  },
  {
   "cell_type": "markdown",
   "metadata": {
    "_cell_guid": "651abf9c-4698-9c01-aa2d-cfe3144be51f"
   },
   "source": [
    "**We can see there is constant decrease in the accuracy score as gamma value increase.Thus gamma=0.01 is the best parameter.**"
   ]
  },
  {
   "cell_type": "markdown",
   "metadata": {
    "_cell_guid": "413851c2-7bfd-859e-53a1-75ba442a678c"
   },
   "source": [
    "# Taking polynomial kernel with different degree"
   ]
  },
  {
   "cell_type": "code",
   "execution_count": 51,
   "metadata": {
    "_cell_guid": "71802e03-f3f1-2e7a-0b91-53063605bc5c"
   },
   "outputs": [
    {
     "name": "stderr",
     "output_type": "stream",
     "text": [
      "/anaconda3/lib/python3.7/site-packages/sklearn/svm/base.py:196: FutureWarning: The default value of gamma will change from 'auto' to 'scale' in version 0.22 to account better for unscaled features. Set gamma explicitly to 'auto' or 'scale' to avoid this warning.\n",
      "  \"avoid this warning.\", FutureWarning)\n",
      "/anaconda3/lib/python3.7/site-packages/sklearn/svm/base.py:196: FutureWarning: The default value of gamma will change from 'auto' to 'scale' in version 0.22 to account better for unscaled features. Set gamma explicitly to 'auto' or 'scale' to avoid this warning.\n",
      "  \"avoid this warning.\", FutureWarning)\n",
      "/anaconda3/lib/python3.7/site-packages/sklearn/svm/base.py:196: FutureWarning: The default value of gamma will change from 'auto' to 'scale' in version 0.22 to account better for unscaled features. Set gamma explicitly to 'auto' or 'scale' to avoid this warning.\n",
      "  \"avoid this warning.\", FutureWarning)\n",
      "/anaconda3/lib/python3.7/site-packages/sklearn/svm/base.py:196: FutureWarning: The default value of gamma will change from 'auto' to 'scale' in version 0.22 to account better for unscaled features. Set gamma explicitly to 'auto' or 'scale' to avoid this warning.\n",
      "  \"avoid this warning.\", FutureWarning)\n",
      "/anaconda3/lib/python3.7/site-packages/sklearn/svm/base.py:196: FutureWarning: The default value of gamma will change from 'auto' to 'scale' in version 0.22 to account better for unscaled features. Set gamma explicitly to 'auto' or 'scale' to avoid this warning.\n",
      "  \"avoid this warning.\", FutureWarning)\n",
      "/anaconda3/lib/python3.7/site-packages/sklearn/svm/base.py:196: FutureWarning: The default value of gamma will change from 'auto' to 'scale' in version 0.22 to account better for unscaled features. Set gamma explicitly to 'auto' or 'scale' to avoid this warning.\n",
      "  \"avoid this warning.\", FutureWarning)\n",
      "/anaconda3/lib/python3.7/site-packages/sklearn/svm/base.py:196: FutureWarning: The default value of gamma will change from 'auto' to 'scale' in version 0.22 to account better for unscaled features. Set gamma explicitly to 'auto' or 'scale' to avoid this warning.\n",
      "  \"avoid this warning.\", FutureWarning)\n",
      "/anaconda3/lib/python3.7/site-packages/sklearn/svm/base.py:196: FutureWarning: The default value of gamma will change from 'auto' to 'scale' in version 0.22 to account better for unscaled features. Set gamma explicitly to 'auto' or 'scale' to avoid this warning.\n",
      "  \"avoid this warning.\", FutureWarning)\n",
      "/anaconda3/lib/python3.7/site-packages/sklearn/svm/base.py:196: FutureWarning: The default value of gamma will change from 'auto' to 'scale' in version 0.22 to account better for unscaled features. Set gamma explicitly to 'auto' or 'scale' to avoid this warning.\n",
      "  \"avoid this warning.\", FutureWarning)\n",
      "/anaconda3/lib/python3.7/site-packages/sklearn/svm/base.py:196: FutureWarning: The default value of gamma will change from 'auto' to 'scale' in version 0.22 to account better for unscaled features. Set gamma explicitly to 'auto' or 'scale' to avoid this warning.\n",
      "  \"avoid this warning.\", FutureWarning)\n",
      "/anaconda3/lib/python3.7/site-packages/sklearn/svm/base.py:196: FutureWarning: The default value of gamma will change from 'auto' to 'scale' in version 0.22 to account better for unscaled features. Set gamma explicitly to 'auto' or 'scale' to avoid this warning.\n",
      "  \"avoid this warning.\", FutureWarning)\n",
      "/anaconda3/lib/python3.7/site-packages/sklearn/svm/base.py:196: FutureWarning: The default value of gamma will change from 'auto' to 'scale' in version 0.22 to account better for unscaled features. Set gamma explicitly to 'auto' or 'scale' to avoid this warning.\n",
      "  \"avoid this warning.\", FutureWarning)\n",
      "/anaconda3/lib/python3.7/site-packages/sklearn/svm/base.py:196: FutureWarning: The default value of gamma will change from 'auto' to 'scale' in version 0.22 to account better for unscaled features. Set gamma explicitly to 'auto' or 'scale' to avoid this warning.\n",
      "  \"avoid this warning.\", FutureWarning)\n",
      "/anaconda3/lib/python3.7/site-packages/sklearn/svm/base.py:196: FutureWarning: The default value of gamma will change from 'auto' to 'scale' in version 0.22 to account better for unscaled features. Set gamma explicitly to 'auto' or 'scale' to avoid this warning.\n",
      "  \"avoid this warning.\", FutureWarning)\n",
      "/anaconda3/lib/python3.7/site-packages/sklearn/svm/base.py:196: FutureWarning: The default value of gamma will change from 'auto' to 'scale' in version 0.22 to account better for unscaled features. Set gamma explicitly to 'auto' or 'scale' to avoid this warning.\n",
      "  \"avoid this warning.\", FutureWarning)\n",
      "/anaconda3/lib/python3.7/site-packages/sklearn/svm/base.py:196: FutureWarning: The default value of gamma will change from 'auto' to 'scale' in version 0.22 to account better for unscaled features. Set gamma explicitly to 'auto' or 'scale' to avoid this warning.\n",
      "  \"avoid this warning.\", FutureWarning)\n",
      "/anaconda3/lib/python3.7/site-packages/sklearn/svm/base.py:196: FutureWarning: The default value of gamma will change from 'auto' to 'scale' in version 0.22 to account better for unscaled features. Set gamma explicitly to 'auto' or 'scale' to avoid this warning.\n",
      "  \"avoid this warning.\", FutureWarning)\n",
      "/anaconda3/lib/python3.7/site-packages/sklearn/svm/base.py:196: FutureWarning: The default value of gamma will change from 'auto' to 'scale' in version 0.22 to account better for unscaled features. Set gamma explicitly to 'auto' or 'scale' to avoid this warning.\n",
      "  \"avoid this warning.\", FutureWarning)\n",
      "/anaconda3/lib/python3.7/site-packages/sklearn/svm/base.py:196: FutureWarning: The default value of gamma will change from 'auto' to 'scale' in version 0.22 to account better for unscaled features. Set gamma explicitly to 'auto' or 'scale' to avoid this warning.\n",
      "  \"avoid this warning.\", FutureWarning)\n",
      "/anaconda3/lib/python3.7/site-packages/sklearn/svm/base.py:196: FutureWarning: The default value of gamma will change from 'auto' to 'scale' in version 0.22 to account better for unscaled features. Set gamma explicitly to 'auto' or 'scale' to avoid this warning.\n",
      "  \"avoid this warning.\", FutureWarning)\n",
      "/anaconda3/lib/python3.7/site-packages/sklearn/svm/base.py:196: FutureWarning: The default value of gamma will change from 'auto' to 'scale' in version 0.22 to account better for unscaled features. Set gamma explicitly to 'auto' or 'scale' to avoid this warning.\n",
      "  \"avoid this warning.\", FutureWarning)\n",
      "/anaconda3/lib/python3.7/site-packages/sklearn/svm/base.py:196: FutureWarning: The default value of gamma will change from 'auto' to 'scale' in version 0.22 to account better for unscaled features. Set gamma explicitly to 'auto' or 'scale' to avoid this warning.\n",
      "  \"avoid this warning.\", FutureWarning)\n",
      "/anaconda3/lib/python3.7/site-packages/sklearn/svm/base.py:196: FutureWarning: The default value of gamma will change from 'auto' to 'scale' in version 0.22 to account better for unscaled features. Set gamma explicitly to 'auto' or 'scale' to avoid this warning.\n",
      "  \"avoid this warning.\", FutureWarning)\n",
      "/anaconda3/lib/python3.7/site-packages/sklearn/svm/base.py:196: FutureWarning: The default value of gamma will change from 'auto' to 'scale' in version 0.22 to account better for unscaled features. Set gamma explicitly to 'auto' or 'scale' to avoid this warning.\n",
      "  \"avoid this warning.\", FutureWarning)\n",
      "/anaconda3/lib/python3.7/site-packages/sklearn/svm/base.py:196: FutureWarning: The default value of gamma will change from 'auto' to 'scale' in version 0.22 to account better for unscaled features. Set gamma explicitly to 'auto' or 'scale' to avoid this warning.\n",
      "  \"avoid this warning.\", FutureWarning)\n",
      "/anaconda3/lib/python3.7/site-packages/sklearn/svm/base.py:196: FutureWarning: The default value of gamma will change from 'auto' to 'scale' in version 0.22 to account better for unscaled features. Set gamma explicitly to 'auto' or 'scale' to avoid this warning.\n",
      "  \"avoid this warning.\", FutureWarning)\n",
      "/anaconda3/lib/python3.7/site-packages/sklearn/svm/base.py:196: FutureWarning: The default value of gamma will change from 'auto' to 'scale' in version 0.22 to account better for unscaled features. Set gamma explicitly to 'auto' or 'scale' to avoid this warning.\n",
      "  \"avoid this warning.\", FutureWarning)\n",
      "/anaconda3/lib/python3.7/site-packages/sklearn/svm/base.py:196: FutureWarning: The default value of gamma will change from 'auto' to 'scale' in version 0.22 to account better for unscaled features. Set gamma explicitly to 'auto' or 'scale' to avoid this warning.\n",
      "  \"avoid this warning.\", FutureWarning)\n",
      "/anaconda3/lib/python3.7/site-packages/sklearn/svm/base.py:196: FutureWarning: The default value of gamma will change from 'auto' to 'scale' in version 0.22 to account better for unscaled features. Set gamma explicitly to 'auto' or 'scale' to avoid this warning.\n",
      "  \"avoid this warning.\", FutureWarning)\n"
     ]
    },
    {
     "name": "stderr",
     "output_type": "stream",
     "text": [
      "/anaconda3/lib/python3.7/site-packages/sklearn/svm/base.py:196: FutureWarning: The default value of gamma will change from 'auto' to 'scale' in version 0.22 to account better for unscaled features. Set gamma explicitly to 'auto' or 'scale' to avoid this warning.\n",
      "  \"avoid this warning.\", FutureWarning)\n",
      "/anaconda3/lib/python3.7/site-packages/sklearn/svm/base.py:196: FutureWarning: The default value of gamma will change from 'auto' to 'scale' in version 0.22 to account better for unscaled features. Set gamma explicitly to 'auto' or 'scale' to avoid this warning.\n",
      "  \"avoid this warning.\", FutureWarning)\n",
      "/anaconda3/lib/python3.7/site-packages/sklearn/svm/base.py:196: FutureWarning: The default value of gamma will change from 'auto' to 'scale' in version 0.22 to account better for unscaled features. Set gamma explicitly to 'auto' or 'scale' to avoid this warning.\n",
      "  \"avoid this warning.\", FutureWarning)\n",
      "/anaconda3/lib/python3.7/site-packages/sklearn/svm/base.py:196: FutureWarning: The default value of gamma will change from 'auto' to 'scale' in version 0.22 to account better for unscaled features. Set gamma explicitly to 'auto' or 'scale' to avoid this warning.\n",
      "  \"avoid this warning.\", FutureWarning)\n",
      "/anaconda3/lib/python3.7/site-packages/sklearn/svm/base.py:196: FutureWarning: The default value of gamma will change from 'auto' to 'scale' in version 0.22 to account better for unscaled features. Set gamma explicitly to 'auto' or 'scale' to avoid this warning.\n",
      "  \"avoid this warning.\", FutureWarning)\n",
      "/anaconda3/lib/python3.7/site-packages/sklearn/svm/base.py:196: FutureWarning: The default value of gamma will change from 'auto' to 'scale' in version 0.22 to account better for unscaled features. Set gamma explicitly to 'auto' or 'scale' to avoid this warning.\n",
      "  \"avoid this warning.\", FutureWarning)\n",
      "/anaconda3/lib/python3.7/site-packages/sklearn/svm/base.py:196: FutureWarning: The default value of gamma will change from 'auto' to 'scale' in version 0.22 to account better for unscaled features. Set gamma explicitly to 'auto' or 'scale' to avoid this warning.\n",
      "  \"avoid this warning.\", FutureWarning)\n",
      "/anaconda3/lib/python3.7/site-packages/sklearn/svm/base.py:196: FutureWarning: The default value of gamma will change from 'auto' to 'scale' in version 0.22 to account better for unscaled features. Set gamma explicitly to 'auto' or 'scale' to avoid this warning.\n",
      "  \"avoid this warning.\", FutureWarning)\n",
      "/anaconda3/lib/python3.7/site-packages/sklearn/svm/base.py:196: FutureWarning: The default value of gamma will change from 'auto' to 'scale' in version 0.22 to account better for unscaled features. Set gamma explicitly to 'auto' or 'scale' to avoid this warning.\n",
      "  \"avoid this warning.\", FutureWarning)\n",
      "/anaconda3/lib/python3.7/site-packages/sklearn/svm/base.py:196: FutureWarning: The default value of gamma will change from 'auto' to 'scale' in version 0.22 to account better for unscaled features. Set gamma explicitly to 'auto' or 'scale' to avoid this warning.\n",
      "  \"avoid this warning.\", FutureWarning)\n",
      "/anaconda3/lib/python3.7/site-packages/sklearn/svm/base.py:196: FutureWarning: The default value of gamma will change from 'auto' to 'scale' in version 0.22 to account better for unscaled features. Set gamma explicitly to 'auto' or 'scale' to avoid this warning.\n",
      "  \"avoid this warning.\", FutureWarning)\n",
      "/anaconda3/lib/python3.7/site-packages/sklearn/svm/base.py:196: FutureWarning: The default value of gamma will change from 'auto' to 'scale' in version 0.22 to account better for unscaled features. Set gamma explicitly to 'auto' or 'scale' to avoid this warning.\n",
      "  \"avoid this warning.\", FutureWarning)\n",
      "/anaconda3/lib/python3.7/site-packages/sklearn/svm/base.py:196: FutureWarning: The default value of gamma will change from 'auto' to 'scale' in version 0.22 to account better for unscaled features. Set gamma explicitly to 'auto' or 'scale' to avoid this warning.\n",
      "  \"avoid this warning.\", FutureWarning)\n",
      "/anaconda3/lib/python3.7/site-packages/sklearn/svm/base.py:196: FutureWarning: The default value of gamma will change from 'auto' to 'scale' in version 0.22 to account better for unscaled features. Set gamma explicitly to 'auto' or 'scale' to avoid this warning.\n",
      "  \"avoid this warning.\", FutureWarning)\n",
      "/anaconda3/lib/python3.7/site-packages/sklearn/svm/base.py:196: FutureWarning: The default value of gamma will change from 'auto' to 'scale' in version 0.22 to account better for unscaled features. Set gamma explicitly to 'auto' or 'scale' to avoid this warning.\n",
      "  \"avoid this warning.\", FutureWarning)\n",
      "/anaconda3/lib/python3.7/site-packages/sklearn/svm/base.py:196: FutureWarning: The default value of gamma will change from 'auto' to 'scale' in version 0.22 to account better for unscaled features. Set gamma explicitly to 'auto' or 'scale' to avoid this warning.\n",
      "  \"avoid this warning.\", FutureWarning)\n",
      "/anaconda3/lib/python3.7/site-packages/sklearn/svm/base.py:196: FutureWarning: The default value of gamma will change from 'auto' to 'scale' in version 0.22 to account better for unscaled features. Set gamma explicitly to 'auto' or 'scale' to avoid this warning.\n",
      "  \"avoid this warning.\", FutureWarning)\n",
      "/anaconda3/lib/python3.7/site-packages/sklearn/svm/base.py:196: FutureWarning: The default value of gamma will change from 'auto' to 'scale' in version 0.22 to account better for unscaled features. Set gamma explicitly to 'auto' or 'scale' to avoid this warning.\n",
      "  \"avoid this warning.\", FutureWarning)\n",
      "/anaconda3/lib/python3.7/site-packages/sklearn/svm/base.py:196: FutureWarning: The default value of gamma will change from 'auto' to 'scale' in version 0.22 to account better for unscaled features. Set gamma explicitly to 'auto' or 'scale' to avoid this warning.\n",
      "  \"avoid this warning.\", FutureWarning)\n",
      "/anaconda3/lib/python3.7/site-packages/sklearn/svm/base.py:196: FutureWarning: The default value of gamma will change from 'auto' to 'scale' in version 0.22 to account better for unscaled features. Set gamma explicitly to 'auto' or 'scale' to avoid this warning.\n",
      "  \"avoid this warning.\", FutureWarning)\n",
      "/anaconda3/lib/python3.7/site-packages/sklearn/svm/base.py:196: FutureWarning: The default value of gamma will change from 'auto' to 'scale' in version 0.22 to account better for unscaled features. Set gamma explicitly to 'auto' or 'scale' to avoid this warning.\n",
      "  \"avoid this warning.\", FutureWarning)\n"
     ]
    },
    {
     "name": "stdout",
     "output_type": "stream",
     "text": [
      "[0.8506926200143299, 0.9457646684181196, 0.8312116869675981, 0.8659820078019266, 0.7747571849375049]\n"
     ]
    }
   ],
   "source": [
    "degree=[2,3,4,5,6]\n",
    "acc_score=[]\n",
    "for d in degree:\n",
    "    svc = SVC(kernel='poly', degree=d)\n",
    "    scores = cross_val_score(svc, X, y, cv=10, scoring='accuracy')\n",
    "    acc_score.append(scores.mean())\n",
    "print(acc_score)    \n",
    "    "
   ]
  },
  {
   "cell_type": "code",
   "execution_count": 52,
   "metadata": {
    "_cell_guid": "76acd1a6-c10b-beb9-b99b-1986b46b1bc8"
   },
   "outputs": [
    {
     "data": {
      "text/plain": [
       "Text(0, 0.5, 'Cross-Validated Accuracy')"
      ]
     },
     "execution_count": 52,
     "metadata": {},
     "output_type": "execute_result"
    },
    {
     "data": {
      "image/png": "[encoded data removed]",
      "text/plain": [
       "<Figure size 432x288 with 1 Axes>"
      ]
     },
     "metadata": {
      "image/png": {
       "height": 263,
       "width": 400
      },
      "needs_background": "light"
     },
     "output_type": "display_data"
    }
   ],
   "source": [
    "import matplotlib.pyplot as plt\n",
    "%matplotlib inline\n",
    "\n",
    "degree=[2,3,4,5,6]\n",
    "\n",
    "# plot the value of C for SVM (x-axis) versus the cross-validated accuracy (y-axis)\n",
    "plt.plot(degree,acc_score,color='r')\n",
    "plt.xlabel('degrees for SVC ')\n",
    "plt.ylabel('Cross-Validated Accuracy')"
   ]
  },
  {
   "cell_type": "markdown",
   "metadata": {
    "_cell_guid": "0b5454f1-2788-8627-f70e-1556983a82d9"
   },
   "source": [
    "**Score is high for third degree polynomial and then there is drop in the accuracy score as degree of polynomial increases.Thus increase in polynomial degree results in high complexity of the model and thus causes overfitting.**"
   ]
  },
  {
   "cell_type": "markdown",
   "metadata": {
    "_cell_guid": "2143d3d8-4abf-983d-ee4c-cc74f4fde0b7"
   },
   "source": [
    "# Now performing SVM by taking hyperparameter C=0.1 and kernel as linear \n",
    "\n",
    "\n",
    "----------"
   ]
  },
  {
   "cell_type": "code",
   "execution_count": 53,
   "metadata": {
    "_cell_guid": "499ae7bd-c349-3c50-0f6e-3ca8633d0b28"
   },
   "outputs": [
    {
     "name": "stdout",
     "output_type": "stream",
     "text": [
      "0.9747634069400631\n"
     ]
    }
   ],
   "source": [
    "from sklearn.svm import SVC\n",
    "svc= SVC(kernel='linear',C=0.1)\n",
    "svc.fit(X_train,y_train)\n",
    "y_predict=svc.predict(X_test)\n",
    "accuracy_score= metrics.accuracy_score(y_test,y_predict)\n",
    "print(accuracy_score)"
   ]
  },
  {
   "cell_type": "markdown",
   "metadata": {
    "_cell_guid": "b4cf3a4a-9f64-5567-3037-bc2719ae098c"
   },
   "source": [
    "# With K-fold cross validation(where K=10)"
   ]
  },
  {
   "cell_type": "code",
   "execution_count": 55,
   "metadata": {
    "_cell_guid": "4b9e8e3f-2861-ed79-d48f-ca71c9264165"
   },
   "outputs": [
    {
     "name": "stdout",
     "output_type": "stream",
     "text": [
      "[0.90880503 0.97169811 0.97484277 0.96855346 0.96202532 0.99050633\n",
      " 0.99050633 0.98101266 0.95886076 0.99367089]\n"
     ]
    }
   ],
   "source": [
    "svc=SVC(kernel='linear',C=0.1)\n",
    "scores = cross_val_score(svc, X, y, cv=10, scoring='accuracy')\n",
    "print(scores)"
   ]
  },
  {
   "cell_type": "markdown",
   "metadata": {
    "_cell_guid": "daad2a8a-c37f-86b7-9120-8fb3a67cdc38"
   },
   "source": [
    "Taking the mean of all the scores"
   ]
  },
  {
   "cell_type": "code",
   "execution_count": 56,
   "metadata": {
    "_cell_guid": "57b5946d-b6b8-b758-9570-b855ebaa6bd2"
   },
   "outputs": [
    {
     "name": "stdout",
     "output_type": "stream",
     "text": [
      "0.9700481649550194\n"
     ]
    }
   ],
   "source": [
    "print(scores.mean())"
   ]
  },
  {
   "cell_type": "markdown",
   "metadata": {
    "_cell_guid": "76ec14cd-f216-6179-063e-8ec211daa46c"
   },
   "source": [
    "The accuracy is slightly good without K-fold cross validation but it may fail to generalise the unseen data.Hence it is advisable to perform K-fold cross validation where all the data is covered so it may predict unseen data well."
   ]
  },
  {
   "cell_type": "markdown",
   "metadata": {
    "_cell_guid": "d8887f84-1f58-63f5-a35e-6423e816105a"
   },
   "source": [
    "# Now performing SVM by taking hyperparameter gamma=0.01 and kernel as rbf"
   ]
  },
  {
   "cell_type": "code",
   "execution_count": 57,
   "metadata": {
    "_cell_guid": "dc42218a-35a1-bd50-032a-fffd67b4772c"
   },
   "outputs": [
    {
     "data": {
      "text/plain": [
       "0.9668769716088328"
      ]
     },
     "execution_count": 57,
     "metadata": {},
     "output_type": "execute_result"
    }
   ],
   "source": [
    "from sklearn.svm import SVC\n",
    "svc= SVC(kernel='rbf',gamma=0.01)\n",
    "svc.fit(X_train,y_train)\n",
    "y_predict=svc.predict(X_test)\n",
    "metrics.accuracy_score(y_test,y_predict)"
   ]
  },
  {
   "cell_type": "markdown",
   "metadata": {
    "_cell_guid": "e0b485e2-4ea3-ed6d-ece1-d29cda102038"
   },
   "source": [
    "# With K-fold cross validation(where K=10)"
   ]
  },
  {
   "cell_type": "code",
   "execution_count": 58,
   "metadata": {
    "_cell_guid": "e3baf72f-df6a-f4a0-029e-5c5dcd0aa726"
   },
   "outputs": [
    {
     "name": "stdout",
     "output_type": "stream",
     "text": [
      "[0.91194969 0.97169811 0.97169811 0.97169811 0.96202532 0.98734177\n",
      " 0.99050633 0.98101266 0.95253165 0.99367089]\n",
      "0.9694132632752168\n"
     ]
    }
   ],
   "source": [
    "svc=SVC(kernel='linear',gamma=0.01)\n",
    "scores = cross_val_score(svc, X, y, cv=10, scoring='accuracy')\n",
    "print(scores)\n",
    "print(scores.mean())"
   ]
  },
  {
   "cell_type": "markdown",
   "metadata": {
    "_cell_guid": "b35afce0-4274-e96f-66f8-89a57fbc0d30"
   },
   "source": [
    "# Now performing SVM by taking hyperparameter degree=3 and kernel as poly"
   ]
  },
  {
   "cell_type": "code",
   "execution_count": 59,
   "metadata": {
    "_cell_guid": "1c4402fd-f477-c7cb-044f-4164afac973f"
   },
   "outputs": [
    {
     "name": "stdout",
     "output_type": "stream",
     "text": [
      "0.9589905362776026\n"
     ]
    },
    {
     "name": "stderr",
     "output_type": "stream",
     "text": [
      "/anaconda3/lib/python3.7/site-packages/sklearn/svm/base.py:196: FutureWarning: The default value of gamma will change from 'auto' to 'scale' in version 0.22 to account better for unscaled features. Set gamma explicitly to 'auto' or 'scale' to avoid this warning.\n",
      "  \"avoid this warning.\", FutureWarning)\n"
     ]
    }
   ],
   "source": [
    "from sklearn.svm import SVC\n",
    "svc= SVC(kernel='poly',degree=3)\n",
    "svc.fit(X_train,y_train)\n",
    "y_predict=svc.predict(X_test)\n",
    "accuracy_score= metrics.accuracy_score(y_test,y_predict)\n",
    "print(accuracy_score)"
   ]
  },
  {
   "cell_type": "markdown",
   "metadata": {
    "_cell_guid": "1ef380ed-2e09-a0f8-3831-140df751f299"
   },
   "source": [
    "# With K-fold cross validation(where K=10)"
   ]
  },
  {
   "cell_type": "code",
   "execution_count": 60,
   "metadata": {
    "_cell_guid": "0327e745-ab33-23a2-db23-04cd62d5267c"
   },
   "outputs": [
    {
     "name": "stderr",
     "output_type": "stream",
     "text": [
      "/anaconda3/lib/python3.7/site-packages/sklearn/svm/base.py:196: FutureWarning: The default value of gamma will change from 'auto' to 'scale' in version 0.22 to account better for unscaled features. Set gamma explicitly to 'auto' or 'scale' to avoid this warning.\n",
      "  \"avoid this warning.\", FutureWarning)\n",
      "/anaconda3/lib/python3.7/site-packages/sklearn/svm/base.py:196: FutureWarning: The default value of gamma will change from 'auto' to 'scale' in version 0.22 to account better for unscaled features. Set gamma explicitly to 'auto' or 'scale' to avoid this warning.\n",
      "  \"avoid this warning.\", FutureWarning)\n",
      "/anaconda3/lib/python3.7/site-packages/sklearn/svm/base.py:196: FutureWarning: The default value of gamma will change from 'auto' to 'scale' in version 0.22 to account better for unscaled features. Set gamma explicitly to 'auto' or 'scale' to avoid this warning.\n",
      "  \"avoid this warning.\", FutureWarning)\n",
      "/anaconda3/lib/python3.7/site-packages/sklearn/svm/base.py:196: FutureWarning: The default value of gamma will change from 'auto' to 'scale' in version 0.22 to account better for unscaled features. Set gamma explicitly to 'auto' or 'scale' to avoid this warning.\n",
      "  \"avoid this warning.\", FutureWarning)\n",
      "/anaconda3/lib/python3.7/site-packages/sklearn/svm/base.py:196: FutureWarning: The default value of gamma will change from 'auto' to 'scale' in version 0.22 to account better for unscaled features. Set gamma explicitly to 'auto' or 'scale' to avoid this warning.\n",
      "  \"avoid this warning.\", FutureWarning)\n",
      "/anaconda3/lib/python3.7/site-packages/sklearn/svm/base.py:196: FutureWarning: The default value of gamma will change from 'auto' to 'scale' in version 0.22 to account better for unscaled features. Set gamma explicitly to 'auto' or 'scale' to avoid this warning.\n",
      "  \"avoid this warning.\", FutureWarning)\n",
      "/anaconda3/lib/python3.7/site-packages/sklearn/svm/base.py:196: FutureWarning: The default value of gamma will change from 'auto' to 'scale' in version 0.22 to account better for unscaled features. Set gamma explicitly to 'auto' or 'scale' to avoid this warning.\n",
      "  \"avoid this warning.\", FutureWarning)\n",
      "/anaconda3/lib/python3.7/site-packages/sklearn/svm/base.py:196: FutureWarning: The default value of gamma will change from 'auto' to 'scale' in version 0.22 to account better for unscaled features. Set gamma explicitly to 'auto' or 'scale' to avoid this warning.\n",
      "  \"avoid this warning.\", FutureWarning)\n"
     ]
    },
    {
     "name": "stdout",
     "output_type": "stream",
     "text": [
      "[0.89937107 0.94654088 0.93081761 0.91509434 0.95886076 1.\n",
      " 0.98101266 0.96835443 0.87974684 0.9778481 ]\n",
      "0.9457646684181196\n"
     ]
    },
    {
     "name": "stderr",
     "output_type": "stream",
     "text": [
      "/anaconda3/lib/python3.7/site-packages/sklearn/svm/base.py:196: FutureWarning: The default value of gamma will change from 'auto' to 'scale' in version 0.22 to account better for unscaled features. Set gamma explicitly to 'auto' or 'scale' to avoid this warning.\n",
      "  \"avoid this warning.\", FutureWarning)\n",
      "/anaconda3/lib/python3.7/site-packages/sklearn/svm/base.py:196: FutureWarning: The default value of gamma will change from 'auto' to 'scale' in version 0.22 to account better for unscaled features. Set gamma explicitly to 'auto' or 'scale' to avoid this warning.\n",
      "  \"avoid this warning.\", FutureWarning)\n"
     ]
    }
   ],
   "source": [
    "svc=SVC(kernel='poly',degree=3)\n",
    "scores = cross_val_score(svc, X, y, cv=10, scoring='accuracy')\n",
    "print(scores)\n",
    "print(scores.mean())"
   ]
  },
  {
   "cell_type": "markdown",
   "metadata": {
    "_cell_guid": "3a81d277-41ee-f387-0745-1aba41754f40"
   },
   "source": [
    "#Let us perform Grid search technique to find the best parameter"
   ]
  },
  {
   "cell_type": "code",
   "execution_count": 61,
   "metadata": {
    "_cell_guid": "fd5a4e22-4b4e-691b-81dd-298d6985e0b9"
   },
   "outputs": [],
   "source": [
    "from sklearn.svm import SVC\n",
    "svm_model= SVC()"
   ]
  },
  {
   "cell_type": "code",
   "execution_count": 62,
   "metadata": {
    "_cell_guid": "0192d0ba-9dad-7c1d-546d-ebe6be61a6a0"
   },
   "outputs": [],
   "source": [
    "tuned_parameters = {\n",
    " 'C': (np.arange(0.1,1,0.1)) , 'kernel': ['linear'],\n",
    " 'C': (np.arange(0.1,1,0.1)) , 'gamma': [0.01,0.02,0.03,0.04,0.05], 'kernel': ['rbf'],\n",
    " 'degree': [2,3,4] ,'gamma':[0.01,0.02,0.03,0.04,0.05], 'C':(np.arange(0.1,1,0.1)) , 'kernel':['poly']\n",
    "                   }"
   ]
  },
  {
   "cell_type": "code",
   "execution_count": 64,
   "metadata": {
    "_cell_guid": "2b5f7459-74de-d88c-08c1-70418281b77c"
   },
   "outputs": [],
   "source": [
    "from sklearn.model_selection import GridSearchCV\n",
    "\n",
    "model_svm = GridSearchCV(svm_model, tuned_parameters,cv=10,scoring='accuracy')"
   ]
  },
  {
   "cell_type": "code",
   "execution_count": 65,
   "metadata": {
    "_cell_guid": "54e69fea-2b9d-5084-35c7-f2e24d36cb5a"
   },
   "outputs": [
    {
     "name": "stdout",
     "output_type": "stream",
     "text": [
      "0.9569850039463299\n"
     ]
    }
   ],
   "source": [
    "model_svm.fit(X_train, y_train)\n",
    "print(model_svm.best_score_)"
   ]
  },
  {
   "cell_type": "code",
   "execution_count": 46,
   "metadata": {
    "_cell_guid": "52a1103d-a5e9-34fc-e830-077b5a7e2d9f"
   },
   "outputs": [],
   "source": [
    "#print(model_svm.grid_scores_)"
   ]
  },
  {
   "cell_type": "code",
   "execution_count": 66,
   "metadata": {
    "_cell_guid": "e2cb91d1-5bea-4f53-a7e0-a1ad2c966b81"
   },
   "outputs": [
    {
     "name": "stdout",
     "output_type": "stream",
     "text": [
      "{'C': 0.9, 'degree': 3, 'gamma': 0.05, 'kernel': 'poly'}\n"
     ]
    }
   ],
   "source": [
    "print(model_svm.best_params_)"
   ]
  },
  {
   "cell_type": "code",
   "execution_count": 67,
   "metadata": {
    "_cell_guid": "af4b757d-2dea-8976-4141-d6f670524fe3"
   },
   "outputs": [
    {
     "name": "stdout",
     "output_type": "stream",
     "text": [
      "0.9589905362776026\n"
     ]
    }
   ],
   "source": [
    "y_pred= model_svm.predict(X_test)\n",
    "print(metrics.accuracy_score(y_pred,y_test))"
   ]
  },
  {
   "cell_type": "markdown",
   "metadata": {
    "_cell_guid": "b7011956-298d-22ed-976c-2ffbf6954dd8"
   },
   "source": [
    "You can find my notebook on Github:\n",
    "(\"https://github.com/nirajvermafcb/Data-Science-with-python\")"
   ]
  }
 ],
 "metadata": {
  "_change_revision": 243,
  "_is_fork": false,
  "kernelspec": {
   "display_name": "Python 3",
   "language": "python",
   "name": "python3"
  },
  "language_info": {
   "codemirror_mode": {
    "name": "ipython",
    "version": 3
   },
   "file_extension": ".py",
   "mimetype": "text/x-python",
   "name": "python",
   "nbconvert_exporter": "python",
   "pygments_lexer": "ipython3",
   "version": "3.7.3"
  }
 },
 "nbformat": 4,
 "nbformat_minor": 1
}
