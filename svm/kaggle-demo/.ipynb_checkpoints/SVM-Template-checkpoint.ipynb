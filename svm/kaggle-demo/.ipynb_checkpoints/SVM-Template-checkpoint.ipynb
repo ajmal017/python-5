{
 "cells": [
  {
   "cell_type": "markdown",
   "metadata": {},
   "source": [
    "# SVM-Template\n",
    "\n",
    "*This Notebook gives an example on how to use SVM with `python` and `jupyter notebook`.\n",
    "Moreover it can be used as template for further ML tasks.*\n",
    "\n",
    "## Preprocessing\n",
    "\n",
    "For having a generalized layout, the used data needs to always be stored within the `./data/` folder. Following code checks which data is present and can be used. "
   ]
  },
  {
   "cell_type": "code",
   "execution_count": null,
   "metadata": {},
   "outputs": [],
   "source": [
    "from subprocess import check_output\n",
    "print(check_output([\"ls\", \"./input\"]).decode(\"utf8\"))"
   ]
  }
 ],
 "metadata": {
  "kernelspec": {
   "display_name": "Python 3",
   "language": "python",
   "name": "python3"
  },
  "language_info": {
   "codemirror_mode": {
    "name": "ipython",
    "version": 3
   },
   "file_extension": ".py",
   "mimetype": "text/x-python",
   "name": "python",
   "nbconvert_exporter": "python",
   "pygments_lexer": "ipython3",
   "version": "3.7.3"
  }
 },
 "nbformat": 4,
 "nbformat_minor": 2
}
