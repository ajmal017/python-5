{
 "cells": [
  {
   "cell_type": "code",
   "execution_count": 1,
   "metadata": {},
   "outputs": [],
   "source": [
    "import pandas as pd\n",
    "import numpy as np\n",
    "import requests\n",
    "from tqdm import tqdm\n",
    "import psycopg2\n",
    "from psycopg2 import sql\n",
    "from psycopg2.extensions import register_adapter, AsIs\n",
    "psycopg2.extensions.register_adapter(np.int64, psycopg2._psycopg.AsIs)"
   ]
  },
  {
   "cell_type": "code",
   "execution_count": 2,
   "metadata": {},
   "outputs": [
    {
     "data": {
      "text/html": [
       "<div>\n",
       "<style scoped>\n",
       "    .dataframe tbody tr th:only-of-type {\n",
       "        vertical-align: middle;\n",
       "    }\n",
       "\n",
       "    .dataframe tbody tr th {\n",
       "        vertical-align: top;\n",
       "    }\n",
       "\n",
       "    .dataframe thead th {\n",
       "        text-align: right;\n",
       "    }\n",
       "</style>\n",
       "<table border=\"1\" class=\"dataframe\">\n",
       "  <thead>\n",
       "    <tr style=\"text-align: right;\">\n",
       "      <th></th>\n",
       "      <th>Unternehmen</th>\n",
       "      <th>Branche Detail</th>\n",
       "      <th>Branche aggregiert</th>\n",
       "      <th>Link zu Kennzahlen</th>\n",
       "      <th>stock_ticker</th>\n",
       "      <th>Unnamed: 5</th>\n",
       "      <th>daily_stock</th>\n",
       "    </tr>\n",
       "  </thead>\n",
       "  <tbody>\n",
       "    <tr>\n",
       "      <th>0</th>\n",
       "      <td>1&amp;1 Drillisch</td>\n",
       "      <td>Telekommunikation</td>\n",
       "      <td>Software / Tech</td>\n",
       "      <td>https://www.finanzen.net/aktien/drillisch-aktie</td>\n",
       "      <td>DRI.XETRA</td>\n",
       "      <td>DRI.STU</td>\n",
       "      <td>DRI.XETRA</td>\n",
       "    </tr>\n",
       "    <tr>\n",
       "      <th>1</th>\n",
       "      <td>AAR Corp.</td>\n",
       "      <td>Raumfahrt</td>\n",
       "      <td>Aviation</td>\n",
       "      <td>https://www.finanzen.net/aktien/aar-aktie</td>\n",
       "      <td>AIR.US</td>\n",
       "      <td>NaN</td>\n",
       "      <td>AIR.US</td>\n",
       "    </tr>\n",
       "    <tr>\n",
       "      <th>2</th>\n",
       "      <td>Activision</td>\n",
       "      <td>Gaming / E-Sport</td>\n",
       "      <td>Software / Tech</td>\n",
       "      <td>https://www.finanzen.net/aktien/activision_bli...</td>\n",
       "      <td>AIY.XETRA</td>\n",
       "      <td>ATVI.US</td>\n",
       "      <td>AIY.XETRA</td>\n",
       "    </tr>\n",
       "    <tr>\n",
       "      <th>3</th>\n",
       "      <td>ADIDAS</td>\n",
       "      <td>Sportartikelhersteller</td>\n",
       "      <td>Handel</td>\n",
       "      <td>https://www.finanzen.net/aktien/adidas-aktie</td>\n",
       "      <td>ADS.XETRA</td>\n",
       "      <td>ADDYY.US</td>\n",
       "      <td>ADS.XETRA</td>\n",
       "    </tr>\n",
       "    <tr>\n",
       "      <th>4</th>\n",
       "      <td>Adler Real Estate</td>\n",
       "      <td>Immobilien</td>\n",
       "      <td>Immobilien</td>\n",
       "      <td>https://www.finanzen.net/aktien/adler_real_est...</td>\n",
       "      <td>ADL.XETRA</td>\n",
       "      <td>NaN</td>\n",
       "      <td>ADL.XETRA</td>\n",
       "    </tr>\n",
       "  </tbody>\n",
       "</table>\n",
       "</div>"
      ],
      "text/plain": [
       "         Unternehmen          Branche Detail Branche aggregiert  \\\n",
       "0      1&1 Drillisch       Telekommunikation    Software / Tech   \n",
       "1          AAR Corp.               Raumfahrt           Aviation   \n",
       "2         Activision        Gaming / E-Sport    Software / Tech   \n",
       "3             ADIDAS  Sportartikelhersteller             Handel   \n",
       "4  Adler Real Estate              Immobilien         Immobilien   \n",
       "\n",
       "                                  Link zu Kennzahlen stock_ticker Unnamed: 5  \\\n",
       "0    https://www.finanzen.net/aktien/drillisch-aktie    DRI.XETRA    DRI.STU   \n",
       "1          https://www.finanzen.net/aktien/aar-aktie       AIR.US        NaN   \n",
       "2  https://www.finanzen.net/aktien/activision_bli...    AIY.XETRA    ATVI.US   \n",
       "3       https://www.finanzen.net/aktien/adidas-aktie    ADS.XETRA   ADDYY.US   \n",
       "4  https://www.finanzen.net/aktien/adler_real_est...    ADL.XETRA        NaN   \n",
       "\n",
       "  daily_stock  \n",
       "0   DRI.XETRA  \n",
       "1      AIR.US  \n",
       "2   AIY.XETRA  \n",
       "3   ADS.XETRA  \n",
       "4   ADL.XETRA  "
      ]
     },
     "execution_count": 2,
     "metadata": {},
     "output_type": "execute_result"
    }
   ],
   "source": [
    "df = pd.read_csv('peer_groups.csv', delimiter=';')\n",
    "df.head()"
   ]
  },
  {
   "cell_type": "code",
   "execution_count": 4,
   "metadata": {},
   "outputs": [
    {
     "name": "stderr",
     "output_type": "stream",
     "text": [
      "0it [00:03, ?it/s]"
     ]
    },
    {
     "name": "stdout",
     "output_type": "stream",
     "text": [
      "dict_keys(['General', 'Highlights', 'Valuation', 'SharesStats', 'Technicals', 'SplitsDividends', 'outstandingShares', 'Earnings', 'Financials'])\n"
     ]
    },
    {
     "name": "stderr",
     "output_type": "stream",
     "text": [
      "\n"
     ]
    }
   ],
   "source": [
    "def create_api(ticker):\n",
    "    return('https://eodhistoricaldata.com/api/fundamentals/{}?api_token=5ef9e1d3d885e2.21351768'.format(ticker))\n",
    "\n",
    "\n",
    "ticker = {}\n",
    "count = 1\n",
    "\n",
    "for idx, row in tqdm(df.iterrows()):\n",
    "    try:\n",
    "        response = requests.get(create_api(row['stock_ticker']))\n",
    "        data = response.json()\n",
    "        print(data.keys())\n",
    "    except:\n",
    "        print('error')\n",
    "    break"
   ]
  },
  {
   "cell_type": "code",
   "execution_count": 59,
   "metadata": {},
   "outputs": [
    {
     "name": "stdout",
     "output_type": "stream",
     "text": [
      "test DONE!\n"
     ]
    }
   ],
   "source": [
    "try:\n",
    "    conn = psycopg2.connect(host=\"95.217.128.174\", database=\"barbossa\", user=\"maximus\", password=\"maximus\")\n",
    "    cur = conn.cursor()\n",
    "\n",
    "    for index, row in df.iterrows():\n",
    "        cur.execute(\n",
    "            sql.SQL(\"insert into balance_sheet_quaterly values (%s)\"), [3])\n",
    "\n",
    "    conn.commit()\n",
    "    print('{} DONE!'.format('test'))\n",
    "\n",
    "except(Exception, psycopg2.DatabaseError) as error:\n",
    "        print('{} Datenabfrage fehlgeschlagen'.format('test'))\n",
    "        print(error)"
   ]
  },
  {
   "cell_type": "code",
   "execution_count": 113,
   "metadata": {},
   "outputs": [
    {
     "name": "stdout",
     "output_type": "stream",
     "text": [
      "test DONE!\n"
     ]
    }
   ],
   "source": [
    "# def pump_to_db(data):\n",
    "try:\n",
    "    conn = psycopg2.connect(host=\"95.217.128.174\", database=\"barbossa\", user=\"maximus\", password=\"maximus\")\n",
    "    cur = conn.cursor()\n",
    "\n",
    "    name = data['General']['Name']\n",
    "    code = data['General']['Code']\n",
    "    exchange = data['General']['Exchange']\n",
    "    currency = data['General']['CurrencyCode']\n",
    "\n",
    "    cur.execute(\n",
    "        sql.SQL(\"insert into highlights values (%s, %s, %s, %s, %s, %s, %s, %s, %s, %s, \\\n",
    "                                                %s, %s, %s, %s, %s, %s, %s, %s, %s, %s, \\\n",
    "                                                %s, %s, %s, %s, %s, %s, %s, %s)\"), [\n",
    "            \n",
    "            name,\n",
    "            code,\n",
    "            exchange,\n",
    "            currency,\n",
    "            highlights['MarketCapitalization'].values[0],\n",
    "            highlights['MarketCapitalizationMln'].values[0],\n",
    "            highlights['EBITDA'].values[0],\n",
    "            highlights['PERatio'].values[0],\n",
    "            highlights['PEGRatio'].values[0],\n",
    "            highlights['WallStreetTargetPrice'].values[0],\n",
    "            highlights['BookValue'].values[0],\n",
    "            highlights['DividendShare'].values[0],\n",
    "            highlights['DividendYield'].values[0],\n",
    "            highlights['EarningsShare'].values[0],\n",
    "            highlights['EPSEstimateCurrentYear'].values[0],\n",
    "            highlights['EPSEstimateNextYear'].values[0],\n",
    "            highlights['EPSEstimateNextQuarter'].values[0],\n",
    "            highlights['EPSEstimateCurrentQuarter'].values[0],\n",
    "            highlights['MostRecentQuarter'].values[0],\n",
    "            highlights['ProfitMargin'].values[0],\n",
    "            highlights['OperatingMarginTTM'].values[0],\n",
    "            highlights['ReturnOnAssetsTTM'].values[0],\n",
    "            highlights['ReturnOnEquityTTM'].values[0],\n",
    "            highlights['RevenueTTM'].values[0],\n",
    "            highlights['QuarterlyRevenueGrowthYOY'].values[0],\n",
    "            highlights['GrossProfitTTM'].values[0],\n",
    "            highlights['DilutedEpsTTM'].values[0],\n",
    "            highlights['QuarterlyEarningsGrowthYOY'].values[0]\n",
    "        ])\n",
    "\n",
    "    conn.commit()\n",
    "    print('{} DONE!'.format('test'))\n",
    "\n",
    "except(Exception, psycopg2.DatabaseError) as error:\n",
    "        print('{} Datenabfrage fehlgeschlagen'.format('test'))\n",
    "        print(error)"
   ]
  },
  {
   "cell_type": "code",
   "execution_count": 105,
   "metadata": {},
   "outputs": [
    {
     "data": {
      "text/plain": [
       "0    2.116\n",
       "Name: DilutedEpsTTM, dtype: float64"
      ]
     },
     "execution_count": 105,
     "metadata": {},
     "output_type": "execute_result"
    }
   ],
   "source": [
    "highlights['DilutedEpsTTM']"
   ]
  },
  {
   "cell_type": "code",
   "execution_count": 67,
   "metadata": {},
   "outputs": [
    {
     "name": "stdout",
     "output_type": "stream",
     "text": [
      "test Datenabfrage fehlgeschlagen\n",
      "can't adapt type 'Series'\n"
     ]
    }
   ],
   "source": [
    "pump_to_db(data)"
   ]
  },
  {
   "cell_type": "code",
   "execution_count": null,
   "metadata": {},
   "outputs": [],
   "source": [
    "data['General']['Code']\n",
    "data['General']['Name']\n",
    "data['General']['Exchange']\n",
    "data['General']['CurrencyCode']"
   ]
  },
  {
   "cell_type": "code",
   "execution_count": 53,
   "metadata": {},
   "outputs": [
    {
     "data": {
      "text/plain": [
       "'1&1 Drillisch AG'"
      ]
     },
     "execution_count": 53,
     "metadata": {},
     "output_type": "execute_result"
    }
   ],
   "source": [
    "data['General']['Name']"
   ]
  },
  {
   "cell_type": "code",
   "execution_count": 108,
   "metadata": {},
   "outputs": [
    {
     "data": {
      "text/plain": [
       "0   -1\n",
       "Name: EPSEstimateCurrentYear, dtype: int64"
      ]
     },
     "execution_count": 108,
     "metadata": {},
     "output_type": "execute_result"
    }
   ],
   "source": [
    "highlights['EPSEstimateCurrentYear']"
   ]
  },
  {
   "cell_type": "code",
   "execution_count": 114,
   "metadata": {},
   "outputs": [
    {
     "data": {
      "text/plain": [
       "Index(['MarketCapitalization', 'MarketCapitalizationMln', 'EBITDA', 'PERatio',\n",
       "       'PEGRatio', 'WallStreetTargetPrice', 'BookValue', 'DividendShare',\n",
       "       'DividendYield', 'EarningsShare', 'EPSEstimateCurrentYear',\n",
       "       'EPSEstimateNextYear', 'EPSEstimateNextQuarter',\n",
       "       'EPSEstimateCurrentQuarter', 'MostRecentQuarter', 'ProfitMargin',\n",
       "       'OperatingMarginTTM', 'ReturnOnAssetsTTM', 'ReturnOnEquityTTM',\n",
       "       'RevenueTTM', 'RevenuePerShareTTM', 'QuarterlyRevenueGrowthYOY',\n",
       "       'GrossProfitTTM', 'DilutedEpsTTM', 'QuarterlyEarningsGrowthYOY'],\n",
       "      dtype='object')"
      ]
     },
     "execution_count": 114,
     "metadata": {},
     "output_type": "execute_result"
    }
   ],
   "source": [
    "highlights = pd.DataFrame(data['Highlights'], index=[0])\n",
    "highlights.fillna(0, inplace=True)\n",
    "highlights.columns"
   ]
  },
  {
   "cell_type": "code",
   "execution_count": 91,
   "metadata": {},
   "outputs": [
    {
     "data": {
      "text/plain": [
       "25"
      ]
     },
     "execution_count": 91,
     "metadata": {},
     "output_type": "execute_result"
    }
   ],
   "source": [
    "len(highlights.columns)"
   ]
  },
  {
   "cell_type": "code",
   "execution_count": 98,
   "metadata": {},
   "outputs": [],
   "source": [
    "values = []\n",
    "values.append(data['General']['Name'])\n",
    "values.append(data['General']['Code'])\n",
    "values.append(data['General']['Exchange'])\n",
    "values.append(data['General']['CurrencyCode'])\n",
    "\n",
    "\n",
    "for col in highlights.columns:\n",
    "    if highlights[col].values[0] != None:\n",
    "        values.append(highlights[col].values[0])\n",
    "    else:\n",
    "        values.append(0)"
   ]
  },
  {
   "cell_type": "code",
   "execution_count": 99,
   "metadata": {},
   "outputs": [
    {
     "data": {
      "text/plain": [
       "['1&1 Drillisch AG',\n",
       " 'DRI',\n",
       " 'XETRA',\n",
       " 'EUR',\n",
       " 4097412608,\n",
       " 4097.4126,\n",
       " 930145024,\n",
       " 11.1651,\n",
       " 0.67,\n",
       " 69.47,\n",
       " 26.831,\n",
       " 0.05,\n",
       " 0.0021,\n",
       " 2.116,\n",
       " 0,\n",
       " 0,\n",
       " 0,\n",
       " 0,\n",
       " '2020-03-31',\n",
       " 0.1004,\n",
       " 0.2172,\n",
       " 0.0854,\n",
       " 0.082,\n",
       " 3713061888,\n",
       " 21.077,\n",
       " 0.042,\n",
       " 1177741000,\n",
       " 2.116,\n",
       " 0]"
      ]
     },
     "execution_count": 99,
     "metadata": {},
     "output_type": "execute_result"
    }
   ],
   "source": [
    "values"
   ]
  },
  {
   "cell_type": "code",
   "execution_count": 79,
   "metadata": {},
   "outputs": [
    {
     "data": {
      "text/plain": [
       "[4097.4126,\n",
       " 4097.4126,\n",
       " 4097.4126,\n",
       " 4097.4126,\n",
       " 4097.4126,\n",
       " 4097.4126,\n",
       " 4097.4126,\n",
       " 4097.4126,\n",
       " 4097.4126,\n",
       " 4097.4126,\n",
       " 4097.4126,\n",
       " 4097.4126,\n",
       " 4097.4126,\n",
       " 4097.4126,\n",
       " 4097.4126,\n",
       " 4097.4126,\n",
       " 4097.4126,\n",
       " 4097.4126,\n",
       " 4097.4126,\n",
       " 4097.4126,\n",
       " 4097.4126,\n",
       " 4097.4126,\n",
       " 4097.4126,\n",
       " 4097.4126,\n",
       " 4097.4126]"
      ]
     },
     "execution_count": 79,
     "metadata": {},
     "output_type": "execute_result"
    }
   ],
   "source": [
    "[highlights.iloc[:, 1].values[0] for i in range(0, len(highlights.columns))]"
   ]
  },
  {
   "cell_type": "code",
   "execution_count": 76,
   "metadata": {},
   "outputs": [
    {
     "data": {
      "text/plain": [
       "0"
      ]
     },
     "execution_count": 76,
     "metadata": {},
     "output_type": "execute_result"
    }
   ],
   "source": [
    "highlights.iloc[:, i].values[0]"
   ]
  },
  {
   "cell_type": "code",
   "execution_count": 60,
   "metadata": {},
   "outputs": [
    {
     "name": "stdout",
     "output_type": "stream",
     "text": [
      "MarketCapitalization\n",
      "MarketCapitalizationMln\n",
      "EBITDA\n",
      "PERatio\n",
      "PEGRatio\n",
      "WallStreetTargetPrice\n",
      "BookValue\n",
      "DividendShare\n",
      "DividendYield\n",
      "EarningsShare\n",
      "EPSEstimateCurrentYear\n",
      "EPSEstimateNextYear\n",
      "EPSEstimateNextQuarter\n",
      "EPSEstimateCurrentQuarter\n",
      "MostRecentQuarter\n",
      "ProfitMargin\n",
      "OperatingMarginTTM\n",
      "ReturnOnAssetsTTM\n",
      "ReturnOnEquityTTM\n",
      "RevenueTTM\n",
      "RevenuePerShareTTM\n",
      "QuarterlyRevenueGrowthYOY\n",
      "GrossProfitTTM\n",
      "DilutedEpsTTM\n",
      "QuarterlyEarningsGrowthYOY\n"
     ]
    }
   ],
   "source": [
    "for item in highlights.columns:\n",
    "    print(item)"
   ]
  },
  {
   "cell_type": "code",
   "execution_count": 116,
   "metadata": {},
   "outputs": [
    {
     "name": "stdout",
     "output_type": "stream",
     "text": [
      "TrailingPE\n",
      "ForwardPE\n",
      "PriceSalesTTM\n",
      "PriceBookMRQ\n",
      "EnterpriseValueRevenue\n",
      "EnterpriseValueEbitda\n"
     ]
    }
   ],
   "source": [
    "valuation = pd.DataFrame(data['Valuation'], index=[0])\n",
    "valuation.fillna(0, inplace=True)\n",
    "for item in valuation.columns:\n",
    "    print(item)"
   ]
  },
  {
   "cell_type": "code",
   "execution_count": 117,
   "metadata": {},
   "outputs": [
    {
     "name": "stdout",
     "output_type": "stream",
     "text": [
      "SharesOutstanding\n",
      "SharesFloat\n",
      "PercentInsiders\n",
      "PercentInstitutions\n",
      "SharesShort\n",
      "SharesShortPriorMonth\n",
      "ShortRatio\n",
      "ShortPercentOutstanding\n",
      "ShortPercentFloat\n"
     ]
    }
   ],
   "source": [
    "sharesstats = pd.DataFrame(data['SharesStats'], index=[0])\n",
    "sharesstats.fillna(0, inplace=True)\n",
    "for item in sharesstats.columns:\n",
    "    print(item)"
   ]
  },
  {
   "cell_type": "code",
   "execution_count": 118,
   "metadata": {},
   "outputs": [
    {
     "name": "stdout",
     "output_type": "stream",
     "text": [
      "Beta\n",
      "52WeekHigh\n",
      "52WeekLow\n",
      "50DayMA\n",
      "200DayMA\n",
      "SharesShort\n",
      "SharesShortPriorMonth\n",
      "ShortRatio\n",
      "ShortPercent\n"
     ]
    }
   ],
   "source": [
    "technicals = pd.DataFrame(data['Technicals'], index=[0])\n",
    "technicals.fillna(0, inplace=True)\n",
    "for item in technicals.columns:\n",
    "    print(item)"
   ]
  },
  {
   "cell_type": "code",
   "execution_count": 127,
   "metadata": {},
   "outputs": [],
   "source": [
    "bs_quater = pd.DataFrame(data['Financials']['Balance_Sheet']['quarterly']).T"
   ]
  },
  {
   "cell_type": "code",
   "execution_count": 155,
   "metadata": {},
   "outputs": [],
   "source": [
    "bsq_values = []\n",
    "\n",
    "bsq_values.append(data['General']['Name'])\n",
    "bsq_values.append(data['General']['Code'])\n",
    "bsq_values.append(data['General']['Exchange'])\n",
    "bsq_values.append(data['General']['CurrencyCode'])\n",
    "\n",
    "for idx, row in bs_quater.iterrows():\n",
    "    \n",
    "    for item in row.values:\n",
    "        bsq_values.append(item)\n",
    "    break"
   ]
  },
  {
   "cell_type": "code",
   "execution_count": 158,
   "metadata": {},
   "outputs": [],
   "source": [
    "for idx, row in bs_quater.iterrows():\n",
    "\n",
    "    bsq_values = []\n",
    "    bsq_values.append(data['General']['Name'])\n",
    "    bsq_values.append(data['General']['Code'])\n",
    "    bsq_values.append(data['General']['Exchange'])\n",
    "    bsq_values.append(data['General']['CurrencyCode'])\n",
    "\n",
    "    for item in row.values:\n",
    "        bsq_values.append(item)\n",
    "    break"
   ]
  },
  {
   "cell_type": "code",
   "execution_count": 159,
   "metadata": {},
   "outputs": [
    {
     "data": {
      "text/plain": [
       "['1&1 Drillisch AG',\n",
       " 'DRI',\n",
       " 'XETRA',\n",
       " 'EUR',\n",
       " '2020-03-31',\n",
       " None,\n",
       " 'EUR',\n",
       " '6544218000.00',\n",
       " '1665008000.00',\n",
       " None,\n",
       " '19061000.00',\n",
       " '1814920000.00',\n",
       " '4729298000.00',\n",
       " '249233000.00',\n",
       " '28974000.00',\n",
       " '193891000.00',\n",
       " '2106255000.00',\n",
       " '1270502000.00',\n",
       " '2932943000.00',\n",
       " '425875000.00',\n",
       " '9734000.00',\n",
       " '544418000.00',\n",
       " None,\n",
       " None,\n",
       " None,\n",
       " '2429152000.00',\n",
       " '64247000.00',\n",
       " '1454368000.00',\n",
       " None,\n",
       " '131347000.00',\n",
       " '29285000.00',\n",
       " '242623000.00',\n",
       " None,\n",
       " '72544000.00',\n",
       " '286332000.00',\n",
       " None,\n",
       " None,\n",
       " None,\n",
       " None,\n",
       " None,\n",
       " None,\n",
       " None,\n",
       " None,\n",
       " None,\n",
       " None,\n",
       " '5089850000.00',\n",
       " None,\n",
       " '5089850000.00',\n",
       " None,\n",
       " None,\n",
       " None,\n",
       " '1270502000.00',\n",
       " None,\n",
       " None,\n",
       " None,\n",
       " None,\n",
       " None,\n",
       " None,\n",
       " None,\n",
       " None,\n",
       " None]"
      ]
     },
     "execution_count": 159,
     "metadata": {},
     "output_type": "execute_result"
    }
   ],
   "source": [
    "bsq_values"
   ]
  },
  {
   "cell_type": "code",
   "execution_count": 119,
   "metadata": {},
   "outputs": [
    {
     "name": "stdout",
     "output_type": "stream",
     "text": [
      "         date filing_date currency_symbol    totalAssets intangibleAssets  \\\n",
      "0  2020-03-31        None             EUR  6544218000.00    1665008000.00   \n",
      "\n",
      "  earningAssets otherCurrentAssets      totalLiab totalStockholderEquity  \\\n",
      "0          None        19061000.00  1814920000.00          4729298000.00   \n",
      "\n",
      "  deferredLongTermLiab  ... nonCurrentLiabilitiesTotal negativeGoodwill  \\\n",
      "0         249233000.00  ...              1270502000.00             None   \n",
      "\n",
      "  warrants preferredStockRedeemable capitalSurpluse  \\\n",
      "0     None                     None            None   \n",
      "\n",
      "  liabilitiesAndStockholdersEquity cashAndShortTermInvestments  \\\n",
      "0                             None                        None   \n",
      "\n",
      "  propertyPlantAndEquipmentGross accumulatedDepreciation  \\\n",
      "0                           None                    None   \n",
      "\n",
      "  commonStockSharesOutstanding  \n",
      "0                         None  \n",
      "\n",
      "[1 rows x 57 columns]\n"
     ]
    }
   ],
   "source": [
    "for quater in data['Financials']['Balance_Sheet']['quarterly']:\n",
    "    print(pd.DataFrame(data['Financials']['Balance_Sheet']['quarterly'][quater], index=[0]))\n",
    "    break"
   ]
  },
  {
   "cell_type": "code",
   "execution_count": 41,
   "metadata": {},
   "outputs": [
    {
     "name": "stdout",
     "output_type": "stream",
     "text": [
      "Index(['date', 'filing_date', 'currency_symbol', 'totalAssets',\n",
      "       'intangibleAssets', 'earningAssets', 'otherCurrentAssets', 'totalLiab',\n",
      "       'totalStockholderEquity', 'deferredLongTermLiab', 'otherCurrentLiab',\n",
      "       'commonStock', 'retainedEarnings', 'otherLiab', 'goodWill',\n",
      "       'otherAssets', 'cash', 'totalCurrentLiabilities', 'shortTermDebt',\n",
      "       'shortLongTermDebt', 'shortLongTermDebtTotal', 'otherStockholderEquity',\n",
      "       'propertyPlantEquipment', 'totalCurrentAssets', 'longTermInvestments',\n",
      "       'netTangibleAssets', 'shortTermInvestments', 'netReceivables',\n",
      "       'longTermDebt', 'inventory', 'accountsPayable', 'totalPermanentEquity',\n",
      "       'noncontrollingInterestInConsolidatedEntity',\n",
      "       'temporaryEquityRedeemableNoncontrollingInterests',\n",
      "       'accumulatedOtherComprehensiveIncome', 'additionalPaidInCapital',\n",
      "       'commonStockTotalEquity', 'preferredStockTotalEquity',\n",
      "       'retainedEarningsTotalEquity', 'treasuryStock',\n",
      "       'accumulatedAmortization', 'nonCurrrentAssetsOther',\n",
      "       'deferredLongTermAssetCharges', 'nonCurrentAssetsTotal',\n",
      "       'capitalLeaseObligations', 'longTermDebtTotal',\n",
      "       'nonCurrentLiabilitiesOther', 'nonCurrentLiabilitiesTotal',\n",
      "       'negativeGoodwill', 'warrants', 'preferredStockRedeemable',\n",
      "       'capitalSurpluse', 'liabilitiesAndStockholdersEquity',\n",
      "       'cashAndShortTermInvestments', 'propertyPlantAndEquipmentGross',\n",
      "       'accumulatedDepreciation', 'commonStockSharesOutstanding'],\n",
      "      dtype='object')\n"
     ]
    }
   ],
   "source": [
    "for year in data['Financials']['Balance_Sheet']['yearly']:\n",
    "    print(pd.DataFrame(data['Financials']['Balance_Sheet']['yearly'][year], index=[0]).columns)\n",
    "    break"
   ]
  },
  {
   "cell_type": "code",
   "execution_count": 42,
   "metadata": {},
   "outputs": [
    {
     "name": "stdout",
     "output_type": "stream",
     "text": [
      "Index(['date', 'filing_date', 'currency_symbol', 'investments',\n",
      "       'changeToLiabilities', 'totalCashflowsFromInvestingActivities',\n",
      "       'netBorrowings', 'totalCashFromFinancingActivities',\n",
      "       'changeToOperatingActivities', 'netIncome', 'changeInCash',\n",
      "       'totalCashFromOperatingActivities', 'depreciation',\n",
      "       'otherCashflowsFromInvestingActivities', 'dividendsPaid',\n",
      "       'changeToInventory', 'changeToAccountReceivables',\n",
      "       'salePurchaseOfStock', 'otherCashflowsFromFinancingActivities',\n",
      "       'changeToNetincome', 'capitalExpenditures', 'changeReceivables',\n",
      "       'cashFlowsOtherOperating', 'exchangeRateChanges',\n",
      "       'cashAndCashEquivalentsChanges'],\n",
      "      dtype='object')\n"
     ]
    }
   ],
   "source": [
    "for quater in data['Financials']['Cash_Flow']['quarterly']:\n",
    "    print(pd.DataFrame(data['Financials']['Cash_Flow']['quarterly'][quater], index=[0]).columns)\n",
    "    break"
   ]
  },
  {
   "cell_type": "code",
   "execution_count": 16,
   "metadata": {},
   "outputs": [],
   "source": [
    "for quater in data['Financials']['Income_Statement']['quarterly']:\n",
    "    cols = pd.DataFrame(data['Financials']['Income_Statement']['quarterly'][quater], index=[0]).columns\n",
    "    break"
   ]
  },
  {
   "cell_type": "code",
   "execution_count": 17,
   "metadata": {},
   "outputs": [
    {
     "name": "stdout",
     "output_type": "stream",
     "text": [
      "date\n",
      "filing_date\n",
      "currency_symbol\n",
      "researchDevelopment\n",
      "effectOfAccountingCharges\n",
      "incomeBeforeTax\n",
      "minorityInterest\n",
      "netIncome\n",
      "sellingGeneralAdministrative\n",
      "grossProfit\n",
      "ebit\n",
      "nonOperatingIncomeNetOther\n",
      "operatingIncome\n",
      "otherOperatingExpenses\n",
      "interestExpense\n",
      "taxProvision\n",
      "interestIncome\n",
      "netInterestIncome\n",
      "extraordinaryItems\n",
      "nonRecurring\n",
      "otherItems\n",
      "incomeTaxExpense\n",
      "totalRevenue\n",
      "totalOperatingExpenses\n",
      "costOfRevenue\n",
      "totalOtherIncomeExpenseNet\n",
      "discontinuedOperations\n",
      "netIncomeFromContinuingOps\n",
      "netIncomeApplicableToCommonShares\n",
      "preferredStockAndOtherAdjustments\n"
     ]
    }
   ],
   "source": [
    "for col in cols:\n",
    "    print(col)"
   ]
  },
  {
   "cell_type": "code",
   "execution_count": 24,
   "metadata": {},
   "outputs": [
    {
     "data": {
      "text/html": [
       "<div>\n",
       "<style scoped>\n",
       "    .dataframe tbody tr th:only-of-type {\n",
       "        vertical-align: middle;\n",
       "    }\n",
       "\n",
       "    .dataframe tbody tr th {\n",
       "        vertical-align: top;\n",
       "    }\n",
       "\n",
       "    .dataframe thead th {\n",
       "        text-align: right;\n",
       "    }\n",
       "</style>\n",
       "<table border=\"1\" class=\"dataframe\">\n",
       "  <thead>\n",
       "    <tr style=\"text-align: right;\">\n",
       "      <th></th>\n",
       "      <th>Unternehmen</th>\n",
       "      <th>Branche Detail</th>\n",
       "      <th>Branche aggregiert</th>\n",
       "      <th>Link zu Kennzahlen</th>\n",
       "      <th>stock_ticker</th>\n",
       "      <th>Unnamed: 5</th>\n",
       "      <th>daily_stock</th>\n",
       "    </tr>\n",
       "  </thead>\n",
       "  <tbody>\n",
       "    <tr>\n",
       "      <th>0</th>\n",
       "      <td>1&amp;1 Drillisch</td>\n",
       "      <td>Telekommunikation</td>\n",
       "      <td>Software / Tech</td>\n",
       "      <td>https://www.finanzen.net/aktien/drillisch-aktie</td>\n",
       "      <td>DRI.XETRA</td>\n",
       "      <td>DRI.STU</td>\n",
       "      <td>DRI.XETRA</td>\n",
       "    </tr>\n",
       "    <tr>\n",
       "      <th>1</th>\n",
       "      <td>AAR Corp.</td>\n",
       "      <td>Raumfahrt</td>\n",
       "      <td>Aviation</td>\n",
       "      <td>https://www.finanzen.net/aktien/aar-aktie</td>\n",
       "      <td>AIR.US</td>\n",
       "      <td>NaN</td>\n",
       "      <td>AIR.US</td>\n",
       "    </tr>\n",
       "    <tr>\n",
       "      <th>2</th>\n",
       "      <td>Activision</td>\n",
       "      <td>Gaming / E-Sport</td>\n",
       "      <td>Software / Tech</td>\n",
       "      <td>https://www.finanzen.net/aktien/activision_bli...</td>\n",
       "      <td>AIY.XETRA</td>\n",
       "      <td>ATVI.US</td>\n",
       "      <td>AIY.XETRA</td>\n",
       "    </tr>\n",
       "    <tr>\n",
       "      <th>3</th>\n",
       "      <td>ADIDAS</td>\n",
       "      <td>Sportartikelhersteller</td>\n",
       "      <td>Handel</td>\n",
       "      <td>https://www.finanzen.net/aktien/adidas-aktie</td>\n",
       "      <td>ADS.XETRA</td>\n",
       "      <td>ADDYY.US</td>\n",
       "      <td>ADS.XETRA</td>\n",
       "    </tr>\n",
       "    <tr>\n",
       "      <th>4</th>\n",
       "      <td>Adler Real Estate</td>\n",
       "      <td>Immobilien</td>\n",
       "      <td>Immobilien</td>\n",
       "      <td>https://www.finanzen.net/aktien/adler_real_est...</td>\n",
       "      <td>ADL.XETRA</td>\n",
       "      <td>NaN</td>\n",
       "      <td>ADL.XETRA</td>\n",
       "    </tr>\n",
       "  </tbody>\n",
       "</table>\n",
       "</div>"
      ],
      "text/plain": [
       "         Unternehmen          Branche Detail Branche aggregiert  \\\n",
       "0      1&1 Drillisch       Telekommunikation    Software / Tech   \n",
       "1          AAR Corp.               Raumfahrt           Aviation   \n",
       "2         Activision        Gaming / E-Sport    Software / Tech   \n",
       "3             ADIDAS  Sportartikelhersteller             Handel   \n",
       "4  Adler Real Estate              Immobilien         Immobilien   \n",
       "\n",
       "                                  Link zu Kennzahlen stock_ticker Unnamed: 5  \\\n",
       "0    https://www.finanzen.net/aktien/drillisch-aktie    DRI.XETRA    DRI.STU   \n",
       "1          https://www.finanzen.net/aktien/aar-aktie       AIR.US        NaN   \n",
       "2  https://www.finanzen.net/aktien/activision_bli...    AIY.XETRA    ATVI.US   \n",
       "3       https://www.finanzen.net/aktien/adidas-aktie    ADS.XETRA   ADDYY.US   \n",
       "4  https://www.finanzen.net/aktien/adler_real_est...    ADL.XETRA        NaN   \n",
       "\n",
       "  daily_stock  \n",
       "0   DRI.XETRA  \n",
       "1      AIR.US  \n",
       "2   AIY.XETRA  \n",
       "3   ADS.XETRA  \n",
       "4   ADL.XETRA  "
      ]
     },
     "execution_count": 24,
     "metadata": {},
     "output_type": "execute_result"
    }
   ],
   "source": [
    "df.head()"
   ]
  },
  {
   "cell_type": "code",
   "execution_count": 28,
   "metadata": {},
   "outputs": [],
   "source": [
    "temp = df['Unternehmen'].where(df['Unternehmen'] == 'RTL Group S.A')"
   ]
  },
  {
   "cell_type": "code",
   "execution_count": 38,
   "metadata": {},
   "outputs": [
    {
     "data": {
      "text/html": [
       "<div>\n",
       "<style scoped>\n",
       "    .dataframe tbody tr th:only-of-type {\n",
       "        vertical-align: middle;\n",
       "    }\n",
       "\n",
       "    .dataframe tbody tr th {\n",
       "        vertical-align: top;\n",
       "    }\n",
       "\n",
       "    .dataframe thead th {\n",
       "        text-align: right;\n",
       "    }\n",
       "</style>\n",
       "<table border=\"1\" class=\"dataframe\">\n",
       "  <thead>\n",
       "    <tr style=\"text-align: right;\">\n",
       "      <th></th>\n",
       "      <th>Unternehmen</th>\n",
       "      <th>Branche Detail</th>\n",
       "      <th>Branche aggregiert</th>\n",
       "      <th>Link zu Kennzahlen</th>\n",
       "      <th>stock_ticker</th>\n",
       "      <th>Unnamed: 5</th>\n",
       "      <th>daily_stock</th>\n",
       "    </tr>\n",
       "  </thead>\n",
       "  <tbody>\n",
       "    <tr>\n",
       "      <th>123</th>\n",
       "      <td>RTL</td>\n",
       "      <td>TV / Medien</td>\n",
       "      <td>Medien</td>\n",
       "      <td>https://www.finanzen.net/aktien/rtl-aktie</td>\n",
       "      <td>RRTL.XETRA</td>\n",
       "      <td>NaN</td>\n",
       "      <td>RRTL.XETRA</td>\n",
       "    </tr>\n",
       "  </tbody>\n",
       "</table>\n",
       "</div>"
      ],
      "text/plain": [
       "    Unternehmen Branche Detail Branche aggregiert  \\\n",
       "123         RTL    TV / Medien             Medien   \n",
       "\n",
       "                            Link zu Kennzahlen stock_ticker Unnamed: 5  \\\n",
       "123  https://www.finanzen.net/aktien/rtl-aktie   RRTL.XETRA        NaN   \n",
       "\n",
       "    daily_stock  \n",
       "123  RRTL.XETRA  "
      ]
     },
     "execution_count": 38,
     "metadata": {},
     "output_type": "execute_result"
    }
   ],
   "source": [
    "df[df['Unternehmen'] == 'RTL']"
   ]
  },
  {
   "cell_type": "code",
   "execution_count": 39,
   "metadata": {},
   "outputs": [
    {
     "data": {
      "text/html": [
       "<div>\n",
       "<style scoped>\n",
       "    .dataframe tbody tr th:only-of-type {\n",
       "        vertical-align: middle;\n",
       "    }\n",
       "\n",
       "    .dataframe tbody tr th {\n",
       "        vertical-align: top;\n",
       "    }\n",
       "\n",
       "    .dataframe thead th {\n",
       "        text-align: right;\n",
       "    }\n",
       "</style>\n",
       "<table border=\"1\" class=\"dataframe\">\n",
       "  <thead>\n",
       "    <tr style=\"text-align: right;\">\n",
       "      <th></th>\n",
       "      <th>Unternehmen</th>\n",
       "      <th>Branche Detail</th>\n",
       "      <th>Branche aggregiert</th>\n",
       "      <th>Link zu Kennzahlen</th>\n",
       "      <th>stock_ticker</th>\n",
       "      <th>Unnamed: 5</th>\n",
       "      <th>daily_stock</th>\n",
       "    </tr>\n",
       "  </thead>\n",
       "  <tbody>\n",
       "    <tr>\n",
       "      <th>123</th>\n",
       "      <td>RTL</td>\n",
       "      <td>TV / Medien</td>\n",
       "      <td>Medien</td>\n",
       "      <td>https://www.finanzen.net/aktien/rtl-aktie</td>\n",
       "      <td>RRTL.XETRA</td>\n",
       "      <td>NaN</td>\n",
       "      <td>RRTL.XETRA</td>\n",
       "    </tr>\n",
       "    <tr>\n",
       "      <th>124</th>\n",
       "      <td>RWE</td>\n",
       "      <td>Energieversorger</td>\n",
       "      <td>Energie / Rohstoffe</td>\n",
       "      <td>https://www.finanzen.net/aktien/rwe-aktie</td>\n",
       "      <td>RWE.XETRA</td>\n",
       "      <td>NaN</td>\n",
       "      <td>RWE.XETRA</td>\n",
       "    </tr>\n",
       "    <tr>\n",
       "      <th>125</th>\n",
       "      <td>Safran</td>\n",
       "      <td>Triebwerke</td>\n",
       "      <td>Aviation</td>\n",
       "      <td>https://www.finanzen.net/aktien/safran-aktie</td>\n",
       "      <td>0IU8.LSE</td>\n",
       "      <td>NaN</td>\n",
       "      <td>0IU8.LSE</td>\n",
       "    </tr>\n",
       "    <tr>\n",
       "      <th>126</th>\n",
       "      <td>Saint-Gobain</td>\n",
       "      <td>Baustoffe</td>\n",
       "      <td>Energie / Rohstoffe</td>\n",
       "      <td>https://www.finanzen.net/aktien/saint-gobain-a...</td>\n",
       "      <td>COD.LSE</td>\n",
       "      <td>NaN</td>\n",
       "      <td>COD.LSE</td>\n",
       "    </tr>\n",
       "    <tr>\n",
       "      <th>127</th>\n",
       "      <td>SAP</td>\n",
       "      <td>Software</td>\n",
       "      <td>Software / Tech</td>\n",
       "      <td>https://www.finanzen.net/aktien/sap-aktie</td>\n",
       "      <td>CODYY.US</td>\n",
       "      <td>NaN</td>\n",
       "      <td>CODYY.US</td>\n",
       "    </tr>\n",
       "    <tr>\n",
       "      <th>...</th>\n",
       "      <td>...</td>\n",
       "      <td>...</td>\n",
       "      <td>...</td>\n",
       "      <td>...</td>\n",
       "      <td>...</td>\n",
       "      <td>...</td>\n",
       "      <td>...</td>\n",
       "    </tr>\n",
       "    <tr>\n",
       "      <th>151</th>\n",
       "      <td>Walt Disney</td>\n",
       "      <td>TV / Medien</td>\n",
       "      <td>Medien</td>\n",
       "      <td>https://www.finanzen.net/aktien/disney-aktie</td>\n",
       "      <td>DIS.US</td>\n",
       "      <td>WDP.XETRA</td>\n",
       "      <td>DIS.US</td>\n",
       "    </tr>\n",
       "    <tr>\n",
       "      <th>152</th>\n",
       "      <td>Wirecard</td>\n",
       "      <td>Zahlungsdienstleister</td>\n",
       "      <td>Finanzwirtschaft</td>\n",
       "      <td>https://www.finanzen.net/aktien/wirecard-aktie</td>\n",
       "      <td>WDI.XETRA</td>\n",
       "      <td>WRCDF.US</td>\n",
       "      <td>WDI.XETRA</td>\n",
       "    </tr>\n",
       "    <tr>\n",
       "      <th>153</th>\n",
       "      <td>Xylem</td>\n",
       "      <td>Wasserwirtschaft</td>\n",
       "      <td>Energie / Rohstoffe</td>\n",
       "      <td>https://www.finanzen.net/aktien/xylem-aktie</td>\n",
       "      <td>XYL.US</td>\n",
       "      <td>XY6.XETRA</td>\n",
       "      <td>XYL.US</td>\n",
       "    </tr>\n",
       "    <tr>\n",
       "      <th>154</th>\n",
       "      <td>Zalando</td>\n",
       "      <td>E-Commerce</td>\n",
       "      <td>Software / Tech</td>\n",
       "      <td>https://www.finanzen.net/aktien/zalando-aktie</td>\n",
       "      <td>ZAL.XETRA</td>\n",
       "      <td>ZLNDY.US</td>\n",
       "      <td>ZAL.XETRA</td>\n",
       "    </tr>\n",
       "    <tr>\n",
       "      <th>155</th>\n",
       "      <td>Zebra Technologies</td>\n",
       "      <td>KI / AI</td>\n",
       "      <td>Software / Tech</td>\n",
       "      <td>https://www.finanzen.net/aktien/zebra_technolo...</td>\n",
       "      <td>ZBRA.US</td>\n",
       "      <td>NaN</td>\n",
       "      <td>ZBRA.US</td>\n",
       "    </tr>\n",
       "  </tbody>\n",
       "</table>\n",
       "<p>33 rows × 7 columns</p>\n",
       "</div>"
      ],
      "text/plain": [
       "            Unternehmen         Branche Detail   Branche aggregiert  \\\n",
       "123                 RTL            TV / Medien               Medien   \n",
       "124                 RWE       Energieversorger  Energie / Rohstoffe   \n",
       "125              Safran             Triebwerke             Aviation   \n",
       "126        Saint-Gobain              Baustoffe  Energie / Rohstoffe   \n",
       "127                 SAP               Software      Software / Tech   \n",
       "..                  ...                    ...                  ...   \n",
       "151         Walt Disney            TV / Medien               Medien   \n",
       "152            Wirecard  Zahlungsdienstleister     Finanzwirtschaft   \n",
       "153              Xylem        Wasserwirtschaft  Energie / Rohstoffe   \n",
       "154             Zalando             E-Commerce      Software / Tech   \n",
       "155  Zebra Technologies                KI / AI      Software / Tech   \n",
       "\n",
       "                                    Link zu Kennzahlen stock_ticker  \\\n",
       "123          https://www.finanzen.net/aktien/rtl-aktie   RRTL.XETRA   \n",
       "124          https://www.finanzen.net/aktien/rwe-aktie    RWE.XETRA   \n",
       "125       https://www.finanzen.net/aktien/safran-aktie     0IU8.LSE   \n",
       "126  https://www.finanzen.net/aktien/saint-gobain-a...      COD.LSE   \n",
       "127          https://www.finanzen.net/aktien/sap-aktie     CODYY.US   \n",
       "..                                                 ...          ...   \n",
       "151       https://www.finanzen.net/aktien/disney-aktie       DIS.US   \n",
       "152     https://www.finanzen.net/aktien/wirecard-aktie    WDI.XETRA   \n",
       "153        https://www.finanzen.net/aktien/xylem-aktie       XYL.US   \n",
       "154      https://www.finanzen.net/aktien/zalando-aktie    ZAL.XETRA   \n",
       "155  https://www.finanzen.net/aktien/zebra_technolo...      ZBRA.US   \n",
       "\n",
       "    Unnamed: 5 daily_stock  \n",
       "123        NaN  RRTL.XETRA  \n",
       "124        NaN   RWE.XETRA  \n",
       "125        NaN    0IU8.LSE  \n",
       "126        NaN     COD.LSE  \n",
       "127        NaN    CODYY.US  \n",
       "..         ...         ...  \n",
       "151  WDP.XETRA      DIS.US  \n",
       "152   WRCDF.US   WDI.XETRA  \n",
       "153  XY6.XETRA      XYL.US  \n",
       "154   ZLNDY.US   ZAL.XETRA  \n",
       "155        NaN     ZBRA.US  \n",
       "\n",
       "[33 rows x 7 columns]"
      ]
     },
     "execution_count": 39,
     "metadata": {},
     "output_type": "execute_result"
    }
   ],
   "source": [
    "df.iloc[123:]"
   ]
  },
  {
   "cell_type": "code",
   "execution_count": null,
   "metadata": {},
   "outputs": [],
   "source": [
    "df['preTestScore'].where(df['postTestScore'] > 50)"
   ]
  },
  {
   "cell_type": "code",
   "execution_count": null,
   "metadata": {},
   "outputs": [],
   "source": [
    "for quater in data['Financials']['Cash_Flow']['quarterly']:\n",
    "    print(pd.DataFrame(data['Financials']['Cash_Flow']['quarterly'][quater], index=[0]).columns)"
   ]
  },
  {
   "cell_type": "code",
   "execution_count": 43,
   "metadata": {},
   "outputs": [
    {
     "name": "stdout",
     "output_type": "stream",
     "text": [
      "Index(['date', 'filing_date', 'currency_symbol', 'investments',\n",
      "       'changeToLiabilities', 'totalCashflowsFromInvestingActivities',\n",
      "       'netBorrowings', 'totalCashFromFinancingActivities',\n",
      "       'changeToOperatingActivities', 'netIncome', 'changeInCash',\n",
      "       'totalCashFromOperatingActivities', 'depreciation',\n",
      "       'otherCashflowsFromInvestingActivities', 'dividendsPaid',\n",
      "       'changeToInventory', 'changeToAccountReceivables',\n",
      "       'salePurchaseOfStock', 'otherCashflowsFromFinancingActivities',\n",
      "       'changeToNetincome', 'capitalExpenditures', 'changeReceivables',\n",
      "       'cashFlowsOtherOperating', 'exchangeRateChanges',\n",
      "       'cashAndCashEquivalentsChanges'],\n",
      "      dtype='object')\n"
     ]
    }
   ],
   "source": [
    "for year in data['Financials']['Cash_Flow']['yearly']:\n",
    "    print(pd.DataFrame(data['Financials']['Cash_Flow']['yearly'][year], index=[0]).columns)\n",
    "    break"
   ]
  },
  {
   "cell_type": "code",
   "execution_count": 45,
   "metadata": {},
   "outputs": [
    {
     "name": "stdout",
     "output_type": "stream",
     "text": [
      "Index(['date', 'filing_date', 'currency_symbol', 'researchDevelopment',\n",
      "       'effectOfAccountingCharges', 'incomeBeforeTax', 'minorityInterest',\n",
      "       'netIncome', 'sellingGeneralAdministrative', 'grossProfit', 'ebit',\n",
      "       'nonOperatingIncomeNetOther', 'operatingIncome',\n",
      "       'otherOperatingExpenses', 'interestExpense', 'taxProvision',\n",
      "       'interestIncome', 'netInterestIncome', 'extraordinaryItems',\n",
      "       'nonRecurring', 'otherItems', 'incomeTaxExpense', 'totalRevenue',\n",
      "       'totalOperatingExpenses', 'costOfRevenue', 'totalOtherIncomeExpenseNet',\n",
      "       'discontinuedOperations', 'netIncomeFromContinuingOps',\n",
      "       'netIncomeApplicableToCommonShares',\n",
      "       'preferredStockAndOtherAdjustments'],\n",
      "      dtype='object')\n"
     ]
    }
   ],
   "source": [
    "for quater in data['Financials']['Income_Statement']['quarterly']:\n",
    "    print(pd.DataFrame(data['Financials']['Income_Statement']['quarterly'][quater], index=[0]).columns)\n",
    "    break"
   ]
  },
  {
   "cell_type": "code",
   "execution_count": 46,
   "metadata": {},
   "outputs": [
    {
     "name": "stdout",
     "output_type": "stream",
     "text": [
      "Index(['date', 'filing_date', 'currency_symbol', 'researchDevelopment',\n",
      "       'effectOfAccountingCharges', 'incomeBeforeTax', 'minorityInterest',\n",
      "       'netIncome', 'sellingGeneralAdministrative', 'grossProfit', 'ebit',\n",
      "       'nonOperatingIncomeNetOther', 'operatingIncome',\n",
      "       'otherOperatingExpenses', 'interestExpense', 'taxProvision',\n",
      "       'interestIncome', 'netInterestIncome', 'extraordinaryItems',\n",
      "       'nonRecurring', 'otherItems', 'incomeTaxExpense', 'totalRevenue',\n",
      "       'totalOperatingExpenses', 'costOfRevenue', 'totalOtherIncomeExpenseNet',\n",
      "       'discontinuedOperations', 'netIncomeFromContinuingOps',\n",
      "       'netIncomeApplicableToCommonShares',\n",
      "       'preferredStockAndOtherAdjustments'],\n",
      "      dtype='object')\n"
     ]
    }
   ],
   "source": [
    "for year in data['Financials']['Income_Statement']['yearly']:\n",
    "    print(pd.DataFrame(data['Financials']['Income_Statement']['yearly'][year], index=[0]).columns)\n",
    "    break"
   ]
  },
  {
   "cell_type": "code",
   "execution_count": null,
   "metadata": {},
   "outputs": [],
   "source": []
  }
 ],
 "metadata": {
  "kernelspec": {
   "display_name": "Python 3",
   "language": "python",
   "name": "python3"
  },
  "language_info": {
   "codemirror_mode": {
    "name": "ipython",
    "version": 3
   },
   "file_extension": ".py",
   "mimetype": "text/x-python",
   "name": "python",
   "nbconvert_exporter": "python",
   "pygments_lexer": "ipython3",
   "version": "3.7.7"
  }
 },
 "nbformat": 4,
 "nbformat_minor": 4
}
