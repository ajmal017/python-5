{
 "cells": [
  {
   "cell_type": "code",
   "execution_count": 1,
   "metadata": {},
   "outputs": [],
   "source": [
    "import pandas as pd\n",
    "import plotly.express as px"
   ]
  },
  {
   "cell_type": "code",
   "execution_count": 2,
   "metadata": {},
   "outputs": [],
   "source": [
    "try:\n",
    "    # For Python 3.0 and later\n",
    "    from urllib.request import urlopen\n",
    "except ImportError:\n",
    "    # Fall back to Python 2's urllib2\n",
    "    from urllib2 import urlopen\n",
    "\n",
    "import json\n",
    "\n",
    "def get_jsonparsed_data(url):\n",
    "    response = urlopen(url)\n",
    "    data = response.read().decode(\"utf-8\")\n",
    "    return json.loads(data)"
   ]
  },
  {
   "cell_type": "code",
   "execution_count": 21,
   "metadata": {},
   "outputs": [],
   "source": [
    "bs = (\"https://financialmodelingprep.com/api/v3/balance-sheet-statement/AAPL?apikey=fb6ec7d2576801ce2c333fc8f6ff4cab\")\n",
    "ics = (\"https://financialmodelingprep.com/api/v3/income-statement/AAPL?apikey=fb6ec7d2576801ce2c333fc8f6ff4cab\")\n",
    "current = ('https://financialmodelingprep.com/api/v3/quote-short/AAPL?apikey=fb6ec7d2576801ce2c333fc8f6ff4cab')\n",
    "cq = (\"https://financialmodelingprep.com/api/v3/quote/AAPL?apikey=fb6ec7d2576801ce2c333fc8f6ff4cab\")\n",
    "\n",
    "balance_sheet = get_jsonparsed_data(bs)\n",
    "income_statement = get_jsonparsed_data(ics)\n",
    "current_data = get_jsonparsed_data(current)\n",
    "company_quote = get_jsonparsed_data(cq)"
   ]
  },
  {
   "cell_type": "code",
   "execution_count": 23,
   "metadata": {},
   "outputs": [],
   "source": [
    "balance_sheet = pd.DataFrame(balance_sheet)\n",
    "income_statement = pd.DataFrame(income_statement)\n",
    "current_data = pd.DataFrame(current_data)\n",
    "company_quote = pd.DataFrame(company_quote)"
   ]
  },
  {
   "cell_type": "code",
   "execution_count": 24,
   "metadata": {},
   "outputs": [
    {
     "data": {
      "text/html": [
       "<div>\n",
       "<style scoped>\n",
       "    .dataframe tbody tr th:only-of-type {\n",
       "        vertical-align: middle;\n",
       "    }\n",
       "\n",
       "    .dataframe tbody tr th {\n",
       "        vertical-align: top;\n",
       "    }\n",
       "\n",
       "    .dataframe thead th {\n",
       "        text-align: right;\n",
       "    }\n",
       "</style>\n",
       "<table border=\"1\" class=\"dataframe\">\n",
       "  <thead>\n",
       "    <tr style=\"text-align: right;\">\n",
       "      <th></th>\n",
       "      <th>avgVolume</th>\n",
       "      <th>change</th>\n",
       "      <th>changesPercentage</th>\n",
       "      <th>dayHigh</th>\n",
       "      <th>dayLow</th>\n",
       "      <th>earningsAnnouncement</th>\n",
       "      <th>eps</th>\n",
       "      <th>exchange</th>\n",
       "      <th>marketCap</th>\n",
       "      <th>name</th>\n",
       "      <th>open</th>\n",
       "      <th>pe</th>\n",
       "      <th>previousClose</th>\n",
       "      <th>price</th>\n",
       "      <th>priceAvg200</th>\n",
       "      <th>priceAvg50</th>\n",
       "      <th>sharesOutstanding</th>\n",
       "      <th>symbol</th>\n",
       "      <th>timestamp</th>\n",
       "      <th>volume</th>\n",
       "      <th>yearHigh</th>\n",
       "      <th>yearLow</th>\n",
       "    </tr>\n",
       "  </thead>\n",
       "  <tbody>\n",
       "    <tr>\n",
       "      <th>0</th>\n",
       "      <td>43439682</td>\n",
       "      <td>2.9</td>\n",
       "      <td>0.86</td>\n",
       "      <td>347.8</td>\n",
       "      <td>334.2233</td>\n",
       "      <td>2020-04-30T20:30:00.000+0000</td>\n",
       "      <td>12.728</td>\n",
       "      <td>NASDAQ</td>\n",
       "      <td>1.468471e+12</td>\n",
       "      <td>Apple Inc.</td>\n",
       "      <td>344.72</td>\n",
       "      <td>26.618479</td>\n",
       "      <td>335.9</td>\n",
       "      <td>338.8</td>\n",
       "      <td>292.65335</td>\n",
       "      <td>313.0023</td>\n",
       "      <td>4334329750</td>\n",
       "      <td>AAPL</td>\n",
       "      <td>1592048394</td>\n",
       "      <td>48025829</td>\n",
       "      <td>354.77</td>\n",
       "      <td>192.17</td>\n",
       "    </tr>\n",
       "  </tbody>\n",
       "</table>\n",
       "</div>"
      ],
      "text/plain": [
       "   avgVolume  change  changesPercentage  dayHigh    dayLow  \\\n",
       "0   43439682     2.9               0.86    347.8  334.2233   \n",
       "\n",
       "           earningsAnnouncement     eps exchange     marketCap        name  \\\n",
       "0  2020-04-30T20:30:00.000+0000  12.728   NASDAQ  1.468471e+12  Apple Inc.   \n",
       "\n",
       "     open         pe  previousClose  price  priceAvg200  priceAvg50  \\\n",
       "0  344.72  26.618479          335.9  338.8    292.65335    313.0023   \n",
       "\n",
       "   sharesOutstanding symbol   timestamp    volume  yearHigh  yearLow  \n",
       "0         4334329750   AAPL  1592048394  48025829    354.77   192.17  "
      ]
     },
     "execution_count": 24,
     "metadata": {},
     "output_type": "execute_result"
    }
   ],
   "source": [
    "company_quote.head()"
   ]
  },
  {
   "cell_type": "code",
   "execution_count": 8,
   "metadata": {},
   "outputs": [],
   "source": [
    "cashAndCashEquivalents = balance_sheet.cashAndCashEquivalents\n",
    "totalDebt = balance_sheet.totalDebt\n",
    "ebitda = income_statement.ebitda\n",
    "netIncome = income_statement.netIncome"
   ]
  },
  {
   "cell_type": "code",
   "execution_count": null,
   "metadata": {},
   "outputs": [],
   "source": []
  }
 ],
 "metadata": {
  "kernelspec": {
   "display_name": "Python 3",
   "language": "python",
   "name": "python3"
  },
  "language_info": {
   "codemirror_mode": {
    "name": "ipython",
    "version": 3
   },
   "file_extension": ".py",
   "mimetype": "text/x-python",
   "name": "python",
   "nbconvert_exporter": "python",
   "pygments_lexer": "ipython3",
   "version": "3.5.6"
  }
 },
 "nbformat": 4,
 "nbformat_minor": 4
}
