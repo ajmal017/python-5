{
 "cells": [
  {
   "cell_type": "code",
   "execution_count": 79,
   "metadata": {},
   "outputs": [],
   "source": [
    "import pandas as pd\n",
    "import plotly.express as px"
   ]
  },
  {
   "cell_type": "code",
   "execution_count": 97,
   "metadata": {},
   "outputs": [],
   "source": [
    "df = pd.read_csv('dax.csv', delimiter=';')\n",
    "# df.head()"
   ]
  },
  {
   "cell_type": "code",
   "execution_count": 98,
   "metadata": {},
   "outputs": [
    {
     "data": {
      "text/plain": [
       "Index(['WKN', 'Wert', 'Branche', 'Land', 'Unnamed: 4', 'Aktueller Kurs',\n",
       "       'Gewinn pro Aktie (€)', 'KGV', 'Dividendenrendite (%)',\n",
       "       'Marktkapitalisierung (Mio. €)', 'EBITDA (Mio. €)',\n",
       "       'Ergebnis nach Steuern (Mio. €)', 'Barreserve (Mio. €)',\n",
       "       'Verbindlichkeiten (Mio. €)', 'Rückstellungen (Mio. €)',\n",
       "       'Zinsaufwand (Mio. €)', 'Verschuldungsgrad'],\n",
       "      dtype='object')"
      ]
     },
     "execution_count": 98,
     "metadata": {},
     "output_type": "execute_result"
    }
   ],
   "source": [
    "df.columns"
   ]
  },
  {
   "cell_type": "code",
   "execution_count": 99,
   "metadata": {},
   "outputs": [],
   "source": [
    "df.columns = [\n",
    "    'WKN', 'Wert', 'Branche', 'Land', 'Land_1', 'Aktueller_Kurs',\n",
    "    'GewinnProAktie', 'KGV','Dividendenrendite',\n",
    "    'Marktkapitalisierung', 'EBITDA',\n",
    "    'Ergebnis nach Steuern', 'Barreserve',\n",
    "    'Verbindlichkeiten', 'Rückstellungen',\n",
    "    'Zinsaufwand', 'Verschuldungsgrad'\n",
    "]"
   ]
  },
  {
   "cell_type": "code",
   "execution_count": 100,
   "metadata": {},
   "outputs": [],
   "source": [
    "df.drop('Land_1', axis=1, inplace=True)"
   ]
  },
  {
   "cell_type": "code",
   "execution_count": 101,
   "metadata": {},
   "outputs": [],
   "source": [
    "df = df.apply(lambda x: x.str.replace('.',''))"
   ]
  },
  {
   "cell_type": "code",
   "execution_count": 102,
   "metadata": {},
   "outputs": [],
   "source": [
    "df = df.apply(lambda x: x.str.replace(',','.'))"
   ]
  },
  {
   "cell_type": "code",
   "execution_count": 103,
   "metadata": {},
   "outputs": [
    {
     "data": {
      "text/html": [
       "<div>\n",
       "<style scoped>\n",
       "    .dataframe tbody tr th:only-of-type {\n",
       "        vertical-align: middle;\n",
       "    }\n",
       "\n",
       "    .dataframe tbody tr th {\n",
       "        vertical-align: top;\n",
       "    }\n",
       "\n",
       "    .dataframe thead th {\n",
       "        text-align: right;\n",
       "    }\n",
       "</style>\n",
       "<table border=\"1\" class=\"dataframe\">\n",
       "  <thead>\n",
       "    <tr style=\"text-align: right;\">\n",
       "      <th></th>\n",
       "      <th>WKN</th>\n",
       "      <th>Wert</th>\n",
       "      <th>Branche</th>\n",
       "      <th>Land</th>\n",
       "      <th>Aktueller_Kurs</th>\n",
       "      <th>GewinnProAktie</th>\n",
       "      <th>KGV</th>\n",
       "      <th>Dividendenrendite</th>\n",
       "      <th>Marktkapitalisierung</th>\n",
       "      <th>EBITDA</th>\n",
       "      <th>Ergebnis nach Steuern</th>\n",
       "      <th>Barreserve</th>\n",
       "      <th>Verbindlichkeiten</th>\n",
       "      <th>Rückstellungen</th>\n",
       "      <th>Zinsaufwand</th>\n",
       "      <th>Verschuldungsgrad</th>\n",
       "    </tr>\n",
       "  </thead>\n",
       "  <tbody>\n",
       "    <tr>\n",
       "      <th>0</th>\n",
       "      <td>747206</td>\n",
       "      <td>Wirecard</td>\n",
       "      <td>Internetkommerz</td>\n",
       "      <td>Deutschland</td>\n",
       "      <td>92.13 EUR</td>\n",
       "      <td>4.20</td>\n",
       "      <td>25.54</td>\n",
       "      <td>0.23</td>\n",
       "      <td>13283.30</td>\n",
       "      <td>0.00</td>\n",
       "      <td>0.00</td>\n",
       "      <td>0.00</td>\n",
       "      <td>0.00</td>\n",
       "      <td>0.00</td>\n",
       "      <td>0.00</td>\n",
       "      <td>NaN</td>\n",
       "    </tr>\n",
       "    <tr>\n",
       "      <th>1</th>\n",
       "      <td>823212</td>\n",
       "      <td>Lufthansa</td>\n",
       "      <td>Fluggesellschaften</td>\n",
       "      <td>Deutschland</td>\n",
       "      <td>10.47 EUR</td>\n",
       "      <td>2.55</td>\n",
       "      <td>6.43</td>\n",
       "      <td>0.00</td>\n",
       "      <td>7847.16</td>\n",
       "      <td>4913.00</td>\n",
       "      <td>1245.00</td>\n",
       "      <td>1415.00</td>\n",
       "      <td>32512.00</td>\n",
       "      <td>7943.00</td>\n",
       "      <td>394.00</td>\n",
       "      <td>315.94</td>\n",
       "    </tr>\n",
       "    <tr>\n",
       "      <th>2</th>\n",
       "      <td>BASF11</td>\n",
       "      <td>BASF</td>\n",
       "      <td>Chemie</td>\n",
       "      <td>Deutschland</td>\n",
       "      <td>51.12 EUR</td>\n",
       "      <td>9.17</td>\n",
       "      <td>7.34</td>\n",
       "      <td>4.89</td>\n",
       "      <td>61859.56</td>\n",
       "      <td>7985.00</td>\n",
       "      <td>8491.00</td>\n",
       "      <td>2427.00</td>\n",
       "      <td>44600.00</td>\n",
       "      <td>11961.00</td>\n",
       "      <td>648.00</td>\n",
       "      <td>101.25</td>\n",
       "    </tr>\n",
       "    <tr>\n",
       "      <th>3</th>\n",
       "      <td>710000</td>\n",
       "      <td>Daimler</td>\n",
       "      <td>Automobilproduktion</td>\n",
       "      <td>Deutschland</td>\n",
       "      <td>36.02 EUR</td>\n",
       "      <td>2.22</td>\n",
       "      <td>22.23</td>\n",
       "      <td>1.82</td>\n",
       "      <td>52817.85</td>\n",
       "      <td>12064.00</td>\n",
       "      <td>2709.00</td>\n",
       "      <td>18883.00</td>\n",
       "      <td>241094.00</td>\n",
       "      <td>30652.00</td>\n",
       "      <td>880.00</td>\n",
       "      <td>381.27</td>\n",
       "    </tr>\n",
       "    <tr>\n",
       "      <th>4</th>\n",
       "      <td>840400</td>\n",
       "      <td>Allianz</td>\n",
       "      <td>Versicherungen</td>\n",
       "      <td>Deutschland</td>\n",
       "      <td>178.08 EUR</td>\n",
       "      <td>18.90</td>\n",
       "      <td>11.55</td>\n",
       "      <td>4.39</td>\n",
       "      <td>91110.58</td>\n",
       "      <td>13145.00</td>\n",
       "      <td>8302.00</td>\n",
       "      <td>21075.00</td>\n",
       "      <td>933820.00</td>\n",
       "      <td>25468.00</td>\n",
       "      <td>1110.00</td>\n",
       "      <td>1207.03</td>\n",
       "    </tr>\n",
       "    <tr>\n",
       "      <th>...</th>\n",
       "      <td>...</td>\n",
       "      <td>...</td>\n",
       "      <td>...</td>\n",
       "      <td>...</td>\n",
       "      <td>...</td>\n",
       "      <td>...</td>\n",
       "      <td>...</td>\n",
       "      <td>...</td>\n",
       "      <td>...</td>\n",
       "      <td>...</td>\n",
       "      <td>...</td>\n",
       "      <td>...</td>\n",
       "      <td>...</td>\n",
       "      <td>...</td>\n",
       "      <td>...</td>\n",
       "      <td>...</td>\n",
       "    </tr>\n",
       "    <tr>\n",
       "      <th>25</th>\n",
       "      <td>578580</td>\n",
       "      <td>Fresenius Medical Care</td>\n",
       "      <td>Medizinische Geräte</td>\n",
       "      <td>Deutschland</td>\n",
       "      <td>74.24 EUR</td>\n",
       "      <td>3.96</td>\n",
       "      <td>16.65</td>\n",
       "      <td>1.81</td>\n",
       "      <td>19677.78</td>\n",
       "      <td>3862.80</td>\n",
       "      <td>1438.50</td>\n",
       "      <td>1007.70</td>\n",
       "      <td>20976.80</td>\n",
       "      <td>689.20</td>\n",
       "      <td>491.10</td>\n",
       "      <td>148.99</td>\n",
       "    </tr>\n",
       "    <tr>\n",
       "      <th>26</th>\n",
       "      <td>659990</td>\n",
       "      <td>Merck</td>\n",
       "      <td>Pharma</td>\n",
       "      <td>Deutschland</td>\n",
       "      <td>101.30 EUR</td>\n",
       "      <td>3.04</td>\n",
       "      <td>34.65</td>\n",
       "      <td>1.23</td>\n",
       "      <td>13615.64</td>\n",
       "      <td>3679.00</td>\n",
       "      <td>1296.00</td>\n",
       "      <td>781.00</td>\n",
       "      <td>25898.00</td>\n",
       "      <td>4380.00</td>\n",
       "      <td>0.00</td>\n",
       "      <td>144.57</td>\n",
       "    </tr>\n",
       "    <tr>\n",
       "      <th>27</th>\n",
       "      <td>604843</td>\n",
       "      <td>Henkel</td>\n",
       "      <td>Chemie</td>\n",
       "      <td>Deutschland</td>\n",
       "      <td>81.80 EUR</td>\n",
       "      <td>4.79</td>\n",
       "      <td>19.24</td>\n",
       "      <td>2.00</td>\n",
       "      <td>38249.49</td>\n",
       "      <td>3643.00</td>\n",
       "      <td>2103.00</td>\n",
       "      <td>1462.00</td>\n",
       "      <td>12792.00</td>\n",
       "      <td>2576.00</td>\n",
       "      <td>88.00</td>\n",
       "      <td>67.93</td>\n",
       "    </tr>\n",
       "    <tr>\n",
       "      <th>28</th>\n",
       "      <td>581005</td>\n",
       "      <td>Deutsche Börse</td>\n",
       "      <td>Finanzdienstleistung</td>\n",
       "      <td>Deutschland</td>\n",
       "      <td>149.45 EUR</td>\n",
       "      <td>5.47</td>\n",
       "      <td>25.62</td>\n",
       "      <td>2.06</td>\n",
       "      <td>26628.50</td>\n",
       "      <td>1678.30</td>\n",
       "      <td>1035.40</td>\n",
       "      <td>888.10</td>\n",
       "      <td>131054.70</td>\n",
       "      <td>669.40</td>\n",
       "      <td>64.40</td>\n",
       "      <td>2144.71</td>\n",
       "    </tr>\n",
       "    <tr>\n",
       "      <th>29</th>\n",
       "      <td>520000</td>\n",
       "      <td>Beiersdorf</td>\n",
       "      <td>Drogerie und Kosmeti</td>\n",
       "      <td>Deutschland</td>\n",
       "      <td>98.24 EUR</td>\n",
       "      <td>3.17</td>\n",
       "      <td>33.64</td>\n",
       "      <td>0.65</td>\n",
       "      <td>26875.80</td>\n",
       "      <td>1252.00</td>\n",
       "      <td>736.00</td>\n",
       "      <td>1142.00</td>\n",
       "      <td>3972.00</td>\n",
       "      <td>1478.00</td>\n",
       "      <td>13.00</td>\n",
       "      <td>64.46</td>\n",
       "    </tr>\n",
       "  </tbody>\n",
       "</table>\n",
       "<p>30 rows × 16 columns</p>\n",
       "</div>"
      ],
      "text/plain": [
       "       WKN                    Wert               Branche         Land  \\\n",
       "0   747206                Wirecard       Internetkommerz  Deutschland   \n",
       "1   823212               Lufthansa    Fluggesellschaften  Deutschland   \n",
       "2   BASF11                    BASF                Chemie  Deutschland   \n",
       "3   710000                 Daimler   Automobilproduktion  Deutschland   \n",
       "4   840400                 Allianz        Versicherungen  Deutschland   \n",
       "..     ...                     ...                   ...          ...   \n",
       "25  578580  Fresenius Medical Care   Medizinische Geräte  Deutschland   \n",
       "26  659990                   Merck                Pharma  Deutschland   \n",
       "27  604843                  Henkel                Chemie  Deutschland   \n",
       "28  581005          Deutsche Börse  Finanzdienstleistung  Deutschland   \n",
       "29  520000              Beiersdorf  Drogerie und Kosmeti  Deutschland   \n",
       "\n",
       "   Aktueller_Kurs GewinnProAktie    KGV Dividendenrendite  \\\n",
       "0       92.13 EUR           4.20  25.54              0.23   \n",
       "1       10.47 EUR           2.55   6.43              0.00   \n",
       "2       51.12 EUR           9.17   7.34              4.89   \n",
       "3       36.02 EUR           2.22  22.23              1.82   \n",
       "4      178.08 EUR          18.90  11.55              4.39   \n",
       "..            ...            ...    ...               ...   \n",
       "25      74.24 EUR           3.96  16.65              1.81   \n",
       "26     101.30 EUR           3.04  34.65              1.23   \n",
       "27      81.80 EUR           4.79  19.24              2.00   \n",
       "28     149.45 EUR           5.47  25.62              2.06   \n",
       "29      98.24 EUR           3.17  33.64              0.65   \n",
       "\n",
       "   Marktkapitalisierung    EBITDA Ergebnis nach Steuern Barreserve  \\\n",
       "0              13283.30      0.00                  0.00       0.00   \n",
       "1               7847.16   4913.00               1245.00    1415.00   \n",
       "2              61859.56   7985.00               8491.00    2427.00   \n",
       "3              52817.85  12064.00               2709.00   18883.00   \n",
       "4              91110.58  13145.00               8302.00   21075.00   \n",
       "..                  ...       ...                   ...        ...   \n",
       "25             19677.78   3862.80               1438.50    1007.70   \n",
       "26             13615.64   3679.00               1296.00     781.00   \n",
       "27             38249.49   3643.00               2103.00    1462.00   \n",
       "28             26628.50   1678.30               1035.40     888.10   \n",
       "29             26875.80   1252.00                736.00    1142.00   \n",
       "\n",
       "   Verbindlichkeiten Rückstellungen Zinsaufwand Verschuldungsgrad  \n",
       "0               0.00           0.00        0.00               NaN  \n",
       "1           32512.00        7943.00      394.00            315.94  \n",
       "2           44600.00       11961.00      648.00            101.25  \n",
       "3          241094.00       30652.00      880.00            381.27  \n",
       "4          933820.00       25468.00     1110.00           1207.03  \n",
       "..               ...            ...         ...               ...  \n",
       "25          20976.80         689.20      491.10            148.99  \n",
       "26          25898.00        4380.00        0.00            144.57  \n",
       "27          12792.00        2576.00       88.00             67.93  \n",
       "28         131054.70         669.40       64.40           2144.71  \n",
       "29           3972.00        1478.00       13.00             64.46  \n",
       "\n",
       "[30 rows x 16 columns]"
      ]
     },
     "execution_count": 103,
     "metadata": {},
     "output_type": "execute_result"
    }
   ],
   "source": [
    "df"
   ]
  },
  {
   "cell_type": "code",
   "execution_count": 104,
   "metadata": {},
   "outputs": [],
   "source": [
    "df.Aktueller_Kurs = df.Aktueller_Kurs.apply(lambda x: float(x.split(' ')[0]))"
   ]
  },
  {
   "cell_type": "code",
   "execution_count": 106,
   "metadata": {},
   "outputs": [
    {
     "name": "stdout",
     "output_type": "stream",
     "text": [
      "<class 'pandas.core.frame.DataFrame'>\n",
      "RangeIndex: 30 entries, 0 to 29\n",
      "Data columns (total 16 columns):\n",
      "WKN                      30 non-null object\n",
      "Wert                     30 non-null object\n",
      "Branche                  30 non-null object\n",
      "Land                     30 non-null object\n",
      "Aktueller_Kurs           30 non-null float64\n",
      "GewinnProAktie           30 non-null object\n",
      "KGV                      28 non-null object\n",
      "Dividendenrendite        30 non-null object\n",
      "Marktkapitalisierung     30 non-null object\n",
      "EBITDA                   30 non-null object\n",
      "Ergebnis nach Steuern    30 non-null object\n",
      "Barreserve               30 non-null object\n",
      "Verbindlichkeiten        30 non-null object\n",
      "Rückstellungen           30 non-null object\n",
      "Zinsaufwand              30 non-null object\n",
      "Verschuldungsgrad        29 non-null object\n",
      "dtypes: float64(1), object(15)\n",
      "memory usage: 3.9+ KB\n"
     ]
    }
   ],
   "source": [
    "df.info()"
   ]
  },
  {
   "cell_type": "code",
   "execution_count": 107,
   "metadata": {},
   "outputs": [],
   "source": [
    "numeric_columns = [\n",
    "    'Aktueller_Kurs',\n",
    "    'GewinnProAktie', 'KGV','Dividendenrendite',\n",
    "    'Marktkapitalisierung', 'EBITDA',\n",
    "    'Ergebnis nach Steuern', 'Barreserve',\n",
    "    'Verbindlichkeiten', 'Rückstellungen',\n",
    "    'Zinsaufwand', 'Verschuldungsgrad'\n",
    "]"
   ]
  },
  {
   "cell_type": "code",
   "execution_count": 108,
   "metadata": {},
   "outputs": [],
   "source": [
    "for col in numeric_columns:\n",
    "    df[col] = df[col].astype(float)"
   ]
  },
  {
   "cell_type": "code",
   "execution_count": 110,
   "metadata": {},
   "outputs": [
    {
     "name": "stdout",
     "output_type": "stream",
     "text": [
      "<class 'pandas.core.frame.DataFrame'>\n",
      "RangeIndex: 30 entries, 0 to 29\n",
      "Data columns (total 16 columns):\n",
      "WKN                      30 non-null object\n",
      "Wert                     30 non-null object\n",
      "Branche                  30 non-null object\n",
      "Land                     30 non-null object\n",
      "Aktueller_Kurs           30 non-null float64\n",
      "GewinnProAktie           30 non-null float64\n",
      "KGV                      28 non-null float64\n",
      "Dividendenrendite        30 non-null float64\n",
      "Marktkapitalisierung     30 non-null float64\n",
      "EBITDA                   30 non-null float64\n",
      "Ergebnis nach Steuern    30 non-null float64\n",
      "Barreserve               30 non-null float64\n",
      "Verbindlichkeiten        30 non-null float64\n",
      "Rückstellungen           30 non-null float64\n",
      "Zinsaufwand              30 non-null float64\n",
      "Verschuldungsgrad        29 non-null float64\n",
      "dtypes: float64(12), object(4)\n",
      "memory usage: 3.9+ KB\n"
     ]
    }
   ],
   "source": [
    "df.info()"
   ]
  },
  {
   "cell_type": "code",
   "execution_count": 151,
   "metadata": {},
   "outputs": [],
   "source": [
    "peer = pd.read_csv('peer_group_lufthansa.csv', delimiter=';')"
   ]
  },
  {
   "cell_type": "code",
   "execution_count": 152,
   "metadata": {},
   "outputs": [],
   "source": [
    "peer.columns = [\n",
    "    'WKN', 'Wert', 'Branche', 'Land', 'Land_1', 'Aktueller_Kurs',\n",
    "    'GewinnProAktie', 'KGV','Dividendenrendite',\n",
    "    'Marktkapitalisierung', 'EBITDA',\n",
    "    'Ergebnis nach Steuern', 'Barreserve',\n",
    "    'Verbindlichkeiten', 'Rückstellungen',\n",
    "    'Zinsaufwand', 'Verschuldungsgrad'\n",
    "]"
   ]
  },
  {
   "cell_type": "code",
   "execution_count": 153,
   "metadata": {},
   "outputs": [],
   "source": [
    "peer.drop('Land_1', axis=1, inplace=True)"
   ]
  },
  {
   "cell_type": "code",
   "execution_count": 154,
   "metadata": {},
   "outputs": [],
   "source": [
    "peer = peer.apply(lambda x: x.str.replace('.',''))"
   ]
  },
  {
   "cell_type": "code",
   "execution_count": 155,
   "metadata": {},
   "outputs": [],
   "source": [
    "peer = peer.apply(lambda x: x.str.replace(',','.'))"
   ]
  },
  {
   "cell_type": "code",
   "execution_count": 158,
   "metadata": {},
   "outputs": [],
   "source": [
    "peer.Aktueller_Kurs = peer.Aktueller_Kurs.apply(lambda x: float(x.split(' ')[0]))"
   ]
  },
  {
   "cell_type": "code",
   "execution_count": 159,
   "metadata": {},
   "outputs": [
    {
     "name": "stdout",
     "output_type": "stream",
     "text": [
      "<class 'pandas.core.frame.DataFrame'>\n",
      "Int64Index: 22 entries, 0 to 21\n",
      "Data columns (total 16 columns):\n",
      "WKN                      21 non-null object\n",
      "Wert                     22 non-null object\n",
      "Branche                  22 non-null object\n",
      "Land                     22 non-null object\n",
      "Aktueller_Kurs           22 non-null float64\n",
      "GewinnProAktie           20 non-null object\n",
      "KGV                      22 non-null object\n",
      "Dividendenrendite        21 non-null object\n",
      "Marktkapitalisierung     22 non-null object\n",
      "EBITDA                   22 non-null object\n",
      "Ergebnis nach Steuern    22 non-null object\n",
      "Barreserve               22 non-null object\n",
      "Verbindlichkeiten        22 non-null object\n",
      "Rückstellungen           22 non-null object\n",
      "Zinsaufwand              22 non-null object\n",
      "Verschuldungsgrad        6 non-null object\n",
      "dtypes: float64(1), object(15)\n",
      "memory usage: 2.9+ KB\n"
     ]
    }
   ],
   "source": [
    "peer.info()"
   ]
  },
  {
   "cell_type": "code",
   "execution_count": 160,
   "metadata": {},
   "outputs": [],
   "source": [
    "numeric_columns = [\n",
    "    'Aktueller_Kurs',\n",
    "    'GewinnProAktie', 'KGV','Dividendenrendite',\n",
    "    'Marktkapitalisierung', 'EBITDA',\n",
    "    'Ergebnis nach Steuern', 'Barreserve',\n",
    "    'Verbindlichkeiten', 'Rückstellungen',\n",
    "    'Zinsaufwand', 'Verschuldungsgrad'\n",
    "]"
   ]
  },
  {
   "cell_type": "code",
   "execution_count": 161,
   "metadata": {},
   "outputs": [],
   "source": [
    "for col in numeric_columns:\n",
    "    peer[col] = peer[col].astype(float)"
   ]
  },
  {
   "cell_type": "code",
   "execution_count": 162,
   "metadata": {},
   "outputs": [
    {
     "name": "stdout",
     "output_type": "stream",
     "text": [
      "<class 'pandas.core.frame.DataFrame'>\n",
      "Int64Index: 22 entries, 0 to 21\n",
      "Data columns (total 16 columns):\n",
      "WKN                      21 non-null object\n",
      "Wert                     22 non-null object\n",
      "Branche                  22 non-null object\n",
      "Land                     22 non-null object\n",
      "Aktueller_Kurs           22 non-null float64\n",
      "GewinnProAktie           20 non-null float64\n",
      "KGV                      22 non-null float64\n",
      "Dividendenrendite        21 non-null float64\n",
      "Marktkapitalisierung     22 non-null float64\n",
      "EBITDA                   22 non-null float64\n",
      "Ergebnis nach Steuern    22 non-null float64\n",
      "Barreserve               22 non-null float64\n",
      "Verbindlichkeiten        22 non-null float64\n",
      "Rückstellungen           22 non-null float64\n",
      "Zinsaufwand              22 non-null float64\n",
      "Verschuldungsgrad        6 non-null float64\n",
      "dtypes: float64(12), object(4)\n",
      "memory usage: 2.9+ KB\n"
     ]
    }
   ],
   "source": [
    "peer.info()"
   ]
  },
  {
   "cell_type": "markdown",
   "metadata": {},
   "source": [
    "# Kennzahlen"
   ]
  },
  {
   "cell_type": "code",
   "execution_count": 122,
   "metadata": {},
   "outputs": [
    {
     "name": "stdout",
     "output_type": "stream",
     "text": [
      "<class 'pandas.core.frame.DataFrame'>\n",
      "RangeIndex: 22 entries, 0 to 21\n",
      "Data columns (total 16 columns):\n",
      "WKN                      21 non-null object\n",
      "Wert                     22 non-null object\n",
      "Branche                  22 non-null object\n",
      "Land                     22 non-null object\n",
      "Aktueller_Kurs           22 non-null float64\n",
      "GewinnProAktie           20 non-null float64\n",
      "KGV                      22 non-null float64\n",
      "Dividendenrendite        21 non-null float64\n",
      "Marktkapitalisierung     22 non-null float64\n",
      "EBITDA                   22 non-null float64\n",
      "Ergebnis nach Steuern    22 non-null float64\n",
      "Barreserve               22 non-null float64\n",
      "Verbindlichkeiten        22 non-null float64\n",
      "Rückstellungen           22 non-null float64\n",
      "Zinsaufwand              22 non-null float64\n",
      "Verschuldungsgrad        6 non-null float64\n",
      "dtypes: float64(12), object(4)\n",
      "memory usage: 2.9+ KB\n"
     ]
    }
   ],
   "source": [
    "peer.info()"
   ]
  },
  {
   "cell_type": "code",
   "execution_count": 124,
   "metadata": {},
   "outputs": [
    {
     "data": {
      "text/plain": [
       "18.202272727272728"
      ]
     },
     "execution_count": 124,
     "metadata": {},
     "output_type": "execute_result"
    }
   ],
   "source": [
    "durchschnitt_kgv = peer.KGV.mean()\n",
    "durchschnitt_kgv"
   ]
  },
  {
   "cell_type": "code",
   "execution_count": 128,
   "metadata": {},
   "outputs": [],
   "source": [
    "lh_kgv = df[df['Wert'] == 'Lufthansa']['KGV']"
   ]
  },
  {
   "cell_type": "code",
   "execution_count": 130,
   "metadata": {},
   "outputs": [],
   "source": [
    "impliziert_lh =  df[df['Wert'] == 'Lufthansa']['GewinnProAktie'] / durchschnitt_kgv"
   ]
  },
  {
   "cell_type": "code",
   "execution_count": 132,
   "metadata": {},
   "outputs": [
    {
     "data": {
      "text/plain": [
       "1    2.55\n",
       "Name: GewinnProAktie, dtype: float64"
      ]
     },
     "execution_count": 132,
     "metadata": {},
     "output_type": "execute_result"
    }
   ],
   "source": [
    "df[df['Wert'] == 'Lufthansa']['GewinnProAktie']"
   ]
  },
  {
   "cell_type": "code",
   "execution_count": 131,
   "metadata": {},
   "outputs": [
    {
     "data": {
      "text/plain": [
       "1    0.140092\n",
       "Name: GewinnProAktie, dtype: float64"
      ]
     },
     "execution_count": 131,
     "metadata": {},
     "output_type": "execute_result"
    }
   ],
   "source": [
    "impliziert_lh"
   ]
  },
  {
   "cell_type": "code",
   "execution_count": 134,
   "metadata": {},
   "outputs": [],
   "source": [
    "markt_kap_lh = df[df['Wert'] == 'Lufthansa']['Marktkapitalisierung']"
   ]
  },
  {
   "cell_type": "code",
   "execution_count": 141,
   "metadata": {},
   "outputs": [],
   "source": [
    "verbindlichkeiten_lh = df[df['Wert'] == 'Lufthansa']['Verbindlichkeiten']\n",
    "rückstellungen_lh = df[df['Wert'] == 'Lufthansa']['Rückstellungen']\n",
    "barreserven_lh = df[df['Wert'] == 'Lufthansa']['Barreserve']\n",
    "ebita_lh = df[df['Wert'] == 'Lufthansa']['EBITDA']"
   ]
  },
  {
   "cell_type": "code",
   "execution_count": 142,
   "metadata": {},
   "outputs": [],
   "source": [
    "unternehmenswert = markt_kap_lh + verbindlichkeiten_lh - barreserven_lh"
   ]
  },
  {
   "cell_type": "code",
   "execution_count": 143,
   "metadata": {},
   "outputs": [
    {
     "data": {
      "text/plain": [
       "1    7.926758\n",
       "dtype: float64"
      ]
     },
     "execution_count": 143,
     "metadata": {},
     "output_type": "execute_result"
    }
   ],
   "source": [
    "unternehmenswert / ebita_lh"
   ]
  },
  {
   "cell_type": "code",
   "execution_count": 163,
   "metadata": {},
   "outputs": [],
   "source": [
    "def economic_value(unternehmen):\n",
    "    markt_kap = peer[peer['Wert'] == unternehmen]['Marktkapitalisierung']\n",
    "    verbindlichkeiten = peer[peer['Wert'] == unternehmen]['Verbindlichkeiten']\n",
    "    rückstellungen = peer[peer['Wert'] == unternehmen]['Rückstellungen']\n",
    "    barreserven = peer[peer['Wert'] == unternehmen]['Barreserve']\n",
    "    ebita = peer[peer['Wert'] == unternehmen]['EBITDA']\n",
    "    \n",
    "    unternehmenswert = markt_kap + verbindlichkeiten - barreserven\n",
    "    print('Unternehmen: {}  --  Wert: {}'.format(unternehmen, unternehmenswert / ebita))"
   ]
  },
  {
   "cell_type": "code",
   "execution_count": 164,
   "metadata": {},
   "outputs": [
    {
     "data": {
      "text/plain": [
       "Index(['WKN', 'Wert', 'Branche', 'Land', 'Aktueller_Kurs', 'GewinnProAktie',\n",
       "       'KGV', 'Dividendenrendite', 'Marktkapitalisierung', 'EBITDA',\n",
       "       'Ergebnis nach Steuern', 'Barreserve', 'Verbindlichkeiten',\n",
       "       'Rückstellungen', 'Zinsaufwand', 'Verschuldungsgrad'],\n",
       "      dtype='object')"
      ]
     },
     "execution_count": 164,
     "metadata": {},
     "output_type": "execute_result"
    }
   ],
   "source": [
    "peer.columns"
   ]
  },
  {
   "cell_type": "code",
   "execution_count": 165,
   "metadata": {},
   "outputs": [],
   "source": [
    "companys = peer.Wert.unique()"
   ]
  },
  {
   "cell_type": "code",
   "execution_count": 168,
   "metadata": {},
   "outputs": [],
   "source": [
    "peer = peer[(peer.Marktkapitalisierung != 0.00) & (peer.EBITDA != 0.00) & (peer.Barreserve)]"
   ]
  },
  {
   "cell_type": "code",
   "execution_count": 169,
   "metadata": {},
   "outputs": [
    {
     "name": "stdout",
     "output_type": "stream",
     "text": [
      "Unternehmen: Lufthansa  --  Wert: 0    7.926758\n",
      "dtype: float64\n",
      "Unternehmen: AMERICAN AIRLINES GR  --  Wert: 1    14.487261\n",
      "dtype: float64\n",
      "Unternehmen: UNITED AIRLINES HOLD  --  Wert: Series([], dtype: float64)\n",
      "Unternehmen: DELTA AIR LINES INC  --  Wert: Series([], dtype: float64)\n",
      "Unternehmen: AIR CANADA INC  --  Wert: Series([], dtype: float64)\n",
      "Unternehmen: Easyjet  --  Wert: 5    21.267916\n",
      "dtype: float64\n",
      "Unternehmen: SOUTHWEST AIRLINES C  --  Wert: Series([], dtype: float64)\n",
      "Unternehmen: INTERNATIONAL CONSOL  --  Wert: 7    7.237143\n",
      "dtype: float64\n",
      "Unternehmen: RYANAIR HOLDINGS  --  Wert: Series([], dtype: float64)\n",
      "Unternehmen: QANTAS AIRWAYS LTD  --  Wert: Series([], dtype: float64)\n",
      "Unternehmen: ALASKA AIR GROUP INC  --  Wert: Series([], dtype: float64)\n",
      "Unternehmen: CATHAY PACIFIC AIRWA  --  Wert: Series([], dtype: float64)\n",
      "Unternehmen: AÉROPORTS DE PARIS  --  Wert: Series([], dtype: float64)\n",
      "Unternehmen: JAPAN AIRLINES CORP  --  Wert: Series([], dtype: float64)\n",
      "Unternehmen: INTERNAT CONS AIRL  --  Wert: 14    7.237143\n",
      "dtype: float64\n",
      "Unternehmen: SPIRIT AEROSYSTEMS H  --  Wert: Series([], dtype: float64)\n",
      "Unternehmen: Qantas  --  Wert: Series([], dtype: float64)\n",
      "Unternehmen: EASYJET PLC REGSHS  --  Wert: 17    21.267916\n",
      "dtype: float64\n",
      "Unternehmen: AEROPORTS DE PARIS U  --  Wert: Series([], dtype: float64)\n",
      "Unternehmen: ANA HOLDINGS INC  --  Wert: Series([], dtype: float64)\n",
      "Unternehmen: AUCKLAND INTL AIRPOR  --  Wert: Series([], dtype: float64)\n",
      "Unternehmen: JAPAN AIRLINES CO L  --  Wert: Series([], dtype: float64)\n"
     ]
    }
   ],
   "source": [
    "for com in companys:\n",
    "    economic_value(com)"
   ]
  },
  {
   "cell_type": "code",
   "execution_count": 221,
   "metadata": {},
   "outputs": [],
   "source": [
    "def crawl_stock(url):\n",
    "    page = requests.get(url)\n",
    "    soup = BeautifulSoup(page.text,\"html.parser\")\n",
    "\n",
    "    tables = soup.findAll(\"table\")\n",
    "\n",
    "    stock = tables[14]\n",
    "    if stock.findParent(\"table\") is None:\n",
    "        t = pd.read_html(str(stock))\n",
    "        return t"
   ]
  },
  {
   "cell_type": "code",
   "execution_count": 222,
   "metadata": {},
   "outputs": [],
   "source": [
    "df = crawl_stock(\"https://www.finanzen.net/aktien/adidas-aktie\")"
   ]
  },
  {
   "cell_type": "code",
   "execution_count": 223,
   "metadata": {},
   "outputs": [
    {
     "data": {
      "text/html": [
       "<div>\n",
       "<style scoped>\n",
       "    .dataframe tbody tr th:only-of-type {\n",
       "        vertical-align: middle;\n",
       "    }\n",
       "\n",
       "    .dataframe tbody tr th {\n",
       "        vertical-align: top;\n",
       "    }\n",
       "\n",
       "    .dataframe thead th {\n",
       "        text-align: right;\n",
       "    }\n",
       "</style>\n",
       "<table border=\"1\" class=\"dataframe\">\n",
       "  <thead>\n",
       "    <tr style=\"text-align: right;\">\n",
       "      <th></th>\n",
       "      <th>0</th>\n",
       "      <th>1</th>\n",
       "      <th>2</th>\n",
       "      <th>3</th>\n",
       "    </tr>\n",
       "  </thead>\n",
       "  <tbody>\n",
       "    <tr>\n",
       "      <th>0</th>\n",
       "      <td>Marktkapitalisierung in Mrd. EUR</td>\n",
       "      <td>4614</td>\n",
       "      <td>Anzahl Aktien in Mio.</td>\n",
       "      <td>20042</td>\n",
       "    </tr>\n",
       "    <tr>\n",
       "      <th>1</th>\n",
       "      <td>Streubesitz %</td>\n",
       "      <td>8964</td>\n",
       "      <td>Gewinn/Aktie</td>\n",
       "      <td>970</td>\n",
       "    </tr>\n",
       "    <tr>\n",
       "      <th>2</th>\n",
       "      <td>KBV</td>\n",
       "      <td>843</td>\n",
       "      <td>Buchwert/Aktie</td>\n",
       "      <td>3440</td>\n",
       "    </tr>\n",
       "    <tr>\n",
       "      <th>3</th>\n",
       "      <td>KCV</td>\n",
       "      <td>2141</td>\n",
       "      <td>Cashflow/Aktie</td>\n",
       "      <td>1355</td>\n",
       "    </tr>\n",
       "    <tr>\n",
       "      <th>4</th>\n",
       "      <td>KGV</td>\n",
       "      <td>2991</td>\n",
       "      <td>Emissionspreis</td>\n",
       "      <td>-</td>\n",
       "    </tr>\n",
       "    <tr>\n",
       "      <th>5</th>\n",
       "      <td>30 Tage Vola</td>\n",
       "      <td>4717</td>\n",
       "      <td>90 Tage Vola</td>\n",
       "      <td>5502</td>\n",
       "    </tr>\n",
       "    <tr>\n",
       "      <th>6</th>\n",
       "      <td>180 Tage Vola</td>\n",
       "      <td>5181</td>\n",
       "      <td>250 Tage Vola</td>\n",
       "      <td>4008</td>\n",
       "    </tr>\n",
       "  </tbody>\n",
       "</table>\n",
       "</div>"
      ],
      "text/plain": [
       "                                  0     1                      2      3\n",
       "0  Marktkapitalisierung in Mrd. EUR  4614  Anzahl Aktien in Mio.  20042\n",
       "1                     Streubesitz %  8964           Gewinn/Aktie    970\n",
       "2                               KBV   843         Buchwert/Aktie   3440\n",
       "3                               KCV  2141         Cashflow/Aktie   1355\n",
       "4                               KGV  2991         Emissionspreis      -\n",
       "5                      30 Tage Vola  4717           90 Tage Vola   5502\n",
       "6                     180 Tage Vola  5181          250 Tage Vola   4008"
      ]
     },
     "execution_count": 223,
     "metadata": {},
     "output_type": "execute_result"
    }
   ],
   "source": [
    "df[0]"
   ]
  },
  {
   "cell_type": "code",
   "execution_count": 220,
   "metadata": {},
   "outputs": [
    {
     "data": {
      "text/plain": [
       "list"
      ]
     },
     "execution_count": 220,
     "metadata": {},
     "output_type": "execute_result"
    },
    {
     "data": {
      "text/plain": [
       "list"
      ]
     },
     "execution_count": 220,
     "metadata": {},
     "output_type": "execute_result"
    },
    {
     "data": {
      "text/plain": [
       "list"
      ]
     },
     "execution_count": 220,
     "metadata": {},
     "output_type": "execute_result"
    },
    {
     "data": {
      "text/plain": [
       "list"
      ]
     },
     "execution_count": 220,
     "metadata": {},
     "output_type": "execute_result"
    },
    {
     "data": {
      "text/plain": [
       "list"
      ]
     },
     "execution_count": 220,
     "metadata": {},
     "output_type": "execute_result"
    },
    {
     "data": {
      "text/plain": [
       "list"
      ]
     },
     "execution_count": 220,
     "metadata": {},
     "output_type": "execute_result"
    },
    {
     "data": {
      "text/plain": [
       "list"
      ]
     },
     "execution_count": 220,
     "metadata": {},
     "output_type": "execute_result"
    },
    {
     "data": {
      "text/plain": [
       "list"
      ]
     },
     "execution_count": 220,
     "metadata": {},
     "output_type": "execute_result"
    },
    {
     "data": {
      "text/plain": [
       "list"
      ]
     },
     "execution_count": 220,
     "metadata": {},
     "output_type": "execute_result"
    },
    {
     "data": {
      "text/plain": [
       "list"
      ]
     },
     "execution_count": 220,
     "metadata": {},
     "output_type": "execute_result"
    },
    {
     "data": {
      "text/plain": [
       "list"
      ]
     },
     "execution_count": 220,
     "metadata": {},
     "output_type": "execute_result"
    },
    {
     "data": {
      "text/plain": [
       "list"
      ]
     },
     "execution_count": 220,
     "metadata": {},
     "output_type": "execute_result"
    },
    {
     "data": {
      "text/plain": [
       "list"
      ]
     },
     "execution_count": 220,
     "metadata": {},
     "output_type": "execute_result"
    },
    {
     "data": {
      "text/plain": [
       "list"
      ]
     },
     "execution_count": 220,
     "metadata": {},
     "output_type": "execute_result"
    },
    {
     "data": {
      "text/plain": [
       "list"
      ]
     },
     "execution_count": 220,
     "metadata": {},
     "output_type": "execute_result"
    },
    {
     "data": {
      "text/plain": [
       "list"
      ]
     },
     "execution_count": 220,
     "metadata": {},
     "output_type": "execute_result"
    },
    {
     "data": {
      "text/plain": [
       "list"
      ]
     },
     "execution_count": 220,
     "metadata": {},
     "output_type": "execute_result"
    },
    {
     "data": {
      "text/plain": [
       "list"
      ]
     },
     "execution_count": 220,
     "metadata": {},
     "output_type": "execute_result"
    },
    {
     "data": {
      "text/plain": [
       "list"
      ]
     },
     "execution_count": 220,
     "metadata": {},
     "output_type": "execute_result"
    },
    {
     "data": {
      "text/plain": [
       "list"
      ]
     },
     "execution_count": 220,
     "metadata": {},
     "output_type": "execute_result"
    },
    {
     "data": {
      "text/plain": [
       "list"
      ]
     },
     "execution_count": 220,
     "metadata": {},
     "output_type": "execute_result"
    },
    {
     "data": {
      "text/plain": [
       "list"
      ]
     },
     "execution_count": 220,
     "metadata": {},
     "output_type": "execute_result"
    },
    {
     "data": {
      "text/plain": [
       "list"
      ]
     },
     "execution_count": 220,
     "metadata": {},
     "output_type": "execute_result"
    },
    {
     "data": {
      "text/plain": [
       "list"
      ]
     },
     "execution_count": 220,
     "metadata": {},
     "output_type": "execute_result"
    },
    {
     "data": {
      "text/plain": [
       "list"
      ]
     },
     "execution_count": 220,
     "metadata": {},
     "output_type": "execute_result"
    },
    {
     "data": {
      "text/plain": [
       "list"
      ]
     },
     "execution_count": 220,
     "metadata": {},
     "output_type": "execute_result"
    },
    {
     "data": {
      "text/plain": [
       "list"
      ]
     },
     "execution_count": 220,
     "metadata": {},
     "output_type": "execute_result"
    },
    {
     "data": {
      "text/plain": [
       "list"
      ]
     },
     "execution_count": 220,
     "metadata": {},
     "output_type": "execute_result"
    }
   ],
   "source": [
    "import requests\n",
    "from bs4 import BeautifulSoup\n",
    "\n",
    "\n",
    "\n",
    "url = \"https://www.finanzen.net/aktien/adidas-aktie\"\n",
    "page = requests.get(url)\n",
    "soup = BeautifulSoup(page.text,\"html.parser\")\n",
    "\n",
    "tables = soup.findAll(\"table\")\n",
    "\n",
    "for table in tables:\n",
    "     if table.findParent(\"table\") is None:\n",
    "        pd.read_html(str(table))\n",
    "        cool = tables[14]\n",
    "        if cool.findParent(\"table\") is None:\n",
    "            t = pd.read_html(str(cool))\n",
    "            type(t)  "
   ]
  },
  {
   "cell_type": "code",
   "execution_count": 206,
   "metadata": {},
   "outputs": [
    {
     "data": {
      "text/plain": [
       "list"
      ]
     },
     "execution_count": 206,
     "metadata": {},
     "output_type": "execute_result"
    }
   ],
   "source": [
    "cool = tables[14]\n",
    "if cool.findParent(\"table\") is None:\n",
    "    t = pd.read_html(str(cool))\n",
    "    type(t)       "
   ]
  },
  {
   "cell_type": "code",
   "execution_count": 207,
   "metadata": {},
   "outputs": [
    {
     "data": {
      "text/html": [
       "<div>\n",
       "<style scoped>\n",
       "    .dataframe tbody tr th:only-of-type {\n",
       "        vertical-align: middle;\n",
       "    }\n",
       "\n",
       "    .dataframe tbody tr th {\n",
       "        vertical-align: top;\n",
       "    }\n",
       "\n",
       "    .dataframe thead th {\n",
       "        text-align: right;\n",
       "    }\n",
       "</style>\n",
       "<table border=\"1\" class=\"dataframe\">\n",
       "  <thead>\n",
       "    <tr style=\"text-align: right;\">\n",
       "      <th></th>\n",
       "      <th>0</th>\n",
       "      <th>1</th>\n",
       "      <th>2</th>\n",
       "      <th>3</th>\n",
       "    </tr>\n",
       "  </thead>\n",
       "  <tbody>\n",
       "    <tr>\n",
       "      <th>0</th>\n",
       "      <td>Marktkapitalisierung in Mrd. EUR</td>\n",
       "      <td>4614</td>\n",
       "      <td>Anzahl Aktien in Mio.</td>\n",
       "      <td>20042</td>\n",
       "    </tr>\n",
       "    <tr>\n",
       "      <th>1</th>\n",
       "      <td>Streubesitz %</td>\n",
       "      <td>8964</td>\n",
       "      <td>Gewinn/Aktie</td>\n",
       "      <td>970</td>\n",
       "    </tr>\n",
       "    <tr>\n",
       "      <th>2</th>\n",
       "      <td>KBV</td>\n",
       "      <td>843</td>\n",
       "      <td>Buchwert/Aktie</td>\n",
       "      <td>3440</td>\n",
       "    </tr>\n",
       "    <tr>\n",
       "      <th>3</th>\n",
       "      <td>KCV</td>\n",
       "      <td>2141</td>\n",
       "      <td>Cashflow/Aktie</td>\n",
       "      <td>1355</td>\n",
       "    </tr>\n",
       "    <tr>\n",
       "      <th>4</th>\n",
       "      <td>KGV</td>\n",
       "      <td>2991</td>\n",
       "      <td>Emissionspreis</td>\n",
       "      <td>-</td>\n",
       "    </tr>\n",
       "    <tr>\n",
       "      <th>5</th>\n",
       "      <td>30 Tage Vola</td>\n",
       "      <td>4717</td>\n",
       "      <td>90 Tage Vola</td>\n",
       "      <td>5502</td>\n",
       "    </tr>\n",
       "    <tr>\n",
       "      <th>6</th>\n",
       "      <td>180 Tage Vola</td>\n",
       "      <td>5181</td>\n",
       "      <td>250 Tage Vola</td>\n",
       "      <td>4008</td>\n",
       "    </tr>\n",
       "  </tbody>\n",
       "</table>\n",
       "</div>"
      ],
      "text/plain": [
       "                                  0     1                      2      3\n",
       "0  Marktkapitalisierung in Mrd. EUR  4614  Anzahl Aktien in Mio.  20042\n",
       "1                     Streubesitz %  8964           Gewinn/Aktie    970\n",
       "2                               KBV   843         Buchwert/Aktie   3440\n",
       "3                               KCV  2141         Cashflow/Aktie   1355\n",
       "4                               KGV  2991         Emissionspreis      -\n",
       "5                      30 Tage Vola  4717           90 Tage Vola   5502\n",
       "6                     180 Tage Vola  5181          250 Tage Vola   4008"
      ]
     },
     "execution_count": 207,
     "metadata": {},
     "output_type": "execute_result"
    }
   ],
   "source": [
    "t[0]"
   ]
  },
  {
   "cell_type": "code",
   "execution_count": 178,
   "metadata": {},
   "outputs": [
    {
     "data": {
      "text/plain": [
       "[]"
      ]
     },
     "execution_count": 178,
     "metadata": {},
     "output_type": "execute_result"
    }
   ],
   "source": [
    "soup.findAll(\"table\", class_=\"box table-quotes\")"
   ]
  },
  {
   "cell_type": "code",
   "execution_count": null,
   "metadata": {},
   "outputs": [],
   "source": []
  }
 ],
 "metadata": {
  "kernelspec": {
   "display_name": "Python 3",
   "language": "python",
   "name": "python3"
  },
  "language_info": {
   "codemirror_mode": {
    "name": "ipython",
    "version": 3
   },
   "file_extension": ".py",
   "mimetype": "text/x-python",
   "name": "python",
   "nbconvert_exporter": "python",
   "pygments_lexer": "ipython3",
   "version": "3.7.7"
  }
 },
 "nbformat": 4,
 "nbformat_minor": 4
}
