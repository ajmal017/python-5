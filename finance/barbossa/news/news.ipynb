{
 "cells": [
  {
   "cell_type": "code",
   "execution_count": 2,
   "metadata": {},
   "outputs": [],
   "source": [
    "import pandas as pd"
   ]
  },
  {
   "cell_type": "code",
   "execution_count": 3,
   "metadata": {},
   "outputs": [],
   "source": [
    "df = pd.read_csv('../peer_groups.csv', delimiter=';')"
   ]
  },
  {
   "cell_type": "code",
   "execution_count": 4,
   "metadata": {},
   "outputs": [
    {
     "data": {
      "text/html": [
       "<div>\n",
       "<style scoped>\n",
       "    .dataframe tbody tr th:only-of-type {\n",
       "        vertical-align: middle;\n",
       "    }\n",
       "\n",
       "    .dataframe tbody tr th {\n",
       "        vertical-align: top;\n",
       "    }\n",
       "\n",
       "    .dataframe thead th {\n",
       "        text-align: right;\n",
       "    }\n",
       "</style>\n",
       "<table border=\"1\" class=\"dataframe\">\n",
       "  <thead>\n",
       "    <tr style=\"text-align: right;\">\n",
       "      <th></th>\n",
       "      <th>Unternehmen</th>\n",
       "      <th>Branche Detail</th>\n",
       "      <th>Branche aggregiert</th>\n",
       "      <th>Link zu Kennzahlen</th>\n",
       "      <th>stock_ticker</th>\n",
       "      <th>Unnamed: 5</th>\n",
       "      <th>daily_stock</th>\n",
       "    </tr>\n",
       "  </thead>\n",
       "  <tbody>\n",
       "    <tr>\n",
       "      <th>0</th>\n",
       "      <td>1&amp;1 Drillisch</td>\n",
       "      <td>Telekommunikation</td>\n",
       "      <td>Software / Tech</td>\n",
       "      <td>https://www.finanzen.net/aktien/drillisch-aktie</td>\n",
       "      <td>DRI.XETRA</td>\n",
       "      <td>DRI.STU</td>\n",
       "      <td>DRI.XETRA</td>\n",
       "    </tr>\n",
       "    <tr>\n",
       "      <th>1</th>\n",
       "      <td>AAR Corp.</td>\n",
       "      <td>Raumfahrt</td>\n",
       "      <td>Aviation</td>\n",
       "      <td>https://www.finanzen.net/aktien/aar-aktie</td>\n",
       "      <td>AIR.US</td>\n",
       "      <td>NaN</td>\n",
       "      <td>AIR.US</td>\n",
       "    </tr>\n",
       "    <tr>\n",
       "      <th>2</th>\n",
       "      <td>Activision</td>\n",
       "      <td>Gaming / E-Sport</td>\n",
       "      <td>Software / Tech</td>\n",
       "      <td>https://www.finanzen.net/aktien/activision_bli...</td>\n",
       "      <td>AIY.XETRA</td>\n",
       "      <td>ATVI.US</td>\n",
       "      <td>AIY.XETRA</td>\n",
       "    </tr>\n",
       "    <tr>\n",
       "      <th>3</th>\n",
       "      <td>ADIDAS</td>\n",
       "      <td>Sportartikelhersteller</td>\n",
       "      <td>Handel</td>\n",
       "      <td>https://www.finanzen.net/aktien/adidas-aktie</td>\n",
       "      <td>ADS.XETRA</td>\n",
       "      <td>ADDYY.US</td>\n",
       "      <td>ADS.XETRA</td>\n",
       "    </tr>\n",
       "    <tr>\n",
       "      <th>4</th>\n",
       "      <td>Adler Real Estate</td>\n",
       "      <td>Immobilien</td>\n",
       "      <td>Immobilien</td>\n",
       "      <td>https://www.finanzen.net/aktien/adler_real_est...</td>\n",
       "      <td>ADL.XETRA</td>\n",
       "      <td>NaN</td>\n",
       "      <td>ADL.XETRA</td>\n",
       "    </tr>\n",
       "    <tr>\n",
       "      <th>...</th>\n",
       "      <td>...</td>\n",
       "      <td>...</td>\n",
       "      <td>...</td>\n",
       "      <td>...</td>\n",
       "      <td>...</td>\n",
       "      <td>...</td>\n",
       "      <td>...</td>\n",
       "    </tr>\n",
       "    <tr>\n",
       "      <th>151</th>\n",
       "      <td>Walt Disney</td>\n",
       "      <td>TV / Medien</td>\n",
       "      <td>Medien</td>\n",
       "      <td>https://www.finanzen.net/aktien/disney-aktie</td>\n",
       "      <td>DIS.US</td>\n",
       "      <td>WDP.XETRA</td>\n",
       "      <td>DIS.US</td>\n",
       "    </tr>\n",
       "    <tr>\n",
       "      <th>152</th>\n",
       "      <td>Wirecard</td>\n",
       "      <td>Zahlungsdienstleister</td>\n",
       "      <td>Finanzwirtschaft</td>\n",
       "      <td>https://www.finanzen.net/aktien/wirecard-aktie</td>\n",
       "      <td>WDI.XETRA</td>\n",
       "      <td>WRCDF.US</td>\n",
       "      <td>WDI.XETRA</td>\n",
       "    </tr>\n",
       "    <tr>\n",
       "      <th>153</th>\n",
       "      <td>Xylem</td>\n",
       "      <td>Wasserwirtschaft</td>\n",
       "      <td>Energie / Rohstoffe</td>\n",
       "      <td>https://www.finanzen.net/aktien/xylem-aktie</td>\n",
       "      <td>XYL.US</td>\n",
       "      <td>XY6.XETRA</td>\n",
       "      <td>XYL.US</td>\n",
       "    </tr>\n",
       "    <tr>\n",
       "      <th>154</th>\n",
       "      <td>Zalando</td>\n",
       "      <td>E-Commerce</td>\n",
       "      <td>Software / Tech</td>\n",
       "      <td>https://www.finanzen.net/aktien/zalando-aktie</td>\n",
       "      <td>ZAL.XETRA</td>\n",
       "      <td>ZLNDY.US</td>\n",
       "      <td>ZAL.XETRA</td>\n",
       "    </tr>\n",
       "    <tr>\n",
       "      <th>155</th>\n",
       "      <td>Zebra Technologies</td>\n",
       "      <td>KI / AI</td>\n",
       "      <td>Software / Tech</td>\n",
       "      <td>https://www.finanzen.net/aktien/zebra_technolo...</td>\n",
       "      <td>ZBRA.US</td>\n",
       "      <td>NaN</td>\n",
       "      <td>ZBRA.US</td>\n",
       "    </tr>\n",
       "  </tbody>\n",
       "</table>\n",
       "<p>156 rows × 7 columns</p>\n",
       "</div>"
      ],
      "text/plain": [
       "            Unternehmen          Branche Detail   Branche aggregiert  \\\n",
       "0         1&1 Drillisch       Telekommunikation      Software / Tech   \n",
       "1             AAR Corp.               Raumfahrt             Aviation   \n",
       "2            Activision        Gaming / E-Sport      Software / Tech   \n",
       "3                ADIDAS  Sportartikelhersteller               Handel   \n",
       "4     Adler Real Estate              Immobilien           Immobilien   \n",
       "..                  ...                     ...                  ...   \n",
       "151         Walt Disney             TV / Medien               Medien   \n",
       "152            Wirecard   Zahlungsdienstleister     Finanzwirtschaft   \n",
       "153              Xylem         Wasserwirtschaft  Energie / Rohstoffe   \n",
       "154             Zalando              E-Commerce      Software / Tech   \n",
       "155  Zebra Technologies                 KI / AI      Software / Tech   \n",
       "\n",
       "                                    Link zu Kennzahlen stock_ticker  \\\n",
       "0      https://www.finanzen.net/aktien/drillisch-aktie    DRI.XETRA   \n",
       "1            https://www.finanzen.net/aktien/aar-aktie       AIR.US   \n",
       "2    https://www.finanzen.net/aktien/activision_bli...    AIY.XETRA   \n",
       "3         https://www.finanzen.net/aktien/adidas-aktie    ADS.XETRA   \n",
       "4    https://www.finanzen.net/aktien/adler_real_est...    ADL.XETRA   \n",
       "..                                                 ...          ...   \n",
       "151       https://www.finanzen.net/aktien/disney-aktie       DIS.US   \n",
       "152     https://www.finanzen.net/aktien/wirecard-aktie    WDI.XETRA   \n",
       "153        https://www.finanzen.net/aktien/xylem-aktie       XYL.US   \n",
       "154      https://www.finanzen.net/aktien/zalando-aktie    ZAL.XETRA   \n",
       "155  https://www.finanzen.net/aktien/zebra_technolo...      ZBRA.US   \n",
       "\n",
       "    Unnamed: 5 daily_stock  \n",
       "0      DRI.STU   DRI.XETRA  \n",
       "1          NaN      AIR.US  \n",
       "2      ATVI.US   AIY.XETRA  \n",
       "3     ADDYY.US   ADS.XETRA  \n",
       "4          NaN   ADL.XETRA  \n",
       "..         ...         ...  \n",
       "151  WDP.XETRA      DIS.US  \n",
       "152   WRCDF.US   WDI.XETRA  \n",
       "153  XY6.XETRA      XYL.US  \n",
       "154   ZLNDY.US   ZAL.XETRA  \n",
       "155        NaN     ZBRA.US  \n",
       "\n",
       "[156 rows x 7 columns]"
      ]
     },
     "execution_count": 4,
     "metadata": {},
     "output_type": "execute_result"
    }
   ],
   "source": [
    "df"
   ]
  },
  {
   "cell_type": "code",
   "execution_count": 5,
   "metadata": {},
   "outputs": [],
   "source": [
    "from newsapi import NewsApiClient\n",
    "\n",
    "# Init\n",
    "newsapi = NewsApiClient(api_key='9c27607f17fd48658a8c6f2669cf571a')\n",
    "\n",
    "# /v2/top-headlines\n",
    "top_headlines = newsapi.get_top_headlines(q='bitcoin',\n",
    "                                          sources='bbc-news,the-verge',\n",
    "                                          language='en')"
   ]
  },
  {
   "cell_type": "code",
   "execution_count": 6,
   "metadata": {},
   "outputs": [
    {
     "data": {
      "text/plain": [
       "{'status': 'ok', 'totalResults': 0, 'articles': []}"
      ]
     },
     "execution_count": 6,
     "metadata": {},
     "output_type": "execute_result"
    }
   ],
   "source": [
    "top_headlines"
   ]
  },
  {
   "cell_type": "code",
   "execution_count": 7,
   "metadata": {},
   "outputs": [],
   "source": [
    "# /v2/sources\n",
    "sources = newsapi.get_sources()"
   ]
  },
  {
   "cell_type": "code",
   "execution_count": 8,
   "metadata": {},
   "outputs": [],
   "source": [
    "sources = pd.DataFrame(sources['sources'])"
   ]
  },
  {
   "cell_type": "code",
   "execution_count": 9,
   "metadata": {},
   "outputs": [
    {
     "data": {
      "text/html": [
       "<div>\n",
       "<style scoped>\n",
       "    .dataframe tbody tr th:only-of-type {\n",
       "        vertical-align: middle;\n",
       "    }\n",
       "\n",
       "    .dataframe tbody tr th {\n",
       "        vertical-align: top;\n",
       "    }\n",
       "\n",
       "    .dataframe thead th {\n",
       "        text-align: right;\n",
       "    }\n",
       "</style>\n",
       "<table border=\"1\" class=\"dataframe\">\n",
       "  <thead>\n",
       "    <tr style=\"text-align: right;\">\n",
       "      <th></th>\n",
       "      <th>id</th>\n",
       "      <th>name</th>\n",
       "      <th>description</th>\n",
       "      <th>url</th>\n",
       "      <th>category</th>\n",
       "      <th>language</th>\n",
       "      <th>country</th>\n",
       "    </tr>\n",
       "  </thead>\n",
       "  <tbody>\n",
       "    <tr>\n",
       "      <th>0</th>\n",
       "      <td>abc-news</td>\n",
       "      <td>ABC News</td>\n",
       "      <td>Your trusted source for breaking news, analysi...</td>\n",
       "      <td>https://abcnews.go.com</td>\n",
       "      <td>general</td>\n",
       "      <td>en</td>\n",
       "      <td>us</td>\n",
       "    </tr>\n",
       "    <tr>\n",
       "      <th>1</th>\n",
       "      <td>abc-news-au</td>\n",
       "      <td>ABC News (AU)</td>\n",
       "      <td>Australia's most trusted source of local, nati...</td>\n",
       "      <td>http://www.abc.net.au/news</td>\n",
       "      <td>general</td>\n",
       "      <td>en</td>\n",
       "      <td>au</td>\n",
       "    </tr>\n",
       "    <tr>\n",
       "      <th>2</th>\n",
       "      <td>aftenposten</td>\n",
       "      <td>Aftenposten</td>\n",
       "      <td>Norges ledende nettavis med alltid oppdaterte ...</td>\n",
       "      <td>https://www.aftenposten.no</td>\n",
       "      <td>general</td>\n",
       "      <td>no</td>\n",
       "      <td>no</td>\n",
       "    </tr>\n",
       "    <tr>\n",
       "      <th>3</th>\n",
       "      <td>al-jazeera-english</td>\n",
       "      <td>Al Jazeera English</td>\n",
       "      <td>News, analysis from the Middle East and worldw...</td>\n",
       "      <td>http://www.aljazeera.com</td>\n",
       "      <td>general</td>\n",
       "      <td>en</td>\n",
       "      <td>us</td>\n",
       "    </tr>\n",
       "    <tr>\n",
       "      <th>4</th>\n",
       "      <td>ansa</td>\n",
       "      <td>ANSA.it</td>\n",
       "      <td>Agenzia ANSA: ultime notizie, foto, video e ap...</td>\n",
       "      <td>http://www.ansa.it</td>\n",
       "      <td>general</td>\n",
       "      <td>it</td>\n",
       "      <td>it</td>\n",
       "    </tr>\n",
       "    <tr>\n",
       "      <th>...</th>\n",
       "      <td>...</td>\n",
       "      <td>...</td>\n",
       "      <td>...</td>\n",
       "      <td>...</td>\n",
       "      <td>...</td>\n",
       "      <td>...</td>\n",
       "      <td>...</td>\n",
       "    </tr>\n",
       "    <tr>\n",
       "      <th>123</th>\n",
       "      <td>wired</td>\n",
       "      <td>Wired</td>\n",
       "      <td>Wired is a monthly American magazine, publishe...</td>\n",
       "      <td>https://www.wired.com</td>\n",
       "      <td>technology</td>\n",
       "      <td>en</td>\n",
       "      <td>us</td>\n",
       "    </tr>\n",
       "    <tr>\n",
       "      <th>124</th>\n",
       "      <td>wired-de</td>\n",
       "      <td>Wired.de</td>\n",
       "      <td>Wired reports on how emerging technologies aff...</td>\n",
       "      <td>https://www.wired.de</td>\n",
       "      <td>technology</td>\n",
       "      <td>de</td>\n",
       "      <td>de</td>\n",
       "    </tr>\n",
       "    <tr>\n",
       "      <th>125</th>\n",
       "      <td>wirtschafts-woche</td>\n",
       "      <td>Wirtschafts Woche</td>\n",
       "      <td>Das Online-Portal des führenden Wirtschaftsmag...</td>\n",
       "      <td>http://www.wiwo.de</td>\n",
       "      <td>business</td>\n",
       "      <td>de</td>\n",
       "      <td>de</td>\n",
       "    </tr>\n",
       "    <tr>\n",
       "      <th>126</th>\n",
       "      <td>xinhua-net</td>\n",
       "      <td>Xinhua Net</td>\n",
       "      <td>中国主要重点新闻网站,依托新华社遍布全球的采编网络,记者遍布世界100多个国家和地区,地方频...</td>\n",
       "      <td>http://xinhuanet.com/</td>\n",
       "      <td>general</td>\n",
       "      <td>zh</td>\n",
       "      <td>zh</td>\n",
       "    </tr>\n",
       "    <tr>\n",
       "      <th>127</th>\n",
       "      <td>ynet</td>\n",
       "      <td>Ynet</td>\n",
       "      <td>ynet דף הבית: אתר החדשות המוביל בישראל מבית יד...</td>\n",
       "      <td>http://www.ynet.co.il</td>\n",
       "      <td>general</td>\n",
       "      <td>he</td>\n",
       "      <td>is</td>\n",
       "    </tr>\n",
       "  </tbody>\n",
       "</table>\n",
       "<p>128 rows × 7 columns</p>\n",
       "</div>"
      ],
      "text/plain": [
       "                     id                name  \\\n",
       "0              abc-news            ABC News   \n",
       "1           abc-news-au       ABC News (AU)   \n",
       "2           aftenposten         Aftenposten   \n",
       "3    al-jazeera-english  Al Jazeera English   \n",
       "4                  ansa             ANSA.it   \n",
       "..                  ...                 ...   \n",
       "123               wired               Wired   \n",
       "124            wired-de            Wired.de   \n",
       "125   wirtschafts-woche   Wirtschafts Woche   \n",
       "126          xinhua-net          Xinhua Net   \n",
       "127                ynet                Ynet   \n",
       "\n",
       "                                           description  \\\n",
       "0    Your trusted source for breaking news, analysi...   \n",
       "1    Australia's most trusted source of local, nati...   \n",
       "2    Norges ledende nettavis med alltid oppdaterte ...   \n",
       "3    News, analysis from the Middle East and worldw...   \n",
       "4    Agenzia ANSA: ultime notizie, foto, video e ap...   \n",
       "..                                                 ...   \n",
       "123  Wired is a monthly American magazine, publishe...   \n",
       "124  Wired reports on how emerging technologies aff...   \n",
       "125  Das Online-Portal des führenden Wirtschaftsmag...   \n",
       "126  中国主要重点新闻网站,依托新华社遍布全球的采编网络,记者遍布世界100多个国家和地区,地方频...   \n",
       "127  ynet דף הבית: אתר החדשות המוביל בישראל מבית יד...   \n",
       "\n",
       "                            url    category language country  \n",
       "0        https://abcnews.go.com     general       en      us  \n",
       "1    http://www.abc.net.au/news     general       en      au  \n",
       "2    https://www.aftenposten.no     general       no      no  \n",
       "3      http://www.aljazeera.com     general       en      us  \n",
       "4            http://www.ansa.it     general       it      it  \n",
       "..                          ...         ...      ...     ...  \n",
       "123       https://www.wired.com  technology       en      us  \n",
       "124        https://www.wired.de  technology       de      de  \n",
       "125          http://www.wiwo.de    business       de      de  \n",
       "126       http://xinhuanet.com/     general       zh      zh  \n",
       "127       http://www.ynet.co.il     general       he      is  \n",
       "\n",
       "[128 rows x 7 columns]"
      ]
     },
     "execution_count": 9,
     "metadata": {},
     "output_type": "execute_result"
    }
   ],
   "source": [
    "sources"
   ]
  },
  {
   "cell_type": "code",
   "execution_count": 10,
   "metadata": {},
   "outputs": [
    {
     "data": {
      "text/plain": [
       "['business',\n",
       " 'entertainment',\n",
       " 'general',\n",
       " 'health',\n",
       " 'science',\n",
       " 'sports',\n",
       " 'technology']"
      ]
     },
     "execution_count": 10,
     "metadata": {},
     "output_type": "execute_result"
    }
   ],
   "source": [
    "sources['category'] = sources['category'].astype('category')\n",
    "sources['category'].cat.categories.tolist()"
   ]
  },
  {
   "cell_type": "code",
   "execution_count": 11,
   "metadata": {},
   "outputs": [],
   "source": [
    "source = list(sources[(sources['category'] == 'business') & (sources['language'] == 'en')]['id'])"
   ]
  },
  {
   "cell_type": "code",
   "execution_count": 12,
   "metadata": {},
   "outputs": [],
   "source": [
    "for item in list(sources[(sources['category'] == 'business') & (sources['language'] == 'de')]['id']):\n",
    "    source.append(item)"
   ]
  },
  {
   "cell_type": "code",
   "execution_count": 13,
   "metadata": {},
   "outputs": [
    {
     "data": {
      "text/plain": [
       "['australian-financial-review',\n",
       " 'bloomberg',\n",
       " 'business-insider',\n",
       " 'business-insider-uk',\n",
       " 'financial-post',\n",
       " 'fortune',\n",
       " 'the-wall-street-journal',\n",
       " 'die-zeit',\n",
       " 'handelsblatt',\n",
       " 'wirtschafts-woche']"
      ]
     },
     "execution_count": 13,
     "metadata": {},
     "output_type": "execute_result"
    }
   ],
   "source": [
    "source"
   ]
  },
  {
   "cell_type": "code",
   "execution_count": 24,
   "metadata": {},
   "outputs": [],
   "source": [
    "top_headlines = newsapi.get_top_headlines(q='boeing')"
   ]
  },
  {
   "cell_type": "code",
   "execution_count": 25,
   "metadata": {},
   "outputs": [],
   "source": [
    "# top_headlines"
   ]
  },
  {
   "cell_type": "code",
   "execution_count": 26,
   "metadata": {},
   "outputs": [],
   "source": [
    "top_headlines = newsapi.get_top_headlines(q='stock',\n",
    "                                          category='business',\n",
    "                                         language='en')"
   ]
  },
  {
   "cell_type": "code",
   "execution_count": 27,
   "metadata": {},
   "outputs": [
    {
     "data": {
      "text/plain": [
       "dict_keys(['status', 'totalResults', 'articles'])"
      ]
     },
     "execution_count": 27,
     "metadata": {},
     "output_type": "execute_result"
    }
   ],
   "source": [
    "top_headlines.keys()"
   ]
  },
  {
   "cell_type": "code",
   "execution_count": 28,
   "metadata": {},
   "outputs": [
    {
     "name": "stdout",
     "output_type": "stream",
     "text": [
      "Could Buying Inovio Pharmaceuticals Stock Make You Rich? - Motley Fool\n",
      "罕見！ 馬雲大賣阿里股票 套現430億人民幣 - Yahoo奇摩\n",
      "Wollongong motorist spots toilet paper hidden in a suburban garage next to a flashy Mercedes - Daily Mail\n",
      "Nasdaq continues blistering run while chill envelops rest of market - Hong Kong Standard\n",
      "Stock market crash: I'd buy the best UK shares in an ISA today to get rich and retire early - Motley Fool UK\n",
      "Nu växer det fram co-livinghus där man både bor och arbetar. - Dagens Nyheter\n",
      "Dow Jones Futures: In Coronavirus Stock Market Rally, Go APE; Apple, Amazon, Tesla, Netflix, JPMorgan In Focus - Investor's Business Daily\n",
      "74% Chinese-owned Hyderabad pharma firm files for IPO - Times of India\n",
      "Forget gold and Bitcoin. I’d buy cheap stocks today and hold them for 10 years - Motley Fool Australia\n",
      "Elon Musk's net worth zooms past Warren Buffett's - Bloomberg News - eNCA\n",
      "The biggest media and technology companies are having an identity crisis - CNBC\n",
      "3 Things Wells Fargo Stock Bulls Need to Happen Soon - Motley Fool\n",
      "Huge Market Crash Coming? Warren Buffett and Other Experts Sound the Alarm - Yahoo News Canada\n",
      "Huge Market Crash Coming? Warren Buffett and Other Experts Sound the Alarm - Yahoo News Canada\n",
      "Huge Market Crash Coming? Warren Buffett and Other Experts Sound the Alarm - Yahoo News Canada\n",
      "Billionaire Musk's net worth zooms past Warren Buffett's - Free Malaysia Today\n",
      "Fuerte caída de ventas en supermercados chinos y almacenes - Cadena 3\n",
      "Nasdaq ends at record, Dow rallies on COVID-19 vaccine progress - CNA\n",
      "Nasdaq ends at record, Dow rallies on COVID-19 vaccine progress - CNA\n",
      "SSR-Alacer Gold merger gets shareholder approval - MINING.COM - MINING.com\n"
     ]
    }
   ],
   "source": [
    "for head in top_headlines['articles']:\n",
    "    print(head['title'])"
   ]
  },
  {
   "cell_type": "code",
   "execution_count": 44,
   "metadata": {},
   "outputs": [],
   "source": [
    "test_article = top_headlines['articles'][0]['title']"
   ]
  },
  {
   "cell_type": "code",
   "execution_count": 23,
   "metadata": {},
   "outputs": [],
   "source": [
    "def get_news(name):\n",
    "    print()\n",
    "    print('#'*10)\n",
    "    print(name)\n",
    "    top_headlines = newsapi.get_top_headlines(q=name)\n",
    "    for head in top_headlines['articles']:\n",
    "        print(head['title'])\n",
    "    print()\n",
    "    print('#'*10)"
   ]
  },
  {
   "cell_type": "code",
   "execution_count": null,
   "metadata": {},
   "outputs": [],
   "source": [
    "for name in df['Unternehmen']:\n",
    "    get_news(name)"
   ]
  },
  {
   "cell_type": "code",
   "execution_count": 20,
   "metadata": {},
   "outputs": [],
   "source": [
    "import requests\n",
    "from bs4 import BeautifulSoup as BS\n",
    "\n",
    "url = 'https://www.dgap.de/dgap/News/?newsType=ADHOC'\n",
    "\n",
    "#html = urllib.request.urlopen(url)\n",
    "html = requests.get(url).text"
   ]
  },
  {
   "cell_type": "code",
   "execution_count": 21,
   "metadata": {},
   "outputs": [],
   "source": [
    "table = pd.read_html(html)"
   ]
  },
  {
   "cell_type": "code",
   "execution_count": 22,
   "metadata": {},
   "outputs": [
    {
     "data": {
      "text/plain": [
       "'10.07.20 17:45\\xa0EQS-Ad-hoc: AEVIS VICTORIA SA AEVIS VICTORIA SA: Tochtergesellschaft Swiss Hotel Properties [...]'"
      ]
     },
     "execution_count": 22,
     "metadata": {},
     "output_type": "execute_result"
    }
   ],
   "source": [
    "table[0][1][0]"
   ]
  },
  {
   "cell_type": "markdown",
   "metadata": {},
   "source": [
    "# Sentiment Analysis"
   ]
  },
  {
   "cell_type": "code",
   "execution_count": 23,
   "metadata": {},
   "outputs": [],
   "source": [
    "import re, string\n",
    "\n",
    "def remove_noise(tweet_tokens, stop_words = ()):\n",
    "\n",
    "    cleaned_tokens = []\n",
    "\n",
    "    for token, tag in pos_tag(tweet_tokens):\n",
    "        token = re.sub('http[s]?://(?:[a-zA-Z]|[0-9]|[$-_@.&+#]|[!*\\(\\),]|'\\\n",
    "                       '(?:%[0-9a-fA-F][0-9a-fA-F]))+','', token)\n",
    "        token = re.sub(\"(@[A-Za-z0-9_]+)\",\"\", token)\n",
    "\n",
    "        if tag.startswith(\"NN\"):\n",
    "            pos = 'n'\n",
    "        elif tag.startswith('VB'):\n",
    "            pos = 'v'\n",
    "        else:\n",
    "            pos = 'a'\n",
    "\n",
    "        lemmatizer = WordNetLemmatizer()\n",
    "        token = lemmatizer.lemmatize(token, pos)\n",
    "\n",
    "        if len(token) > 0 and token not in string.punctuation and token.lower() not in stop_words:\n",
    "            cleaned_tokens.append(token.lower())\n",
    "    return cleaned_tokens"
   ]
  },
  {
   "cell_type": "code",
   "execution_count": 29,
   "metadata": {},
   "outputs": [
    {
     "data": {
      "text/plain": [
       "'10.07.20 17:45\\xa0EQS-Ad-hoc: AEVIS VICTORIA SA AEVIS VICTORIA SA: Tochtergesellschaft Swiss Hotel Properties [...]'"
      ]
     },
     "execution_count": 29,
     "metadata": {},
     "output_type": "execute_result"
    }
   ],
   "source": [
    "table[0][1][0]"
   ]
  },
  {
   "cell_type": "code",
   "execution_count": 32,
   "metadata": {},
   "outputs": [
    {
     "data": {
      "text/plain": [
       "'EQSAdhocAEVISVICTORIASAAEVISVICTORIASATochtergesellschaftSwissHotelProperties'"
      ]
     },
     "execution_count": 32,
     "metadata": {},
     "output_type": "execute_result"
    }
   ],
   "source": [
    "''.join([re.sub(r'[^A-Za-z]+', '', x) for x in table[0][1][0]])"
   ]
  },
  {
   "cell_type": "code",
   "execution_count": 32,
   "metadata": {},
   "outputs": [
    {
     "name": "stdout",
     "output_type": "stream",
     "text": [
      "2020-07-12 16:09:59,268 loading file /Users/maximilianstaebler/.flair/models/sentiment-en-mix-distillbert.pt\n"
     ]
    },
    {
     "data": {
      "text/plain": [
       "[NEGATIVE (0.9988)]"
      ]
     },
     "execution_count": 32,
     "metadata": {},
     "output_type": "execute_result"
    }
   ],
   "source": [
    "import flair\n",
    "flair_sentiment = flair.models.TextClassifier.load('en-sentiment')\n",
    "s = flair.data.Sentence(test_article)\n",
    "flair_sentiment.predict(s)\n",
    "total_sentiment = s.labels\n",
    "total_sentiment"
   ]
  },
  {
   "cell_type": "code",
   "execution_count": 40,
   "metadata": {},
   "outputs": [
    {
     "data": {
      "text/plain": [
       "'NEGATIVE'"
      ]
     },
     "execution_count": 40,
     "metadata": {},
     "output_type": "execute_result"
    }
   ],
   "source": [
    "total_sentiment[0].value"
   ]
  },
  {
   "cell_type": "code",
   "execution_count": 49,
   "metadata": {},
   "outputs": [
    {
     "data": {
      "text/plain": [
       "{'neg': 0.2, 'neu': 0.552, 'pos': 0.248, 'compound': 0.1779}"
      ]
     },
     "execution_count": 49,
     "metadata": {},
     "output_type": "execute_result"
    }
   ],
   "source": [
    "sid.polarity_scores(test_article)"
   ]
  },
  {
   "cell_type": "code",
   "execution_count": 69,
   "metadata": {},
   "outputs": [
    {
     "name": "stderr",
     "output_type": "stream",
     "text": [
      "[nltk_data] Downloading package vader_lexicon to\n",
      "[nltk_data]     /Users/maximilianstaebler/nltk_data...\n",
      "[nltk_data]   Package vader_lexicon is already up-to-date!\n"
     ]
    },
    {
     "data": {
      "text/plain": [
       "True"
      ]
     },
     "execution_count": 69,
     "metadata": {},
     "output_type": "execute_result"
    }
   ],
   "source": [
    "import nltk\n",
    "nltk.download('vader_lexicon')\n",
    "from nltk.sentiment.vader import SentimentIntensityAnalyzer\n",
    "sid = SentimentIntensityAnalyzer()\n",
    "\n",
    "def get_news(name, results):\n",
    "    # print()\n",
    "    # print('#'*10)\n",
    "    # print(name)\n",
    "    \n",
    "    results = {}\n",
    "    top_headlines = newsapi.get_top_headlines(q=name)\n",
    "    neg = []\n",
    "    neu = []\n",
    "    pos = []\n",
    "    comp = []\n",
    "    \n",
    "    \n",
    "    if len(top_headlines['articles']) != 0:\n",
    "        for head in top_headlines['articles']:\n",
    "            neg.append(sid.polarity_scores(test_article)['neg'])\n",
    "            pos.append(sid.polarity_scores(test_article)['pos'])\n",
    "            neu.append(sid.polarity_scores(test_article)['neu'])\n",
    "            comp.append(sid.polarity_scores(test_article)['compound'])\n",
    "        \n",
    "        # print()\n",
    "        # print('Average pos: {}% -- Average neg: {}%'.format(round(sum(pos) / len(pos), 2), round(sum(neg) / len(neg), 2)))\n",
    "        # print('Average neu: {}% -- Average compound: {}%'.format(round(sum(neu) / len(neu), 2), round(sum(comp) / len(comp), 2)))\n",
    "        # print()\n",
    "        # print('{} % Sentiment overall'.format(len(pos) / len(neg)))\n",
    "        # print('#'*10)\n",
    "        results[name] = {\n",
    "            'pos':round(sum(pos) / len(pos), 2),\n",
    "            'neg':round(sum(neg) / len(neg), 2),\n",
    "            'neu':round(sum(neu) / len(neu), 2),\n",
    "            'compound':round(sum(comp) / len(comp), 2)\n",
    "        }\n",
    "    \n",
    "    else:\n",
    "        # print('NO NEWS!')\n",
    "        results[name] = {'news':'no news'}\n",
    "    \n",
    "    return(results)"
   ]
  },
  {
   "cell_type": "code",
   "execution_count": 70,
   "metadata": {},
   "outputs": [
    {
     "ename": "NewsAPIException",
     "evalue": "{'status': 'error', 'code': 'rateLimited', 'message': 'You have made too many requests recently. Developer accounts are limited to 500 requests over a 24 hour period (250 requests available every 12 hours). Please upgrade to a paid plan if you need more requests.'}",
     "output_type": "error",
     "traceback": [
      "\u001b[0;31m---------------------------------------------------------------------------\u001b[0m",
      "\u001b[0;31mNewsAPIException\u001b[0m                          Traceback (most recent call last)",
      "\u001b[0;32m<ipython-input-70-8edf9da690d1>\u001b[0m in \u001b[0;36m<module>\u001b[0;34m\u001b[0m\n\u001b[1;32m      1\u001b[0m \u001b[0mresults\u001b[0m \u001b[0;34m=\u001b[0m \u001b[0;34m{\u001b[0m\u001b[0;34m}\u001b[0m\u001b[0;34m\u001b[0m\u001b[0;34m\u001b[0m\u001b[0m\n\u001b[1;32m      2\u001b[0m \u001b[0;32mfor\u001b[0m \u001b[0mname\u001b[0m \u001b[0;32min\u001b[0m \u001b[0mdf\u001b[0m\u001b[0;34m[\u001b[0m\u001b[0;34m'Unternehmen'\u001b[0m\u001b[0;34m]\u001b[0m\u001b[0;34m:\u001b[0m\u001b[0;34m\u001b[0m\u001b[0;34m\u001b[0m\u001b[0m\n\u001b[0;32m----> 3\u001b[0;31m     \u001b[0mresults\u001b[0m \u001b[0;34m=\u001b[0m \u001b[0mget_news\u001b[0m\u001b[0;34m(\u001b[0m\u001b[0mname\u001b[0m\u001b[0;34m,\u001b[0m \u001b[0mresults\u001b[0m\u001b[0;34m)\u001b[0m\u001b[0;34m\u001b[0m\u001b[0;34m\u001b[0m\u001b[0m\n\u001b[0m",
      "\u001b[0;32m<ipython-input-69-1fe24e4e0af7>\u001b[0m in \u001b[0;36mget_news\u001b[0;34m(name, results)\u001b[0m\n\u001b[1;32m     10\u001b[0m \u001b[0;34m\u001b[0m\u001b[0m\n\u001b[1;32m     11\u001b[0m     \u001b[0mresults\u001b[0m \u001b[0;34m=\u001b[0m \u001b[0;34m{\u001b[0m\u001b[0;34m}\u001b[0m\u001b[0;34m\u001b[0m\u001b[0;34m\u001b[0m\u001b[0m\n\u001b[0;32m---> 12\u001b[0;31m     \u001b[0mtop_headlines\u001b[0m \u001b[0;34m=\u001b[0m \u001b[0mnewsapi\u001b[0m\u001b[0;34m.\u001b[0m\u001b[0mget_top_headlines\u001b[0m\u001b[0;34m(\u001b[0m\u001b[0mq\u001b[0m\u001b[0;34m=\u001b[0m\u001b[0mname\u001b[0m\u001b[0;34m)\u001b[0m\u001b[0;34m\u001b[0m\u001b[0;34m\u001b[0m\u001b[0m\n\u001b[0m\u001b[1;32m     13\u001b[0m     \u001b[0mneg\u001b[0m \u001b[0;34m=\u001b[0m \u001b[0;34m[\u001b[0m\u001b[0;34m]\u001b[0m\u001b[0;34m\u001b[0m\u001b[0;34m\u001b[0m\u001b[0m\n\u001b[1;32m     14\u001b[0m     \u001b[0mneu\u001b[0m \u001b[0;34m=\u001b[0m \u001b[0;34m[\u001b[0m\u001b[0;34m]\u001b[0m\u001b[0;34m\u001b[0m\u001b[0;34m\u001b[0m\u001b[0m\n",
      "\u001b[0;32m/usr/local/anaconda3/envs/finance/lib/python3.7/site-packages/newsapi/newsapi_client.py\u001b[0m in \u001b[0;36mget_top_headlines\u001b[0;34m(self, q, qintitle, sources, language, country, category, page_size, page)\u001b[0m\n\u001b[1;32m    167\u001b[0m         \u001b[0;31m# Check Status of Request\u001b[0m\u001b[0;34m\u001b[0m\u001b[0;34m\u001b[0m\u001b[0;34m\u001b[0m\u001b[0m\n\u001b[1;32m    168\u001b[0m         \u001b[0;32mif\u001b[0m \u001b[0mr\u001b[0m\u001b[0;34m.\u001b[0m\u001b[0mstatus_code\u001b[0m \u001b[0;34m!=\u001b[0m \u001b[0mrequests\u001b[0m\u001b[0;34m.\u001b[0m\u001b[0mcodes\u001b[0m\u001b[0;34m.\u001b[0m\u001b[0mok\u001b[0m\u001b[0;34m:\u001b[0m\u001b[0;34m\u001b[0m\u001b[0;34m\u001b[0m\u001b[0m\n\u001b[0;32m--> 169\u001b[0;31m             \u001b[0;32mraise\u001b[0m \u001b[0mNewsAPIException\u001b[0m\u001b[0;34m(\u001b[0m\u001b[0mr\u001b[0m\u001b[0;34m.\u001b[0m\u001b[0mjson\u001b[0m\u001b[0;34m(\u001b[0m\u001b[0;34m)\u001b[0m\u001b[0;34m)\u001b[0m\u001b[0;34m\u001b[0m\u001b[0;34m\u001b[0m\u001b[0m\n\u001b[0m\u001b[1;32m    170\u001b[0m \u001b[0;34m\u001b[0m\u001b[0m\n\u001b[1;32m    171\u001b[0m         \u001b[0;32mreturn\u001b[0m \u001b[0mr\u001b[0m\u001b[0;34m.\u001b[0m\u001b[0mjson\u001b[0m\u001b[0;34m(\u001b[0m\u001b[0;34m)\u001b[0m\u001b[0;34m\u001b[0m\u001b[0;34m\u001b[0m\u001b[0m\n",
      "\u001b[0;31mNewsAPIException\u001b[0m: {'status': 'error', 'code': 'rateLimited', 'message': 'You have made too many requests recently. Developer accounts are limited to 500 requests over a 24 hour period (250 requests available every 12 hours). Please upgrade to a paid plan if you need more requests.'}"
     ]
    }
   ],
   "source": [
    "results = {}\n",
    "for name in df['Unternehmen']:\n",
    "    results = get_news(name, results)"
   ]
  },
  {
   "cell_type": "code",
   "execution_count": 68,
   "metadata": {},
   "outputs": [
    {
     "ename": "NameError",
     "evalue": "name 'results' is not defined",
     "output_type": "error",
     "traceback": [
      "\u001b[0;31m---------------------------------------------------------------------------\u001b[0m",
      "\u001b[0;31mNameError\u001b[0m                                 Traceback (most recent call last)",
      "\u001b[0;32m<ipython-input-68-12b885e28e79>\u001b[0m in \u001b[0;36m<module>\u001b[0;34m\u001b[0m\n\u001b[0;32m----> 1\u001b[0;31m \u001b[0mresults\u001b[0m\u001b[0;34m[\u001b[0m\u001b[0;34m'ADIDAS'\u001b[0m\u001b[0;34m]\u001b[0m\u001b[0;34m\u001b[0m\u001b[0;34m\u001b[0m\u001b[0m\n\u001b[0m",
      "\u001b[0;31mNameError\u001b[0m: name 'results' is not defined"
     ]
    }
   ],
   "source": [
    "results['ADIDAS']"
   ]
  },
  {
   "cell_type": "code",
   "execution_count": null,
   "metadata": {},
   "outputs": [],
   "source": []
  }
 ],
 "metadata": {
  "kernelspec": {
   "display_name": "Python 3",
   "language": "python",
   "name": "python3"
  },
  "language_info": {
   "codemirror_mode": {
    "name": "ipython",
    "version": 3
   },
   "file_extension": ".py",
   "mimetype": "text/x-python",
   "name": "python",
   "nbconvert_exporter": "python",
   "pygments_lexer": "ipython3",
   "version": "3.7.7"
  }
 },
 "nbformat": 4,
 "nbformat_minor": 4
}
