{
 "cells": [
  {
   "cell_type": "code",
   "execution_count": 2,
   "metadata": {},
   "outputs": [],
   "source": [
    "import pandas as pd\n",
    "import requests\n",
    "import time\n",
    "from tqdm import tqdm"
   ]
  },
  {
   "cell_type": "code",
   "execution_count": 3,
   "metadata": {},
   "outputs": [],
   "source": [
    "df = pd.read_csv('peer_groups.csv', delimiter=';')\n",
    "df.head()\n",
    "df.columns = [\n",
    "    'Unternehmen', 'brancheDetail', 'brancheAggregiert',\n",
    "    'linkKennzahlen', 'stock_ticker', 'second_ticker', 'daily_stock'\n",
    "]"
   ]
  },
  {
   "cell_type": "code",
   "execution_count": 4,
   "metadata": {},
   "outputs": [
    {
     "data": {
      "text/html": [
       "<div>\n",
       "<style scoped>\n",
       "    .dataframe tbody tr th:only-of-type {\n",
       "        vertical-align: middle;\n",
       "    }\n",
       "\n",
       "    .dataframe tbody tr th {\n",
       "        vertical-align: top;\n",
       "    }\n",
       "\n",
       "    .dataframe thead th {\n",
       "        text-align: right;\n",
       "    }\n",
       "</style>\n",
       "<table border=\"1\" class=\"dataframe\">\n",
       "  <thead>\n",
       "    <tr style=\"text-align: right;\">\n",
       "      <th></th>\n",
       "      <th>Unternehmen</th>\n",
       "      <th>brancheDetail</th>\n",
       "      <th>brancheAggregiert</th>\n",
       "      <th>linkKennzahlen</th>\n",
       "      <th>stock_ticker</th>\n",
       "      <th>second_ticker</th>\n",
       "      <th>daily_stock</th>\n",
       "    </tr>\n",
       "  </thead>\n",
       "  <tbody>\n",
       "    <tr>\n",
       "      <th>0</th>\n",
       "      <td>1&amp;1 Drillisch</td>\n",
       "      <td>Telekommunikation</td>\n",
       "      <td>Software / Tech</td>\n",
       "      <td>https://www.finanzen.net/aktien/drillisch-aktie</td>\n",
       "      <td>DRI.XETRA</td>\n",
       "      <td>DRI.STU</td>\n",
       "      <td>DRI.XETRA</td>\n",
       "    </tr>\n",
       "    <tr>\n",
       "      <th>1</th>\n",
       "      <td>AAR Corp.</td>\n",
       "      <td>Raumfahrt</td>\n",
       "      <td>Aviation</td>\n",
       "      <td>https://www.finanzen.net/aktien/aar-aktie</td>\n",
       "      <td>AIR.US</td>\n",
       "      <td>NaN</td>\n",
       "      <td>AIR.US</td>\n",
       "    </tr>\n",
       "    <tr>\n",
       "      <th>2</th>\n",
       "      <td>Activision</td>\n",
       "      <td>Gaming / E-Sport</td>\n",
       "      <td>Software / Tech</td>\n",
       "      <td>https://www.finanzen.net/aktien/activision_bli...</td>\n",
       "      <td>AIY.XETRA</td>\n",
       "      <td>ATVI.US</td>\n",
       "      <td>AIY.XETRA</td>\n",
       "    </tr>\n",
       "    <tr>\n",
       "      <th>3</th>\n",
       "      <td>ADIDAS</td>\n",
       "      <td>Sportartikelhersteller</td>\n",
       "      <td>Handel</td>\n",
       "      <td>https://www.finanzen.net/aktien/adidas-aktie</td>\n",
       "      <td>ADS.XETRA</td>\n",
       "      <td>ADDYY.US</td>\n",
       "      <td>ADS.XETRA</td>\n",
       "    </tr>\n",
       "    <tr>\n",
       "      <th>4</th>\n",
       "      <td>Adler Real Estate</td>\n",
       "      <td>Immobilien</td>\n",
       "      <td>Immobilien</td>\n",
       "      <td>https://www.finanzen.net/aktien/adler_real_est...</td>\n",
       "      <td>ADL.XETRA</td>\n",
       "      <td>NaN</td>\n",
       "      <td>ADL.XETRA</td>\n",
       "    </tr>\n",
       "  </tbody>\n",
       "</table>\n",
       "</div>"
      ],
      "text/plain": [
       "         Unternehmen           brancheDetail brancheAggregiert  \\\n",
       "0      1&1 Drillisch       Telekommunikation   Software / Tech   \n",
       "1          AAR Corp.               Raumfahrt          Aviation   \n",
       "2         Activision        Gaming / E-Sport   Software / Tech   \n",
       "3             ADIDAS  Sportartikelhersteller            Handel   \n",
       "4  Adler Real Estate              Immobilien        Immobilien   \n",
       "\n",
       "                                      linkKennzahlen stock_ticker  \\\n",
       "0    https://www.finanzen.net/aktien/drillisch-aktie    DRI.XETRA   \n",
       "1          https://www.finanzen.net/aktien/aar-aktie       AIR.US   \n",
       "2  https://www.finanzen.net/aktien/activision_bli...    AIY.XETRA   \n",
       "3       https://www.finanzen.net/aktien/adidas-aktie    ADS.XETRA   \n",
       "4  https://www.finanzen.net/aktien/adler_real_est...    ADL.XETRA   \n",
       "\n",
       "  second_ticker daily_stock  \n",
       "0       DRI.STU   DRI.XETRA  \n",
       "1           NaN      AIR.US  \n",
       "2       ATVI.US   AIY.XETRA  \n",
       "3      ADDYY.US   ADS.XETRA  \n",
       "4           NaN   ADL.XETRA  "
      ]
     },
     "execution_count": 4,
     "metadata": {},
     "output_type": "execute_result"
    }
   ],
   "source": [
    "df.head()"
   ]
  },
  {
   "cell_type": "code",
   "execution_count": 5,
   "metadata": {},
   "outputs": [],
   "source": [
    "df['search'] = df.linkKennzahlen.apply(lambda x: x.split('/')[-1].split('_')[0].split('-')[0])"
   ]
  },
  {
   "cell_type": "code",
   "execution_count": 6,
   "metadata": {},
   "outputs": [
    {
     "data": {
      "text/html": [
       "<div>\n",
       "<style scoped>\n",
       "    .dataframe tbody tr th:only-of-type {\n",
       "        vertical-align: middle;\n",
       "    }\n",
       "\n",
       "    .dataframe tbody tr th {\n",
       "        vertical-align: top;\n",
       "    }\n",
       "\n",
       "    .dataframe thead th {\n",
       "        text-align: right;\n",
       "    }\n",
       "</style>\n",
       "<table border=\"1\" class=\"dataframe\">\n",
       "  <thead>\n",
       "    <tr style=\"text-align: right;\">\n",
       "      <th></th>\n",
       "      <th>Unternehmen</th>\n",
       "      <th>brancheDetail</th>\n",
       "      <th>brancheAggregiert</th>\n",
       "      <th>linkKennzahlen</th>\n",
       "      <th>stock_ticker</th>\n",
       "      <th>second_ticker</th>\n",
       "      <th>daily_stock</th>\n",
       "      <th>search</th>\n",
       "    </tr>\n",
       "  </thead>\n",
       "  <tbody>\n",
       "    <tr>\n",
       "      <th>0</th>\n",
       "      <td>1&amp;1 Drillisch</td>\n",
       "      <td>Telekommunikation</td>\n",
       "      <td>Software / Tech</td>\n",
       "      <td>https://www.finanzen.net/aktien/drillisch-aktie</td>\n",
       "      <td>DRI.XETRA</td>\n",
       "      <td>DRI.STU</td>\n",
       "      <td>DRI.XETRA</td>\n",
       "      <td>drillisch</td>\n",
       "    </tr>\n",
       "    <tr>\n",
       "      <th>1</th>\n",
       "      <td>AAR Corp.</td>\n",
       "      <td>Raumfahrt</td>\n",
       "      <td>Aviation</td>\n",
       "      <td>https://www.finanzen.net/aktien/aar-aktie</td>\n",
       "      <td>AIR.US</td>\n",
       "      <td>NaN</td>\n",
       "      <td>AIR.US</td>\n",
       "      <td>aar</td>\n",
       "    </tr>\n",
       "  </tbody>\n",
       "</table>\n",
       "</div>"
      ],
      "text/plain": [
       "     Unternehmen      brancheDetail brancheAggregiert  \\\n",
       "0  1&1 Drillisch  Telekommunikation   Software / Tech   \n",
       "1      AAR Corp.          Raumfahrt          Aviation   \n",
       "\n",
       "                                    linkKennzahlen stock_ticker second_ticker  \\\n",
       "0  https://www.finanzen.net/aktien/drillisch-aktie    DRI.XETRA       DRI.STU   \n",
       "1        https://www.finanzen.net/aktien/aar-aktie       AIR.US           NaN   \n",
       "\n",
       "  daily_stock     search  \n",
       "0   DRI.XETRA  drillisch  \n",
       "1      AIR.US        aar  "
      ]
     },
     "execution_count": 6,
     "metadata": {},
     "output_type": "execute_result"
    }
   ],
   "source": [
    "df.head(2)"
   ]
  },
  {
   "cell_type": "code",
   "execution_count": 7,
   "metadata": {},
   "outputs": [
    {
     "name": "stderr",
     "output_type": "stream",
     "text": [
      "1it [00:00,  1.40it/s]"
     ]
    },
    {
     "name": "stdout",
     "output_type": "stream",
     "text": [
      "1&1 Drillisch done!\n"
     ]
    },
    {
     "name": "stderr",
     "output_type": "stream",
     "text": [
      "2it [00:01,  1.51it/s]"
     ]
    },
    {
     "name": "stdout",
     "output_type": "stream",
     "text": [
      "AAR Corp. done!\n"
     ]
    },
    {
     "name": "stderr",
     "output_type": "stream",
     "text": [
      "3it [00:01,  1.62it/s]"
     ]
    },
    {
     "name": "stdout",
     "output_type": "stream",
     "text": [
      "Activision done!\n"
     ]
    },
    {
     "name": "stderr",
     "output_type": "stream",
     "text": [
      "4it [00:02,  1.70it/s]"
     ]
    },
    {
     "name": "stdout",
     "output_type": "stream",
     "text": [
      "ADIDAS done!\n",
      "Waiting for 5 minutes\n"
     ]
    },
    {
     "name": "stderr",
     "output_type": "stream",
     "text": [
      "5it [05:02, 90.56s/it]"
     ]
    },
    {
     "name": "stdout",
     "output_type": "stream",
     "text": [
      "Adler Real Estate done!\n"
     ]
    },
    {
     "name": "stderr",
     "output_type": "stream",
     "text": [
      "6it [05:03, 63.58s/it]"
     ]
    },
    {
     "name": "stdout",
     "output_type": "stream",
     "text": [
      "Intel done!\n"
     ]
    },
    {
     "name": "stderr",
     "output_type": "stream",
     "text": [
      "7it [05:03, 44.66s/it]"
     ]
    },
    {
     "name": "stdout",
     "output_type": "stream",
     "text": [
      "Agilent Technologies done!\n"
     ]
    },
    {
     "name": "stderr",
     "output_type": "stream",
     "text": [
      "8it [05:04, 31.46s/it]"
     ]
    },
    {
     "name": "stdout",
     "output_type": "stream",
     "text": [
      "Air Liquide done!\n"
     ]
    },
    {
     "name": "stderr",
     "output_type": "stream",
     "text": [
      "9it [05:05, 22.22s/it]"
     ]
    },
    {
     "name": "stdout",
     "output_type": "stream",
     "text": [
      "Air Products and Chemicals done!\n",
      "Waiting for 5 minutes\n"
     ]
    },
    {
     "name": "stderr",
     "output_type": "stream",
     "text": [
      "10it [10:05, 105.74s/it]"
     ]
    },
    {
     "name": "stdout",
     "output_type": "stream",
     "text": [
      "Airbus done!\n"
     ]
    },
    {
     "name": "stderr",
     "output_type": "stream",
     "text": [
      "11it [10:06, 74.20s/it] "
     ]
    },
    {
     "name": "stdout",
     "output_type": "stream",
     "text": [
      "Alibaba done!\n"
     ]
    },
    {
     "name": "stderr",
     "output_type": "stream",
     "text": [
      "12it [10:07, 52.10s/it]"
     ]
    },
    {
     "name": "stdout",
     "output_type": "stream",
     "text": [
      "Allianz done!\n"
     ]
    },
    {
     "name": "stderr",
     "output_type": "stream",
     "text": [
      "13it [10:07, 36.64s/it]"
     ]
    },
    {
     "name": "stdout",
     "output_type": "stream",
     "text": [
      "Alphabet  done!\n"
     ]
    },
    {
     "name": "stderr",
     "output_type": "stream",
     "text": [
      "14it [10:08, 25.94s/it]"
     ]
    },
    {
     "name": "stdout",
     "output_type": "stream",
     "text": [
      "Amazon done!\n",
      "Waiting for 5 minutes\n"
     ]
    },
    {
     "name": "stderr",
     "output_type": "stream",
     "text": [
      "15it [15:09, 108.31s/it]"
     ]
    },
    {
     "name": "stdout",
     "output_type": "stream",
     "text": [
      "American Airlines done!\n"
     ]
    },
    {
     "name": "stderr",
     "output_type": "stream",
     "text": [
      "16it [15:09, 75.99s/it] "
     ]
    },
    {
     "name": "stdout",
     "output_type": "stream",
     "text": [
      "Apple done!\n"
     ]
    },
    {
     "name": "stderr",
     "output_type": "stream",
     "text": [
      "17it [15:10, 53.39s/it]"
     ]
    },
    {
     "name": "stdout",
     "output_type": "stream",
     "text": [
      "Astronics done!\n"
     ]
    },
    {
     "name": "stderr",
     "output_type": "stream",
     "text": [
      "18it [15:10, 37.52s/it]"
     ]
    },
    {
     "name": "stdout",
     "output_type": "stream",
     "text": [
      "AT&S done!\n"
     ]
    },
    {
     "name": "stderr",
     "output_type": "stream",
     "text": [
      "19it [15:11, 26.42s/it]"
     ]
    },
    {
     "name": "stdout",
     "output_type": "stream",
     "text": [
      "AT&T done!\n",
      "Waiting for 5 minutes\n"
     ]
    },
    {
     "name": "stderr",
     "output_type": "stream",
     "text": [
      "20it [20:11, 108.68s/it]"
     ]
    },
    {
     "name": "stdout",
     "output_type": "stream",
     "text": [
      "Ballard Power Systems done!\n"
     ]
    },
    {
     "name": "stderr",
     "output_type": "stream",
     "text": [
      "21it [20:12, 76.24s/it] "
     ]
    },
    {
     "name": "stdout",
     "output_type": "stream",
     "text": [
      "BASF done!\n"
     ]
    },
    {
     "name": "stderr",
     "output_type": "stream",
     "text": [
      "22it [20:13, 53.53s/it]"
     ]
    },
    {
     "name": "stdout",
     "output_type": "stream",
     "text": [
      "Bayer done!\n"
     ]
    },
    {
     "name": "stderr",
     "output_type": "stream",
     "text": [
      "23it [20:13, 37.63s/it]"
     ]
    },
    {
     "name": "stdout",
     "output_type": "stream",
     "text": [
      "Beiersdorf done!\n"
     ]
    },
    {
     "name": "stderr",
     "output_type": "stream",
     "text": [
      "24it [20:14, 26.49s/it]"
     ]
    },
    {
     "name": "stdout",
     "output_type": "stream",
     "text": [
      "BHP Billiton done!\n",
      "Waiting for 5 minutes\n"
     ]
    },
    {
     "name": "stderr",
     "output_type": "stream",
     "text": [
      "25it [25:14, 108.75s/it]"
     ]
    },
    {
     "name": "stdout",
     "output_type": "stream",
     "text": [
      "BMW done!\n"
     ]
    },
    {
     "name": "stderr",
     "output_type": "stream",
     "text": [
      "26it [25:15, 76.30s/it] "
     ]
    },
    {
     "name": "stdout",
     "output_type": "stream",
     "text": [
      "Boeing done!\n"
     ]
    },
    {
     "name": "stderr",
     "output_type": "stream",
     "text": [
      "27it [25:16, 53.72s/it]"
     ]
    },
    {
     "name": "stdout",
     "output_type": "stream",
     "text": [
      "Booking done!\n"
     ]
    },
    {
     "name": "stderr",
     "output_type": "stream",
     "text": [
      "28it [25:17, 37.88s/it]"
     ]
    },
    {
     "name": "stdout",
     "output_type": "stream",
     "text": [
      "Bridgestone done!\n"
     ]
    },
    {
     "name": "stderr",
     "output_type": "stream",
     "text": [
      "29it [25:18, 26.79s/it]"
     ]
    },
    {
     "name": "stdout",
     "output_type": "stream",
     "text": [
      "Carl Zeiss Meditec done!\n",
      "Waiting for 5 minutes\n"
     ]
    },
    {
     "name": "stderr",
     "output_type": "stream",
     "text": [
      "30it [30:19, 109.03s/it]"
     ]
    },
    {
     "name": "stdout",
     "output_type": "stream",
     "text": [
      "Carnival done!\n"
     ]
    },
    {
     "name": "stderr",
     "output_type": "stream",
     "text": [
      "31it [30:19, 76.50s/it] "
     ]
    },
    {
     "name": "stdout",
     "output_type": "stream",
     "text": [
      "CD Projekt done!\n"
     ]
    },
    {
     "name": "stderr",
     "output_type": "stream",
     "text": [
      "32it [30:20, 53.77s/it]"
     ]
    },
    {
     "name": "stdout",
     "output_type": "stream",
     "text": [
      "Chevron done!\n"
     ]
    },
    {
     "name": "stderr",
     "output_type": "stream",
     "text": [
      "33it [30:21, 37.93s/it]"
     ]
    },
    {
     "name": "stdout",
     "output_type": "stream",
     "text": [
      "China Shenhua Engery done!\n"
     ]
    },
    {
     "name": "stderr",
     "output_type": "stream",
     "text": [
      "34it [30:22, 26.75s/it]"
     ]
    },
    {
     "name": "stdout",
     "output_type": "stream",
     "text": [
      "Citigroup done!\n",
      "Waiting for 5 minutes\n"
     ]
    },
    {
     "name": "stderr",
     "output_type": "stream",
     "text": [
      "35it [35:22, 108.92s/it]"
     ]
    },
    {
     "name": "stdout",
     "output_type": "stream",
     "text": [
      "Clariant done!\n"
     ]
    },
    {
     "name": "stderr",
     "output_type": "stream",
     "text": [
      "36it [35:23, 76.54s/it] "
     ]
    },
    {
     "name": "stdout",
     "output_type": "stream",
     "text": [
      "Coca Cola done!\n"
     ]
    },
    {
     "name": "stderr",
     "output_type": "stream",
     "text": [
      "37it [35:25, 54.22s/it]"
     ]
    },
    {
     "name": "stdout",
     "output_type": "stream",
     "text": [
      "Columbia Sportswear done!\n"
     ]
    },
    {
     "name": "stderr",
     "output_type": "stream",
     "text": [
      "38it [35:26, 38.16s/it]"
     ]
    },
    {
     "name": "stdout",
     "output_type": "stream",
     "text": [
      "Continental done!\n"
     ]
    },
    {
     "name": "stderr",
     "output_type": "stream",
     "text": [
      "39it [35:27, 26.94s/it]"
     ]
    },
    {
     "name": "stdout",
     "output_type": "stream",
     "text": [
      "Covestro done!\n",
      "Waiting for 5 minutes\n"
     ]
    },
    {
     "name": "stderr",
     "output_type": "stream",
     "text": [
      "40it [40:28, 109.16s/it]"
     ]
    },
    {
     "name": "stdout",
     "output_type": "stream",
     "text": [
      "CrowdStrike  done!\n"
     ]
    },
    {
     "name": "stderr",
     "output_type": "stream",
     "text": [
      "41it [40:29, 76.63s/it] "
     ]
    },
    {
     "name": "stdout",
     "output_type": "stream",
     "text": [
      "Daimler done!\n"
     ]
    },
    {
     "name": "stderr",
     "output_type": "stream",
     "text": [
      "42it [40:29, 53.86s/it]"
     ]
    },
    {
     "name": "stdout",
     "output_type": "stream",
     "text": [
      "Delivery Hero\n",
      "Delivery Hero done!\n"
     ]
    },
    {
     "name": "stderr",
     "output_type": "stream",
     "text": [
      "43it [40:30, 37.93s/it]"
     ]
    },
    {
     "name": "stdout",
     "output_type": "stream",
     "text": [
      "Delta done!\n"
     ]
    },
    {
     "name": "stderr",
     "output_type": "stream",
     "text": [
      "44it [40:31, 26.71s/it]"
     ]
    },
    {
     "name": "stdout",
     "output_type": "stream",
     "text": [
      "Deutsche Bank done!\n",
      "Waiting for 5 minutes\n"
     ]
    },
    {
     "name": "stderr",
     "output_type": "stream",
     "text": [
      "45it [45:31, 108.85s/it]"
     ]
    },
    {
     "name": "stdout",
     "output_type": "stream",
     "text": [
      "Deutsche Börse done!\n"
     ]
    },
    {
     "name": "stderr",
     "output_type": "stream",
     "text": [
      "46it [45:32, 76.37s/it] "
     ]
    },
    {
     "name": "stdout",
     "output_type": "stream",
     "text": [
      "Deutsche Post done!\n"
     ]
    },
    {
     "name": "stderr",
     "output_type": "stream",
     "text": [
      "47it [45:32, 53.61s/it]"
     ]
    },
    {
     "name": "stdout",
     "output_type": "stream",
     "text": [
      "Deutsche Telekom done!\n"
     ]
    },
    {
     "name": "stderr",
     "output_type": "stream",
     "text": [
      "48it [45:33, 37.69s/it]"
     ]
    },
    {
     "name": "stdout",
     "output_type": "stream",
     "text": [
      "Deutsche Wohnen done!\n"
     ]
    },
    {
     "name": "stderr",
     "output_type": "stream",
     "text": [
      "49it [45:33, 26.59s/it]"
     ]
    },
    {
     "name": "stdout",
     "output_type": "stream",
     "text": [
      "Dialog Semiconductor done!\n",
      "Waiting for 5 minutes\n"
     ]
    },
    {
     "name": "stderr",
     "output_type": "stream",
     "text": [
      "50it [50:34, 108.80s/it]"
     ]
    },
    {
     "name": "stdout",
     "output_type": "stream",
     "text": [
      "Dior done!\n"
     ]
    },
    {
     "name": "stderr",
     "output_type": "stream",
     "text": [
      "51it [50:36, 76.76s/it] "
     ]
    },
    {
     "name": "stdout",
     "output_type": "stream",
     "text": [
      "Dominos done!\n"
     ]
    },
    {
     "name": "stderr",
     "output_type": "stream",
     "text": [
      "52it [50:37, 53.98s/it]"
     ]
    },
    {
     "name": "stdout",
     "output_type": "stream",
     "text": [
      "DSM NV done!\n"
     ]
    },
    {
     "name": "stderr",
     "output_type": "stream",
     "text": [
      "53it [50:38, 37.99s/it]"
     ]
    },
    {
     "name": "stdout",
     "output_type": "stream",
     "text": [
      "E.ON done!\n"
     ]
    },
    {
     "name": "stderr",
     "output_type": "stream",
     "text": [
      "54it [50:38, 26.75s/it]"
     ]
    },
    {
     "name": "stdout",
     "output_type": "stream",
     "text": [
      "Ebay done!\n",
      "Waiting for 5 minutes\n"
     ]
    },
    {
     "name": "stderr",
     "output_type": "stream",
     "text": [
      "55it [55:39, 109.00s/it]"
     ]
    },
    {
     "name": "stdout",
     "output_type": "stream",
     "text": [
      "Electronic Arts done!\n"
     ]
    },
    {
     "name": "stderr",
     "output_type": "stream",
     "text": [
      "56it [55:40, 76.54s/it] "
     ]
    },
    {
     "name": "stdout",
     "output_type": "stream",
     "text": [
      "EnBW done!\n"
     ]
    },
    {
     "name": "stderr",
     "output_type": "stream",
     "text": [
      "57it [55:40, 53.78s/it]"
     ]
    },
    {
     "name": "stdout",
     "output_type": "stream",
     "text": [
      "Enel done!\n"
     ]
    },
    {
     "name": "stderr",
     "output_type": "stream",
     "text": [
      "58it [55:41, 37.84s/it]"
     ]
    },
    {
     "name": "stdout",
     "output_type": "stream",
     "text": [
      "Engie done!\n"
     ]
    },
    {
     "name": "stderr",
     "output_type": "stream",
     "text": [
      "59it [55:42, 26.69s/it]"
     ]
    },
    {
     "name": "stdout",
     "output_type": "stream",
     "text": [
      "Eni done!\n",
      "Waiting for 5 minutes\n"
     ]
    },
    {
     "name": "stderr",
     "output_type": "stream",
     "text": [
      "60it [1:00:42, 108.86s/it]"
     ]
    },
    {
     "name": "stdout",
     "output_type": "stream",
     "text": [
      "Evoqua Water done!\n"
     ]
    },
    {
     "name": "stderr",
     "output_type": "stream",
     "text": [
      "61it [1:00:43, 76.39s/it] "
     ]
    },
    {
     "name": "stdout",
     "output_type": "stream",
     "text": [
      "ExxonMobil\n",
      "ExxonMobil done!\n"
     ]
    },
    {
     "name": "stderr",
     "output_type": "stream",
     "text": [
      "62it [1:00:44, 53.67s/it]"
     ]
    },
    {
     "name": "stdout",
     "output_type": "stream",
     "text": [
      "Facebook done!\n"
     ]
    },
    {
     "name": "stderr",
     "output_type": "stream",
     "text": [
      "63it [1:00:44, 37.72s/it]"
     ]
    },
    {
     "name": "stdout",
     "output_type": "stream",
     "text": [
      "FEDEX done!\n"
     ]
    },
    {
     "name": "stderr",
     "output_type": "stream",
     "text": [
      "64it [1:00:45, 26.56s/it]"
     ]
    },
    {
     "name": "stdout",
     "output_type": "stream",
     "text": [
      "Five9 done!\n",
      "Waiting for 5 minutes\n"
     ]
    },
    {
     "name": "stderr",
     "output_type": "stream",
     "text": [
      "65it [1:05:45, 108.74s/it]"
     ]
    },
    {
     "name": "stdout",
     "output_type": "stream",
     "text": [
      "Ford done!\n"
     ]
    },
    {
     "name": "stderr",
     "output_type": "stream",
     "text": [
      "66it [1:05:46, 76.32s/it] "
     ]
    },
    {
     "name": "stdout",
     "output_type": "stream",
     "text": [
      "Fresenius done!\n"
     ]
    },
    {
     "name": "stderr",
     "output_type": "stream",
     "text": [
      "67it [1:05:46, 53.59s/it]"
     ]
    },
    {
     "name": "stdout",
     "output_type": "stream",
     "text": [
      "Fresenius Medical Care done!\n"
     ]
    },
    {
     "name": "stderr",
     "output_type": "stream",
     "text": [
      "68it [1:05:47, 37.68s/it]"
     ]
    },
    {
     "name": "stdout",
     "output_type": "stream",
     "text": [
      "GAG Immobilien done!\n"
     ]
    },
    {
     "name": "stderr",
     "output_type": "stream",
     "text": [
      "69it [1:05:47, 26.54s/it]"
     ]
    },
    {
     "name": "stdout",
     "output_type": "stream",
     "text": [
      "General Electric done!\n",
      "Waiting for 5 minutes\n"
     ]
    },
    {
     "name": "stderr",
     "output_type": "stream",
     "text": [
      "70it [1:10:48, 108.72s/it]"
     ]
    },
    {
     "name": "stdout",
     "output_type": "stream",
     "text": [
      "Glencore Plc done!\n"
     ]
    },
    {
     "name": "stderr",
     "output_type": "stream",
     "text": [
      "71it [1:10:49, 76.28s/it] "
     ]
    },
    {
     "name": "stdout",
     "output_type": "stream",
     "text": [
      "Goodyear Tire Rubber done!\n"
     ]
    },
    {
     "name": "stderr",
     "output_type": "stream",
     "text": [
      "72it [1:10:49, 53.60s/it]"
     ]
    },
    {
     "name": "stdout",
     "output_type": "stream",
     "text": [
      "Hannover Rück done!\n"
     ]
    },
    {
     "name": "stderr",
     "output_type": "stream",
     "text": [
      "73it [1:10:50, 37.71s/it]"
     ]
    },
    {
     "name": "stdout",
     "output_type": "stream",
     "text": [
      "HeidelbergCement done!\n"
     ]
    },
    {
     "name": "stderr",
     "output_type": "stream",
     "text": [
      "74it [1:10:50, 26.59s/it]"
     ]
    },
    {
     "name": "stdout",
     "output_type": "stream",
     "text": [
      "Henkel done!\n",
      "Hermès\n",
      "Waiting for 5 minutes\n"
     ]
    },
    {
     "name": "stderr",
     "output_type": "stream",
     "text": [
      "75it [1:15:51, 108.79s/it]"
     ]
    },
    {
     "name": "stdout",
     "output_type": "stream",
     "text": [
      "Hermès done!\n"
     ]
    },
    {
     "name": "stderr",
     "output_type": "stream",
     "text": [
      "76it [1:15:52, 76.42s/it] "
     ]
    },
    {
     "name": "stdout",
     "output_type": "stream",
     "text": [
      "Hugo Boss done!\n"
     ]
    },
    {
     "name": "stderr",
     "output_type": "stream",
     "text": [
      "77it [1:15:52, 53.65s/it]"
     ]
    },
    {
     "name": "stdout",
     "output_type": "stream",
     "text": [
      "IBM done!\n"
     ]
    },
    {
     "name": "stderr",
     "output_type": "stream",
     "text": [
      "78it [1:15:54, 37.87s/it]"
     ]
    },
    {
     "name": "stdout",
     "output_type": "stream",
     "text": [
      "Infineon done!\n"
     ]
    },
    {
     "name": "stderr",
     "output_type": "stream",
     "text": [
      "79it [1:15:54, 26.70s/it]"
     ]
    },
    {
     "name": "stdout",
     "output_type": "stream",
     "text": [
      "Intuitive Surgical done!\n",
      "Waiting for 5 minutes\n"
     ]
    },
    {
     "name": "stderr",
     "output_type": "stream",
     "text": [
      "80it [1:20:55, 108.84s/it]"
     ]
    },
    {
     "name": "stdout",
     "output_type": "stream",
     "text": [
      "ITM Power done!\n"
     ]
    },
    {
     "name": "stderr",
     "output_type": "stream",
     "text": [
      "81it [1:20:55, 76.43s/it] "
     ]
    },
    {
     "name": "stdout",
     "output_type": "stream",
     "text": [
      "Johnson Johnson done!\n"
     ]
    },
    {
     "name": "stderr",
     "output_type": "stream",
     "text": [
      "82it [1:20:56, 53.72s/it]"
     ]
    },
    {
     "name": "stdout",
     "output_type": "stream",
     "text": [
      "JPMorgan Chase done!\n"
     ]
    },
    {
     "name": "stderr",
     "output_type": "stream",
     "text": [
      "83it [1:20:58, 38.03s/it]"
     ]
    },
    {
     "name": "stdout",
     "output_type": "stream",
     "text": [
      "KION Group done!\n"
     ]
    },
    {
     "name": "stderr",
     "output_type": "stream",
     "text": [
      "84it [1:20:58, 26.77s/it]"
     ]
    },
    {
     "name": "stdout",
     "output_type": "stream",
     "text": [
      "KLM/AirFrance done!\n",
      "Kühne + Nagel\n",
      "Waiting for 5 minutes\n"
     ]
    },
    {
     "name": "stderr",
     "output_type": "stream",
     "text": [
      "85it [1:25:59, 108.92s/it]"
     ]
    },
    {
     "name": "stdout",
     "output_type": "stream",
     "text": [
      "Kühne + Nagel done!\n"
     ]
    },
    {
     "name": "stderr",
     "output_type": "stream",
     "text": [
      "86it [1:26:00, 76.51s/it] "
     ]
    },
    {
     "name": "stdout",
     "output_type": "stream",
     "text": [
      "L´Oréal\n",
      "L´Oréal done!\n"
     ]
    },
    {
     "name": "stderr",
     "output_type": "stream",
     "text": [
      "87it [1:26:00, 53.74s/it]"
     ]
    },
    {
     "name": "stdout",
     "output_type": "stream",
     "text": [
      "Lafarge\n",
      "Lafarge done!\n"
     ]
    },
    {
     "name": "stderr",
     "output_type": "stream",
     "text": [
      "88it [1:26:01, 37.83s/it]"
     ]
    },
    {
     "name": "stdout",
     "output_type": "stream",
     "text": [
      "Lang Schwarz done!\n"
     ]
    },
    {
     "name": "stderr",
     "output_type": "stream",
     "text": [
      "89it [1:26:02, 26.68s/it]"
     ]
    },
    {
     "name": "stdout",
     "output_type": "stream",
     "text": [
      "Linde\n",
      "Linde done!\n",
      "Waiting for 5 minutes\n"
     ]
    },
    {
     "name": "stderr",
     "output_type": "stream",
     "text": [
      "90it [1:31:02, 108.87s/it]"
     ]
    },
    {
     "name": "stdout",
     "output_type": "stream",
     "text": [
      "Lindsay done!\n"
     ]
    },
    {
     "name": "stderr",
     "output_type": "stream",
     "text": [
      "91it [1:31:03, 76.43s/it] "
     ]
    },
    {
     "name": "stdout",
     "output_type": "stream",
     "text": [
      "Lockhead  done!\n"
     ]
    },
    {
     "name": "stderr",
     "output_type": "stream",
     "text": [
      "92it [1:31:04, 53.74s/it]"
     ]
    },
    {
     "name": "stdout",
     "output_type": "stream",
     "text": [
      "London Stock Exchange done!\n"
     ]
    },
    {
     "name": "stderr",
     "output_type": "stream",
     "text": [
      "93it [1:31:05, 37.88s/it]"
     ]
    },
    {
     "name": "stdout",
     "output_type": "stream",
     "text": [
      "Lufthansa done!\n"
     ]
    },
    {
     "name": "stderr",
     "output_type": "stream",
     "text": [
      "94it [1:31:05, 26.68s/it]"
     ]
    },
    {
     "name": "stdout",
     "output_type": "stream",
     "text": [
      "LVMH  done!\n",
      "Waiting for 5 minutes\n"
     ]
    },
    {
     "name": "stderr",
     "output_type": "stream",
     "text": [
      "95it [1:36:06, 108.88s/it]"
     ]
    },
    {
     "name": "stdout",
     "output_type": "stream",
     "text": [
      "Mastercard done!\n"
     ]
    },
    {
     "name": "stderr",
     "output_type": "stream",
     "text": [
      "96it [1:36:09, 77.00s/it] "
     ]
    },
    {
     "name": "stdout",
     "output_type": "stream",
     "text": [
      "MCDonalds done!\n"
     ]
    },
    {
     "name": "stderr",
     "output_type": "stream",
     "text": [
      "97it [1:36:12, 55.07s/it]"
     ]
    },
    {
     "name": "stdout",
     "output_type": "stream",
     "text": [
      "Merck done!\n"
     ]
    },
    {
     "name": "stderr",
     "output_type": "stream",
     "text": [
      "98it [1:36:14, 39.01s/it]"
     ]
    },
    {
     "name": "stdout",
     "output_type": "stream",
     "text": [
      "Michelin done!\n"
     ]
    },
    {
     "name": "stderr",
     "output_type": "stream",
     "text": [
      "99it [1:36:18, 28.63s/it]"
     ]
    },
    {
     "name": "stdout",
     "output_type": "stream",
     "text": [
      "Microsoft done!\n",
      "Waiting for 5 minutes\n"
     ]
    },
    {
     "name": "stderr",
     "output_type": "stream",
     "text": [
      "100it [1:41:22, 111.15s/it]"
     ]
    },
    {
     "name": "stdout",
     "output_type": "stream",
     "text": [
      "MLP done!\n"
     ]
    },
    {
     "name": "stderr",
     "output_type": "stream",
     "text": [
      "101it [1:41:23, 78.02s/it] "
     ]
    },
    {
     "name": "stdout",
     "output_type": "stream",
     "text": [
      "MTU Aero Engines done!\n"
     ]
    },
    {
     "name": "stderr",
     "output_type": "stream",
     "text": [
      "102it [1:41:23, 54.79s/it]"
     ]
    },
    {
     "name": "stdout",
     "output_type": "stream",
     "text": [
      "Münchener Rückversichungs-Gesellschaft done!\n"
     ]
    },
    {
     "name": "stderr",
     "output_type": "stream",
     "text": [
      "103it [1:41:24, 38.51s/it]"
     ]
    },
    {
     "name": "stdout",
     "output_type": "stream",
     "text": [
      "Nasdaq done!\n"
     ]
    },
    {
     "name": "stderr",
     "output_type": "stream",
     "text": [
      "104it [1:41:24, 27.13s/it]"
     ]
    },
    {
     "name": "stdout",
     "output_type": "stream",
     "text": [
      "NEL ASA done!\n",
      "Waiting for 5 minutes\n"
     ]
    },
    {
     "name": "stderr",
     "output_type": "stream",
     "text": [
      "105it [1:46:25, 109.17s/it]"
     ]
    },
    {
     "name": "stdout",
     "output_type": "stream",
     "text": [
      "Nestle done!\n"
     ]
    },
    {
     "name": "stderr",
     "output_type": "stream",
     "text": [
      "106it [1:46:26, 76.61s/it] "
     ]
    },
    {
     "name": "stdout",
     "output_type": "stream",
     "text": [
      "Netflix done!\n"
     ]
    },
    {
     "name": "stderr",
     "output_type": "stream",
     "text": [
      "107it [1:46:26, 53.79s/it]"
     ]
    },
    {
     "name": "stdout",
     "output_type": "stream",
     "text": [
      "Nike done!\n"
     ]
    },
    {
     "name": "stderr",
     "output_type": "stream",
     "text": [
      "108it [1:46:27, 37.81s/it]"
     ]
    },
    {
     "name": "stdout",
     "output_type": "stream",
     "text": [
      "Nikola done!\n"
     ]
    },
    {
     "name": "stderr",
     "output_type": "stream",
     "text": [
      "109it [1:46:28, 26.69s/it]"
     ]
    },
    {
     "name": "stdout",
     "output_type": "stream",
     "text": [
      "Nokia done!\n",
      "Waiting for 5 minutes\n"
     ]
    },
    {
     "name": "stderr",
     "output_type": "stream",
     "text": [
      "110it [1:51:28, 108.84s/it]"
     ]
    },
    {
     "name": "stdout",
     "output_type": "stream",
     "text": [
      "Northrop Grumman done!\n"
     ]
    },
    {
     "name": "stderr",
     "output_type": "stream",
     "text": [
      "111it [1:51:29, 76.36s/it] "
     ]
    },
    {
     "name": "stdout",
     "output_type": "stream",
     "text": [
      "Nvidia done!\n"
     ]
    },
    {
     "name": "stderr",
     "output_type": "stream",
     "text": [
      "112it [1:51:30, 53.72s/it]"
     ]
    },
    {
     "name": "stdout",
     "output_type": "stream",
     "text": [
      "OHB SE done!\n"
     ]
    },
    {
     "name": "stderr",
     "output_type": "stream",
     "text": [
      "113it [1:51:30, 37.84s/it]"
     ]
    },
    {
     "name": "stdout",
     "output_type": "stream",
     "text": [
      "Oracle done!\n"
     ]
    },
    {
     "name": "stderr",
     "output_type": "stream",
     "text": [
      "114it [1:51:31, 26.64s/it]"
     ]
    },
    {
     "name": "stdout",
     "output_type": "stream",
     "text": [
      "Paypal done!\n",
      "Waiting for 5 minutes\n"
     ]
    },
    {
     "name": "stderr",
     "output_type": "stream",
     "text": [
      "115it [1:56:31, 108.85s/it]"
     ]
    },
    {
     "name": "stdout",
     "output_type": "stream",
     "text": [
      "Procter Gamble done!\n"
     ]
    },
    {
     "name": "stderr",
     "output_type": "stream",
     "text": [
      "116it [1:56:32, 76.40s/it] "
     ]
    },
    {
     "name": "stdout",
     "output_type": "stream",
     "text": [
      "ProSieben/Sat1\n",
      "ProSieben/Sat1 done!\n"
     ]
    },
    {
     "name": "stderr",
     "output_type": "stream",
     "text": [
      "117it [1:56:33, 53.68s/it]"
     ]
    },
    {
     "name": "stdout",
     "output_type": "stream",
     "text": [
      "Prudential done!\n"
     ]
    },
    {
     "name": "stderr",
     "output_type": "stream",
     "text": [
      "118it [1:56:34, 37.87s/it]"
     ]
    },
    {
     "name": "stdout",
     "output_type": "stream",
     "text": [
      "Puma done!\n"
     ]
    },
    {
     "name": "stderr",
     "output_type": "stream",
     "text": [
      "119it [1:56:35, 26.83s/it]"
     ]
    },
    {
     "name": "stdout",
     "output_type": "stream",
     "text": [
      "Qantan Airways done!\n",
      "Waiting for 5 minutes\n"
     ]
    },
    {
     "name": "stderr",
     "output_type": "stream",
     "text": [
      "120it [2:01:36, 109.06s/it]"
     ]
    },
    {
     "name": "stdout",
     "output_type": "stream",
     "text": [
      "Rio Tinto done!\n"
     ]
    },
    {
     "name": "stderr",
     "output_type": "stream",
     "text": [
      "121it [2:01:37, 76.56s/it] "
     ]
    },
    {
     "name": "stdout",
     "output_type": "stream",
     "text": [
      "Roche done!\n"
     ]
    },
    {
     "name": "stderr",
     "output_type": "stream",
     "text": [
      "122it [2:01:37, 53.78s/it]"
     ]
    },
    {
     "name": "stdout",
     "output_type": "stream",
     "text": [
      "Rolls-Royce done!\n"
     ]
    },
    {
     "name": "stderr",
     "output_type": "stream",
     "text": [
      "123it [2:01:39, 38.10s/it]"
     ]
    },
    {
     "name": "stdout",
     "output_type": "stream",
     "text": [
      "Royal Caribbean done!\n"
     ]
    },
    {
     "name": "stderr",
     "output_type": "stream",
     "text": [
      "124it [2:01:39, 26.91s/it]"
     ]
    },
    {
     "name": "stdout",
     "output_type": "stream",
     "text": [
      "RTL done!\n",
      "Waiting for 5 minutes\n"
     ]
    },
    {
     "name": "stderr",
     "output_type": "stream",
     "text": [
      "125it [2:06:40, 109.03s/it]"
     ]
    },
    {
     "name": "stdout",
     "output_type": "stream",
     "text": [
      "RWE done!\n"
     ]
    },
    {
     "name": "stderr",
     "output_type": "stream",
     "text": [
      "126it [2:06:41, 76.57s/it] "
     ]
    },
    {
     "name": "stdout",
     "output_type": "stream",
     "text": [
      "Safran done!\n"
     ]
    },
    {
     "name": "stderr",
     "output_type": "stream",
     "text": [
      "127it [2:06:42, 53.89s/it]"
     ]
    },
    {
     "name": "stdout",
     "output_type": "stream",
     "text": [
      "Saint-Gobain done!\n"
     ]
    },
    {
     "name": "stderr",
     "output_type": "stream",
     "text": [
      "128it [2:06:42, 37.89s/it]"
     ]
    },
    {
     "name": "stdout",
     "output_type": "stream",
     "text": [
      "SAP done!\n"
     ]
    },
    {
     "name": "stderr",
     "output_type": "stream",
     "text": [
      "129it [2:06:44, 27.10s/it]"
     ]
    },
    {
     "name": "stdout",
     "output_type": "stream",
     "text": [
      "Shell done!\n",
      "Waiting for 5 minutes\n"
     ]
    },
    {
     "name": "stderr",
     "output_type": "stream",
     "text": [
      "130it [2:11:45, 109.12s/it]"
     ]
    },
    {
     "name": "stdout",
     "output_type": "stream",
     "text": [
      "Siemens done!\n"
     ]
    },
    {
     "name": "stderr",
     "output_type": "stream",
     "text": [
      "131it [2:11:45, 76.55s/it] "
     ]
    },
    {
     "name": "stdout",
     "output_type": "stream",
     "text": [
      "Sociétè Générale done!\n"
     ]
    },
    {
     "name": "stderr",
     "output_type": "stream",
     "text": [
      "132it [2:11:46, 53.81s/it]"
     ]
    },
    {
     "name": "stdout",
     "output_type": "stream",
     "text": [
      "Starbucks done!\n"
     ]
    },
    {
     "name": "stderr",
     "output_type": "stream",
     "text": [
      "133it [2:11:47, 37.99s/it]"
     ]
    },
    {
     "name": "stdout",
     "output_type": "stream",
     "text": [
      "Take Two Interactive done!\n"
     ]
    },
    {
     "name": "stderr",
     "output_type": "stream",
     "text": [
      "134it [2:11:48, 26.87s/it]"
     ]
    },
    {
     "name": "stdout",
     "output_type": "stream",
     "text": [
      "Target done!\n",
      "Waiting for 5 minutes\n"
     ]
    },
    {
     "name": "stderr",
     "output_type": "stream",
     "text": [
      "135it [2:16:49, 108.99s/it]"
     ]
    },
    {
     "name": "stdout",
     "output_type": "stream",
     "text": [
      "Tesla done!\n"
     ]
    },
    {
     "name": "stderr",
     "output_type": "stream",
     "text": [
      "136it [2:16:50, 76.62s/it] "
     ]
    },
    {
     "name": "stdout",
     "output_type": "stream",
     "text": [
      "Texas Instruments done!\n"
     ]
    },
    {
     "name": "stderr",
     "output_type": "stream",
     "text": [
      "137it [2:16:51, 53.84s/it]"
     ]
    },
    {
     "name": "stdout",
     "output_type": "stream",
     "text": [
      "The Trade Desk done!\n"
     ]
    },
    {
     "name": "stderr",
     "output_type": "stream",
     "text": [
      "138it [2:16:51, 37.84s/it]"
     ]
    },
    {
     "name": "stdout",
     "output_type": "stream",
     "text": [
      "TOTAL done!\n"
     ]
    },
    {
     "name": "stderr",
     "output_type": "stream",
     "text": [
      "139it [2:16:52, 26.66s/it]"
     ]
    },
    {
     "name": "stdout",
     "output_type": "stream",
     "text": [
      "Total System Services done!\n",
      "Waiting for 5 minutes\n"
     ]
    },
    {
     "name": "stderr",
     "output_type": "stream",
     "text": [
      "140it [2:21:52, 108.83s/it]"
     ]
    },
    {
     "name": "stdout",
     "output_type": "stream",
     "text": [
      "Toyota done!\n"
     ]
    },
    {
     "name": "stderr",
     "output_type": "stream",
     "text": [
      "141it [2:21:53, 76.45s/it] "
     ]
    },
    {
     "name": "stdout",
     "output_type": "stream",
     "text": [
      "TUI done!\n"
     ]
    },
    {
     "name": "stderr",
     "output_type": "stream",
     "text": [
      "142it [2:21:54, 53.67s/it]"
     ]
    },
    {
     "name": "stdout",
     "output_type": "stream",
     "text": [
      "UBER done!\n"
     ]
    },
    {
     "name": "stderr",
     "output_type": "stream",
     "text": [
      "143it [2:21:54, 37.72s/it]"
     ]
    },
    {
     "name": "stdout",
     "output_type": "stream",
     "text": [
      "Unilever done!\n"
     ]
    },
    {
     "name": "stderr",
     "output_type": "stream",
     "text": [
      "144it [2:21:55, 26.65s/it]"
     ]
    },
    {
     "name": "stdout",
     "output_type": "stream",
     "text": [
      "United Internet done!\n",
      "Waiting for 5 minutes\n"
     ]
    },
    {
     "name": "stderr",
     "output_type": "stream",
     "text": [
      "145it [2:26:55, 108.80s/it]"
     ]
    },
    {
     "name": "stdout",
     "output_type": "stream",
     "text": [
      "UPS done!\n"
     ]
    },
    {
     "name": "stderr",
     "output_type": "stream",
     "text": [
      "146it [2:26:56, 76.34s/it] "
     ]
    },
    {
     "name": "stdout",
     "output_type": "stream",
     "text": [
      "Veolia Environnement done!\n"
     ]
    },
    {
     "name": "stderr",
     "output_type": "stream",
     "text": [
      "147it [2:26:57, 53.65s/it]"
     ]
    },
    {
     "name": "stdout",
     "output_type": "stream",
     "text": [
      "VINCI done!\n"
     ]
    },
    {
     "name": "stderr",
     "output_type": "stream",
     "text": [
      "148it [2:26:57, 37.75s/it]"
     ]
    },
    {
     "name": "stdout",
     "output_type": "stream",
     "text": [
      "Virgin Galactic done!\n"
     ]
    },
    {
     "name": "stderr",
     "output_type": "stream",
     "text": [
      "149it [2:26:58, 26.58s/it]"
     ]
    },
    {
     "name": "stdout",
     "output_type": "stream",
     "text": [
      "Volkswagen done!\n",
      "Waiting for 5 minutes\n"
     ]
    },
    {
     "name": "stderr",
     "output_type": "stream",
     "text": [
      "150it [2:31:59, 108.79s/it]"
     ]
    },
    {
     "name": "stdout",
     "output_type": "stream",
     "text": [
      "Vonovia done!\n"
     ]
    },
    {
     "name": "stderr",
     "output_type": "stream",
     "text": [
      "151it [2:31:59, 76.42s/it] "
     ]
    },
    {
     "name": "stdout",
     "output_type": "stream",
     "text": [
      "Walmart done!\n"
     ]
    },
    {
     "name": "stderr",
     "output_type": "stream",
     "text": [
      "152it [2:32:00, 53.64s/it]"
     ]
    },
    {
     "name": "stdout",
     "output_type": "stream",
     "text": [
      "Walt Disney done!\n"
     ]
    },
    {
     "name": "stderr",
     "output_type": "stream",
     "text": [
      "153it [2:32:01, 37.75s/it]"
     ]
    },
    {
     "name": "stdout",
     "output_type": "stream",
     "text": [
      "Wirecard done!\n"
     ]
    },
    {
     "name": "stderr",
     "output_type": "stream",
     "text": [
      "154it [2:32:01, 26.62s/it]"
     ]
    },
    {
     "name": "stdout",
     "output_type": "stream",
     "text": [
      "Xylem  done!\n",
      "Waiting for 5 minutes\n"
     ]
    },
    {
     "name": "stderr",
     "output_type": "stream",
     "text": [
      "155it [2:37:02, 108.84s/it]"
     ]
    },
    {
     "name": "stdout",
     "output_type": "stream",
     "text": [
      "Zalando done!\n"
     ]
    },
    {
     "name": "stderr",
     "output_type": "stream",
     "text": [
      "156it [2:37:03, 60.41s/it] "
     ]
    },
    {
     "name": "stdout",
     "output_type": "stream",
     "text": [
      "Zebra Technologies done!\n"
     ]
    },
    {
     "name": "stderr",
     "output_type": "stream",
     "text": [
      "\n"
     ]
    }
   ],
   "source": [
    "API_URL = 'https://www.alphavantage.co/query'\n",
    "ticker = {}\n",
    "count = 1\n",
    "\n",
    "for idx, row in tqdm(df.iterrows()):\n",
    "    data = {\n",
    "        \"function\": \"SYMBOL_SEARCH\",\n",
    "        \"keywords\": row['search'],\n",
    "        \"apikey\": \"OQ123LDEVEFUR30U\",\n",
    "    }\n",
    "    \n",
    "    # try:\n",
    "    response = requests.get(API_URL, params=data)\n",
    "    data = response.json()\n",
    "\n",
    "    try:\n",
    "        \n",
    "        ticker[idx] = {\n",
    "            'names' : [\n",
    "                data['bestMatches'][0]['2. name'],\n",
    "                data['bestMatches'][1]['2. name'],\n",
    "                data['bestMatches'][2]['2. name']\n",
    "            ],\n",
    "            'symbols' : [\n",
    "                data['bestMatches'][0]['1. symbol'],\n",
    "                data['bestMatches'][1]['1. symbol'],\n",
    "                data['bestMatches'][2]['1. symbol']\n",
    "            ],\n",
    "            'regions' : [\n",
    "                data['bestMatches'][0]['4. region'],\n",
    "                data['bestMatches'][1]['4. region'],\n",
    "                data['bestMatches'][2]['4. region']\n",
    "            ],\n",
    "            'currencies' : [\n",
    "                data['bestMatches'][0]['8. currency'],\n",
    "                data['bestMatches'][1]['8. currency'],\n",
    "                data['bestMatches'][2]['8. currency']\n",
    "            ]\n",
    "        }\n",
    "        \n",
    "    except:\n",
    "        print(row['Unternehmen'])\n",
    "    \n",
    "    if count % 5 == 0:\n",
    "        print('Waiting for 5 minutes')\n",
    "        time.sleep(300)\n",
    "        \n",
    "    count += 1\n",
    "    \n",
    "    print('{} done!'.format(row['Unternehmen']))"
   ]
  },
  {
   "cell_type": "code",
   "execution_count": 14,
   "metadata": {},
   "outputs": [
    {
     "data": {
      "text/plain": [
       "{'names': ['1&1 Drillisch AG',\n",
       "  '1&1 Drillisch AG Inhaber-Aktien',\n",
       "  '1&1 Drillisch AG'],\n",
       " 'symbols': ['DRI.DEX', 'DRI.STG', 'DRI.FRK'],\n",
       " 'regions': ['XETRA', 'Stuttgart', 'Frankfurt'],\n",
       " 'currencies': ['EUR', 'EUR', 'EUR']}"
      ]
     },
     "execution_count": 14,
     "metadata": {},
     "output_type": "execute_result"
    }
   ],
   "source": [
    "ticker[0]"
   ]
  },
  {
   "cell_type": "code",
   "execution_count": 25,
   "metadata": {},
   "outputs": [],
   "source": [
    "all_stocks = {}\n",
    "\n",
    "for idx, tick in ticker.items():\n",
    "    \n",
    "    all_stocks[tick['names'][0]] = {\n",
    "        'name_0':tick['names'][0],\n",
    "        'name_1':tick['names'][1],\n",
    "        'name_2':tick['names'][2],\n",
    "        'symbol_0':tick['symbols'][0],\n",
    "        'symbol_1':tick['symbols'][1],\n",
    "        'symbol_2':tick['symbols'][2],\n",
    "        'region_0':tick['regions'][0],\n",
    "        'region_1':tick['regions'][1],\n",
    "        'region_2':tick['regions'][2],\n",
    "        'currencies_0':tick['currencies'][0],\n",
    "        'currencies_1':tick['currencies'][1],\n",
    "        'currencies_2':tick['currencies'][2],\n",
    "    }\n",
    "    \n",
    "    # dff = pd.DataFrame(tick)\n"
   ]
  },
  {
   "cell_type": "code",
   "execution_count": 27,
   "metadata": {},
   "outputs": [],
   "source": [
    "pd.DataFrame(all_stocks).T.to_csv('peer_alpha_vantage.csv')"
   ]
  },
  {
   "cell_type": "code",
   "execution_count": 28,
   "metadata": {},
   "outputs": [
    {
     "data": {
      "text/html": [
       "<div>\n",
       "<style scoped>\n",
       "    .dataframe tbody tr th:only-of-type {\n",
       "        vertical-align: middle;\n",
       "    }\n",
       "\n",
       "    .dataframe tbody tr th {\n",
       "        vertical-align: top;\n",
       "    }\n",
       "\n",
       "    .dataframe thead th {\n",
       "        text-align: right;\n",
       "    }\n",
       "</style>\n",
       "<table border=\"1\" class=\"dataframe\">\n",
       "  <thead>\n",
       "    <tr style=\"text-align: right;\">\n",
       "      <th></th>\n",
       "      <th>name_0</th>\n",
       "      <th>name_1</th>\n",
       "      <th>name_2</th>\n",
       "      <th>symbol_0</th>\n",
       "      <th>symbol_1</th>\n",
       "      <th>symbol_2</th>\n",
       "      <th>region_0</th>\n",
       "      <th>region_1</th>\n",
       "      <th>region_2</th>\n",
       "      <th>currencies_0</th>\n",
       "      <th>currencies_1</th>\n",
       "      <th>currencies_2</th>\n",
       "    </tr>\n",
       "  </thead>\n",
       "  <tbody>\n",
       "    <tr>\n",
       "      <th>1&amp;1 Drillisch AG</th>\n",
       "      <td>1&amp;1 Drillisch AG</td>\n",
       "      <td>1&amp;1 Drillisch AG Inhaber-Aktien</td>\n",
       "      <td>1&amp;1 Drillisch AG</td>\n",
       "      <td>DRI.DEX</td>\n",
       "      <td>DRI.STG</td>\n",
       "      <td>DRI.FRK</td>\n",
       "      <td>XETRA</td>\n",
       "      <td>Stuttgart</td>\n",
       "      <td>Frankfurt</td>\n",
       "      <td>EUR</td>\n",
       "      <td>EUR</td>\n",
       "      <td>EUR</td>\n",
       "    </tr>\n",
       "    <tr>\n",
       "      <th>AAR Corp.</th>\n",
       "      <td>AAR Corp.</td>\n",
       "      <td>Aaron's Inc.</td>\n",
       "      <td>Hartford AARP Balanced Retirement Fund Class A</td>\n",
       "      <td>AIR</td>\n",
       "      <td>AAN</td>\n",
       "      <td>HAFAX</td>\n",
       "      <td>United States</td>\n",
       "      <td>United States</td>\n",
       "      <td>United States</td>\n",
       "      <td>USD</td>\n",
       "      <td>USD</td>\n",
       "      <td>USD</td>\n",
       "    </tr>\n",
       "    <tr>\n",
       "      <th>Activision Blizzard Inc.</th>\n",
       "      <td>Activision Blizzard Inc.</td>\n",
       "      <td>Activision Blizzard Inc.</td>\n",
       "      <td>Activision Blizzard Inc.</td>\n",
       "      <td>ATVI</td>\n",
       "      <td>AIY.FRK</td>\n",
       "      <td>ATVI.MEX</td>\n",
       "      <td>United States</td>\n",
       "      <td>Frankfurt</td>\n",
       "      <td>Mexico</td>\n",
       "      <td>USD</td>\n",
       "      <td>EUR</td>\n",
       "      <td>MXP</td>\n",
       "    </tr>\n",
       "    <tr>\n",
       "      <th>adidas AG</th>\n",
       "      <td>adidas AG</td>\n",
       "      <td>adidas AG</td>\n",
       "      <td>adidas AG</td>\n",
       "      <td>ADDYY</td>\n",
       "      <td>ADDDF</td>\n",
       "      <td>ADS.DEX</td>\n",
       "      <td>United States</td>\n",
       "      <td>United States</td>\n",
       "      <td>XETRA</td>\n",
       "      <td>USD</td>\n",
       "      <td>USD</td>\n",
       "      <td>EUR</td>\n",
       "    </tr>\n",
       "    <tr>\n",
       "      <th>ADLER</th>\n",
       "      <td>ADLER</td>\n",
       "      <td>Adler Value Fund Institutional Class</td>\n",
       "      <td>ADLER Real Estate AG</td>\n",
       "      <td>ES0105984001.MDR</td>\n",
       "      <td>ADLVX</td>\n",
       "      <td>ADL.DEX</td>\n",
       "      <td>Madrid</td>\n",
       "      <td>United States</td>\n",
       "      <td>XETRA</td>\n",
       "      <td>EUR</td>\n",
       "      <td>USD</td>\n",
       "      <td>EUR</td>\n",
       "    </tr>\n",
       "    <tr>\n",
       "      <th>...</th>\n",
       "      <td>...</td>\n",
       "      <td>...</td>\n",
       "      <td>...</td>\n",
       "      <td>...</td>\n",
       "      <td>...</td>\n",
       "      <td>...</td>\n",
       "      <td>...</td>\n",
       "      <td>...</td>\n",
       "      <td>...</td>\n",
       "      <td>...</td>\n",
       "      <td>...</td>\n",
       "      <td>...</td>\n",
       "    </tr>\n",
       "    <tr>\n",
       "      <th>The Walt Disney Company</th>\n",
       "      <td>The Walt Disney Company</td>\n",
       "      <td>DISNEY (WALT) CO.</td>\n",
       "      <td>The Walt Disney Company</td>\n",
       "      <td>DIS</td>\n",
       "      <td>DIS.D</td>\n",
       "      <td>DISB34.SAO</td>\n",
       "      <td>United States</td>\n",
       "      <td>Dusseldorf</td>\n",
       "      <td>Brazil/Sao Paolo</td>\n",
       "      <td>USD</td>\n",
       "      <td>EUR</td>\n",
       "      <td>BRL</td>\n",
       "    </tr>\n",
       "    <tr>\n",
       "      <th>Wirecard AG Inhaber-Aktien o.N.</th>\n",
       "      <td>Wirecard AG Inhaber-Aktien o.N.</td>\n",
       "      <td>Wirecard AG</td>\n",
       "      <td>Wirecard AG</td>\n",
       "      <td>WDI.STG</td>\n",
       "      <td>WCAGY</td>\n",
       "      <td>WRCDF</td>\n",
       "      <td>Stuttgart</td>\n",
       "      <td>United States</td>\n",
       "      <td>United States</td>\n",
       "      <td>EUR</td>\n",
       "      <td>USD</td>\n",
       "      <td>USD</td>\n",
       "    </tr>\n",
       "    <tr>\n",
       "      <th>Xylem Inc.</th>\n",
       "      <td>Xylem Inc.</td>\n",
       "      <td>Xylem Inc. Registered Shares DL</td>\n",
       "      <td>XYLEM INC.  DL-,01</td>\n",
       "      <td>XYL</td>\n",
       "      <td>XY6.STG</td>\n",
       "      <td>XY6.DEX</td>\n",
       "      <td>United States</td>\n",
       "      <td>Stuttgart</td>\n",
       "      <td>XETRA</td>\n",
       "      <td>USD</td>\n",
       "      <td>EUR</td>\n",
       "      <td>EUR</td>\n",
       "    </tr>\n",
       "    <tr>\n",
       "      <th>Zalando SE</th>\n",
       "      <td>Zalando SE</td>\n",
       "      <td>Zalando SE</td>\n",
       "      <td>Zalando SE</td>\n",
       "      <td>ZLNDY</td>\n",
       "      <td>ZLDSF</td>\n",
       "      <td>ZAL.DEX</td>\n",
       "      <td>United States</td>\n",
       "      <td>United States</td>\n",
       "      <td>XETRA</td>\n",
       "      <td>USD</td>\n",
       "      <td>USD</td>\n",
       "      <td>EUR</td>\n",
       "    </tr>\n",
       "    <tr>\n",
       "      <th>Zebra Technologies Corporation</th>\n",
       "      <td>Zebra Technologies Corporation</td>\n",
       "      <td>American Beacon Zebra Small Cap Equity Fund In...</td>\n",
       "      <td>American Beacon Zebra Small Cap Equity Fund R5...</td>\n",
       "      <td>ZBRA</td>\n",
       "      <td>AZSPX</td>\n",
       "      <td>AZSIX</td>\n",
       "      <td>United States</td>\n",
       "      <td>United States</td>\n",
       "      <td>United States</td>\n",
       "      <td>USD</td>\n",
       "      <td>USD</td>\n",
       "      <td>USD</td>\n",
       "    </tr>\n",
       "  </tbody>\n",
       "</table>\n",
       "<p>138 rows × 12 columns</p>\n",
       "</div>"
      ],
      "text/plain": [
       "                                                          name_0  \\\n",
       "1&1 Drillisch AG                                1&1 Drillisch AG   \n",
       "AAR Corp.                                              AAR Corp.   \n",
       "Activision Blizzard Inc.                Activision Blizzard Inc.   \n",
       "adidas AG                                              adidas AG   \n",
       "ADLER                                                      ADLER   \n",
       "...                                                          ...   \n",
       "The Walt Disney Company                  The Walt Disney Company   \n",
       "Wirecard AG Inhaber-Aktien o.N.  Wirecard AG Inhaber-Aktien o.N.   \n",
       "Xylem Inc.                                            Xylem Inc.   \n",
       "Zalando SE                                            Zalando SE   \n",
       "Zebra Technologies Corporation    Zebra Technologies Corporation   \n",
       "\n",
       "                                                                            name_1  \\\n",
       "1&1 Drillisch AG                                   1&1 Drillisch AG Inhaber-Aktien   \n",
       "AAR Corp.                                                             Aaron's Inc.   \n",
       "Activision Blizzard Inc.                                  Activision Blizzard Inc.   \n",
       "adidas AG                                                                adidas AG   \n",
       "ADLER                                         Adler Value Fund Institutional Class   \n",
       "...                                                                            ...   \n",
       "The Walt Disney Company                                          DISNEY (WALT) CO.   \n",
       "Wirecard AG Inhaber-Aktien o.N.                                        Wirecard AG   \n",
       "Xylem Inc.                                         Xylem Inc. Registered Shares DL   \n",
       "Zalando SE                                                              Zalando SE   \n",
       "Zebra Technologies Corporation   American Beacon Zebra Small Cap Equity Fund In...   \n",
       "\n",
       "                                                                            name_2  \\\n",
       "1&1 Drillisch AG                                                  1&1 Drillisch AG   \n",
       "AAR Corp.                           Hartford AARP Balanced Retirement Fund Class A   \n",
       "Activision Blizzard Inc.                                  Activision Blizzard Inc.   \n",
       "adidas AG                                                                adidas AG   \n",
       "ADLER                                                         ADLER Real Estate AG   \n",
       "...                                                                            ...   \n",
       "The Walt Disney Company                                    The Walt Disney Company   \n",
       "Wirecard AG Inhaber-Aktien o.N.                                        Wirecard AG   \n",
       "Xylem Inc.                                                      XYLEM INC.  DL-,01   \n",
       "Zalando SE                                                              Zalando SE   \n",
       "Zebra Technologies Corporation   American Beacon Zebra Small Cap Equity Fund R5...   \n",
       "\n",
       "                                         symbol_0 symbol_1    symbol_2  \\\n",
       "1&1 Drillisch AG                          DRI.DEX  DRI.STG     DRI.FRK   \n",
       "AAR Corp.                                     AIR      AAN       HAFAX   \n",
       "Activision Blizzard Inc.                     ATVI  AIY.FRK    ATVI.MEX   \n",
       "adidas AG                                   ADDYY    ADDDF     ADS.DEX   \n",
       "ADLER                            ES0105984001.MDR    ADLVX     ADL.DEX   \n",
       "...                                           ...      ...         ...   \n",
       "The Walt Disney Company                       DIS    DIS.D  DISB34.SAO   \n",
       "Wirecard AG Inhaber-Aktien o.N.           WDI.STG    WCAGY       WRCDF   \n",
       "Xylem Inc.                                    XYL  XY6.STG     XY6.DEX   \n",
       "Zalando SE                                  ZLNDY    ZLDSF     ZAL.DEX   \n",
       "Zebra Technologies Corporation               ZBRA    AZSPX       AZSIX   \n",
       "\n",
       "                                      region_0       region_1  \\\n",
       "1&1 Drillisch AG                         XETRA      Stuttgart   \n",
       "AAR Corp.                        United States  United States   \n",
       "Activision Blizzard Inc.         United States      Frankfurt   \n",
       "adidas AG                        United States  United States   \n",
       "ADLER                                   Madrid  United States   \n",
       "...                                        ...            ...   \n",
       "The Walt Disney Company          United States     Dusseldorf   \n",
       "Wirecard AG Inhaber-Aktien o.N.      Stuttgart  United States   \n",
       "Xylem Inc.                       United States      Stuttgart   \n",
       "Zalando SE                       United States  United States   \n",
       "Zebra Technologies Corporation   United States  United States   \n",
       "\n",
       "                                         region_2 currencies_0 currencies_1  \\\n",
       "1&1 Drillisch AG                        Frankfurt          EUR          EUR   \n",
       "AAR Corp.                           United States          USD          USD   \n",
       "Activision Blizzard Inc.                   Mexico          USD          EUR   \n",
       "adidas AG                                   XETRA          USD          USD   \n",
       "ADLER                                       XETRA          EUR          USD   \n",
       "...                                           ...          ...          ...   \n",
       "The Walt Disney Company          Brazil/Sao Paolo          USD          EUR   \n",
       "Wirecard AG Inhaber-Aktien o.N.     United States          EUR          USD   \n",
       "Xylem Inc.                                  XETRA          USD          EUR   \n",
       "Zalando SE                                  XETRA          USD          USD   \n",
       "Zebra Technologies Corporation      United States          USD          USD   \n",
       "\n",
       "                                currencies_2  \n",
       "1&1 Drillisch AG                         EUR  \n",
       "AAR Corp.                                USD  \n",
       "Activision Blizzard Inc.                 MXP  \n",
       "adidas AG                                EUR  \n",
       "ADLER                                    EUR  \n",
       "...                                      ...  \n",
       "The Walt Disney Company                  BRL  \n",
       "Wirecard AG Inhaber-Aktien o.N.          USD  \n",
       "Xylem Inc.                               EUR  \n",
       "Zalando SE                               EUR  \n",
       "Zebra Technologies Corporation           USD  \n",
       "\n",
       "[138 rows x 12 columns]"
      ]
     },
     "execution_count": 28,
     "metadata": {},
     "output_type": "execute_result"
    }
   ],
   "source": [
    "pd.DataFrame(all_stocks).T"
   ]
  },
  {
   "cell_type": "code",
   "execution_count": 73,
   "metadata": {},
   "outputs": [],
   "source": [
    "df.daily_stock = df.daily_stock.apply(lambda x: '{}.DEX'.format(x.split('.')[0]) if (x.split('.')[1] == 'XETRA') else (x.split('.')[0]))"
   ]
  },
  {
   "cell_type": "code",
   "execution_count": 74,
   "metadata": {},
   "outputs": [
    {
     "data": {
      "text/plain": [
       "0      DRI.DEX\n",
       "1          AIR\n",
       "2      AIY.DEX\n",
       "3      ADS.DEX\n",
       "4      ADL.DEX\n",
       "        ...   \n",
       "151        DIS\n",
       "152    WDI.DEX\n",
       "153        XYL\n",
       "154    ZAL.DEX\n",
       "155       ZBRA\n",
       "Name: daily_stock, Length: 156, dtype: object"
      ]
     },
     "execution_count": 74,
     "metadata": {},
     "output_type": "execute_result"
    }
   ],
   "source": [
    "df.daily_stock"
   ]
  },
  {
   "cell_type": "code",
   "execution_count": 75,
   "metadata": {},
   "outputs": [
    {
     "data": {
      "text/plain": [
       "'DRI.DEX'"
      ]
     },
     "execution_count": 75,
     "metadata": {},
     "output_type": "execute_result"
    }
   ],
   "source": [
    "df.iloc[0]['daily_stock']"
   ]
  },
  {
   "cell_type": "code",
   "execution_count": 76,
   "metadata": {},
   "outputs": [],
   "source": [
    "df.to_csv('peer_groups_alphavantage.csv')"
   ]
  },
  {
   "cell_type": "markdown",
   "metadata": {},
   "source": [
    "```https://www.alphavantage.co/query?function=TIME_SERIES_DAILY_ADJUSTED&symbol=ZBRA&apikey=OQ123LDEVEFUR30U```"
   ]
  },
  {
   "cell_type": "code",
   "execution_count": 77,
   "metadata": {},
   "outputs": [
    {
     "data": {
      "text/html": [
       "<div>\n",
       "<style scoped>\n",
       "    .dataframe tbody tr th:only-of-type {\n",
       "        vertical-align: middle;\n",
       "    }\n",
       "\n",
       "    .dataframe tbody tr th {\n",
       "        vertical-align: top;\n",
       "    }\n",
       "\n",
       "    .dataframe thead th {\n",
       "        text-align: right;\n",
       "    }\n",
       "</style>\n",
       "<table border=\"1\" class=\"dataframe\">\n",
       "  <thead>\n",
       "    <tr style=\"text-align: right;\">\n",
       "      <th></th>\n",
       "      <th>Unternehmen</th>\n",
       "      <th>Branche Detail</th>\n",
       "      <th>Branche aggregiert</th>\n",
       "      <th>Link zu Kennzahlen</th>\n",
       "      <th>stock_ticker</th>\n",
       "      <th>Unnamed: 5</th>\n",
       "      <th>daily_stock</th>\n",
       "    </tr>\n",
       "  </thead>\n",
       "  <tbody>\n",
       "    <tr>\n",
       "      <th>0</th>\n",
       "      <td>1&amp;1 Drillisch</td>\n",
       "      <td>Telekommunikation</td>\n",
       "      <td>Software / Tech</td>\n",
       "      <td>https://www.finanzen.net/aktien/drillisch-aktie</td>\n",
       "      <td>DRI.XETRA</td>\n",
       "      <td>DRI.STU</td>\n",
       "      <td>DRI.DEX</td>\n",
       "    </tr>\n",
       "  </tbody>\n",
       "</table>\n",
       "</div>"
      ],
      "text/plain": [
       "     Unternehmen     Branche Detail Branche aggregiert  \\\n",
       "0  1&1 Drillisch  Telekommunikation    Software / Tech   \n",
       "\n",
       "                                Link zu Kennzahlen stock_ticker Unnamed: 5  \\\n",
       "0  https://www.finanzen.net/aktien/drillisch-aktie    DRI.XETRA    DRI.STU   \n",
       "\n",
       "  daily_stock  \n",
       "0     DRI.DEX  "
      ]
     },
     "execution_count": 77,
     "metadata": {},
     "output_type": "execute_result"
    }
   ],
   "source": [
    "df.head(1)"
   ]
  },
  {
   "cell_type": "code",
   "execution_count": 32,
   "metadata": {},
   "outputs": [
    {
     "name": "stdout",
     "output_type": "stream",
     "text": [
      "{'Error Message': 'Invalid API call. Please retry or visit the documentation (https://www.alphavantage.co/documentation/) for TIME_SERIES_DAILY_ADJUSTED.'}\n",
      "DRI.XETRA Datenabfrage fehlgeschlagen\n"
     ]
    }
   ],
   "source": [
    "results = pd.DataFrame()\n",
    "API_URL = \"https://www.alphavantage.co/query\"\n",
    "\n",
    "for symbol in df.daily_stock:\n",
    "    data = {\n",
    "        \"function\": \"TIME_SERIES_DAILY_ADJUSTED\",\n",
    "        \"symbol\": 'DRI.STU',\n",
    "        \"outputsize\": \"full\",\n",
    "        \"apikey\": \"OQ123LDEVEFUR30U\",\n",
    "        }\n",
    "    \n",
    "    try:\n",
    "        response = requests.get(API_URL, params=data)\n",
    "        data = response.json()\n",
    "        print(data)\n",
    "        results = pd.DataFrame(data['Time Series (Daily)']).T\n",
    "        results.columns = ['open', 'high', 'low', 'close', 'adjusted_close',\n",
    "           'volume', 'dividend_amount', 'split_coefficient']\n",
    "        print(results)\n",
    "    except:\n",
    "        print('{} Datenabfrage fehlgeschlagen'.format(symbol))\n",
    "    \n",
    "    break"
   ]
  },
  {
   "cell_type": "code",
   "execution_count": null,
   "metadata": {},
   "outputs": [],
   "source": []
  }
 ],
 "metadata": {
  "kernelspec": {
   "display_name": "Python 3",
   "language": "python",
   "name": "python3"
  },
  "language_info": {
   "codemirror_mode": {
    "name": "ipython",
    "version": 3
   },
   "file_extension": ".py",
   "mimetype": "text/x-python",
   "name": "python",
   "nbconvert_exporter": "python",
   "pygments_lexer": "ipython3",
   "version": "3.7.7"
  }
 },
 "nbformat": 4,
 "nbformat_minor": 4
}
